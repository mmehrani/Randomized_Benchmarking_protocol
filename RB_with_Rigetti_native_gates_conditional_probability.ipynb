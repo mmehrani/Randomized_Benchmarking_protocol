{
 "cells": [
  {
   "cell_type": "markdown",
   "id": "edc2b0e3",
   "metadata": {},
   "source": [
    "# Benchmark with conditional formating\n",
    "all we need in the protocal is the random unitaries. rigetti does the task by gate decomposition. A random special unitary can be represeted by rotation matrices like this:\n",
    "$$\n",
    "U = R_Z(\\omega) R_Y(\\theta) R_Z(\\phi)\\\\\n",
    "$$\n",
    "Which in terms of the shortest depth of Rigetti native circuits is:\n",
    "$$\n",
    "U = R_Z(\\omega) R_X(\\frac{\\pi}{2}) R_Z(\\theta) R_X( -\\frac{\\pi}{2}) R_Z(\\phi)\\\\\n",
    "$$\n",
    "If we take a uniform distribution over U, it induces the following conditional distribution over $\\phi, \\omega$ and $\\theta$:\n",
    "$$\n",
    "P\\{ \\theta \\} = \\frac{\\sin \\theta}{2\\pi}\\\\\n",
    "P\\{ \\phi | \\theta \\} = \\frac{1}{2\\pi} \\\\\n",
    "P\\{ \\omega | \\theta,\\phi \\} = \\frac{1}{2\\pi}\n",
    "$$"
   ]
  },
  {
   "cell_type": "markdown",
   "id": "abc08155",
   "metadata": {},
   "source": [
    "In this project we benchmark with those conditional probabilities"
   ]
  },
  {
   "cell_type": "code",
   "execution_count": 1,
   "id": "36eb5a08",
   "metadata": {},
   "outputs": [],
   "source": [
    "from pyquil import get_qc, Program\n",
    "from pyquil.gates import *\n",
    "from pyquil.api import local_forest_runtime\n",
    "from pyquil.quilbase import Declare\n",
    "from pyquil.simulation.tools import lifted_gate, program_unitary\n",
    "from pyquil.quil import *"
   ]
  },
  {
   "cell_type": "code",
   "execution_count": 2,
   "id": "dec19c7c",
   "metadata": {},
   "outputs": [],
   "source": [
    "import numpy as np\n",
    "import math\n",
    "from math import pi\n",
    "import random\n",
    "import copy\n",
    "from tqdm import tqdm_notebook as tqdm"
   ]
  },
  {
   "cell_type": "code",
   "execution_count": 3,
   "id": "8d2c6ea3",
   "metadata": {},
   "outputs": [],
   "source": [
    "from functions import *"
   ]
  },
  {
   "cell_type": "code",
   "execution_count": 4,
   "id": "cd9c0755",
   "metadata": {},
   "outputs": [],
   "source": [
    "if __name__ == \"__main__\":\n",
    "    target_qubit = [0]\n",
    "    num_qubits = len(target_qubit)\n",
    "\n",
    "#     First step choose m and the K_m sequences of \n",
    "    m = 1\n",
    "    k_m = 1 #n. of diff sequences\n",
    "    n_m = 1  #n. of samples from a certain sequence\n"
   ]
  },
  {
   "cell_type": "code",
   "execution_count": null,
   "id": "cc07b9bf",
   "metadata": {},
   "outputs": [],
   "source": []
  },
  {
   "cell_type": "code",
   "execution_count": 5,
   "id": "2c60aa86",
   "metadata": {},
   "outputs": [],
   "source": [
    "def native_rigetti_packs_generator(qmachine, target_qubit:int, num_layer:int):\n",
    "    list_gates = []\n",
    "    angles = np.linspace(0, np.pi, 100)\n",
    "    \n",
    "    for index in range(0,num_layer):\n",
    "        omega, phi = np.random.uniform(0, 2*np.pi, size = 2)\n",
    "        theta = np.random.choice(angles, p = np.sin(angles) / np.sum( np.sin(angles) ))\n",
    "        \n",
    "        draft_circuit = Program( [RZ(phi, qubit = target_qubit),\n",
    "                                  RY(theta, qubit = target_qubit),\n",
    "                                  RZ(omega, qubit = target_qubit)])\n",
    "        \n",
    "        list_gates.extend(qmachine.compiler.quil_to_native_quil(draft_circuit))\n",
    "    \n",
    "    list_gates = [ ins for ins in list_gates if isinstance(ins, Gate)]\n",
    "    return list_gates"
   ]
  },
  {
   "cell_type": "code",
   "execution_count": 6,
   "id": "7f77c4a0",
   "metadata": {},
   "outputs": [],
   "source": [
    "def machine_response_rb_native_gate_conditional_single_qubit(qmachine, target_qubit, m, k_m, n_m):\n",
    "    \"\"\"\n",
    "    It samples and record the accept or reject of the machine with native gates chosen with conditions for rigetti.\n",
    "    ::return response_matrix including accepts and rejects in columns\n",
    "    \"\"\"\n",
    "    if type(target_qubit) == list:\n",
    "        target_qubit = target_qubit[0]\n",
    "        \n",
    "    response_matrix = np.zeros((k_m,n_m))\n",
    "    \n",
    "    for i_sequ in tqdm(range(k_m)):\n",
    "        gate_list = native_rigetti_packs_generator(qmachine, target_qubit, m)\n",
    "        prog = Program() #All qubits begin with |0> state\n",
    "        \n",
    "        for gate in gate_list:\n",
    "            prog += gate\n",
    "        \n",
    "        #Come back to our initial state\n",
    "        u_inverse_definition = DefGate('U_inverse', np.linalg.inv(program_unitary(prog, n_qubits=1)))\n",
    "        U_inverse = u_inverse_definition.get_constructor()\n",
    "        prog += qmachine.compiler.quil_to_native_quil(Program(u_inverse_definition, U_inverse(target_qubit)))\n",
    "        \n",
    "        #Do not let the quilc to alter the gates by optimization\n",
    "        prog = Program('PRAGMA PRESERVE_BLOCK') + prog\n",
    "        prog += Program('PRAGMA END_PRESERVE_BLOCK')\n",
    "        \n",
    "        #Measurments\n",
    "        ro = prog.declare('ro', 'BIT', 1)\n",
    "        for q in range(1):\n",
    "            prog += MEASURE(target_qubit, ro[q])\n",
    "        prog = prog.wrap_in_numshots_loop(n_m)\n",
    "\n",
    "        #Run the program\n",
    "        executable = qmachine.compile(prog)\n",
    "        result = qmachine.run(executable)\n",
    "        measured_outcome = result.readout_data.get('ro')\n",
    "\n",
    "        response_matrix[i_sequ,:] = 1 - np.bool_(np.sum(measured_outcome, axis = 1)) # 1 if it is equal to n_zero state\n",
    "    return response_matrix"
   ]
  },
  {
   "cell_type": "code",
   "execution_count": 7,
   "id": "62850f1b",
   "metadata": {},
   "outputs": [
    {
     "name": "stderr",
     "output_type": "stream",
     "text": [
      "C:\\Users\\mohsen\\AppData\\Local\\Temp\\ipykernel_4212\\1514848749.py:11: TqdmDeprecationWarning: This function will be removed in tqdm==5.0.0\n",
      "Please use `tqdm.notebook.tqdm` instead of `tqdm.tqdm_notebook`\n",
      "  for i_sequ in tqdm(range(k_m)):\n"
     ]
    },
    {
     "data": {
      "application/vnd.jupyter.widget-view+json": {
       "model_id": "898e9d2a8b86451eb253d8e4043b9c3d",
       "version_major": 2,
       "version_minor": 0
      },
      "text/plain": [
       "  0%|          | 0/1 [00:00<?, ?it/s]"
      ]
     },
     "metadata": {},
     "output_type": "display_data"
    }
   ],
   "source": [
    "if __name__ == \"__main__\":\n",
    "#     qc = get_qc( str(num_qubits) + 'q-qvm')  # You can make any 'nq-qvm'\n",
    "    qc = get_qc(\"9q-square-noisy-qvm\")\n",
    "    response = machine_response_rb_native_gate_conditional_single_qubit(qc, [0], m, k_m, n_m)\n"
   ]
  },
  {
   "cell_type": "code",
   "execution_count": 8,
   "id": "e958f885-95fe-48f6-aced-d776e398d271",
   "metadata": {},
   "outputs": [
    {
     "name": "stderr",
     "output_type": "stream",
     "text": [
      "[NbConvertApp] Converting notebook RB_with_Rigetti_native_gates_conditional_probability.ipynb to python\n",
      "[NbConvertApp] Writing 4706 bytes to RB_with_Rigetti_native_gates_conditional_probability.py\n"
     ]
    }
   ],
   "source": [
    "if __name__ == \"__main__\":\n",
    "    !jupyter nbconvert RB_with_Rigetti_native_gates_conditional_probability.ipynb --to python"
   ]
  },
  {
   "cell_type": "code",
   "execution_count": 8,
   "id": "4df505f5",
   "metadata": {},
   "outputs": [
    {
     "data": {
      "text/plain": [
       "array([[ 1.00000000e+00+1.11022302e-16j,  2.75028456e-16-1.32568314e-16j,\n",
       "         0.00000000e+00+0.00000000e+00j,  0.00000000e+00+0.00000000e+00j],\n",
       "       [-2.75028456e-16-1.32568314e-16j,  1.00000000e+00-1.11022302e-16j,\n",
       "         0.00000000e+00+0.00000000e+00j,  0.00000000e+00+0.00000000e+00j],\n",
       "       [ 0.00000000e+00+0.00000000e+00j,  0.00000000e+00+0.00000000e+00j,\n",
       "         1.00000000e+00+1.11022302e-16j,  2.75028456e-16-1.32568314e-16j],\n",
       "       [ 0.00000000e+00+0.00000000e+00j,  0.00000000e+00+0.00000000e+00j,\n",
       "        -2.75028456e-16-1.32568314e-16j,  1.00000000e+00-1.11022302e-16j]])"
      ]
     },
     "execution_count": 8,
     "metadata": {},
     "output_type": "execute_result"
    }
   ],
   "source": []
  },
  {
   "cell_type": "code",
   "execution_count": null,
   "id": "d06fcffd",
   "metadata": {},
   "outputs": [],
   "source": []
  },
  {
   "cell_type": "code",
   "execution_count": null,
   "id": "bfad13d0",
   "metadata": {},
   "outputs": [],
   "source": []
  },
  {
   "cell_type": "code",
   "execution_count": null,
   "id": "d25a95cf",
   "metadata": {},
   "outputs": [],
   "source": []
  },
  {
   "cell_type": "code",
   "execution_count": null,
   "id": "4008a478",
   "metadata": {},
   "outputs": [],
   "source": []
  }
 ],
 "metadata": {
  "kernelspec": {
   "display_name": "Python 3 (ipykernel)",
   "language": "python",
   "name": "python3"
  },
  "language_info": {
   "codemirror_mode": {
    "name": "ipython",
    "version": 3
   },
   "file_extension": ".py",
   "mimetype": "text/x-python",
   "name": "python",
   "nbconvert_exporter": "python",
   "pygments_lexer": "ipython3",
   "version": "3.9.12"
  }
 },
 "nbformat": 4,
 "nbformat_minor": 5
}
