{
 "cells": [
  {
   "cell_type": "markdown",
   "id": "edc2b0e3",
   "metadata": {},
   "source": [
    "# Benchmark with conditional formating\n",
    "all we need in the protocal is the random unitaries. rigetti does the task by gate decomposition. A random special unitary can be represeted by rotation matrices like this:\n",
    "$$\n",
    "U = R_Z(\\omega) R_Y(\\theta) R_Z(\\phi)\\\\\n",
    "$$\n",
    "Which in terms of the shortest depth of Rigetti native circuits is:\n",
    "$$\n",
    "U = R_Z(\\omega) R_X(\\frac{\\pi}{2}) R_Z(\\theta) R_X( -\\frac{\\pi}{2}) R_Z(\\phi)\\\\\n",
    "$$\n",
    "If we take a uniform distribution over U, it induces the following conditional distribution over $\\phi, \\omega$ and $\\theta$:\n",
    "$$\n",
    "P\\{ \\theta \\} = \\frac{\\sin \\theta}{2\\pi}\\\\\n",
    "P\\{ \\phi | \\theta \\} = \\frac{1}{2\\pi} \\\\\n",
    "P\\{ \\omega | \\theta,\\phi \\} = \\frac{1}{2\\pi}\n",
    "$$"
   ]
  },
  {
   "cell_type": "markdown",
   "id": "abc08155",
   "metadata": {},
   "source": [
    "In this project we benchmark with those conditional probabilities"
   ]
  },
  {
   "cell_type": "code",
   "execution_count": 1,
   "id": "36eb5a08",
   "metadata": {},
   "outputs": [],
   "source": [
    "from pyquil import get_qc, Program\n",
    "from pyquil.gates import *\n",
    "from pyquil.api import local_forest_runtime\n",
    "from pyquil.quilbase import Declare\n",
    "from pyquil.simulation.tools import lifted_gate, program_unitary\n",
    "from pyquil.quil import *"
   ]
  },
  {
   "cell_type": "code",
   "execution_count": 2,
   "id": "dec19c7c",
   "metadata": {},
   "outputs": [],
   "source": [
    "import numpy as np\n",
    "import math\n",
    "from math import pi\n",
    "import random\n",
    "import copy"
   ]
  },
  {
   "cell_type": "code",
   "execution_count": 3,
   "id": "8d2c6ea3",
   "metadata": {},
   "outputs": [],
   "source": [
    "from functions import *"
   ]
  },
  {
   "cell_type": "code",
   "execution_count": 4,
   "id": "cd9c0755",
   "metadata": {},
   "outputs": [],
   "source": [
    "if __name__ == \"__main__\":\n",
    "    num_qubits = 1\n",
    "\n",
    "#     First step choose m and the K_m sequences of \n",
    "    m = 1\n",
    "    k_m = 1 #n. of diff sequences\n",
    "    n_m = 1  #n. of samples from a certain sequence\n"
   ]
  },
  {
   "cell_type": "code",
   "execution_count": null,
   "id": "cc07b9bf",
   "metadata": {},
   "outputs": [],
   "source": []
  },
  {
   "cell_type": "code",
   "execution_count": 5,
   "id": "2c60aa86",
   "metadata": {},
   "outputs": [],
   "source": [
    "def native_rigetti_packs_generator(qmachine, target_qubit:int, num_layer:int):\n",
    "    list_gates = []\n",
    "    angles = np.linspace(0, np.pi, 100)\n",
    "    \n",
    "    for index in range(0,num_layer):\n",
    "        omega, phi = np.random.uniform(0, 2*np.pi, size = 2)\n",
    "        theta = np.random.choice(angles, p = np.sin(angles) / np.sum( np.sin(angles) ))\n",
    "        \n",
    "        draft_circuit = Program( [RZ(phi, qubit = target_qubit),\n",
    "                                  RY(theta, qubit = target_qubit),\n",
    "                                  RZ(omega, qubit = target_qubit)])\n",
    "        \n",
    "        list_gates.extend(qmachine.compiler.quil_to_native_quil(draft_circuit))\n",
    "    \n",
    "    list_gates = [ ins for ins in list_gates if isinstance(ins, Gate)]\n",
    "    return list_gates"
   ]
  },
  {
   "cell_type": "code",
   "execution_count": null,
   "id": "4f1ca985",
   "metadata": {},
   "outputs": [],
   "source": []
  },
  {
   "cell_type": "code",
   "execution_count": null,
   "id": "a1ff4f1d",
   "metadata": {},
   "outputs": [],
   "source": []
  },
  {
   "cell_type": "code",
   "execution_count": 6,
   "id": "7f77c4a0",
   "metadata": {},
   "outputs": [],
   "source": [
    "def machine_response_rb_native_gate_conditional_single_qubit(qmachine, target_qubit, m, k_m, n_m):\n",
    "    \"\"\"\n",
    "    It samples and record the accept or reject of the machine with native gates chosen with conditions for rigetti.\n",
    "    ::return response_matrix including accepts and rejects in columns\n",
    "    \"\"\"\n",
    "    response_matrix = np.zeros((k_m,n_m))\n",
    "    \n",
    "    for i_sequ in range(k_m):\n",
    "        gate_list = native_rigetti_packs_generator(qmachine, target_qubit, m)\n",
    "        prog = Program() #All qubits begin with |0> state\n",
    "        \n",
    "        for gate in gate_list:\n",
    "            prog += gate\n",
    "        \n",
    "        #Come back to our initial state\n",
    "#         for gate in reversed(gate_list):\n",
    "# #             prog += copy.deepcopy(gate).dagger() #dagger has replacing operations\n",
    "#             gate_daggered = copy.deepcopy(gate)\n",
    "#             gate_daggered.params[0] *= -1 #make daggered rotation \n",
    "#             prog += gate_daggered\n",
    "\n",
    "        u_inverse_definition = DefGate('U_inverse', np.linalg.inv(program_unitary(prog, n_qubits=1)))\n",
    "        U_inverse = u_inverse_definition.get_constructor()\n",
    "        \n",
    "        prog += u_inverse_definition\n",
    "        prog += qmachine.compiler.quil_to_native_quil(Program(U_inverse(target_qubit)))\n",
    "        \n",
    "        #Do not let the quilc to alter the gates by optimization\n",
    "        prog = Program('PRAGMA PRESERVE_BLOCK') + prog\n",
    "        prog += Program('PRAGMA END_PRESERVE_BLOCK')\n",
    "        \n",
    "        #Measurments\n",
    "        ro = prog.declare('ro', 'BIT', 1)\n",
    "        for q in range(1):\n",
    "            prog += MEASURE(q, ro[q])\n",
    "        prog = prog.wrap_in_numshots_loop(n_m)\n",
    "\n",
    "        #Run the program\n",
    "        executable = qmachine.compile(prog)\n",
    "        result = qmachine.run(executable)\n",
    "        measured_outcome = result.readout_data.get('ro')\n",
    "\n",
    "        response_matrix[i_sequ,:] = 1 - np.bool_(np.sum(measured_outcome, axis = 1)) # 1 if it is equal to n_zero state\n",
    "    return response_matrix"
   ]
  },
  {
   "cell_type": "code",
   "execution_count": 7,
   "id": "e958f885-95fe-48f6-aced-d776e398d271",
   "metadata": {},
   "outputs": [
    {
     "name": "stderr",
     "output_type": "stream",
     "text": [
      "[NbConvertApp] Converting notebook RB_with_Rigetti_native_gates_conditional_probability.ipynb to python\n",
      "[NbConvertApp] Writing 4648 bytes to RB_with_Rigetti_native_gates_conditional_probability.py\n"
     ]
    }
   ],
   "source": [
    "if __name__ == \"__main__\":\n",
    "    !jupyter nbconvert RB_with_Rigetti_native_gates_conditional_probability.ipynb --to python"
   ]
  },
  {
   "cell_type": "code",
   "execution_count": 8,
   "id": "62850f1b",
   "metadata": {},
   "outputs": [
    {
     "ename": "RPCError",
     "evalue": "Unhandled error in host program:\nRequested to rewire U_inverse 0, but we don't know how to do this.",
     "output_type": "error",
     "traceback": [
      "\u001b[1;31m---------------------------------------------------------------------------\u001b[0m",
      "\u001b[1;31mRPCError\u001b[0m                                  Traceback (most recent call last)",
      "Input \u001b[1;32mIn [8]\u001b[0m, in \u001b[0;36m<cell line: 1>\u001b[1;34m()\u001b[0m\n\u001b[0;32m      1\u001b[0m \u001b[38;5;28;01mif\u001b[39;00m \u001b[38;5;18m__name__\u001b[39m \u001b[38;5;241m==\u001b[39m \u001b[38;5;124m\"\u001b[39m\u001b[38;5;124m__main__\u001b[39m\u001b[38;5;124m\"\u001b[39m:\n\u001b[0;32m      2\u001b[0m \u001b[38;5;66;03m#     qc = get_qc( str(num_qubits) + 'q-qvm')  # You can make any 'nq-qvm'\u001b[39;00m\n\u001b[0;32m      3\u001b[0m     qc \u001b[38;5;241m=\u001b[39m get_qc(\u001b[38;5;124m\"\u001b[39m\u001b[38;5;124m9q-square-noisy-qvm\u001b[39m\u001b[38;5;124m\"\u001b[39m)\n\u001b[1;32m----> 4\u001b[0m     response \u001b[38;5;241m=\u001b[39m \u001b[43mmachine_response_rb_native_gate_conditional_single_qubit\u001b[49m\u001b[43m(\u001b[49m\u001b[43mqc\u001b[49m\u001b[43m,\u001b[49m\u001b[43m \u001b[49m\u001b[38;5;241;43m0\u001b[39;49m\u001b[43m,\u001b[49m\u001b[43m \u001b[49m\u001b[43mm\u001b[49m\u001b[43m,\u001b[49m\u001b[43m \u001b[49m\u001b[43mk_m\u001b[49m\u001b[43m,\u001b[49m\u001b[43m \u001b[49m\u001b[43mn_m\u001b[49m\u001b[43m)\u001b[49m\n",
      "Input \u001b[1;32mIn [6]\u001b[0m, in \u001b[0;36mmachine_response_rb_native_gate_conditional_single_qubit\u001b[1;34m(qmachine, target_qubit, m, k_m, n_m)\u001b[0m\n\u001b[0;32m     23\u001b[0m U_inverse \u001b[38;5;241m=\u001b[39m u_inverse_definition\u001b[38;5;241m.\u001b[39mget_constructor()\n\u001b[0;32m     25\u001b[0m prog \u001b[38;5;241m+\u001b[39m\u001b[38;5;241m=\u001b[39m u_inverse_definition\n\u001b[1;32m---> 26\u001b[0m prog \u001b[38;5;241m+\u001b[39m\u001b[38;5;241m=\u001b[39m \u001b[43mqmachine\u001b[49m\u001b[38;5;241;43m.\u001b[39;49m\u001b[43mcompiler\u001b[49m\u001b[38;5;241;43m.\u001b[39;49m\u001b[43mquil_to_native_quil\u001b[49m\u001b[43m(\u001b[49m\u001b[43mProgram\u001b[49m\u001b[43m(\u001b[49m\u001b[43mU_inverse\u001b[49m\u001b[43m(\u001b[49m\u001b[43mtarget_qubit\u001b[49m\u001b[43m)\u001b[49m\u001b[43m)\u001b[49m\u001b[43m)\u001b[49m\n\u001b[0;32m     28\u001b[0m \u001b[38;5;66;03m#Do not let the quilc to alter the gates by optimization\u001b[39;00m\n\u001b[0;32m     29\u001b[0m prog \u001b[38;5;241m=\u001b[39m Program(\u001b[38;5;124m'\u001b[39m\u001b[38;5;124mPRAGMA PRESERVE_BLOCK\u001b[39m\u001b[38;5;124m'\u001b[39m) \u001b[38;5;241m+\u001b[39m prog\n",
      "File \u001b[1;32mC:\\ProgramData\\Anaconda3\\lib\\site-packages\\pyquil\\api\\_abstract_compiler.py:123\u001b[0m, in \u001b[0;36mAbstractCompiler.quil_to_native_quil\u001b[1;34m(self, program, protoquil)\u001b[0m\n\u001b[0;32m    117\u001b[0m compiler_isa \u001b[38;5;241m=\u001b[39m \u001b[38;5;28mself\u001b[39m\u001b[38;5;241m.\u001b[39mquantum_processor\u001b[38;5;241m.\u001b[39mto_compiler_isa()\n\u001b[0;32m    118\u001b[0m request \u001b[38;5;241m=\u001b[39m CompileToNativeQuilRequest(\n\u001b[0;32m    119\u001b[0m     program\u001b[38;5;241m=\u001b[39mprogram\u001b[38;5;241m.\u001b[39mout(calibrations\u001b[38;5;241m=\u001b[39m\u001b[38;5;28;01mFalse\u001b[39;00m),\n\u001b[0;32m    120\u001b[0m     target_quantum_processor\u001b[38;5;241m=\u001b[39mcompiler_isa_to_target_quantum_processor(compiler_isa),\n\u001b[0;32m    121\u001b[0m     protoquil\u001b[38;5;241m=\u001b[39mprotoquil,\n\u001b[0;32m    122\u001b[0m )\n\u001b[1;32m--> 123\u001b[0m response \u001b[38;5;241m=\u001b[39m \u001b[38;5;28;43mself\u001b[39;49m\u001b[38;5;241;43m.\u001b[39;49m\u001b[43m_compiler_client\u001b[49m\u001b[38;5;241;43m.\u001b[39;49m\u001b[43mcompile_to_native_quil\u001b[49m\u001b[43m(\u001b[49m\u001b[43mrequest\u001b[49m\u001b[43m)\u001b[49m\n\u001b[0;32m    125\u001b[0m nq_program \u001b[38;5;241m=\u001b[39m parse_program(response\u001b[38;5;241m.\u001b[39mnative_program)\n\u001b[0;32m    126\u001b[0m nq_program\u001b[38;5;241m.\u001b[39mnative_quil_metadata \u001b[38;5;241m=\u001b[39m (\n\u001b[0;32m    127\u001b[0m     \u001b[38;5;28;01mNone\u001b[39;00m\n\u001b[0;32m    128\u001b[0m     \u001b[38;5;28;01mif\u001b[39;00m response\u001b[38;5;241m.\u001b[39mmetadata \u001b[38;5;129;01mis\u001b[39;00m \u001b[38;5;28;01mNone\u001b[39;00m\n\u001b[1;32m   (...)\u001b[0m\n\u001b[0;32m    138\u001b[0m     )\n\u001b[0;32m    139\u001b[0m )\n",
      "File \u001b[1;32mC:\\ProgramData\\Anaconda3\\lib\\site-packages\\pyquil\\api\\_compiler_client.py:188\u001b[0m, in \u001b[0;36mCompilerClient.compile_to_native_quil\u001b[1;34m(self, request)\u001b[0m\n\u001b[0;32m    183\u001b[0m rpcq_request \u001b[38;5;241m=\u001b[39m rpcq\u001b[38;5;241m.\u001b[39mmessages\u001b[38;5;241m.\u001b[39mNativeQuilRequest(\n\u001b[0;32m    184\u001b[0m     quil\u001b[38;5;241m=\u001b[39mrequest\u001b[38;5;241m.\u001b[39mprogram,\n\u001b[0;32m    185\u001b[0m     target_device\u001b[38;5;241m=\u001b[39mrequest\u001b[38;5;241m.\u001b[39mtarget_quantum_processor,\n\u001b[0;32m    186\u001b[0m )\n\u001b[0;32m    187\u001b[0m \u001b[38;5;28;01mwith\u001b[39;00m \u001b[38;5;28mself\u001b[39m\u001b[38;5;241m.\u001b[39m_rpcq_client() \u001b[38;5;28;01mas\u001b[39;00m rpcq_client:  \u001b[38;5;66;03m# type: rpcq.Client\u001b[39;00m\n\u001b[1;32m--> 188\u001b[0m     response: rpcq\u001b[38;5;241m.\u001b[39mmessages\u001b[38;5;241m.\u001b[39mNativeQuilResponse \u001b[38;5;241m=\u001b[39m \u001b[43mrpcq_client\u001b[49m\u001b[38;5;241;43m.\u001b[39;49m\u001b[43mcall\u001b[49m\u001b[43m(\u001b[49m\n\u001b[0;32m    189\u001b[0m \u001b[43m        \u001b[49m\u001b[38;5;124;43m\"\u001b[39;49m\u001b[38;5;124;43mquil_to_native_quil\u001b[39;49m\u001b[38;5;124;43m\"\u001b[39;49m\u001b[43m,\u001b[49m\n\u001b[0;32m    190\u001b[0m \u001b[43m        \u001b[49m\u001b[43mrpcq_request\u001b[49m\u001b[43m,\u001b[49m\n\u001b[0;32m    191\u001b[0m \u001b[43m        \u001b[49m\u001b[43mprotoquil\u001b[49m\u001b[38;5;241;43m=\u001b[39;49m\u001b[43mrequest\u001b[49m\u001b[38;5;241;43m.\u001b[39;49m\u001b[43mprotoquil\u001b[49m\u001b[43m,\u001b[49m\n\u001b[0;32m    192\u001b[0m \u001b[43m    \u001b[49m\u001b[43m)\u001b[49m\n\u001b[0;32m    193\u001b[0m     metadata: Optional[NativeQuilMetadataResponse] \u001b[38;5;241m=\u001b[39m \u001b[38;5;28;01mNone\u001b[39;00m\n\u001b[0;32m    194\u001b[0m     \u001b[38;5;28;01mif\u001b[39;00m response\u001b[38;5;241m.\u001b[39mmetadata \u001b[38;5;129;01mis\u001b[39;00m \u001b[38;5;129;01mnot\u001b[39;00m \u001b[38;5;28;01mNone\u001b[39;00m:\n",
      "File \u001b[1;32mC:\\ProgramData\\Anaconda3\\lib\\site-packages\\rpcq\\_client.py:205\u001b[0m, in \u001b[0;36mClient.call\u001b[1;34m(self, method_name, rpc_timeout, *args, **kwargs)\u001b[0m\n\u001b[0;32m    202\u001b[0m     warn(\u001b[38;5;124mf\u001b[39m\u001b[38;5;124m\"\u001b[39m\u001b[38;5;132;01m{\u001b[39;00mwarning\u001b[38;5;241m.\u001b[39mkind\u001b[38;5;132;01m}\u001b[39;00m\u001b[38;5;124m: \u001b[39m\u001b[38;5;132;01m{\u001b[39;00mwarning\u001b[38;5;241m.\u001b[39mbody\u001b[38;5;132;01m}\u001b[39;00m\u001b[38;5;124m\"\u001b[39m)\n\u001b[0;32m    204\u001b[0m \u001b[38;5;28;01mif\u001b[39;00m \u001b[38;5;28misinstance\u001b[39m(reply, RPCError):\n\u001b[1;32m--> 205\u001b[0m     \u001b[38;5;28;01mraise\u001b[39;00m utils\u001b[38;5;241m.\u001b[39mRPCError(reply\u001b[38;5;241m.\u001b[39merror)\n\u001b[0;32m    206\u001b[0m \u001b[38;5;28;01melse\u001b[39;00m:\n\u001b[0;32m    207\u001b[0m     \u001b[38;5;28;01mreturn\u001b[39;00m reply\u001b[38;5;241m.\u001b[39mresult\n",
      "\u001b[1;31mRPCError\u001b[0m: Unhandled error in host program:\nRequested to rewire U_inverse 0, but we don't know how to do this."
     ]
    }
   ],
   "source": [
    "if __name__ == \"__main__\":\n",
    "#     qc = get_qc( str(num_qubits) + 'q-qvm')  # You can make any 'nq-qvm'\n",
    "    qc = get_qc(\"9q-square-noisy-qvm\")\n",
    "    response = machine_response_rb_native_gate_conditional_single_qubit(qc, 0, m, k_m, n_m)\n"
   ]
  },
  {
   "cell_type": "code",
   "execution_count": null,
   "id": "4df505f5",
   "metadata": {},
   "outputs": [],
   "source": []
  },
  {
   "cell_type": "code",
   "execution_count": null,
   "id": "d06fcffd",
   "metadata": {},
   "outputs": [],
   "source": []
  },
  {
   "cell_type": "code",
   "execution_count": null,
   "id": "bfad13d0",
   "metadata": {},
   "outputs": [],
   "source": []
  },
  {
   "cell_type": "code",
   "execution_count": null,
   "id": "d25a95cf",
   "metadata": {},
   "outputs": [],
   "source": []
  },
  {
   "cell_type": "code",
   "execution_count": null,
   "id": "4008a478",
   "metadata": {},
   "outputs": [],
   "source": []
  }
 ],
 "metadata": {
  "kernelspec": {
   "display_name": "Python 3 (ipykernel)",
   "language": "python",
   "name": "python3"
  },
  "language_info": {
   "codemirror_mode": {
    "name": "ipython",
    "version": 3
   },
   "file_extension": ".py",
   "mimetype": "text/x-python",
   "name": "python",
   "nbconvert_exporter": "python",
   "pygments_lexer": "ipython3",
   "version": "3.9.12"
  }
 },
 "nbformat": 4,
 "nbformat_minor": 5
}
