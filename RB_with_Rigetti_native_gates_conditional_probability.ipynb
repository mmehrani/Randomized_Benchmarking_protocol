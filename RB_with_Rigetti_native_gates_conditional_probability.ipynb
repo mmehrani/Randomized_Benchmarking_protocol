{
 "cells": [
  {
   "cell_type": "markdown",
   "id": "edc2b0e3",
   "metadata": {},
   "source": [
    "# Benchmark with conditional formating\n",
    "all we need in the protocal is the random unitaries. rigetti does the task by gate decomposition. A random unitary can be represeted by rotation matrices like this:\n",
    "$$\n",
    "U = R_Z(\\phi) R_Y(\\theta)\\\\\n",
    "$$\n",
    "Which in terms of the shortest depth of Rigetti native circuits is:\n",
    "$$\n",
    "U = R_Z(\\phi) R_X(\\frac{\\pi}{2}) R_Z(\\theta) R_X( -\\frac{\\pi}{2}) \\\\\n",
    "$$\n",
    "If we take a uniform distribution over U, it induces the following conditional distribution over $\\theta$ and $\\phi$:\n",
    "$$\n",
    "P\\{ \\theta \\} = \\frac{\\sin \\theta}{2\\pi}\\\\\n",
    "P\\{ \\phi | \\theta \\} = \\frac{1}{2\\pi}\n",
    "$$"
   ]
  },
  {
   "cell_type": "markdown",
   "id": "abc08155",
   "metadata": {},
   "source": [
    "In this project we benchmark with those conditional probabilities"
   ]
  },
  {
   "cell_type": "code",
   "execution_count": 2,
   "id": "36eb5a08",
   "metadata": {},
   "outputs": [
    {
     "ename": "ImportError",
     "evalue": "cannot import name 'HTTPStatusError' from 'httpx' (C:\\ProgramData\\Anaconda3\\lib\\site-packages\\httpx\\__init__.py)",
     "output_type": "error",
     "traceback": [
      "\u001b[1;31m---------------------------------------------------------------------------\u001b[0m",
      "\u001b[1;31mImportError\u001b[0m                               Traceback (most recent call last)",
      "Input \u001b[1;32mIn [2]\u001b[0m, in \u001b[0;36m<cell line: 1>\u001b[1;34m()\u001b[0m\n\u001b[1;32m----> 1\u001b[0m \u001b[38;5;28;01mfrom\u001b[39;00m \u001b[38;5;21;01mpyquil\u001b[39;00m \u001b[38;5;28;01mimport\u001b[39;00m get_qc, Program\n\u001b[0;32m      2\u001b[0m \u001b[38;5;28;01mfrom\u001b[39;00m \u001b[38;5;21;01mpyquil\u001b[39;00m\u001b[38;5;21;01m.\u001b[39;00m\u001b[38;5;21;01mgates\u001b[39;00m \u001b[38;5;28;01mimport\u001b[39;00m \u001b[38;5;241m*\u001b[39m\n\u001b[0;32m      3\u001b[0m \u001b[38;5;28;01mfrom\u001b[39;00m \u001b[38;5;21;01mpyquil\u001b[39;00m\u001b[38;5;21;01m.\u001b[39;00m\u001b[38;5;21;01mapi\u001b[39;00m \u001b[38;5;28;01mimport\u001b[39;00m local_forest_runtime\n",
      "File \u001b[1;32mC:\\ProgramData\\Anaconda3\\lib\\site-packages\\pyquil\\__init__.py:3\u001b[0m, in \u001b[0;36m<module>\u001b[1;34m\u001b[0m\n\u001b[0;32m      1\u001b[0m \u001b[38;5;28;01mfrom\u001b[39;00m \u001b[38;5;21;01mpyquil\u001b[39;00m\u001b[38;5;21;01m.\u001b[39;00m\u001b[38;5;21;01m_version\u001b[39;00m \u001b[38;5;28;01mimport\u001b[39;00m pyquil_version\n\u001b[0;32m      2\u001b[0m \u001b[38;5;28;01mfrom\u001b[39;00m \u001b[38;5;21;01mpyquil\u001b[39;00m\u001b[38;5;21;01m.\u001b[39;00m\u001b[38;5;21;01mquil\u001b[39;00m \u001b[38;5;28;01mimport\u001b[39;00m Program\n\u001b[1;32m----> 3\u001b[0m \u001b[38;5;28;01mfrom\u001b[39;00m \u001b[38;5;21;01mpyquil\u001b[39;00m\u001b[38;5;21;01m.\u001b[39;00m\u001b[38;5;21;01mapi\u001b[39;00m \u001b[38;5;28;01mimport\u001b[39;00m list_quantum_computers, get_qc\n\u001b[0;32m      5\u001b[0m __version__ \u001b[38;5;241m=\u001b[39m pyquil_version\n",
      "File \u001b[1;32mC:\\ProgramData\\Anaconda3\\lib\\site-packages\\pyquil\\api\\__init__.py:43\u001b[0m, in \u001b[0;36m<module>\u001b[1;34m\u001b[0m\n\u001b[0;32m     20\u001b[0m __all__ \u001b[38;5;241m=\u001b[39m [\n\u001b[0;32m     21\u001b[0m     \u001b[38;5;124m\"\u001b[39m\u001b[38;5;124mAbstractCompiler\u001b[39m\u001b[38;5;124m\"\u001b[39m,\n\u001b[0;32m     22\u001b[0m     \u001b[38;5;124m\"\u001b[39m\u001b[38;5;124mBenchmarkConnection\u001b[39m\u001b[38;5;124m\"\u001b[39m,\n\u001b[1;32m   (...)\u001b[0m\n\u001b[0;32m     38\u001b[0m     \u001b[38;5;124m\"\u001b[39m\u001b[38;5;124mWavefunctionSimulator\u001b[39m\u001b[38;5;124m\"\u001b[39m,\n\u001b[0;32m     39\u001b[0m ]\n\u001b[0;32m     41\u001b[0m \u001b[38;5;28;01mfrom\u001b[39;00m \u001b[38;5;21;01mqcs_api_client\u001b[39;00m\u001b[38;5;21;01m.\u001b[39;00m\u001b[38;5;21;01mclient\u001b[39;00m \u001b[38;5;28;01mimport\u001b[39;00m QCSClientConfiguration\n\u001b[1;32m---> 43\u001b[0m \u001b[38;5;28;01mfrom\u001b[39;00m \u001b[38;5;21;01mpyquil\u001b[39;00m\u001b[38;5;21;01m.\u001b[39;00m\u001b[38;5;21;01mapi\u001b[39;00m\u001b[38;5;21;01m.\u001b[39;00m\u001b[38;5;21;01m_benchmark\u001b[39;00m \u001b[38;5;28;01mimport\u001b[39;00m BenchmarkConnection\n\u001b[0;32m     44\u001b[0m \u001b[38;5;28;01mfrom\u001b[39;00m \u001b[38;5;21;01mpyquil\u001b[39;00m\u001b[38;5;21;01m.\u001b[39;00m\u001b[38;5;21;01mapi\u001b[39;00m\u001b[38;5;21;01m.\u001b[39;00m\u001b[38;5;21;01m_compiler\u001b[39;00m \u001b[38;5;28;01mimport\u001b[39;00m QVMCompiler, QPUCompiler, QuantumExecutable, EncryptedProgram, AbstractCompiler\n\u001b[0;32m     45\u001b[0m \u001b[38;5;28;01mfrom\u001b[39;00m \u001b[38;5;21;01mpyquil\u001b[39;00m\u001b[38;5;21;01m.\u001b[39;00m\u001b[38;5;21;01mapi\u001b[39;00m\u001b[38;5;21;01m.\u001b[39;00m\u001b[38;5;21;01m_engagement_manager\u001b[39;00m \u001b[38;5;28;01mimport\u001b[39;00m EngagementManager\n",
      "File \u001b[1;32mC:\\ProgramData\\Anaconda3\\lib\\site-packages\\pyquil\\api\\_benchmark.py:20\u001b[0m, in \u001b[0;36m<module>\u001b[1;34m\u001b[0m\n\u001b[0;32m     16\u001b[0m \u001b[38;5;28;01mfrom\u001b[39;00m \u001b[38;5;21;01mtyping\u001b[39;00m \u001b[38;5;28;01mimport\u001b[39;00m List, Optional, Sequence, cast\n\u001b[0;32m     18\u001b[0m \u001b[38;5;28;01mfrom\u001b[39;00m \u001b[38;5;21;01mqcs_api_client\u001b[39;00m\u001b[38;5;21;01m.\u001b[39;00m\u001b[38;5;21;01mclient\u001b[39;00m \u001b[38;5;28;01mimport\u001b[39;00m QCSClientConfiguration\n\u001b[1;32m---> 20\u001b[0m \u001b[38;5;28;01mfrom\u001b[39;00m \u001b[38;5;21;01mpyquil\u001b[39;00m\u001b[38;5;21;01m.\u001b[39;00m\u001b[38;5;21;01mapi\u001b[39;00m\u001b[38;5;21;01m.\u001b[39;00m\u001b[38;5;21;01m_abstract_compiler\u001b[39;00m \u001b[38;5;28;01mimport\u001b[39;00m AbstractBenchmarker\n\u001b[0;32m     21\u001b[0m \u001b[38;5;28;01mfrom\u001b[39;00m \u001b[38;5;21;01mpyquil\u001b[39;00m\u001b[38;5;21;01m.\u001b[39;00m\u001b[38;5;21;01mapi\u001b[39;00m\u001b[38;5;21;01m.\u001b[39;00m\u001b[38;5;21;01m_compiler_client\u001b[39;00m \u001b[38;5;28;01mimport\u001b[39;00m (\n\u001b[0;32m     22\u001b[0m     GenerateRandomizedBenchmarkingSequenceRequest,\n\u001b[0;32m     23\u001b[0m     ConjugatePauliByCliffordRequest,\n\u001b[0;32m     24\u001b[0m     CompilerClient,\n\u001b[0;32m     25\u001b[0m )\n\u001b[0;32m     27\u001b[0m \u001b[38;5;28;01mfrom\u001b[39;00m \u001b[38;5;21;01mpyquil\u001b[39;00m\u001b[38;5;21;01m.\u001b[39;00m\u001b[38;5;21;01mpaulis\u001b[39;00m \u001b[38;5;28;01mimport\u001b[39;00m PauliTerm, is_identity\n",
      "File \u001b[1;32mC:\\ProgramData\\Anaconda3\\lib\\site-packages\\pyquil\\api\\_abstract_compiler.py:27\u001b[0m, in \u001b[0;36m<module>\u001b[1;34m\u001b[0m\n\u001b[0;32m     25\u001b[0m \u001b[38;5;28;01mfrom\u001b[39;00m \u001b[38;5;21;01mpyquil\u001b[39;00m\u001b[38;5;21;01m.\u001b[39;00m\u001b[38;5;21;01mparser\u001b[39;00m \u001b[38;5;28;01mimport\u001b[39;00m parse_program\n\u001b[0;32m     26\u001b[0m \u001b[38;5;28;01mfrom\u001b[39;00m \u001b[38;5;21;01mpyquil\u001b[39;00m\u001b[38;5;21;01m.\u001b[39;00m\u001b[38;5;21;01mpaulis\u001b[39;00m \u001b[38;5;28;01mimport\u001b[39;00m PauliTerm\n\u001b[1;32m---> 27\u001b[0m \u001b[38;5;28;01mfrom\u001b[39;00m \u001b[38;5;21;01mpyquil\u001b[39;00m\u001b[38;5;21;01m.\u001b[39;00m\u001b[38;5;21;01mquantum_processor\u001b[39;00m \u001b[38;5;28;01mimport\u001b[39;00m AbstractQuantumProcessor\n\u001b[0;32m     28\u001b[0m \u001b[38;5;28;01mfrom\u001b[39;00m \u001b[38;5;21;01mpyquil\u001b[39;00m\u001b[38;5;21;01m.\u001b[39;00m\u001b[38;5;21;01mquil\u001b[39;00m \u001b[38;5;28;01mimport\u001b[39;00m Program\n\u001b[0;32m     29\u001b[0m \u001b[38;5;28;01mfrom\u001b[39;00m \u001b[38;5;21;01mpyquil\u001b[39;00m\u001b[38;5;21;01m.\u001b[39;00m\u001b[38;5;21;01mquilatom\u001b[39;00m \u001b[38;5;28;01mimport\u001b[39;00m ExpressionDesignator, MemoryReference\n",
      "File \u001b[1;32mC:\\ProgramData\\Anaconda3\\lib\\site-packages\\pyquil\\quantum_processor\\__init__.py:7\u001b[0m, in \u001b[0;36m<module>\u001b[1;34m\u001b[0m\n\u001b[0;32m      5\u001b[0m \u001b[38;5;28;01mfrom\u001b[39;00m \u001b[38;5;21;01mpyquil\u001b[39;00m\u001b[38;5;21;01m.\u001b[39;00m\u001b[38;5;21;01mquantum_processor\u001b[39;00m\u001b[38;5;21;01m.\u001b[39;00m\u001b[38;5;21;01m_base\u001b[39;00m \u001b[38;5;28;01mimport\u001b[39;00m AbstractQuantumProcessor\n\u001b[0;32m      6\u001b[0m \u001b[38;5;28;01mfrom\u001b[39;00m \u001b[38;5;21;01mpyquil\u001b[39;00m\u001b[38;5;21;01m.\u001b[39;00m\u001b[38;5;21;01mquantum_processor\u001b[39;00m\u001b[38;5;21;01m.\u001b[39;00m\u001b[38;5;21;01mgraph\u001b[39;00m \u001b[38;5;28;01mimport\u001b[39;00m NxQuantumProcessor\n\u001b[1;32m----> 7\u001b[0m \u001b[38;5;28;01mfrom\u001b[39;00m \u001b[38;5;21;01mpyquil\u001b[39;00m\u001b[38;5;21;01m.\u001b[39;00m\u001b[38;5;21;01mquantum_processor\u001b[39;00m\u001b[38;5;21;01m.\u001b[39;00m\u001b[38;5;21;01mqcs\u001b[39;00m \u001b[38;5;28;01mimport\u001b[39;00m QCSQuantumProcessor, get_qcs_quantum_processor\n\u001b[0;32m      8\u001b[0m \u001b[38;5;28;01mfrom\u001b[39;00m \u001b[38;5;21;01mpyquil\u001b[39;00m\u001b[38;5;21;01m.\u001b[39;00m\u001b[38;5;21;01mquantum_processor\u001b[39;00m\u001b[38;5;21;01m.\u001b[39;00m\u001b[38;5;21;01mcompiler\u001b[39;00m \u001b[38;5;28;01mimport\u001b[39;00m CompilerQuantumProcessor\n",
      "File \u001b[1;32mC:\\ProgramData\\Anaconda3\\lib\\site-packages\\pyquil\\quantum_processor\\qcs.py:6\u001b[0m, in \u001b[0;36m<module>\u001b[1;34m\u001b[0m\n\u001b[0;32m      4\u001b[0m \u001b[38;5;28;01mimport\u001b[39;00m \u001b[38;5;21;01mnetworkx\u001b[39;00m \u001b[38;5;28;01mas\u001b[39;00m \u001b[38;5;21;01mnx\u001b[39;00m\n\u001b[0;32m      5\u001b[0m \u001b[38;5;28;01mfrom\u001b[39;00m \u001b[38;5;21;01mqcs_api_client\u001b[39;00m\u001b[38;5;21;01m.\u001b[39;00m\u001b[38;5;21;01mmodels\u001b[39;00m \u001b[38;5;28;01mimport\u001b[39;00m InstructionSetArchitecture\n\u001b[1;32m----> 6\u001b[0m \u001b[38;5;28;01mfrom\u001b[39;00m \u001b[38;5;21;01mqcs_api_client\u001b[39;00m\u001b[38;5;21;01m.\u001b[39;00m\u001b[38;5;21;01moperations\u001b[39;00m\u001b[38;5;21;01m.\u001b[39;00m\u001b[38;5;21;01msync\u001b[39;00m \u001b[38;5;28;01mimport\u001b[39;00m get_instruction_set_architecture\n\u001b[0;32m      8\u001b[0m \u001b[38;5;28;01mfrom\u001b[39;00m \u001b[38;5;21;01mpyquil\u001b[39;00m\u001b[38;5;21;01m.\u001b[39;00m\u001b[38;5;21;01mapi\u001b[39;00m \u001b[38;5;28;01mimport\u001b[39;00m QCSClientConfiguration\n\u001b[0;32m      9\u001b[0m \u001b[38;5;28;01mfrom\u001b[39;00m \u001b[38;5;21;01mpyquil\u001b[39;00m\u001b[38;5;21;01m.\u001b[39;00m\u001b[38;5;21;01mapi\u001b[39;00m\u001b[38;5;21;01m.\u001b[39;00m\u001b[38;5;21;01m_qcs_client\u001b[39;00m \u001b[38;5;28;01mimport\u001b[39;00m qcs_client\n",
      "File \u001b[1;32mC:\\ProgramData\\Anaconda3\\lib\\site-packages\\qcs_api_client\\operations\\sync\\__init__.py:1\u001b[0m, in \u001b[0;36m<module>\u001b[1;34m\u001b[0m\n\u001b[1;32m----> 1\u001b[0m \u001b[38;5;28;01mfrom\u001b[39;00m \u001b[38;5;21;01mqcs_api_client\u001b[39;00m\u001b[38;5;21;01m.\u001b[39;00m\u001b[38;5;21;01mapi\u001b[39;00m\u001b[38;5;21;01m.\u001b[39;00m\u001b[38;5;21;01maccount\u001b[39;00m\u001b[38;5;21;01m.\u001b[39;00m\u001b[38;5;21;01madd_group_user\u001b[39;00m \u001b[38;5;28;01mimport\u001b[39;00m sync \u001b[38;5;28;01mas\u001b[39;00m add_group_user\n\u001b[0;32m      2\u001b[0m \u001b[38;5;28;01mfrom\u001b[39;00m \u001b[38;5;21;01mqcs_api_client\u001b[39;00m\u001b[38;5;21;01m.\u001b[39;00m\u001b[38;5;21;01mapi\u001b[39;00m\u001b[38;5;21;01m.\u001b[39;00m\u001b[38;5;21;01maccount\u001b[39;00m\u001b[38;5;21;01m.\u001b[39;00m\u001b[38;5;21;01mget_group_balance\u001b[39;00m \u001b[38;5;28;01mimport\u001b[39;00m sync \u001b[38;5;28;01mas\u001b[39;00m get_group_balance\n\u001b[0;32m      3\u001b[0m \u001b[38;5;28;01mfrom\u001b[39;00m \u001b[38;5;21;01mqcs_api_client\u001b[39;00m\u001b[38;5;21;01m.\u001b[39;00m\u001b[38;5;21;01mapi\u001b[39;00m\u001b[38;5;21;01m.\u001b[39;00m\u001b[38;5;21;01maccount\u001b[39;00m\u001b[38;5;21;01m.\u001b[39;00m\u001b[38;5;21;01mget_group_billing_customer\u001b[39;00m \u001b[38;5;28;01mimport\u001b[39;00m sync \u001b[38;5;28;01mas\u001b[39;00m get_group_billing_customer\n",
      "File \u001b[1;32mC:\\ProgramData\\Anaconda3\\lib\\site-packages\\qcs_api_client\\api\\account\\add_group_user.py:8\u001b[0m, in \u001b[0;36m<module>\u001b[1;34m\u001b[0m\n\u001b[0;32m      6\u001b[0m \u001b[38;5;28;01mfrom\u001b[39;00m \u001b[38;5;21;01m.\u001b[39;00m\u001b[38;5;21;01m.\u001b[39;00m\u001b[38;5;21;01m.\u001b[39;00m\u001b[38;5;21;01mmodels\u001b[39;00m\u001b[38;5;21;01m.\u001b[39;00m\u001b[38;5;21;01madd_group_user_request\u001b[39;00m \u001b[38;5;28;01mimport\u001b[39;00m AddGroupUserRequest\n\u001b[0;32m      7\u001b[0m \u001b[38;5;28;01mfrom\u001b[39;00m \u001b[38;5;21;01m.\u001b[39;00m\u001b[38;5;21;01m.\u001b[39;00m\u001b[38;5;21;01m.\u001b[39;00m\u001b[38;5;21;01mtypes\u001b[39;00m \u001b[38;5;28;01mimport\u001b[39;00m Response\n\u001b[1;32m----> 8\u001b[0m \u001b[38;5;28;01mfrom\u001b[39;00m \u001b[38;5;21;01m.\u001b[39;00m\u001b[38;5;21;01m.\u001b[39;00m\u001b[38;5;21;01m.\u001b[39;00m\u001b[38;5;21;01mutil\u001b[39;00m\u001b[38;5;21;01m.\u001b[39;00m\u001b[38;5;21;01merrors\u001b[39;00m \u001b[38;5;28;01mimport\u001b[39;00m QCSHTTPStatusError, raise_for_status\n\u001b[0;32m      9\u001b[0m \u001b[38;5;28;01mfrom\u001b[39;00m \u001b[38;5;21;01m.\u001b[39;00m\u001b[38;5;21;01m.\u001b[39;00m\u001b[38;5;21;01m.\u001b[39;00m\u001b[38;5;21;01mutil\u001b[39;00m\u001b[38;5;21;01m.\u001b[39;00m\u001b[38;5;21;01mretry\u001b[39;00m \u001b[38;5;28;01mimport\u001b[39;00m DEFAULT_RETRY_ARGUMENTS\n\u001b[0;32m     12\u001b[0m \u001b[38;5;28;01mdef\u001b[39;00m \u001b[38;5;21m_get_kwargs\u001b[39m(\n\u001b[0;32m     13\u001b[0m     \u001b[38;5;241m*\u001b[39m,\n\u001b[0;32m     14\u001b[0m     client: httpx\u001b[38;5;241m.\u001b[39mClient,\n\u001b[0;32m     15\u001b[0m     json_body: AddGroupUserRequest,\n\u001b[0;32m     16\u001b[0m ) \u001b[38;5;241m-\u001b[39m\u001b[38;5;241m>\u001b[39m Dict[\u001b[38;5;28mstr\u001b[39m, Any]:\n",
      "File \u001b[1;32mC:\\ProgramData\\Anaconda3\\lib\\site-packages\\qcs_api_client\\util\\errors.py:1\u001b[0m, in \u001b[0;36m<module>\u001b[1;34m\u001b[0m\n\u001b[1;32m----> 1\u001b[0m \u001b[38;5;28;01mfrom\u001b[39;00m \u001b[38;5;21;01mhttpx\u001b[39;00m \u001b[38;5;28;01mimport\u001b[39;00m Response, HTTPStatusError\n\u001b[0;32m      2\u001b[0m \u001b[38;5;28;01mfrom\u001b[39;00m \u001b[38;5;21;01mhttp\u001b[39;00m \u001b[38;5;28;01mimport\u001b[39;00m HTTPStatus\n\u001b[0;32m      3\u001b[0m \u001b[38;5;28;01mfrom\u001b[39;00m \u001b[38;5;21;01mtyping\u001b[39;00m \u001b[38;5;28;01mimport\u001b[39;00m cast, Dict, Any, Optional\n",
      "\u001b[1;31mImportError\u001b[0m: cannot import name 'HTTPStatusError' from 'httpx' (C:\\ProgramData\\Anaconda3\\lib\\site-packages\\httpx\\__init__.py)"
     ]
    }
   ],
   "source": [
    "from pyquil import get_qc, Program\n",
    "from pyquil.gates import *\n",
    "from pyquil.api import local_forest_runtime\n",
    "from pyquil.quilbase import Declare\n",
    "from pyquil.simulation.tools import lifted_gate, program_unitary\n",
    "from pyquil.quil import *"
   ]
  },
  {
   "cell_type": "code",
   "execution_count": null,
   "id": "dec19c7c",
   "metadata": {},
   "outputs": [],
   "source": [
    "import numpy as np\n",
    "import math\n",
    "from math import pi\n",
    "import random\n",
    "import copy"
   ]
  },
  {
   "cell_type": "code",
   "execution_count": null,
   "id": "8d2c6ea3",
   "metadata": {},
   "outputs": [],
   "source": [
    "from functions import *"
   ]
  },
  {
   "cell_type": "code",
   "execution_count": null,
   "id": "cd9c0755",
   "metadata": {},
   "outputs": [],
   "source": [
    "if __name__ == \"__main__\":\n",
    "    num_qubits = 1\n",
    "\n",
    "#     First step choose m and the K_m sequences of \n",
    "    m = 5\n",
    "    k_m = 10 #n. of diff sequences\n",
    "    n_m = 10  #n. of samples from a certain sequence\n"
   ]
  },
  {
   "cell_type": "code",
   "execution_count": null,
   "id": "cc07b9bf",
   "metadata": {},
   "outputs": [],
   "source": []
  },
  {
   "cell_type": "code",
   "execution_count": null,
   "id": "2c60aa86",
   "metadata": {},
   "outputs": [],
   "source": [
    "def native_rigetti_packs_generator(num_qubit,num_layer):\n",
    "    list_gates = []\n",
    "    angles = np.linspace(0, np.pi, 100)\n",
    "    \n",
    "    for index in range(num_layer):\n",
    "        phi = np.random.uniform(0, 2*np.pi)\n",
    "        theta = np.random.choice(angles, p = np.sin(angles) / np.sum( np.sin(angles) ))\n",
    "\n",
    "        list_gates.extend( [RX(-np.pi/2, qubit = num_qubit),\n",
    "                            RZ(theta, qubit = num_qubit),\n",
    "                            RX(np.pi/2, qubit = num_qubit),\n",
    "                            RZ(phi, qubit = num_qubit)] )\n",
    "    return list_gates"
   ]
  },
  {
   "cell_type": "code",
   "execution_count": null,
   "id": "4f1ca985",
   "metadata": {},
   "outputs": [],
   "source": []
  },
  {
   "cell_type": "code",
   "execution_count": null,
   "id": "a1ff4f1d",
   "metadata": {},
   "outputs": [],
   "source": []
  },
  {
   "cell_type": "code",
   "execution_count": null,
   "id": "7f77c4a0",
   "metadata": {},
   "outputs": [],
   "source": [
    "def machine_response_rb_native_gate_conditional(qmachine, num_qubits, m, k_m, n_m):\n",
    "    \"\"\"\n",
    "    It samples and record the accept or reject of the machine with native gates chosen with conditions for rigetti.\n",
    "    ::return response_matrix including accepts and rejects in columns\n",
    "    \"\"\"\n",
    "    response_matrix = np.zeros((k_m,n_m))\n",
    "    \n",
    "    for i_sequ in range(k_m):\n",
    "        gate_list = native_rigetti_packs_generator(num_qubits, m)\n",
    "        prog = Program() #All qubits begin with |0> state\n",
    "        \n",
    "        for gate in gate_list:\n",
    "            prog += gate\n",
    "        \n",
    "        #Come back to our initial state\n",
    "        for gate in reversed(gate_list):\n",
    "#             prog += copy.deepcopy(gate).dagger() #dagger has replacing operations\n",
    "            gate_daggered = copy.deepcopy(gate)\n",
    "            gate_daggered.params[0] *= -1 #make daggered rotation \n",
    "            prog += gate_daggered\n",
    "            \n",
    "        #Do not let the quilc to alter the gates by optimization\n",
    "        prog = Program('PRAGMA PRESERVE_BLOCK') + prog\n",
    "        prog += Program('PRAGMA END_PRESERVE_BLOCK')\n",
    "        \n",
    "        #Measurments\n",
    "        ro = prog.declare('ro', 'BIT', num_qubits)\n",
    "        for q in range(num_qubits):\n",
    "            prog += MEASURE(q, ro[q])\n",
    "        prog = prog.wrap_in_numshots_loop(n_m)\n",
    "\n",
    "        #Run the program\n",
    "        executable = qmachine.compile(prog)\n",
    "        result = qmachine.run(executable)\n",
    "        measured_outcome = result.readout_data.get('ro')\n",
    "\n",
    "        response_matrix[i_sequ,:] = 1 - np.bool_(np.sum(measured_outcome, axis = 1)) # 1 if it is equal to n_zero state\n",
    "    return response_matrix, executable"
   ]
  },
  {
   "cell_type": "code",
   "execution_count": null,
   "id": "e958f885-95fe-48f6-aced-d776e398d271",
   "metadata": {},
   "outputs": [],
   "source": [
    "if __name__ == \"__main__\":\n",
    "    !ipython nbconvert --to python RB_with_Rigetti_native_gates_conditional.ipynb"
   ]
  },
  {
   "cell_type": "code",
   "execution_count": null,
   "id": "62850f1b",
   "metadata": {},
   "outputs": [],
   "source": [
    "if __name__ == \"__main__\":\n",
    "#     qc = get_qc( str(num_qubits) + 'q-qvm')  # You can make any 'nq-qvm'\n",
    "#     qc = get_qc(\"9q-square-noisy-qvm\")\n",
    "    qmachine = get_qc( str(3) + 'q-qvm')\n",
    "    epsilon = 1\n",
    "    p_xi = epsilon/4\n",
    "    qmachine.qam.gate_noise=(p_xi,p_xi,p_xi)\n",
    "    response, excutable = machine_response_rb_native_gate_conditional(qmachine,num_qubits, m, k_m, n_m)\n",
    "\n",
    "response"
   ]
  },
  {
   "cell_type": "code",
   "execution_count": null,
   "id": "4df505f5",
   "metadata": {},
   "outputs": [],
   "source": []
  },
  {
   "cell_type": "code",
   "execution_count": null,
   "id": "d06fcffd",
   "metadata": {},
   "outputs": [],
   "source": []
  },
  {
   "cell_type": "code",
   "execution_count": null,
   "id": "bfad13d0",
   "metadata": {},
   "outputs": [],
   "source": []
  },
  {
   "cell_type": "code",
   "execution_count": null,
   "id": "d25a95cf",
   "metadata": {},
   "outputs": [],
   "source": []
  },
  {
   "cell_type": "code",
   "execution_count": null,
   "id": "4008a478",
   "metadata": {},
   "outputs": [],
   "source": []
  }
 ],
 "metadata": {
  "kernelspec": {
   "display_name": "Python 3 (ipykernel)",
   "language": "python",
   "name": "python3"
  },
  "language_info": {
   "codemirror_mode": {
    "name": "ipython",
    "version": 3
   },
   "file_extension": ".py",
   "mimetype": "text/x-python",
   "name": "python",
   "nbconvert_exporter": "python",
   "pygments_lexer": "ipython3",
   "version": "3.9.12"
  }
 },
 "nbformat": 4,
 "nbformat_minor": 5
}
