{
 "cells": [
  {
   "cell_type": "markdown",
   "metadata": {},
   "source": [
    "# Standard Randomized Benchmarking"
   ]
  },
  {
   "cell_type": "code",
   "execution_count": 1,
   "metadata": {},
   "outputs": [],
   "source": [
    "from pyquil import get_qc, Program\n",
    "from pyquil.gates import CNOT, Z, H,S, MEASURE, I\n",
    "from pyquil.api import local_forest_runtime\n",
    "from pyquil.quilbase import Declare\n",
    "from pyquil.simulation.tools import lifted_gate, program_unitary\n",
    "from pyquil.quil import *"
   ]
  },
  {
   "cell_type": "code",
   "execution_count": 2,
   "metadata": {},
   "outputs": [],
   "source": [
    "import numpy as np\n",
    "import random\n",
    "from AverageFidelity import averageOfFidelity"
   ]
  },
  {
   "cell_type": "code",
   "execution_count": null,
   "metadata": {},
   "outputs": [],
   "source": []
  },
  {
   "cell_type": "code",
   "execution_count": 3,
   "metadata": {},
   "outputs": [],
   "source": [
    "if __name__ == \"__main__\":\n",
    "    num_qubits = 2\n",
    "\n",
    "    #First step choose m and the K_m sequences of Clifford group\n",
    "    m = 1\n",
    "    k_m = 10 #n. of diff sequences\n",
    "    n_m = 10  #n. of samples from a certain sequence\n"
   ]
  },
  {
   "cell_type": "code",
   "execution_count": 4,
   "metadata": {},
   "outputs": [],
   "source": [
    "def generate_clifford_group(num_qubits):\n",
    "    #The glossary of Clifford gates\n",
    "    clifford_glossary = []\n",
    "    clifford_glossary.extend([CNOT(i,j) for i in range(num_qubits) for j in range(num_qubits)])\n",
    "    for i in range(num_qubits): clifford_glossary.remove(CNOT(i,i))\n",
    "    clifford_glossary.extend([H(i) for i in range(num_qubits)])\n",
    "    clifford_glossary.extend([S(i) for i in range(num_qubits)])\n",
    "    return clifford_glossary"
   ]
  },
  {
   "cell_type": "code",
   "execution_count": 5,
   "metadata": {},
   "outputs": [],
   "source": [
    "def machine_response_standard_bench(num_qubits, m, k_m, n_m):\n",
    "    \"\"\"\n",
    "    It samples and record the accept or reject of the machine.\n",
    "    ::return response_matrix including accepts and rejects in columns\n",
    "    \"\"\"\n",
    "    response_matrix = np.zeros((k_m,n_m))\n",
    "    clifford_glossary = generate_clifford_group(num_qubits)\n",
    "    \n",
    "    for i_sequ in range(k_m):\n",
    "        c_jm =  random.choices(clifford_glossary, k = m)\n",
    "        #compute the unitary of circuit U\n",
    "        prog = Program() #All qubits begin with |0> state\n",
    "        for gate in c_jm:\n",
    "            prog += gate\n",
    "\n",
    "        c_jm_unitary = program_unitary(prog, n_qubits= num_qubits)\n",
    "\n",
    "        #report the reversed unitary operator of the total transforamtions \n",
    "        c_jm_unitary_r = np.linalg.inv( c_jm_unitary )\n",
    "        c_jm_unitary_r_definition = DefGate(\"U_r\", c_jm_unitary_r)\n",
    "        U_r = c_jm_unitary_r_definition.get_constructor() # Get the gate constructor\n",
    "\n",
    "        n_tuple = tuple(range(num_qubits))\n",
    "        prog += Program( c_jm_unitary_r_definition, U_r(*n_tuple) )\n",
    "\n",
    "        #Measurments\n",
    "        ro = prog.declare('ro', 'BIT', num_qubits)\n",
    "        for q in range(num_qubits):\n",
    "            prog += MEASURE(q, ro[q])\n",
    "\n",
    "        prog = prog.wrap_in_numshots_loop(n_m)\n",
    "\n",
    "        #Run the program\n",
    "        qc = get_qc( str(num_qubits) + 'q-qvm')  # You can make any 'nq-qvm'\n",
    "        executable = qc.compile(prog)\n",
    "        result = qc.run(executable)\n",
    "        measured_outcome = result.readout_data.get('ro')\n",
    "\n",
    "        response_matrix[i_sequ,:] = 1 - np.bool_(np.sum(measured_outcome, axis = 1)) # 1 if it is equal to n_zero state\n",
    "    \n",
    "    return response_matrix"
   ]
  },
  {
   "cell_type": "code",
   "execution_count": null,
   "metadata": {},
   "outputs": [],
   "source": []
  },
  {
   "cell_type": "code",
   "execution_count": null,
   "metadata": {},
   "outputs": [],
   "source": []
  },
  {
   "cell_type": "code",
   "execution_count": null,
   "metadata": {},
   "outputs": [],
   "source": []
  },
  {
   "cell_type": "code",
   "execution_count": 6,
   "metadata": {},
   "outputs": [
    {
     "name": "stderr",
     "output_type": "stream",
     "text": [
      "[TerminalIPythonApp] WARNING | Subcommand `ipython nbconvert` is deprecated and will be removed in future versions.\n",
      "[TerminalIPythonApp] WARNING | You likely want to use `jupyter nbconvert` in the future\n",
      "[NbConvertApp] Converting notebook RB_standard_verification.ipynb to python\n",
      "[NbConvertApp] Writing 2881 bytes to RB_standard_verification.py\n"
     ]
    }
   ],
   "source": [
    "!ipython nbconvert --to python RB_standard_verification.ipynb"
   ]
  },
  {
   "cell_type": "code",
   "execution_count": null,
   "metadata": {},
   "outputs": [],
   "source": []
  }
 ],
 "metadata": {
  "kernelspec": {
   "display_name": "Python 3",
   "language": "python",
   "name": "python3"
  },
  "language_info": {
   "codemirror_mode": {
    "name": "ipython",
    "version": 3
   },
   "file_extension": ".py",
   "mimetype": "text/x-python",
   "name": "python",
   "nbconvert_exporter": "python",
   "pygments_lexer": "ipython3",
   "version": "3.7.6"
  }
 },
 "nbformat": 4,
 "nbformat_minor": 4
}
