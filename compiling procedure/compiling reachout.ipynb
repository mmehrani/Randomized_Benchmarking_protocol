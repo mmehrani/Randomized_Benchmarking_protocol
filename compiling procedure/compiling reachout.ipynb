{
 "cells": [
  {
   "cell_type": "code",
   "execution_count": 1,
   "id": "b86ad0dc",
   "metadata": {},
   "outputs": [],
   "source": [
    "from pyquil.quil import *\n",
    "from pyquil.api import get_qc\n",
    "from pyquil.gates import *\n",
    "from pyquil.latex import display, to_latex\n",
    "from pyquil.simulation.tools import lifted_gate, program_unitary, lifted_gate_matrix"
   ]
  },
  {
   "cell_type": "code",
   "execution_count": 1,
   "id": "cb0ce7c0",
   "metadata": {},
   "outputs": [],
   "source": [
    "from functions import *"
   ]
  },
  {
   "cell_type": "code",
   "execution_count": 2,
   "id": "adf63062",
   "metadata": {},
   "outputs": [],
   "source": [
    "import numpy as np\n",
    "import matplotlib.pyplot as plt"
   ]
  },
  {
   "cell_type": "code",
   "execution_count": 4,
   "id": "a18e2976",
   "metadata": {},
   "outputs": [],
   "source": [
    "qc = get_qc(\"9q-square-qvm\")"
   ]
  },
  {
   "cell_type": "markdown",
   "id": "693551ed",
   "metadata": {},
   "source": [
    "# Programmable recipe\n",
    "![alt text](rotation_definition.png \"Title\")\n",
    "$$R(\\theta, \\phi) = R_z(-\\frac{\\phi}{2})R_y(\\theta)R_z(\\frac{\\phi}{2})$$\n",
    "![alt text](programmble_decomposition.png \"Title\")"
   ]
  },
  {
   "cell_type": "code",
   "execution_count": 5,
   "id": "fa760a36",
   "metadata": {},
   "outputs": [],
   "source": [
    "# program_unitary(G, n_qubits=2)"
   ]
  },
  {
   "cell_type": "markdown",
   "id": "3b7306fc",
   "metadata": {},
   "source": [
    "$$R(\\theta, \\phi) = R_z(-\\frac{\\phi}{2})R_y(\\theta)R_z(\\frac{\\phi}{2})\\\\\n",
    "U(2) = R(\\theta, \\phi) R_z(\\phi_z)\\\\\n",
    "or\\\\\n",
    "U(2) = R_z(\\theta) R_y(\\phi) R_z(\\psi)\n",
    "$$"
   ]
  },
  {
   "cell_type": "code",
   "execution_count": 3,
   "id": "c70a359c",
   "metadata": {},
   "outputs": [],
   "source": [
    "G = Program( CPHASE01(-np.pi/2, control=0, target=1), CPHASE10(-np.pi/2, control=0, target=1) )"
   ]
  },
  {
   "cell_type": "code",
   "execution_count": 4,
   "id": "e4f5d38b",
   "metadata": {},
   "outputs": [
    {
     "data": {
      "text/plain": [
       "array([[ 7.07106781e-01+0.j        ,  0.00000000e+00+0.j        ,\n",
       "         7.07106781e-01+0.j        ,  0.00000000e+00+0.j        ],\n",
       "       [ 0.00000000e+00+0.j        ,  4.32978028e-17-0.70710678j,\n",
       "         0.00000000e+00+0.j        ,  4.32978028e-17-0.70710678j],\n",
       "       [ 4.32978028e-17-0.70710678j,  0.00000000e+00+0.j        ,\n",
       "        -4.32978028e-17+0.70710678j,  0.00000000e+00+0.j        ],\n",
       "       [ 0.00000000e+00+0.j        ,  7.07106781e-01+0.j        ,\n",
       "         0.00000000e+00+0.j        , -7.07106781e-01+0.j        ]])"
      ]
     },
     "execution_count": 4,
     "metadata": {},
     "output_type": "execute_result"
    }
   ],
   "source": [
    "program_unitary(Program(H(1), G), n_qubits=2)"
   ]
  },
  {
   "cell_type": "code",
   "execution_count": 8,
   "id": "8eca3e16",
   "metadata": {},
   "outputs": [
    {
     "data": {
      "text/plain": [
       "<pyquil.quil.Program at 0x20eb9143a00>"
      ]
     },
     "execution_count": 8,
     "metadata": {},
     "output_type": "execute_result"
    }
   ],
   "source": [
    "Program(G)"
   ]
  },
  {
   "cell_type": "code",
   "execution_count": 5,
   "id": "2835439b",
   "metadata": {},
   "outputs": [],
   "source": [
    "# %%writefile -a functions.py\n",
    "G = Program( CPHASE01(-np.pi/2, control=0, target=1), CPHASE10(-np.pi/2, control=0, target=1) )\n",
    "\n",
    "def arbitary_single_qubit_circuit(theta, phi, si, qubit):\n",
    "    return Program( RZ(si, qubit = qubit), RY(phi, qubit = qubit), RZ(theta, qubit = qubit) )\n",
    "\n",
    "def r_theta_phi_rotation(theta, phi, qubit):\n",
    "    return arbitary_single_qubit_circuit( - phi/2, theta, phi/2, qubit)\n",
    "\n",
    "def give_random_single_qubit_gate(qubit):\n",
    "    theta, si = np.random.uniform(0,2*np.pi, size = 2)\n",
    "    \n",
    "    phi_range = np.linspace(0,np.pi)\n",
    "    p_phi = np.sin(phi_range) / np.sum(np.sin(phi_range))\n",
    "    phi = np.random.choice(phi_range, p = p_phi)\n",
    "    return arbitary_single_qubit_circuit(theta, phi, si, qubit = qubit)\n",
    "\n",
    "def normalized_abs_angle_dist(angle_range):\n",
    "    dist = np.pi - np.abs( np.pi - angle_range )\n",
    "    dist /= np.sum(dist)\n",
    "    return dist\n",
    "\n",
    "# def give_v_circuit(alpha, beta, delta, qubits = [0,1]):\n",
    "#     prog = Program(G,  r_theta_phi_rotation(alpha, 0, qubit =qubits[0]),\n",
    "#                    r_theta_phi_rotation(3*np.pi/2,0, qubit =qubits[1]), G)\n",
    "#     prog += Program( r_theta_phi_rotation(beta, np.pi/2, qubit = qubits[0]), \n",
    "#                     r_theta_phi_rotation(3*np.pi/2, delta, qubit = qubits[1]), G)\n",
    "#     return prog\n",
    "\n",
    "# def give_v_circuit(alpha, beta, delta, qubits = [0,1]):\n",
    "#     prog = Program(CNOT(control=qubits[1], target=qubits[0]),\n",
    "#                    r_theta_phi_rotation(alpha, 0, qubit =qubits[0]),\n",
    "#                    r_theta_phi_rotation(3*np.pi/2,0, qubit =qubits[1]),\n",
    "#                    CNOT(control=qubits[0], target=qubits[1]))\n",
    "#     prog += Program( r_theta_phi_rotation(beta, np.pi/2, qubit = qubits[0]),\n",
    "#                     r_theta_phi_rotation(3*np.pi/2, delta, qubit = qubits[1]),\n",
    "#                     CNOT(control=qubits[1], target=qubits[0]))\n",
    "#     return prog\n",
    "\n",
    "def give_v_circuit(alpha, beta, delta, qubits = [0,1]):\n",
    "    prog = Program(CNOT(control=qubits[1], target=qubits[0]),\n",
    "                   RZ(angle = delta, qubit =qubits[0]),\n",
    "                   RY(beta, qubit =qubits[1]),\n",
    "                   CNOT(control=qubits[0], target=qubits[1]))\n",
    "    prog += Program(RY(angle= alpha, qubit = qubits[1]),\n",
    "                    CNOT(control=qubits[1], target=qubits[0]))\n",
    "    return prog\n",
    "\n",
    "def give_random_two_quibt_circuit(qubits):\n",
    "    a,b,c,d = [give_random_single_qubit_gate(qubit=qubit) for _ in range(2) for qubit in qubits]\n",
    "    \n",
    "    angles_range = np.linspace(0,2*np.pi)\n",
    "    alpha, beta, delta = np.random.choice(angles_range, p = normalized_abs_angle_dist(angles_range),\n",
    "                                          size = 3)\n",
    "    \n",
    "    prog = Program(a, b )\n",
    "    prog += give_v_circuit(alpha, beta, delta, qubits = [0,1])\n",
    "    prog += Program(c, d )\n",
    "    return prog"
   ]
  },
  {
   "cell_type": "code",
   "execution_count": 6,
   "id": "244046f3",
   "metadata": {},
   "outputs": [
    {
     "data": {
      "text/plain": [
       "array([[-0.52836531-2.98592791e-04j,  0.49947079+3.33714326e-01j,\n",
       "        -0.01522696-4.31570689e-01j, -0.38726747+1.53402989e-01j],\n",
       "       [-0.25236647+5.42764074e-01j, -0.60049094-3.51216911e-02j,\n",
       "        -0.04861536-4.42640448e-01j, -0.0748518 -2.75678456e-01j],\n",
       "       [ 0.25530508-4.95049667e-01j, -0.02552895-4.07138669e-01j,\n",
       "        -0.43912659-4.72198754e-01j, -0.26482265-1.93382158e-01j],\n",
       "       [-0.21782815-6.96015702e-02j,  0.20862568+2.59619871e-01j,\n",
       "        -0.44636352-1.32907543e-02j,  0.62627007-4.95124361e-01j]])"
      ]
     },
     "execution_count": 6,
     "metadata": {},
     "output_type": "execute_result"
    }
   ],
   "source": [
    "program_unitary(give_random_two_quibt_circuit([0,1]), n_qubits=2)"
   ]
  },
  {
   "cell_type": "code",
   "execution_count": 7,
   "id": "46c25714",
   "metadata": {},
   "outputs": [],
   "source": [
    "sample = give_random_two_quibt_circuit([0,1])\n",
    "# print( qc.compile( sample ) , len(sample), len(qc.compile( sample )))"
   ]
  },
  {
   "cell_type": "code",
   "execution_count": 7,
   "id": "32ba2941",
   "metadata": {},
   "outputs": [
    {
     "data": {
      "text/plain": [
       "array([[1.000000e+00+0.j, 0.000000e+00+0.j, 0.000000e+00+0.j,\n",
       "        0.000000e+00+0.j],\n",
       "       [0.000000e+00+0.j, 6.123234e-17-1.j, 0.000000e+00+0.j,\n",
       "        0.000000e+00+0.j],\n",
       "       [0.000000e+00+0.j, 0.000000e+00+0.j, 6.123234e-17-1.j,\n",
       "        0.000000e+00+0.j],\n",
       "       [0.000000e+00+0.j, 0.000000e+00+0.j, 0.000000e+00+0.j,\n",
       "        1.000000e+00+0.j]])"
      ]
     },
     "execution_count": 7,
     "metadata": {},
     "output_type": "execute_result"
    }
   ],
   "source": [
    "program_unitary(G, n_qubits=2)"
   ]
  },
  {
   "cell_type": "markdown",
   "id": "988a804c",
   "metadata": {},
   "source": [
    "# Visualization\n",
    "## single-qubit"
   ]
  },
  {
   "cell_type": "code",
   "execution_count": null,
   "id": "e0ec4680",
   "metadata": {},
   "outputs": [],
   "source": [
    "num_samples = 2021\n",
    "\n",
    "single_qubit_unitary_samples = [program_unitary(give_random_single_qubit_gate(qubit=0), n_qubits = 1) for _ in range(num_samples)]"
   ]
  },
  {
   "cell_type": "code",
   "execution_count": null,
   "id": "ef0e7929",
   "metadata": {},
   "outputs": [],
   "source": [
    "single_zero_state_density_matrix = np.array([[1,0],[0,0]]) #|0><0| state\n",
    "# What is U|0><0|U^T\n",
    "single_final_states = np.array( [np.dot( np.dot(u,single_zero_state_density_matrix), u.conj().T ) for u in single_qubit_unitary_samples] )"
   ]
  },
  {
   "cell_type": "code",
   "execution_count": null,
   "id": "c0670965",
   "metadata": {},
   "outputs": [],
   "source": [
    "# lets see where U|0><0|U^T is likely found\n",
    "single_qubit_bloch_vectors = np.array([convert_to_bloch_vector(s) for s in single_final_states])"
   ]
  },
  {
   "cell_type": "code",
   "execution_count": null,
   "id": "379f9eac",
   "metadata": {},
   "outputs": [],
   "source": [
    "plot_bloch_sphere(single_qubit_bloch_vectors)"
   ]
  },
  {
   "cell_type": "code",
   "execution_count": null,
   "id": "464ad046",
   "metadata": {},
   "outputs": [],
   "source": []
  },
  {
   "cell_type": "code",
   "execution_count": null,
   "id": "1eac8fea",
   "metadata": {},
   "outputs": [],
   "source": []
  },
  {
   "cell_type": "code",
   "execution_count": null,
   "id": "273f05a4",
   "metadata": {},
   "outputs": [],
   "source": []
  },
  {
   "cell_type": "code",
   "execution_count": null,
   "id": "0bb0baf3",
   "metadata": {},
   "outputs": [],
   "source": []
  },
  {
   "cell_type": "markdown",
   "id": "2cea2298",
   "metadata": {},
   "source": [
    "## Two qubits"
   ]
  },
  {
   "cell_type": "code",
   "execution_count": null,
   "id": "999862ae",
   "metadata": {},
   "outputs": [],
   "source": [
    "num_samples = 2021\n",
    "\n",
    "two_qubit_unitary_samples = [program_unitary(give_random_two_quibt_circuit([0,1]), n_qubits = 2) for _ in range(num_samples)]"
   ]
  },
  {
   "cell_type": "code",
   "execution_count": null,
   "id": "a212725f",
   "metadata": {},
   "outputs": [],
   "source": [
    "two_zero_state_density_matrix = np.kron( np.array([[1,0],[0,0]]) , np.array([[1,0],[0,0]]) )\n",
    "two_final_states = np.array( [np.dot( np.dot(u,two_zero_state_density_matrix), u.conj().T ) for u in two_qubit_unitary_samples] )"
   ]
  },
  {
   "cell_type": "code",
   "execution_count": null,
   "id": "92553aa6",
   "metadata": {},
   "outputs": [],
   "source": []
  },
  {
   "cell_type": "code",
   "execution_count": null,
   "id": "de529849",
   "metadata": {},
   "outputs": [],
   "source": [
    "X = np.array([[0, 1], [1, 0]])\n",
    "Y = np.array([[0, -1j], [1j, 0]])\n",
    "Z = np.array([[1, 0], [0, -1]])\n",
    "I = np.eye(2)\n",
    "\n",
    "two_qubit_unitary_basis = np.array([ [ np.kron(x,y) for x in [X,Y,Z] ] for y in [X,Y,Z] ])\n",
    "# two_qubit_unitary_basis[0]"
   ]
  },
  {
   "cell_type": "code",
   "execution_count": null,
   "id": "18f3480b",
   "metadata": {},
   "outputs": [],
   "source": [
    "# Used the mixed state simulator so we could have the density matrix for this part!\n",
    "def reduce_to_bloch_vector(rho, sigma_arr:np.array):\n",
    "    \"\"\"Reduce a density matrix to a Bloch vector.\"\"\"\n",
    "    ax = np.trace(np.dot(rho, sigma_arr[0])).real\n",
    "    ay = np.trace(np.dot(rho, sigma_arr[1])).real\n",
    "    az = np.trace(np.dot(rho, sigma_arr[2])).real\n",
    "    return [ax, ay, az]"
   ]
  },
  {
   "cell_type": "code",
   "execution_count": null,
   "id": "73c9cb41",
   "metadata": {
    "scrolled": true
   },
   "outputs": [],
   "source": [
    "two_qubit_bloch_vectors = np.array([reduce_to_bloch_vector(s,two_qubit_unitary_basis[2]) for s in two_final_states])\n",
    "plot_bloch_sphere(two_qubit_bloch_vectors)"
   ]
  },
  {
   "cell_type": "markdown",
   "id": "d922a2e5",
   "metadata": {},
   "source": [
    "### Verification of Haar distribution\n",
    "we need to find out whether the distribution of the points is really uniform over the total space. To do so we first compute the radial distance of points and plot their cumulative histogram. If it grows with the power of 3 then we can be sure that the density of points is uniform in the sphere."
   ]
  },
  {
   "cell_type": "code",
   "execution_count": null,
   "id": "03b2fbd4",
   "metadata": {},
   "outputs": [],
   "source": [
    "r_bloch_vectors = np.sqrt( two_qubit_bloch_vectors[:,0]**2 + two_qubit_bloch_vectors[:,1]**2 + two_qubit_bloch_vectors[:,2]**2)"
   ]
  },
  {
   "cell_type": "code",
   "execution_count": null,
   "id": "3a053e23",
   "metadata": {},
   "outputs": [],
   "source": [
    "n_bins = 10\n",
    "\n",
    "fig, ax = plt.subplots()\n",
    "\n",
    "bins = np.logspace(np.log10(0.1),np.log10(1),n_bins)\n",
    "# plot the cumulative histogram\n",
    "pop, bins, hist_ = ax.hist( r_bloch_vectors, bins, histtype='step',\n",
    "                           cumulative=True, density = True, label='Empirical')\n",
    "ax.set_yscale('log')\n",
    "ax.set_xscale('log')\n",
    "# ax.plot(np.linspace(0,1,10), np.linspace(0,1,10)**slope)\n",
    "ax.plot(bins, bins**3)\n",
    "plt.show()\n"
   ]
  },
  {
   "cell_type": "code",
   "execution_count": null,
   "id": "da603ee7",
   "metadata": {},
   "outputs": [],
   "source": [
    "non_zero_mask = pop != 0\n",
    "regression_pop = pop[non_zero_mask]\n",
    "regression_bins = np.array( bins[:-1] ) [non_zero_mask]\n",
    "exp, intercept = np.polyfit(np.log(regression_bins), np.log(regression_pop), deg = 1)\n",
    "exp, intercept"
   ]
  },
  {
   "cell_type": "code",
   "execution_count": null,
   "id": "2bf7eca9",
   "metadata": {},
   "outputs": [],
   "source": []
  },
  {
   "cell_type": "code",
   "execution_count": null,
   "id": "77091f18",
   "metadata": {},
   "outputs": [],
   "source": [
    "def exponent_of_dist(data):\n",
    "    n_bins = 100\n",
    "    bins = np.logspace(np.log10(0.1),np.log10(1),n_bins)\n",
    "    # plot the cumulative histogram\n",
    "    pop, bins, hist_ = plt.hist( data, bins, cumulative=True, density = True)\n",
    "    # extrapolate the exponent\n",
    "    non_zero_mask = pop != 0\n",
    "    regression_pop = pop[non_zero_mask]\n",
    "    regression_bins = np.array( bins[:-1] ) [non_zero_mask]\n",
    "    exp, intercept = np.polyfit(np.log(regression_bins), np.log(regression_pop), deg = 1)\n",
    "    plt.close()\n",
    "    return exp"
   ]
  },
  {
   "cell_type": "code",
   "execution_count": null,
   "id": "10843967",
   "metadata": {},
   "outputs": [],
   "source": [
    "exp_list = []\n",
    "for i in range(len(two_qubit_unitary_basis)):\n",
    "    two_qubit_bloch_vectors = np.array([reduce_to_bloch_vector(s,two_qubit_unitary_basis[i]) for s in two_final_states])\n",
    "    r_bloch_vectors = np.sqrt( two_qubit_bloch_vectors[:,0]**2 + two_qubit_bloch_vectors[:,1]**2 + two_qubit_bloch_vectors[:,2]**2)\n",
    "    exp_list.append(exponent_of_dist(r_bloch_vectors))\n",
    "exp_list"
   ]
  },
  {
   "cell_type": "markdown",
   "id": "48f06232",
   "metadata": {},
   "source": [
    "# Matrix decomposition verification\n"
   ]
  },
  {
   "cell_type": "code",
   "execution_count": 30,
   "id": "796fa80d",
   "metadata": {},
   "outputs": [],
   "source": [
    "from scipy.stats import unitary_group\n",
    "import cmath"
   ]
  },
  {
   "cell_type": "code",
   "execution_count": 31,
   "id": "2cb866e7",
   "metadata": {},
   "outputs": [],
   "source": [
    "u_matrix = unitary_group.rvs(4)\n",
    "lambda_unitary = np.array([ [1, 1j , 0 , 0],[0, 0, 1j, 1],[0, 0, 1j, -1],[1, -1j, 0, 0] ]) / np.sqrt(2)"
   ]
  },
  {
   "cell_type": "code",
   "execution_count": 32,
   "id": "554d9320",
   "metadata": {},
   "outputs": [],
   "source": [
    "def matrix_in_magic_basis(matrix):\n",
    "    return np.dot( lambda_unitary.conj().transpose(), np.dot(matrix, lambda_unitary) )\n",
    "\n",
    "def matrix_out_magic_basis(magic_matrix):\n",
    "    return np.dot( lambda_unitary, np.dot(magic_matrix, lambda_unitary.conj().transpose()) )\n",
    "\n",
    "def relative_phases(complex_arr:np.array):\n",
    "    phases = np.array( [cmath.phase(x) for x in complex_arr] )\n",
    "    phases = np.sort(phases)\n",
    "    phases -= phases[0]\n",
    "    return phases\n",
    "\n",
    "def strip_global_factor(matrix):\n",
    "    shape_length = np.shape(matrix)[0]\n",
    "    return matrix / abs(np.linalg.det(matrix))**(1/shape_length)\n",
    "\n",
    "def strip_global_phase(matrix):\n",
    "    shape_length = np.shape(matrix)[0]\n",
    "    return matrix / np.linalg.det(matrix)**(1/shape_length)\n",
    "\n",
    "def get_ordered_eig(matrix):\n",
    "    values, vecs = np.linalg.eig(matrix)\n",
    "    order = np.argsort([cmath.phase(x) for x in values])\n",
    "    values = values[order]\n",
    "    vecs = np.transpose(vecs.transpose()[order])\n",
    "    return values, vecs"
   ]
  },
  {
   "cell_type": "code",
   "execution_count": null,
   "id": "5b19c583",
   "metadata": {},
   "outputs": [],
   "source": []
  },
  {
   "cell_type": "markdown",
   "id": "da6b7ca2",
   "metadata": {},
   "source": [
    "Strip U of any global phase"
   ]
  },
  {
   "cell_type": "code",
   "execution_count": 33,
   "id": "c19282ca",
   "metadata": {},
   "outputs": [],
   "source": [
    "u_matrix /= ( np.linalg.det(u_matrix) )**(1/4)"
   ]
  },
  {
   "cell_type": "code",
   "execution_count": 34,
   "id": "4276198b",
   "metadata": {},
   "outputs": [],
   "source": [
    "u_magic_matrix = matrix_in_magic_basis(u_matrix)"
   ]
  },
  {
   "cell_type": "code",
   "execution_count": 35,
   "id": "a7c29e85",
   "metadata": {},
   "outputs": [],
   "source": [
    "u_u_T = np.dot(u_magic_matrix, u_magic_matrix.transpose())"
   ]
  },
  {
   "cell_type": "code",
   "execution_count": 36,
   "id": "02e32f53",
   "metadata": {},
   "outputs": [],
   "source": [
    "u_u_T_eigen_values, u_u_T_eigen_vectors = get_ordered_eig(u_u_T)\n",
    "# u_u_T_eigen_values, u_u_T_eigen_vectors = np.linalg.eig(u_u_T)"
   ]
  },
  {
   "cell_type": "markdown",
   "id": "2086f968",
   "metadata": {},
   "source": [
    "#### V Gate:"
   ]
  },
  {
   "cell_type": "code",
   "execution_count": 37,
   "id": "3f72e0c3",
   "metadata": {},
   "outputs": [
    {
     "data": {
      "text/plain": [
       "array([[ 0.39198462-0.05044008j,  0.        +0.j        ,\n",
       "         0.        +0.j        ,  0.91107604-0.11723611j],\n",
       "       [ 0.        +0.j        ,  0.38858189+0.05000222j,\n",
       "         0.91253253+0.11742353j,  0.        +0.j        ],\n",
       "       [ 0.        +0.j        ,  0.91253253+0.11742353j,\n",
       "        -0.38858189-0.05000222j,  0.        +0.j        ],\n",
       "       [-0.91107604+0.11723611j,  0.        +0.j        ,\n",
       "         0.        +0.j        ,  0.39198462-0.05044008j]])"
      ]
     },
     "execution_count": 37,
     "metadata": {},
     "output_type": "execute_result"
    }
   ],
   "source": [
    "# eigen_values_phases = relative_phases(u_u_T_eigen_values)[1:]\n",
    "eigen_values_phases = [cmath.phase(x) for x in u_u_T_eigen_values]\n",
    "alpha, beta, delta = np.array([eigen_values_phases[0] + eigen_values_phases[1],\n",
    "                               eigen_values_phases[0] + eigen_values_phases[2],\n",
    "                               eigen_values_phases[1] + eigen_values_phases[2] ]) / 2\n",
    "v_matrix = program_unitary(give_v_circuit(alpha, beta, delta), n_qubits=2)\n",
    "v_matrix"
   ]
  },
  {
   "cell_type": "code",
   "execution_count": null,
   "id": "646ec87d",
   "metadata": {},
   "outputs": [],
   "source": []
  },
  {
   "cell_type": "code",
   "execution_count": 38,
   "id": "0c4acf76",
   "metadata": {},
   "outputs": [],
   "source": [
    "v_magic_matrix = matrix_in_magic_basis(v_matrix)\n",
    "# v_magic_matrix = matrix_in_magic_basis(np.e**(-1j * np.pi/4) * v_matrix)\n",
    "v_v_T = np.dot(v_magic_matrix, v_magic_matrix.transpose())"
   ]
  },
  {
   "cell_type": "markdown",
   "id": "e8f788da",
   "metadata": {},
   "source": [
    "Check whether vv^T and uu^T have same eigenvalues"
   ]
  },
  {
   "cell_type": "code",
   "execution_count": 39,
   "id": "b9d13183",
   "metadata": {},
   "outputs": [],
   "source": [
    "v_v_T_eigen_values, v_v_T_eigen_vectors = get_ordered_eig(v_v_T)"
   ]
  },
  {
   "cell_type": "code",
   "execution_count": null,
   "id": "d2b99b36",
   "metadata": {},
   "outputs": [],
   "source": []
  },
  {
   "cell_type": "code",
   "execution_count": 40,
   "id": "ff1afba8",
   "metadata": {},
   "outputs": [
    {
     "data": {
      "text/plain": [
       "(array([0.        , 2.03574382, 3.64603082, 4.65797085]),\n",
       " array([0.        , 2.03574382, 3.64603082, 4.65797085]))"
      ]
     },
     "execution_count": 40,
     "metadata": {},
     "output_type": "execute_result"
    }
   ],
   "source": [
    "relative_phases(v_v_T_eigen_values), relative_phases(u_u_T_eigen_values)"
   ]
  },
  {
   "cell_type": "code",
   "execution_count": 41,
   "id": "23682b89",
   "metadata": {},
   "outputs": [
    {
     "data": {
      "text/plain": [
       "(array([-0.84902651-0.52835025j,  0.85294629-0.52199869j,\n",
       "         0.48791704+0.87289j   , -0.4813885 +0.87650734j]),\n",
       " array([-0.84902651-0.52835025j,  0.85294629-0.52199869j,\n",
       "         0.48791704+0.87289j   , -0.4813885 +0.87650734j]))"
      ]
     },
     "execution_count": 41,
     "metadata": {},
     "output_type": "execute_result"
    }
   ],
   "source": [
    "u_u_T_eigen_values, v_v_T_eigen_values"
   ]
  },
  {
   "cell_type": "code",
   "execution_count": null,
   "id": "1ba41de5",
   "metadata": {},
   "outputs": [],
   "source": []
  },
  {
   "cell_type": "markdown",
   "id": "fbb0bcf5",
   "metadata": {},
   "source": [
    "#### K and L"
   ]
  },
  {
   "cell_type": "code",
   "execution_count": 43,
   "id": "fad38f99",
   "metadata": {},
   "outputs": [],
   "source": [
    "v_v_T_eigen_values, v_v_T_eigen_vectors = get_ordered_eig(v_v_T)"
   ]
  },
  {
   "cell_type": "code",
   "execution_count": 44,
   "id": "cb06f251",
   "metadata": {},
   "outputs": [],
   "source": [
    "k_matrix = np.copy(v_v_T_eigen_vectors.transpose()) # transpose needed to be consistent with the paper\n",
    "l_matrix = np.copy(u_u_T_eigen_vectors.transpose())"
   ]
  },
  {
   "cell_type": "code",
   "execution_count": 46,
   "id": "8f1ae730",
   "metadata": {},
   "outputs": [
    {
     "data": {
      "text/plain": [
       "array([[-8.49026508e-01-5.28350252e-01j,  0.00000000e+00+0.00000000e+00j,\n",
       "         0.00000000e+00+0.00000000e+00j, -1.06286914e-16+5.15558087e-17j],\n",
       "       [ 0.00000000e+00+0.00000000e+00j,  8.52946286e-01-5.21998691e-01j,\n",
       "         9.11763242e-17+9.81748372e-17j,  0.00000000e+00+0.00000000e+00j],\n",
       "       [ 0.00000000e+00+0.00000000e+00j,  1.10493961e-16+6.93082939e-17j,\n",
       "         4.87917045e-01+8.72890003e-01j,  0.00000000e+00+0.00000000e+00j],\n",
       "       [-1.21359748e-16+1.48961413e-17j,  0.00000000e+00+0.00000000e+00j,\n",
       "         0.00000000e+00+0.00000000e+00j, -4.81388501e-01+8.76507336e-01j]])"
      ]
     },
     "execution_count": 46,
     "metadata": {},
     "output_type": "execute_result"
    }
   ],
   "source": [
    "np.matmul(k_matrix, np.matmul(v_v_T, k_matrix.transpose()))"
   ]
  },
  {
   "cell_type": "code",
   "execution_count": 47,
   "id": "ca6327e0",
   "metadata": {},
   "outputs": [
    {
     "data": {
      "text/plain": [
       "array([[-8.49026508e-01-5.28350252e-01j, -1.45363065e-16+2.64501221e-16j,\n",
       "         4.03941742e-18+1.17789652e-16j, -3.99851793e-16+6.15448739e-17j],\n",
       "       [-9.24388155e-17+2.48201334e-16j,  8.52946286e-01-5.21998691e-01j,\n",
       "         5.24540647e-17-1.11076743e-16j,  1.27018074e-16-2.48965340e-16j],\n",
       "       [ 7.50562494e-17+3.21357216e-17j,  1.10250307e-16-3.85331257e-17j,\n",
       "         4.87917045e-01+8.72890003e-01j, -1.35698975e-16+2.65646028e-16j],\n",
       "       [-3.72457982e-16+5.65691863e-18j,  1.35688700e-16-2.50062034e-16j,\n",
       "        -1.45648966e-16+2.46822875e-16j, -4.81388501e-01+8.76507336e-01j]])"
      ]
     },
     "execution_count": 47,
     "metadata": {},
     "output_type": "execute_result"
    }
   ],
   "source": [
    "np.matmul(l_matrix, np.matmul(u_u_T, l_matrix.transpose()))"
   ]
  },
  {
   "cell_type": "code",
   "execution_count": null,
   "id": "09978e3c",
   "metadata": {},
   "outputs": [],
   "source": []
  },
  {
   "cell_type": "markdown",
   "id": "e17923d6",
   "metadata": {},
   "source": [
    "#### AB\n",
    "$$ A \\otimes B = \\Lambda ( v^\\dagger k^T l u ) \\Lambda^\\dagger $$"
   ]
  },
  {
   "cell_type": "code",
   "execution_count": 48,
   "id": "efeef057",
   "metadata": {},
   "outputs": [
    {
     "data": {
      "text/plain": [
       "array([[-0.31537042-0.19032003j, -0.3470467 -0.29366903j,\n",
       "         0.32997065+0.38954351j,  0.32583287+0.53930051j],\n",
       "       [-0.3395175 -0.38125142j, -0.33909012-0.53106496j,\n",
       "        -0.14429941-0.33890692j, -0.10948869-0.44124272j],\n",
       "       [ 0.10948869-0.44124272j, -0.14429941+0.33890692j,\n",
       "        -0.33909012+0.53106496j,  0.3395175 -0.38125142j],\n",
       "       [ 0.32583287-0.53930051j, -0.32997065+0.38954351j,\n",
       "         0.3470467 -0.29366903j, -0.31537042+0.19032003j]])"
      ]
     },
     "execution_count": 48,
     "metadata": {},
     "output_type": "execute_result"
    }
   ],
   "source": [
    "a_tensor_b = matrix_out_magic_basis( np.matmul( v_magic_matrix.conjugate().transpose(),\n",
    "                                               np.matmul(k_matrix.transpose(), np.matmul(l_matrix, u_magic_matrix))) )\n",
    "a_tensor_b"
   ]
  },
  {
   "cell_type": "code",
   "execution_count": null,
   "id": "8f7a965a",
   "metadata": {},
   "outputs": [],
   "source": []
  },
  {
   "cell_type": "code",
   "execution_count": null,
   "id": "fea0908d",
   "metadata": {},
   "outputs": [],
   "source": []
  },
  {
   "cell_type": "markdown",
   "id": "7c3e88c5",
   "metadata": {},
   "source": [
    "### Solving for single parts"
   ]
  },
  {
   "cell_type": "code",
   "execution_count": 52,
   "id": "db99fbe9",
   "metadata": {},
   "outputs": [],
   "source": [
    "zero_state = np.array([[1],[0]])\n",
    "one_state = np.array([[0],[1]])\n",
    "def partial_trace_on_left(one_tensor_two):\n",
    "    states_id_mat = [np.kron(state, np.eye(2)) for state in [zero_state, one_state]]\n",
    "    tr_one_tensor_two =  np.zeros((2,2))\n",
    "    for vec_id in states_id_mat:\n",
    "        tr_one_tensor_two = tr_one_tensor_two +  np.matmul(vec_id.conj().transpose(), np.matmul(one_tensor_two, vec_id))\n",
    "    return tr_one_tensor_two\n",
    "\n",
    "def partial_trace_on_right(one_tensor_two):\n",
    "    states_id_mat = [np.kron(np.eye(2), state) for state in [zero_state, one_state]]\n",
    "    tr_one_tensor_two =  np.zeros((2,2))\n",
    "    for vec_id in states_id_mat:\n",
    "        tr_one_tensor_two = tr_one_tensor_two + np.matmul(vec_id.conj().transpose(), np.matmul(one_tensor_two, vec_id))\n",
    "    return tr_one_tensor_two"
   ]
  },
  {
   "cell_type": "code",
   "execution_count": 53,
   "id": "4d7b5cac",
   "metadata": {},
   "outputs": [],
   "source": [
    "a = strip_global_phase( strip_global_factor(partial_trace_on_right(a_tensor_b)) )\n",
    "b = strip_global_phase( strip_global_factor(partial_trace_on_left(a_tensor_b)) )"
   ]
  },
  {
   "cell_type": "code",
   "execution_count": 54,
   "id": "423a8686",
   "metadata": {},
   "outputs": [
    {
     "data": {
      "text/plain": [
       "(1.0, 1.0)"
      ]
     },
     "execution_count": 54,
     "metadata": {},
     "output_type": "execute_result"
    }
   ],
   "source": [
    "abs(np.linalg.det(a)), abs(np.linalg.det(b))"
   ]
  },
  {
   "cell_type": "code",
   "execution_count": 55,
   "id": "31d83276",
   "metadata": {},
   "outputs": [
    {
     "data": {
      "text/plain": [
       "array([[ 1.00000000e+00-1.56903945e-17j, -2.77555756e-17+0.00000000e+00j],\n",
       "       [-2.77555756e-17-2.77555756e-17j,  1.00000000e+00+1.80160274e-17j]])"
      ]
     },
     "execution_count": 55,
     "metadata": {},
     "output_type": "execute_result"
    }
   ],
   "source": [
    "np.matmul(a, a.conj().transpose())"
   ]
  },
  {
   "cell_type": "code",
   "execution_count": 56,
   "id": "2a9dba6a",
   "metadata": {},
   "outputs": [
    {
     "data": {
      "text/plain": [
       "array([[ 1.00000000e+00+7.69882651e-18j, -5.27355937e-16+1.66533454e-16j],\n",
       "       [-5.27355937e-16-1.66533454e-16j,  1.00000000e+00+4.33650073e-18j]])"
      ]
     },
     "execution_count": 56,
     "metadata": {},
     "output_type": "execute_result"
    }
   ],
   "source": [
    "np.matmul(b, b.conj().transpose())"
   ]
  },
  {
   "cell_type": "markdown",
   "id": "ebd5af58",
   "metadata": {},
   "source": [
    "#### CD\n",
    "$$ C \\otimes D = \\Lambda ( l^T k ) \\Lambda^\\dagger $$"
   ]
  },
  {
   "cell_type": "code",
   "execution_count": 59,
   "id": "4000481a",
   "metadata": {},
   "outputs": [
    {
     "data": {
      "text/plain": [
       "array([[ 0.64108057-0.44681471j, -0.23326932-0.29099978j,\n",
       "         0.4434575 +0.08478603j,  0.02619822-0.21388616j],\n",
       "       [ 0.29693838-0.22566136j,  0.51342466+0.58908642j,\n",
       "         0.21313665+0.03172393j, -0.03640685+0.45001974j],\n",
       "       [ 0.03640685+0.45001974j,  0.21313665-0.03172393j,\n",
       "         0.51342466-0.58908642j, -0.29693838-0.22566136j],\n",
       "       [ 0.02619822+0.21388616j, -0.4434575 +0.08478603j,\n",
       "         0.23326932-0.29099978j,  0.64108057+0.44681471j]])"
      ]
     },
     "execution_count": 59,
     "metadata": {},
     "output_type": "execute_result"
    }
   ],
   "source": [
    "c_tensor_d = matrix_out_magic_basis( np.matmul(l_matrix.transpose(), k_matrix) )\n",
    "c_tensor_d"
   ]
  },
  {
   "cell_type": "code",
   "execution_count": 62,
   "id": "f25cb6af",
   "metadata": {},
   "outputs": [
    {
     "data": {
      "text/plain": [
       "array([[ 0.85936494+0.10590105j,  0.30299131+0.39808683j],\n",
       "       [-0.30299131+0.39808683j,  0.85936494-0.10590105j]])"
      ]
     },
     "execution_count": 62,
     "metadata": {},
     "output_type": "execute_result"
    }
   ],
   "source": [
    "c = strip_global_phase( strip_global_factor(partial_trace_on_right(c_tensor_d)))\n",
    "d = strip_global_phase( strip_global_factor(partial_trace_on_left(c_tensor_d)))\n",
    "c"
   ]
  },
  {
   "cell_type": "code",
   "execution_count": 63,
   "id": "237c4d90",
   "metadata": {},
   "outputs": [
    {
     "data": {
      "text/plain": [
       "(1.0, 1.0000000000000002)"
      ]
     },
     "execution_count": 63,
     "metadata": {},
     "output_type": "execute_result"
    }
   ],
   "source": [
    "abs(np.linalg.det(c)), abs(np.linalg.det(d))"
   ]
  },
  {
   "cell_type": "code",
   "execution_count": 65,
   "id": "2954305c",
   "metadata": {},
   "outputs": [
    {
     "data": {
      "text/plain": [
       "(array([[ 1.0000000e+00+1.50516946e-19j, -4.4408921e-16-3.46944695e-17j],\n",
       "        [-4.4408921e-16+4.51028104e-17j,  1.0000000e+00+1.09647625e-17j]]),\n",
       " array([[1.00000000e+00+1.53441836e-18j, 8.32667268e-17+3.88578059e-16j],\n",
       "        [8.32667268e-17-3.88578059e-16j, 1.00000000e+00+9.90172102e-18j]]))"
      ]
     },
     "execution_count": 65,
     "metadata": {},
     "output_type": "execute_result"
    }
   ],
   "source": [
    "np.matmul(d, d.conj().transpose()), np.matmul(c, c.conj().transpose())"
   ]
  },
  {
   "cell_type": "code",
   "execution_count": null,
   "id": "990827a2",
   "metadata": {},
   "outputs": [],
   "source": []
  },
  {
   "cell_type": "markdown",
   "id": "84c73752",
   "metadata": {},
   "source": [
    "#### Construct U\n",
    "$$ U = (A \\otimes B) V (C \\otimes D) $$"
   ]
  },
  {
   "cell_type": "code",
   "execution_count": 66,
   "id": "b39a3f44",
   "metadata": {},
   "outputs": [
    {
     "data": {
      "text/plain": [
       "array([[-0.50519748-0.52026263j,  0.02560099+0.09181684j,\n",
       "         0.35535762-0.44126975j, -0.26269699+0.2738774j ],\n",
       "       [ 0.20689396-0.32916909j, -0.43999678+0.00206612j,\n",
       "        -0.06142238-0.4260829j ,  0.66304511-0.17404886j],\n",
       "       [-0.18327498-0.08081969j, -0.65850948-0.55101128j,\n",
       "        -0.28879047+0.14601009j, -0.34135959+0.03721622j],\n",
       "       [ 0.32061157+0.4243013j , -0.20910636+0.12782485j,\n",
       "         0.12611434-0.61078549j, -0.46771457-0.22224156j]])"
      ]
     },
     "execution_count": 66,
     "metadata": {},
     "output_type": "execute_result"
    }
   ],
   "source": [
    "u_constructed = np.matmul(c_tensor_d, np.matmul(v_matrix, a_tensor_b))\n",
    "u_constructed"
   ]
  },
  {
   "cell_type": "code",
   "execution_count": 67,
   "id": "c0780ab7",
   "metadata": {},
   "outputs": [],
   "source": [
    "u_constructed /= ( np.linalg.det(u_constructed) )**(1/4)"
   ]
  },
  {
   "cell_type": "code",
   "execution_count": 68,
   "id": "2c5f0ebf",
   "metadata": {},
   "outputs": [
    {
     "data": {
      "text/plain": [
       "array([[-0.50519748-0.52026263j,  0.02560099+0.09181684j,\n",
       "         0.35535762-0.44126975j, -0.26269699+0.2738774j ],\n",
       "       [ 0.20689396-0.32916909j, -0.43999678+0.00206612j,\n",
       "        -0.06142238-0.4260829j ,  0.66304511-0.17404886j],\n",
       "       [-0.18327498-0.08081969j, -0.65850948-0.55101128j,\n",
       "        -0.28879047+0.14601009j, -0.34135959+0.03721622j],\n",
       "       [ 0.32061157+0.4243013j , -0.20910636+0.12782485j,\n",
       "         0.12611434-0.61078549j, -0.46771457-0.22224156j]])"
      ]
     },
     "execution_count": 68,
     "metadata": {},
     "output_type": "execute_result"
    }
   ],
   "source": [
    "u_constructed"
   ]
  },
  {
   "cell_type": "code",
   "execution_count": 69,
   "id": "7e20e0b5",
   "metadata": {},
   "outputs": [
    {
     "data": {
      "text/plain": [
       "array([[-0.50519748-0.52026263j,  0.02560099+0.09181684j,\n",
       "         0.35535762-0.44126975j, -0.26269699+0.2738774j ],\n",
       "       [ 0.20689396-0.32916909j, -0.43999678+0.00206612j,\n",
       "        -0.06142238-0.4260829j ,  0.66304511-0.17404886j],\n",
       "       [-0.18327498-0.08081969j, -0.65850948-0.55101128j,\n",
       "        -0.28879047+0.14601009j, -0.34135959+0.03721622j],\n",
       "       [ 0.32061157+0.4243013j , -0.20910636+0.12782485j,\n",
       "         0.12611434-0.61078549j, -0.46771457-0.22224156j]])"
      ]
     },
     "execution_count": 69,
     "metadata": {},
     "output_type": "execute_result"
    }
   ],
   "source": [
    "u_matrix /= ( np.linalg.det(u_matrix) )**(1/4)\n",
    "u_matrix"
   ]
  },
  {
   "cell_type": "markdown",
   "id": "8da49291",
   "metadata": {},
   "source": [
    "#### Check Check\n",
    "Given U and constructed U are allowed to be different by a phase factor. So we should have their dot to be an identity with a global phase shift.\n",
    "$$ U_g U^{\\dagger}_c  = e^{i\\phi I}$$"
   ]
  },
  {
   "cell_type": "code",
   "execution_count": 70,
   "id": "58f2c0b2",
   "metadata": {},
   "outputs": [
    {
     "data": {
      "text/plain": [
       "array([[ 1.00000000e+00-7.63278329e-17j,  1.66533454e-16+2.15105711e-16j,\n",
       "         8.32667268e-17-3.74700271e-16j,  7.78402950e-16-4.44089210e-16j],\n",
       "       [ 1.66533454e-16-6.10622664e-16j,  1.00000000e+00+2.77555756e-17j,\n",
       "         4.71844785e-16-5.82867088e-16j, -2.77555756e-16+5.13478149e-16j],\n",
       "       [-8.32667268e-17+1.66533454e-16j,  2.35922393e-16+6.93889390e-16j,\n",
       "         1.00000000e+00+2.22044605e-16j, -3.05311332e-16-3.05311332e-16j],\n",
       "       [ 2.67364256e-16-2.22044605e-16j, -5.55111512e-17-3.33066907e-16j,\n",
       "        -3.88578059e-16+7.21644966e-16j,  1.00000000e+00-1.94289029e-16j]])"
      ]
     },
     "execution_count": 70,
     "metadata": {},
     "output_type": "execute_result"
    }
   ],
   "source": [
    "np.dot(u_matrix, u_constructed.conjugate().transpose())"
   ]
  },
  {
   "cell_type": "markdown",
   "id": "1443f681",
   "metadata": {},
   "source": [
    "## Solving for single rotation angles"
   ]
  },
  {
   "cell_type": "code",
   "execution_count": null,
   "id": "5a690148",
   "metadata": {},
   "outputs": [],
   "source": []
  },
  {
   "cell_type": "code",
   "execution_count": null,
   "id": "8cb735ea",
   "metadata": {},
   "outputs": [],
   "source": []
  },
  {
   "cell_type": "code",
   "execution_count": null,
   "id": "c9088ba3",
   "metadata": {},
   "outputs": [],
   "source": []
  },
  {
   "cell_type": "code",
   "execution_count": null,
   "id": "c86e97e6",
   "metadata": {},
   "outputs": [],
   "source": []
  },
  {
   "cell_type": "code",
   "execution_count": 100,
   "id": "c81f1984",
   "metadata": {},
   "outputs": [],
   "source": [
    "from scipy.optimize import fsolve, root"
   ]
  },
  {
   "cell_type": "code",
   "execution_count": 101,
   "id": "f027e807",
   "metadata": {},
   "outputs": [],
   "source": [
    "def multiply_matrices(*args):\n",
    "    result = np.eye(2)\n",
    "    for mat in args:\n",
    "        result = np.matmul(mat, result)\n",
    "    return result\n",
    "\n",
    "def rz(theta):\n",
    "    return np.array([[np.e**(1j*theta /2), 0 ],[0, np.e**(-1j*theta /2)]])\n",
    "def ry(theta):\n",
    "    return np.array([[np.cos(theta/2), np.sin(theta/2)],[- np.sin(theta/2), np.cos(theta/2)]])\n",
    "def rx(theta):\n",
    "    return np.array([[np.cos(theta/2), 1j*np.sin(theta/2)],[1j*np.sin(theta/2), np.cos(theta/2)]])\n",
    "\n",
    "def single_unitary(beta, gamma, delta):\n",
    "    return multiply_matrices(rz(beta), ry(gamma), rz(delta))"
   ]
  },
  {
   "cell_type": "code",
   "execution_count": null,
   "id": "40a8f136",
   "metadata": {},
   "outputs": [],
   "source": []
  },
  {
   "cell_type": "code",
   "execution_count": 108,
   "id": "05c58173",
   "metadata": {},
   "outputs": [],
   "source": [
    "def find_rot_angles(unitary):\n",
    "    def func(x):\n",
    "        return  single_unitary(x[0],x[1],x[2]).flatten() -  unitary.flatten()\n",
    "    result = root(func, [0,0,0], method='lm')\n",
    "    return result\n"
   ]
  },
  {
   "cell_type": "code",
   "execution_count": 109,
   "id": "33d01e78",
   "metadata": {},
   "outputs": [
    {
     "ename": "TypeError",
     "evalue": "Cannot cast array data from dtype('complex128') to dtype('float64') according to the rule 'safe'",
     "output_type": "error",
     "traceback": [
      "\u001b[1;31m---------------------------------------------------------------------------\u001b[0m",
      "\u001b[1;31mTypeError\u001b[0m                                 Traceback (most recent call last)",
      "\u001b[1;31mTypeError\u001b[0m: Cannot cast array data from dtype('complex128') to dtype('float64') according to the rule 'safe'"
     ]
    },
    {
     "ename": "error",
     "evalue": "Result from function call is not a proper array of floats.",
     "output_type": "error",
     "traceback": [
      "\u001b[1;31m---------------------------------------------------------------------------\u001b[0m",
      "\u001b[1;31merror\u001b[0m                                     Traceback (most recent call last)",
      "Input \u001b[1;32mIn [109]\u001b[0m, in \u001b[0;36m<cell line: 1>\u001b[1;34m()\u001b[0m\n\u001b[1;32m----> 1\u001b[0m \u001b[43mfind_rot_angles\u001b[49m\u001b[43m(\u001b[49m\u001b[43ma\u001b[49m\u001b[43m)\u001b[49m\n",
      "Input \u001b[1;32mIn [108]\u001b[0m, in \u001b[0;36mfind_rot_angles\u001b[1;34m(unitary)\u001b[0m\n\u001b[0;32m      2\u001b[0m \u001b[38;5;28;01mdef\u001b[39;00m \u001b[38;5;21mfunc\u001b[39m(x):\n\u001b[0;32m      3\u001b[0m     \u001b[38;5;28;01mreturn\u001b[39;00m  single_unitary(x[\u001b[38;5;241m0\u001b[39m],x[\u001b[38;5;241m1\u001b[39m],x[\u001b[38;5;241m2\u001b[39m])\u001b[38;5;241m.\u001b[39mflatten() \u001b[38;5;241m-\u001b[39m  unitary\u001b[38;5;241m.\u001b[39mflatten()\n\u001b[1;32m----> 4\u001b[0m result \u001b[38;5;241m=\u001b[39m \u001b[43mroot\u001b[49m\u001b[43m(\u001b[49m\u001b[43mfunc\u001b[49m\u001b[43m,\u001b[49m\u001b[43m \u001b[49m\u001b[43m[\u001b[49m\u001b[38;5;241;43m0\u001b[39;49m\u001b[43m,\u001b[49m\u001b[38;5;241;43m0\u001b[39;49m\u001b[43m,\u001b[49m\u001b[38;5;241;43m0\u001b[39;49m\u001b[43m]\u001b[49m\u001b[43m,\u001b[49m\u001b[43m \u001b[49m\u001b[43mmethod\u001b[49m\u001b[38;5;241;43m=\u001b[39;49m\u001b[38;5;124;43m'\u001b[39;49m\u001b[38;5;124;43mlm\u001b[39;49m\u001b[38;5;124;43m'\u001b[39;49m\u001b[43m)\u001b[49m\n\u001b[0;32m      5\u001b[0m \u001b[38;5;28;01mreturn\u001b[39;00m result\n",
      "File \u001b[1;32mC:\\ProgramData\\Anaconda3\\lib\\site-packages\\scipy\\optimize\\_root.py:189\u001b[0m, in \u001b[0;36mroot\u001b[1;34m(fun, x0, args, method, jac, tol, callback, options)\u001b[0m\n\u001b[0;32m    187\u001b[0m     sol \u001b[38;5;241m=\u001b[39m _root_hybr(fun, x0, args\u001b[38;5;241m=\u001b[39margs, jac\u001b[38;5;241m=\u001b[39mjac, \u001b[38;5;241m*\u001b[39m\u001b[38;5;241m*\u001b[39moptions)\n\u001b[0;32m    188\u001b[0m \u001b[38;5;28;01melif\u001b[39;00m meth \u001b[38;5;241m==\u001b[39m \u001b[38;5;124m'\u001b[39m\u001b[38;5;124mlm\u001b[39m\u001b[38;5;124m'\u001b[39m:\n\u001b[1;32m--> 189\u001b[0m     sol \u001b[38;5;241m=\u001b[39m _root_leastsq(fun, x0, args\u001b[38;5;241m=\u001b[39margs, jac\u001b[38;5;241m=\u001b[39mjac, \u001b[38;5;241m*\u001b[39m\u001b[38;5;241m*\u001b[39moptions)\n\u001b[0;32m    190\u001b[0m \u001b[38;5;28;01melif\u001b[39;00m meth \u001b[38;5;241m==\u001b[39m \u001b[38;5;124m'\u001b[39m\u001b[38;5;124mdf-sane\u001b[39m\u001b[38;5;124m'\u001b[39m:\n\u001b[0;32m    191\u001b[0m     _warn_jac_unused(jac, method)\n",
      "File \u001b[1;32mC:\\ProgramData\\Anaconda3\\lib\\site-packages\\scipy\\optimize\\_root.py:247\u001b[0m, in \u001b[0;36m_root_leastsq\u001b[1;34m(fun, x0, args, jac, col_deriv, xtol, ftol, gtol, maxiter, eps, factor, diag, **unknown_options)\u001b[0m\n\u001b[0;32m    216\u001b[0m \u001b[38;5;124;03m\"\"\"\u001b[39;00m\n\u001b[0;32m    217\u001b[0m \u001b[38;5;124;03mSolve for least squares with Levenberg-Marquardt\u001b[39;00m\n\u001b[0;32m    218\u001b[0m \n\u001b[1;32m   (...)\u001b[0m\n\u001b[0;32m    243\u001b[0m \u001b[38;5;124;03m    N positive entries that serve as a scale factors for the variables.\u001b[39;00m\n\u001b[0;32m    244\u001b[0m \u001b[38;5;124;03m\"\"\"\u001b[39;00m\n\u001b[0;32m    246\u001b[0m _check_unknown_options(unknown_options)\n\u001b[1;32m--> 247\u001b[0m x, cov_x, info, msg, ier \u001b[38;5;241m=\u001b[39m \u001b[43mleastsq\u001b[49m\u001b[43m(\u001b[49m\u001b[43mfun\u001b[49m\u001b[43m,\u001b[49m\u001b[43m \u001b[49m\u001b[43mx0\u001b[49m\u001b[43m,\u001b[49m\u001b[43m \u001b[49m\u001b[43margs\u001b[49m\u001b[38;5;241;43m=\u001b[39;49m\u001b[43margs\u001b[49m\u001b[43m,\u001b[49m\u001b[43m \u001b[49m\u001b[43mDfun\u001b[49m\u001b[38;5;241;43m=\u001b[39;49m\u001b[43mjac\u001b[49m\u001b[43m,\u001b[49m\n\u001b[0;32m    248\u001b[0m \u001b[43m                                   \u001b[49m\u001b[43mfull_output\u001b[49m\u001b[38;5;241;43m=\u001b[39;49m\u001b[38;5;28;43;01mTrue\u001b[39;49;00m\u001b[43m,\u001b[49m\n\u001b[0;32m    249\u001b[0m \u001b[43m                                   \u001b[49m\u001b[43mcol_deriv\u001b[49m\u001b[38;5;241;43m=\u001b[39;49m\u001b[43mcol_deriv\u001b[49m\u001b[43m,\u001b[49m\u001b[43m \u001b[49m\u001b[43mxtol\u001b[49m\u001b[38;5;241;43m=\u001b[39;49m\u001b[43mxtol\u001b[49m\u001b[43m,\u001b[49m\n\u001b[0;32m    250\u001b[0m \u001b[43m                                   \u001b[49m\u001b[43mftol\u001b[49m\u001b[38;5;241;43m=\u001b[39;49m\u001b[43mftol\u001b[49m\u001b[43m,\u001b[49m\u001b[43m \u001b[49m\u001b[43mgtol\u001b[49m\u001b[38;5;241;43m=\u001b[39;49m\u001b[43mgtol\u001b[49m\u001b[43m,\u001b[49m\n\u001b[0;32m    251\u001b[0m \u001b[43m                                   \u001b[49m\u001b[43mmaxfev\u001b[49m\u001b[38;5;241;43m=\u001b[39;49m\u001b[43mmaxiter\u001b[49m\u001b[43m,\u001b[49m\u001b[43m \u001b[49m\u001b[43mepsfcn\u001b[49m\u001b[38;5;241;43m=\u001b[39;49m\u001b[43meps\u001b[49m\u001b[43m,\u001b[49m\n\u001b[0;32m    252\u001b[0m \u001b[43m                                   \u001b[49m\u001b[43mfactor\u001b[49m\u001b[38;5;241;43m=\u001b[39;49m\u001b[43mfactor\u001b[49m\u001b[43m,\u001b[49m\u001b[43m \u001b[49m\u001b[43mdiag\u001b[49m\u001b[38;5;241;43m=\u001b[39;49m\u001b[43mdiag\u001b[49m\u001b[43m)\u001b[49m\n\u001b[0;32m    253\u001b[0m sol \u001b[38;5;241m=\u001b[39m OptimizeResult(x\u001b[38;5;241m=\u001b[39mx, message\u001b[38;5;241m=\u001b[39mmsg, status\u001b[38;5;241m=\u001b[39mier,\n\u001b[0;32m    254\u001b[0m                      success\u001b[38;5;241m=\u001b[39mier \u001b[38;5;129;01min\u001b[39;00m (\u001b[38;5;241m1\u001b[39m, \u001b[38;5;241m2\u001b[39m, \u001b[38;5;241m3\u001b[39m, \u001b[38;5;241m4\u001b[39m), cov_x\u001b[38;5;241m=\u001b[39mcov_x,\n\u001b[0;32m    255\u001b[0m                      fun\u001b[38;5;241m=\u001b[39minfo\u001b[38;5;241m.\u001b[39mpop(\u001b[38;5;124m'\u001b[39m\u001b[38;5;124mfvec\u001b[39m\u001b[38;5;124m'\u001b[39m))\n\u001b[0;32m    256\u001b[0m sol\u001b[38;5;241m.\u001b[39mupdate(info)\n",
      "File \u001b[1;32mC:\\ProgramData\\Anaconda3\\lib\\site-packages\\scipy\\optimize\\minpack.py:423\u001b[0m, in \u001b[0;36mleastsq\u001b[1;34m(func, x0, args, Dfun, full_output, col_deriv, ftol, xtol, gtol, maxfev, epsfcn, factor, diag)\u001b[0m\n\u001b[0;32m    421\u001b[0m     \u001b[38;5;28;01mif\u001b[39;00m maxfev \u001b[38;5;241m==\u001b[39m \u001b[38;5;241m0\u001b[39m:\n\u001b[0;32m    422\u001b[0m         maxfev \u001b[38;5;241m=\u001b[39m \u001b[38;5;241m200\u001b[39m\u001b[38;5;241m*\u001b[39m(n \u001b[38;5;241m+\u001b[39m \u001b[38;5;241m1\u001b[39m)\n\u001b[1;32m--> 423\u001b[0m     retval \u001b[38;5;241m=\u001b[39m \u001b[43m_minpack\u001b[49m\u001b[38;5;241;43m.\u001b[39;49m\u001b[43m_lmdif\u001b[49m\u001b[43m(\u001b[49m\u001b[43mfunc\u001b[49m\u001b[43m,\u001b[49m\u001b[43m \u001b[49m\u001b[43mx0\u001b[49m\u001b[43m,\u001b[49m\u001b[43m \u001b[49m\u001b[43margs\u001b[49m\u001b[43m,\u001b[49m\u001b[43m \u001b[49m\u001b[43mfull_output\u001b[49m\u001b[43m,\u001b[49m\u001b[43m \u001b[49m\u001b[43mftol\u001b[49m\u001b[43m,\u001b[49m\u001b[43m \u001b[49m\u001b[43mxtol\u001b[49m\u001b[43m,\u001b[49m\n\u001b[0;32m    424\u001b[0m \u001b[43m                             \u001b[49m\u001b[43mgtol\u001b[49m\u001b[43m,\u001b[49m\u001b[43m \u001b[49m\u001b[43mmaxfev\u001b[49m\u001b[43m,\u001b[49m\u001b[43m \u001b[49m\u001b[43mepsfcn\u001b[49m\u001b[43m,\u001b[49m\u001b[43m \u001b[49m\u001b[43mfactor\u001b[49m\u001b[43m,\u001b[49m\u001b[43m \u001b[49m\u001b[43mdiag\u001b[49m\u001b[43m)\u001b[49m\n\u001b[0;32m    425\u001b[0m \u001b[38;5;28;01melse\u001b[39;00m:\n\u001b[0;32m    426\u001b[0m     \u001b[38;5;28;01mif\u001b[39;00m col_deriv:\n",
      "\u001b[1;31merror\u001b[0m: Result from function call is not a proper array of floats."
     ]
    }
   ],
   "source": [
    "find_rot_angles(a)"
   ]
  },
  {
   "cell_type": "code",
   "execution_count": 90,
   "id": "2a21f236",
   "metadata": {},
   "outputs": [],
   "source": [
    "fsolve?"
   ]
  },
  {
   "cell_type": "code",
   "execution_count": 85,
   "id": "d252cc9c",
   "metadata": {},
   "outputs": [
    {
     "data": {
      "text/plain": [
       "array([1.+0.j, 0.+0.j])"
      ]
     },
     "execution_count": 85,
     "metadata": {},
     "output_type": "execute_result"
    }
   ],
   "source": [
    "single_unitary(0,0,0)[0]"
   ]
  },
  {
   "cell_type": "code",
   "execution_count": null,
   "id": "ab039ca8",
   "metadata": {},
   "outputs": [],
   "source": []
  }
 ],
 "metadata": {
  "kernelspec": {
   "display_name": "Python 3 (ipykernel)",
   "language": "python",
   "name": "python3"
  },
  "language_info": {
   "codemirror_mode": {
    "name": "ipython",
    "version": 3
   },
   "file_extension": ".py",
   "mimetype": "text/x-python",
   "name": "python",
   "nbconvert_exporter": "python",
   "pygments_lexer": "ipython3",
   "version": "3.9.12"
  }
 },
 "nbformat": 4,
 "nbformat_minor": 5
}
