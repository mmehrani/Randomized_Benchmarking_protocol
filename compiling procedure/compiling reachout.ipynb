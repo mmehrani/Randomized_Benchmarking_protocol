{
 "cells": [
  {
   "cell_type": "code",
   "execution_count": 1,
   "id": "b86ad0dc",
   "metadata": {},
   "outputs": [],
   "source": [
    "from pyquil.quil import *\n",
    "from pyquil.api import get_qc\n",
    "from pyquil.gates import *\n",
    "from pyquil.latex import display, to_latex\n",
    "from pyquil.simulation.tools import lifted_gate, program_unitary, lifted_gate_matrix"
   ]
  },
  {
   "cell_type": "code",
   "execution_count": 2,
   "id": "cb0ce7c0",
   "metadata": {},
   "outputs": [],
   "source": [
    "from functions import *"
   ]
  },
  {
   "cell_type": "code",
   "execution_count": 3,
   "id": "adf63062",
   "metadata": {},
   "outputs": [],
   "source": [
    "import numpy as np\n",
    "import matplotlib.pyplot as plt"
   ]
  },
  {
   "cell_type": "code",
   "execution_count": 4,
   "id": "a18e2976",
   "metadata": {},
   "outputs": [
    {
     "ename": "UnknownApiError",
     "evalue": "Unable to round-trip http request to upstream: dial tcp 127.0.0.1:5000: connectex: No connection could be made because the target machine actively refused it.\n\nThe server has failed to return a proper response. Please describe the problem\nand copy the above message into a GitHub issue at:\n    https://github.com/rigetti/pyquil/issues",
     "output_type": "error",
     "traceback": [
      "\u001b[1;31m---------------------------------------------------------------------------\u001b[0m",
      "\u001b[1;31mJSONDecodeError\u001b[0m                           Traceback (most recent call last)",
      "File \u001b[1;32mC:\\ProgramData\\Anaconda3\\lib\\site-packages\\pyquil\\api\\_qvm_client.py:280\u001b[0m, in \u001b[0;36mQVMClient._parse_error\u001b[1;34m(res)\u001b[0m\n\u001b[0;32m    279\u001b[0m \u001b[38;5;28;01mtry\u001b[39;00m:\n\u001b[1;32m--> 280\u001b[0m     body \u001b[38;5;241m=\u001b[39m \u001b[43mres\u001b[49m\u001b[38;5;241;43m.\u001b[39;49m\u001b[43mjson\u001b[49m\u001b[43m(\u001b[49m\u001b[43m)\u001b[49m\n\u001b[0;32m    281\u001b[0m \u001b[38;5;28;01mexcept\u001b[39;00m JSONDecodeError:\n",
      "File \u001b[1;32mC:\\ProgramData\\Anaconda3\\lib\\site-packages\\httpx\\_models.py:742\u001b[0m, in \u001b[0;36mResponse.json\u001b[1;34m(self, **kwargs)\u001b[0m\n\u001b[0;32m    741\u001b[0m     \u001b[38;5;28;01mif\u001b[39;00m encoding \u001b[38;5;129;01mis\u001b[39;00m \u001b[38;5;129;01mnot\u001b[39;00m \u001b[38;5;28;01mNone\u001b[39;00m:\n\u001b[1;32m--> 742\u001b[0m         \u001b[38;5;28;01mreturn\u001b[39;00m jsonlib\u001b[38;5;241m.\u001b[39mloads(\u001b[38;5;28mself\u001b[39m\u001b[38;5;241m.\u001b[39mcontent\u001b[38;5;241m.\u001b[39mdecode(encoding), \u001b[38;5;241m*\u001b[39m\u001b[38;5;241m*\u001b[39mkwargs)\n\u001b[0;32m    743\u001b[0m \u001b[38;5;28;01mreturn\u001b[39;00m jsonlib\u001b[38;5;241m.\u001b[39mloads(\u001b[38;5;28mself\u001b[39m\u001b[38;5;241m.\u001b[39mtext, \u001b[38;5;241m*\u001b[39m\u001b[38;5;241m*\u001b[39mkwargs)\n",
      "File \u001b[1;32mC:\\ProgramData\\Anaconda3\\lib\\json\\__init__.py:346\u001b[0m, in \u001b[0;36mloads\u001b[1;34m(s, cls, object_hook, parse_float, parse_int, parse_constant, object_pairs_hook, **kw)\u001b[0m\n\u001b[0;32m    343\u001b[0m \u001b[38;5;28;01mif\u001b[39;00m (\u001b[38;5;28mcls\u001b[39m \u001b[38;5;129;01mis\u001b[39;00m \u001b[38;5;28;01mNone\u001b[39;00m \u001b[38;5;129;01mand\u001b[39;00m object_hook \u001b[38;5;129;01mis\u001b[39;00m \u001b[38;5;28;01mNone\u001b[39;00m \u001b[38;5;129;01mand\u001b[39;00m\n\u001b[0;32m    344\u001b[0m         parse_int \u001b[38;5;129;01mis\u001b[39;00m \u001b[38;5;28;01mNone\u001b[39;00m \u001b[38;5;129;01mand\u001b[39;00m parse_float \u001b[38;5;129;01mis\u001b[39;00m \u001b[38;5;28;01mNone\u001b[39;00m \u001b[38;5;129;01mand\u001b[39;00m\n\u001b[0;32m    345\u001b[0m         parse_constant \u001b[38;5;129;01mis\u001b[39;00m \u001b[38;5;28;01mNone\u001b[39;00m \u001b[38;5;129;01mand\u001b[39;00m object_pairs_hook \u001b[38;5;129;01mis\u001b[39;00m \u001b[38;5;28;01mNone\u001b[39;00m \u001b[38;5;129;01mand\u001b[39;00m \u001b[38;5;129;01mnot\u001b[39;00m kw):\n\u001b[1;32m--> 346\u001b[0m     \u001b[38;5;28;01mreturn\u001b[39;00m \u001b[43m_default_decoder\u001b[49m\u001b[38;5;241;43m.\u001b[39;49m\u001b[43mdecode\u001b[49m\u001b[43m(\u001b[49m\u001b[43ms\u001b[49m\u001b[43m)\u001b[49m\n\u001b[0;32m    347\u001b[0m \u001b[38;5;28;01mif\u001b[39;00m \u001b[38;5;28mcls\u001b[39m \u001b[38;5;129;01mis\u001b[39;00m \u001b[38;5;28;01mNone\u001b[39;00m:\n",
      "File \u001b[1;32mC:\\ProgramData\\Anaconda3\\lib\\json\\decoder.py:337\u001b[0m, in \u001b[0;36mJSONDecoder.decode\u001b[1;34m(self, s, _w)\u001b[0m\n\u001b[0;32m    333\u001b[0m \u001b[38;5;124;03m\"\"\"Return the Python representation of ``s`` (a ``str`` instance\u001b[39;00m\n\u001b[0;32m    334\u001b[0m \u001b[38;5;124;03mcontaining a JSON document).\u001b[39;00m\n\u001b[0;32m    335\u001b[0m \n\u001b[0;32m    336\u001b[0m \u001b[38;5;124;03m\"\"\"\u001b[39;00m\n\u001b[1;32m--> 337\u001b[0m obj, end \u001b[38;5;241m=\u001b[39m \u001b[38;5;28;43mself\u001b[39;49m\u001b[38;5;241;43m.\u001b[39;49m\u001b[43mraw_decode\u001b[49m\u001b[43m(\u001b[49m\u001b[43ms\u001b[49m\u001b[43m,\u001b[49m\u001b[43m \u001b[49m\u001b[43midx\u001b[49m\u001b[38;5;241;43m=\u001b[39;49m\u001b[43m_w\u001b[49m\u001b[43m(\u001b[49m\u001b[43ms\u001b[49m\u001b[43m,\u001b[49m\u001b[43m \u001b[49m\u001b[38;5;241;43m0\u001b[39;49m\u001b[43m)\u001b[49m\u001b[38;5;241;43m.\u001b[39;49m\u001b[43mend\u001b[49m\u001b[43m(\u001b[49m\u001b[43m)\u001b[49m\u001b[43m)\u001b[49m\n\u001b[0;32m    338\u001b[0m end \u001b[38;5;241m=\u001b[39m _w(s, end)\u001b[38;5;241m.\u001b[39mend()\n",
      "File \u001b[1;32mC:\\ProgramData\\Anaconda3\\lib\\json\\decoder.py:355\u001b[0m, in \u001b[0;36mJSONDecoder.raw_decode\u001b[1;34m(self, s, idx)\u001b[0m\n\u001b[0;32m    354\u001b[0m \u001b[38;5;28;01mexcept\u001b[39;00m \u001b[38;5;167;01mStopIteration\u001b[39;00m \u001b[38;5;28;01mas\u001b[39;00m err:\n\u001b[1;32m--> 355\u001b[0m     \u001b[38;5;28;01mraise\u001b[39;00m JSONDecodeError(\u001b[38;5;124m\"\u001b[39m\u001b[38;5;124mExpecting value\u001b[39m\u001b[38;5;124m\"\u001b[39m, s, err\u001b[38;5;241m.\u001b[39mvalue) \u001b[38;5;28;01mfrom\u001b[39;00m \u001b[38;5;28mNone\u001b[39m\n\u001b[0;32m    356\u001b[0m \u001b[38;5;28;01mreturn\u001b[39;00m obj, end\n",
      "\u001b[1;31mJSONDecodeError\u001b[0m: Expecting value: line 1 column 1 (char 0)",
      "\nDuring handling of the above exception, another exception occurred:\n",
      "\u001b[1;31mUnknownApiError\u001b[0m                           Traceback (most recent call last)",
      "Input \u001b[1;32mIn [4]\u001b[0m, in \u001b[0;36m<cell line: 1>\u001b[1;34m()\u001b[0m\n\u001b[1;32m----> 1\u001b[0m qc \u001b[38;5;241m=\u001b[39m \u001b[43mget_qc\u001b[49m\u001b[43m(\u001b[49m\u001b[38;5;124;43m\"\u001b[39;49m\u001b[38;5;124;43m9q-square-qvm\u001b[39;49m\u001b[38;5;124;43m\"\u001b[39;49m\u001b[43m)\u001b[49m\n",
      "File \u001b[1;32mC:\\ProgramData\\Anaconda3\\lib\\site-packages\\pyquil\\api\\_quantum_computer.py:836\u001b[0m, in \u001b[0;36mget_qc\u001b[1;34m(***failed resolving arguments***)\u001b[0m\n\u001b[0;32m    834\u001b[0m     \u001b[38;5;28;01mif\u001b[39;00m qvm_type \u001b[38;5;129;01mis\u001b[39;00m \u001b[38;5;28;01mNone\u001b[39;00m:\n\u001b[0;32m    835\u001b[0m         \u001b[38;5;28;01mraise\u001b[39;00m \u001b[38;5;167;01mValueError\u001b[39;00m(\u001b[38;5;124m\"\u001b[39m\u001b[38;5;124mThe quantum_processor \u001b[39m\u001b[38;5;124m'\u001b[39m\u001b[38;5;124m9q-square\u001b[39m\u001b[38;5;124m'\u001b[39m\u001b[38;5;124m is only available as a QVM\u001b[39m\u001b[38;5;124m\"\u001b[39m)\n\u001b[1;32m--> 836\u001b[0m     \u001b[38;5;28;01mreturn\u001b[39;00m \u001b[43m_get_9q_square_qvm\u001b[49m\u001b[43m(\u001b[49m\n\u001b[0;32m    837\u001b[0m \u001b[43m        \u001b[49m\u001b[43mclient_configuration\u001b[49m\u001b[38;5;241;43m=\u001b[39;49m\u001b[43mclient_configuration\u001b[49m\u001b[43m,\u001b[49m\n\u001b[0;32m    838\u001b[0m \u001b[43m        \u001b[49m\u001b[43mname\u001b[49m\u001b[38;5;241;43m=\u001b[39;49m\u001b[43mname\u001b[49m\u001b[43m,\u001b[49m\n\u001b[0;32m    839\u001b[0m \u001b[43m        \u001b[49m\u001b[43mnoisy\u001b[49m\u001b[38;5;241;43m=\u001b[39;49m\u001b[43mnoisy\u001b[49m\u001b[43m,\u001b[49m\n\u001b[0;32m    840\u001b[0m \u001b[43m        \u001b[49m\u001b[43mqvm_type\u001b[49m\u001b[38;5;241;43m=\u001b[39;49m\u001b[43mqvm_type\u001b[49m\u001b[43m,\u001b[49m\n\u001b[0;32m    841\u001b[0m \u001b[43m        \u001b[49m\u001b[43mcompiler_timeout\u001b[49m\u001b[38;5;241;43m=\u001b[39;49m\u001b[43mcompiler_timeout\u001b[49m\u001b[43m,\u001b[49m\n\u001b[0;32m    842\u001b[0m \u001b[43m        \u001b[49m\u001b[43mexecution_timeout\u001b[49m\u001b[38;5;241;43m=\u001b[39;49m\u001b[43mexecution_timeout\u001b[49m\u001b[43m,\u001b[49m\n\u001b[0;32m    843\u001b[0m \u001b[43m    \u001b[49m\u001b[43m)\u001b[49m\n\u001b[0;32m    845\u001b[0m \u001b[38;5;28;01mif\u001b[39;00m noisy:\n\u001b[0;32m    846\u001b[0m     \u001b[38;5;28;01mraise\u001b[39;00m \u001b[38;5;167;01mValueError\u001b[39;00m(\n\u001b[0;32m    847\u001b[0m         \u001b[38;5;124m\"\u001b[39m\u001b[38;5;124mpyQuil currently does not support initializing a noisy QuantumComputer \u001b[39m\u001b[38;5;124m\"\u001b[39m\n\u001b[0;32m    848\u001b[0m         \u001b[38;5;124m\"\u001b[39m\u001b[38;5;124mbased on a QCSQuantumProcessor. Change noisy to False or specify the name of a QVM.\u001b[39m\u001b[38;5;124m\"\u001b[39m\n\u001b[0;32m    849\u001b[0m     )\n",
      "File \u001b[1;32mC:\\ProgramData\\Anaconda3\\lib\\site-packages\\pyquil\\api\\_quantum_computer.py:633\u001b[0m, in \u001b[0;36m_get_9q_square_qvm\u001b[1;34m(client_configuration, name, noisy, qvm_type, compiler_timeout, execution_timeout)\u001b[0m\n\u001b[0;32m    618\u001b[0m \u001b[38;5;124;03m\"\"\"\u001b[39;00m\n\u001b[0;32m    619\u001b[0m \u001b[38;5;124;03mA nine-qubit 3x3 square lattice.\u001b[39;00m\n\u001b[0;32m    620\u001b[0m \n\u001b[1;32m   (...)\u001b[0m\n\u001b[0;32m    630\u001b[0m \u001b[38;5;124;03m:return: A pre-configured QuantumComputer\u001b[39;00m\n\u001b[0;32m    631\u001b[0m \u001b[38;5;124;03m\"\"\"\u001b[39;00m\n\u001b[0;32m    632\u001b[0m topology \u001b[38;5;241m=\u001b[39m nx\u001b[38;5;241m.\u001b[39mconvert_node_labels_to_integers(nx\u001b[38;5;241m.\u001b[39mgrid_2d_graph(\u001b[38;5;241m3\u001b[39m, \u001b[38;5;241m3\u001b[39m))\n\u001b[1;32m--> 633\u001b[0m \u001b[38;5;28;01mreturn\u001b[39;00m \u001b[43m_get_qvm_with_topology\u001b[49m\u001b[43m(\u001b[49m\n\u001b[0;32m    634\u001b[0m \u001b[43m    \u001b[49m\u001b[43mclient_configuration\u001b[49m\u001b[38;5;241;43m=\u001b[39;49m\u001b[43mclient_configuration\u001b[49m\u001b[43m,\u001b[49m\n\u001b[0;32m    635\u001b[0m \u001b[43m    \u001b[49m\u001b[43mname\u001b[49m\u001b[38;5;241;43m=\u001b[39;49m\u001b[43mname\u001b[49m\u001b[43m,\u001b[49m\n\u001b[0;32m    636\u001b[0m \u001b[43m    \u001b[49m\u001b[43mtopology\u001b[49m\u001b[38;5;241;43m=\u001b[39;49m\u001b[43mtopology\u001b[49m\u001b[43m,\u001b[49m\n\u001b[0;32m    637\u001b[0m \u001b[43m    \u001b[49m\u001b[43mnoisy\u001b[49m\u001b[38;5;241;43m=\u001b[39;49m\u001b[43mnoisy\u001b[49m\u001b[43m,\u001b[49m\n\u001b[0;32m    638\u001b[0m \u001b[43m    \u001b[49m\u001b[43mqvm_type\u001b[49m\u001b[38;5;241;43m=\u001b[39;49m\u001b[43mqvm_type\u001b[49m\u001b[43m,\u001b[49m\n\u001b[0;32m    639\u001b[0m \u001b[43m    \u001b[49m\u001b[43mcompiler_timeout\u001b[49m\u001b[38;5;241;43m=\u001b[39;49m\u001b[43mcompiler_timeout\u001b[49m\u001b[43m,\u001b[49m\n\u001b[0;32m    640\u001b[0m \u001b[43m    \u001b[49m\u001b[43mexecution_timeout\u001b[49m\u001b[38;5;241;43m=\u001b[39;49m\u001b[43mexecution_timeout\u001b[49m\u001b[43m,\u001b[49m\n\u001b[0;32m    641\u001b[0m \u001b[43m\u001b[49m\u001b[43m)\u001b[49m\n",
      "File \u001b[1;32mC:\\ProgramData\\Anaconda3\\lib\\site-packages\\pyquil\\api\\_quantum_computer.py:598\u001b[0m, in \u001b[0;36m_get_qvm_with_topology\u001b[1;34m(client_configuration, name, topology, noisy, qvm_type, compiler_timeout, execution_timeout)\u001b[0m\n\u001b[0;32m    596\u001b[0m \u001b[38;5;28;01melse\u001b[39;00m:\n\u001b[0;32m    597\u001b[0m     noise_model \u001b[38;5;241m=\u001b[39m \u001b[38;5;28;01mNone\u001b[39;00m\n\u001b[1;32m--> 598\u001b[0m \u001b[38;5;28;01mreturn\u001b[39;00m \u001b[43m_get_qvm_qc\u001b[49m\u001b[43m(\u001b[49m\n\u001b[0;32m    599\u001b[0m \u001b[43m    \u001b[49m\u001b[43mclient_configuration\u001b[49m\u001b[38;5;241;43m=\u001b[39;49m\u001b[43mclient_configuration\u001b[49m\u001b[43m,\u001b[49m\n\u001b[0;32m    600\u001b[0m \u001b[43m    \u001b[49m\u001b[43mname\u001b[49m\u001b[38;5;241;43m=\u001b[39;49m\u001b[43mname\u001b[49m\u001b[43m,\u001b[49m\n\u001b[0;32m    601\u001b[0m \u001b[43m    \u001b[49m\u001b[43mqvm_type\u001b[49m\u001b[38;5;241;43m=\u001b[39;49m\u001b[43mqvm_type\u001b[49m\u001b[43m,\u001b[49m\n\u001b[0;32m    602\u001b[0m \u001b[43m    \u001b[49m\u001b[43mquantum_processor\u001b[49m\u001b[38;5;241;43m=\u001b[39;49m\u001b[43mquantum_processor\u001b[49m\u001b[43m,\u001b[49m\n\u001b[0;32m    603\u001b[0m \u001b[43m    \u001b[49m\u001b[43mnoise_model\u001b[49m\u001b[38;5;241;43m=\u001b[39;49m\u001b[43mnoise_model\u001b[49m\u001b[43m,\u001b[49m\n\u001b[0;32m    604\u001b[0m \u001b[43m    \u001b[49m\u001b[43mcompiler_timeout\u001b[49m\u001b[38;5;241;43m=\u001b[39;49m\u001b[43mcompiler_timeout\u001b[49m\u001b[43m,\u001b[49m\n\u001b[0;32m    605\u001b[0m \u001b[43m    \u001b[49m\u001b[43mexecution_timeout\u001b[49m\u001b[38;5;241;43m=\u001b[39;49m\u001b[43mexecution_timeout\u001b[49m\u001b[43m,\u001b[49m\n\u001b[0;32m    606\u001b[0m \u001b[43m\u001b[49m\u001b[43m)\u001b[49m\n",
      "File \u001b[1;32mC:\\ProgramData\\Anaconda3\\lib\\site-packages\\pyquil\\api\\_quantum_computer.py:551\u001b[0m, in \u001b[0;36m_get_qvm_qc\u001b[1;34m(client_configuration, name, qvm_type, quantum_processor, compiler_timeout, execution_timeout, noise_model)\u001b[0m\n\u001b[0;32m    525\u001b[0m \u001b[38;5;28;01mdef\u001b[39;00m \u001b[38;5;21m_get_qvm_qc\u001b[39m(\n\u001b[0;32m    526\u001b[0m     \u001b[38;5;241m*\u001b[39m,\n\u001b[0;32m    527\u001b[0m     client_configuration: QCSClientConfiguration,\n\u001b[1;32m   (...)\u001b[0m\n\u001b[0;32m    533\u001b[0m     noise_model: Optional[NoiseModel],\n\u001b[0;32m    534\u001b[0m ) \u001b[38;5;241m-\u001b[39m\u001b[38;5;241m>\u001b[39m QuantumComputer:\n\u001b[0;32m    535\u001b[0m     \u001b[38;5;124;03m\"\"\"Construct a QuantumComputer backed by a QVM.\u001b[39;00m\n\u001b[0;32m    536\u001b[0m \n\u001b[0;32m    537\u001b[0m \u001b[38;5;124;03m    This is a minimal wrapper over the QuantumComputer, QVM, and QVMCompiler constructors.\u001b[39;00m\n\u001b[1;32m   (...)\u001b[0m\n\u001b[0;32m    546\u001b[0m \u001b[38;5;124;03m    :return: A QuantumComputer backed by a QVM with the above options.\u001b[39;00m\n\u001b[0;32m    547\u001b[0m \u001b[38;5;124;03m    \"\"\"\u001b[39;00m\n\u001b[0;32m    549\u001b[0m     \u001b[38;5;28;01mreturn\u001b[39;00m QuantumComputer(\n\u001b[0;32m    550\u001b[0m         name\u001b[38;5;241m=\u001b[39mname,\n\u001b[1;32m--> 551\u001b[0m         qam\u001b[38;5;241m=\u001b[39m\u001b[43m_get_qvm_or_pyqvm\u001b[49m\u001b[43m(\u001b[49m\n\u001b[0;32m    552\u001b[0m \u001b[43m            \u001b[49m\u001b[43mclient_configuration\u001b[49m\u001b[38;5;241;43m=\u001b[39;49m\u001b[43mclient_configuration\u001b[49m\u001b[43m,\u001b[49m\n\u001b[0;32m    553\u001b[0m \u001b[43m            \u001b[49m\u001b[43mqvm_type\u001b[49m\u001b[38;5;241;43m=\u001b[39;49m\u001b[43mqvm_type\u001b[49m\u001b[43m,\u001b[49m\n\u001b[0;32m    554\u001b[0m \u001b[43m            \u001b[49m\u001b[43mnoise_model\u001b[49m\u001b[38;5;241;43m=\u001b[39;49m\u001b[43mnoise_model\u001b[49m\u001b[43m,\u001b[49m\n\u001b[0;32m    555\u001b[0m \u001b[43m            \u001b[49m\u001b[43mquantum_processor\u001b[49m\u001b[38;5;241;43m=\u001b[39;49m\u001b[43mquantum_processor\u001b[49m\u001b[43m,\u001b[49m\n\u001b[0;32m    556\u001b[0m \u001b[43m            \u001b[49m\u001b[43mexecution_timeout\u001b[49m\u001b[38;5;241;43m=\u001b[39;49m\u001b[43mexecution_timeout\u001b[49m\u001b[43m,\u001b[49m\n\u001b[0;32m    557\u001b[0m \u001b[43m        \u001b[49m\u001b[43m)\u001b[49m,\n\u001b[0;32m    558\u001b[0m         compiler\u001b[38;5;241m=\u001b[39mQVMCompiler(\n\u001b[0;32m    559\u001b[0m             quantum_processor\u001b[38;5;241m=\u001b[39mquantum_processor,\n\u001b[0;32m    560\u001b[0m             timeout\u001b[38;5;241m=\u001b[39mcompiler_timeout,\n\u001b[0;32m    561\u001b[0m             client_configuration\u001b[38;5;241m=\u001b[39mclient_configuration,\n\u001b[0;32m    562\u001b[0m         ),\n\u001b[0;32m    563\u001b[0m     )\n",
      "File \u001b[1;32mC:\\ProgramData\\Anaconda3\\lib\\site-packages\\pyquil\\api\\_quantum_computer.py:517\u001b[0m, in \u001b[0;36m_get_qvm_or_pyqvm\u001b[1;34m(client_configuration, qvm_type, noise_model, quantum_processor, execution_timeout)\u001b[0m\n\u001b[0;32m    508\u001b[0m \u001b[38;5;28;01mdef\u001b[39;00m \u001b[38;5;21m_get_qvm_or_pyqvm\u001b[39m(\n\u001b[0;32m    509\u001b[0m     \u001b[38;5;241m*\u001b[39m,\n\u001b[0;32m    510\u001b[0m     client_configuration: QCSClientConfiguration,\n\u001b[1;32m   (...)\u001b[0m\n\u001b[0;32m    514\u001b[0m     execution_timeout: \u001b[38;5;28mfloat\u001b[39m,\n\u001b[0;32m    515\u001b[0m ) \u001b[38;5;241m-\u001b[39m\u001b[38;5;241m>\u001b[39m Union[QVM, PyQVM]:\n\u001b[0;32m    516\u001b[0m     \u001b[38;5;28;01mif\u001b[39;00m qvm_type \u001b[38;5;241m==\u001b[39m \u001b[38;5;124m\"\u001b[39m\u001b[38;5;124mqvm\u001b[39m\u001b[38;5;124m\"\u001b[39m:\n\u001b[1;32m--> 517\u001b[0m         \u001b[38;5;28;01mreturn\u001b[39;00m \u001b[43mQVM\u001b[49m\u001b[43m(\u001b[49m\u001b[43mnoise_model\u001b[49m\u001b[38;5;241;43m=\u001b[39;49m\u001b[43mnoise_model\u001b[49m\u001b[43m,\u001b[49m\u001b[43m \u001b[49m\u001b[43mtimeout\u001b[49m\u001b[38;5;241;43m=\u001b[39;49m\u001b[43mexecution_timeout\u001b[49m\u001b[43m,\u001b[49m\u001b[43m \u001b[49m\u001b[43mclient_configuration\u001b[49m\u001b[38;5;241;43m=\u001b[39;49m\u001b[43mclient_configuration\u001b[49m\u001b[43m)\u001b[49m\n\u001b[0;32m    518\u001b[0m     \u001b[38;5;28;01melif\u001b[39;00m qvm_type \u001b[38;5;241m==\u001b[39m \u001b[38;5;124m\"\u001b[39m\u001b[38;5;124mpyqvm\u001b[39m\u001b[38;5;124m\"\u001b[39m:\n\u001b[0;32m    519\u001b[0m         \u001b[38;5;28;01massert\u001b[39;00m quantum_processor \u001b[38;5;129;01mis\u001b[39;00m \u001b[38;5;129;01mnot\u001b[39;00m \u001b[38;5;28;01mNone\u001b[39;00m\n",
      "File \u001b[1;32mC:\\ProgramData\\Anaconda3\\lib\\site-packages\\pyquil\\api\\_qvm.py:116\u001b[0m, in \u001b[0;36mQVM.__init__\u001b[1;34m(self, noise_model, gate_noise, measurement_noise, random_seed, timeout, client_configuration)\u001b[0m\n\u001b[0;32m    114\u001b[0m client_configuration \u001b[38;5;241m=\u001b[39m client_configuration \u001b[38;5;129;01mor\u001b[39;00m QCSClientConfiguration\u001b[38;5;241m.\u001b[39mload()\n\u001b[0;32m    115\u001b[0m \u001b[38;5;28mself\u001b[39m\u001b[38;5;241m.\u001b[39m_qvm_client \u001b[38;5;241m=\u001b[39m QVMClient(client_configuration\u001b[38;5;241m=\u001b[39mclient_configuration, request_timeout\u001b[38;5;241m=\u001b[39mtimeout)\n\u001b[1;32m--> 116\u001b[0m \u001b[38;5;28;43mself\u001b[39;49m\u001b[38;5;241;43m.\u001b[39;49m\u001b[43mconnect\u001b[49m\u001b[43m(\u001b[49m\u001b[43m)\u001b[49m\n",
      "File \u001b[1;32mC:\\ProgramData\\Anaconda3\\lib\\site-packages\\pyquil\\api\\_qvm.py:120\u001b[0m, in \u001b[0;36mQVM.connect\u001b[1;34m(self)\u001b[0m\n\u001b[0;32m    118\u001b[0m \u001b[38;5;28;01mdef\u001b[39;00m \u001b[38;5;21mconnect\u001b[39m(\u001b[38;5;28mself\u001b[39m) \u001b[38;5;241m-\u001b[39m\u001b[38;5;241m>\u001b[39m \u001b[38;5;28;01mNone\u001b[39;00m:\n\u001b[0;32m    119\u001b[0m     \u001b[38;5;28;01mtry\u001b[39;00m:\n\u001b[1;32m--> 120\u001b[0m         version \u001b[38;5;241m=\u001b[39m \u001b[38;5;28;43mself\u001b[39;49m\u001b[38;5;241;43m.\u001b[39;49m\u001b[43mget_version_info\u001b[49m\u001b[43m(\u001b[49m\u001b[43m)\u001b[49m\n\u001b[0;32m    121\u001b[0m         check_qvm_version(version)\n\u001b[0;32m    122\u001b[0m     \u001b[38;5;28;01mexcept\u001b[39;00m \u001b[38;5;167;01mConnectionError\u001b[39;00m:\n",
      "File \u001b[1;32mC:\\ProgramData\\Anaconda3\\lib\\site-packages\\pyquil\\api\\_qvm.py:175\u001b[0m, in \u001b[0;36mQVM.get_version_info\u001b[1;34m(self)\u001b[0m\n\u001b[0;32m    169\u001b[0m \u001b[38;5;28;01mdef\u001b[39;00m \u001b[38;5;21mget_version_info\u001b[39m(\u001b[38;5;28mself\u001b[39m) \u001b[38;5;241m-\u001b[39m\u001b[38;5;241m>\u001b[39m \u001b[38;5;28mstr\u001b[39m:\n\u001b[0;32m    170\u001b[0m     \u001b[38;5;124;03m\"\"\"\u001b[39;00m\n\u001b[0;32m    171\u001b[0m \u001b[38;5;124;03m    Return version information for the QVM.\u001b[39;00m\n\u001b[0;32m    172\u001b[0m \n\u001b[0;32m    173\u001b[0m \u001b[38;5;124;03m    :return: String with version information\u001b[39;00m\n\u001b[0;32m    174\u001b[0m \u001b[38;5;124;03m    \"\"\"\u001b[39;00m\n\u001b[1;32m--> 175\u001b[0m     \u001b[38;5;28;01mreturn\u001b[39;00m \u001b[38;5;28;43mself\u001b[39;49m\u001b[38;5;241;43m.\u001b[39;49m\u001b[43m_qvm_client\u001b[49m\u001b[38;5;241;43m.\u001b[39;49m\u001b[43mget_version\u001b[49m\u001b[43m(\u001b[49m\u001b[43m)\u001b[49m\n",
      "File \u001b[1;32mC:\\ProgramData\\Anaconda3\\lib\\site-packages\\pyquil\\api\\_qvm_client.py:176\u001b[0m, in \u001b[0;36mQVMClient.get_version\u001b[1;34m(self)\u001b[0m\n\u001b[0;32m    172\u001b[0m \u001b[38;5;28;01mdef\u001b[39;00m \u001b[38;5;21mget_version\u001b[39m(\u001b[38;5;28mself\u001b[39m) \u001b[38;5;241m-\u001b[39m\u001b[38;5;241m>\u001b[39m \u001b[38;5;28mstr\u001b[39m:\n\u001b[0;32m    173\u001b[0m     \u001b[38;5;124;03m\"\"\"\u001b[39;00m\n\u001b[0;32m    174\u001b[0m \u001b[38;5;124;03m    Get version info for QVM server.\u001b[39;00m\n\u001b[0;32m    175\u001b[0m \u001b[38;5;124;03m    \"\"\"\u001b[39;00m\n\u001b[1;32m--> 176\u001b[0m     \u001b[38;5;28;01mreturn\u001b[39;00m \u001b[38;5;28;43mself\u001b[39;49m\u001b[38;5;241;43m.\u001b[39;49m\u001b[43m_post_json\u001b[49m\u001b[43m(\u001b[49m\u001b[43m{\u001b[49m\u001b[38;5;124;43m\"\u001b[39;49m\u001b[38;5;124;43mtype\u001b[39;49m\u001b[38;5;124;43m\"\u001b[39;49m\u001b[43m:\u001b[49m\u001b[43m \u001b[49m\u001b[38;5;124;43m\"\u001b[39;49m\u001b[38;5;124;43mversion\u001b[39;49m\u001b[38;5;124;43m\"\u001b[39;49m\u001b[43m}\u001b[49m\u001b[43m)\u001b[49m\u001b[38;5;241m.\u001b[39mtext\u001b[38;5;241m.\u001b[39msplit()[\u001b[38;5;241m0\u001b[39m]\n",
      "File \u001b[1;32mC:\\ProgramData\\Anaconda3\\lib\\site-packages\\pyquil\\api\\_qvm_client.py:261\u001b[0m, in \u001b[0;36mQVMClient._post_json\u001b[1;34m(self, json)\u001b[0m\n\u001b[0;32m    259\u001b[0m     response \u001b[38;5;241m=\u001b[39m http\u001b[38;5;241m.\u001b[39mpost(\u001b[38;5;124m\"\u001b[39m\u001b[38;5;124m/\u001b[39m\u001b[38;5;124m\"\u001b[39m, json\u001b[38;5;241m=\u001b[39mjson)\n\u001b[0;32m    260\u001b[0m     \u001b[38;5;28;01mif\u001b[39;00m response\u001b[38;5;241m.\u001b[39mstatus_code \u001b[38;5;241m>\u001b[39m\u001b[38;5;241m=\u001b[39m \u001b[38;5;241m400\u001b[39m:\n\u001b[1;32m--> 261\u001b[0m         \u001b[38;5;28;01mraise\u001b[39;00m \u001b[38;5;28;43mself\u001b[39;49m\u001b[38;5;241;43m.\u001b[39;49m\u001b[43m_parse_error\u001b[49m\u001b[43m(\u001b[49m\u001b[43mresponse\u001b[49m\u001b[43m)\u001b[49m\n\u001b[0;32m    262\u001b[0m \u001b[38;5;28;01mreturn\u001b[39;00m response\n",
      "File \u001b[1;32mC:\\ProgramData\\Anaconda3\\lib\\site-packages\\pyquil\\api\\_qvm_client.py:282\u001b[0m, in \u001b[0;36mQVMClient._parse_error\u001b[1;34m(res)\u001b[0m\n\u001b[0;32m    280\u001b[0m     body \u001b[38;5;241m=\u001b[39m res\u001b[38;5;241m.\u001b[39mjson()\n\u001b[0;32m    281\u001b[0m \u001b[38;5;28;01mexcept\u001b[39;00m JSONDecodeError:\n\u001b[1;32m--> 282\u001b[0m     \u001b[38;5;28;01mraise\u001b[39;00m UnknownApiError(res\u001b[38;5;241m.\u001b[39mtext)\n\u001b[0;32m    284\u001b[0m \u001b[38;5;28;01mif\u001b[39;00m \u001b[38;5;124m\"\u001b[39m\u001b[38;5;124merror_type\u001b[39m\u001b[38;5;124m\"\u001b[39m \u001b[38;5;129;01mnot\u001b[39;00m \u001b[38;5;129;01min\u001b[39;00m body:\n\u001b[0;32m    285\u001b[0m     \u001b[38;5;28;01mraise\u001b[39;00m UnknownApiError(\u001b[38;5;28mstr\u001b[39m(body))\n",
      "\u001b[1;31mUnknownApiError\u001b[0m: Unable to round-trip http request to upstream: dial tcp 127.0.0.1:5000: connectex: No connection could be made because the target machine actively refused it.\n\nThe server has failed to return a proper response. Please describe the problem\nand copy the above message into a GitHub issue at:\n    https://github.com/rigetti/pyquil/issues"
     ]
    }
   ],
   "source": [
    "qc = get_qc(\"9q-square-qvm\")"
   ]
  },
  {
   "cell_type": "markdown",
   "id": "693551ed",
   "metadata": {},
   "source": [
    "# Programmable recipe\n",
    "![alt text](rotation_definition.png \"Title\")\n",
    "$$R(\\theta, \\phi) = R_z(-\\frac{\\phi}{2})R_y(\\theta)R_z(\\frac{\\phi}{2})$$\n",
    "![alt text](programmble_decomposition.png \"Title\")"
   ]
  },
  {
   "cell_type": "code",
   "execution_count": null,
   "id": "fa760a36",
   "metadata": {},
   "outputs": [],
   "source": [
    "# program_unitary(G, n_qubits=2)"
   ]
  },
  {
   "cell_type": "markdown",
   "id": "3b7306fc",
   "metadata": {},
   "source": [
    "$$R(\\theta, \\phi) = R_z(-\\frac{\\phi}{2})R_y(\\theta)R_z(\\frac{\\phi}{2})\\\\\n",
    "U(2) = R(\\theta, \\phi) R_z(\\phi_z)\\\\\n",
    "or\\\\\n",
    "U(2) = R_z(\\theta) R_y(\\phi) R_z(\\psi)\n",
    "$$"
   ]
  },
  {
   "cell_type": "code",
   "execution_count": null,
   "id": "2835439b",
   "metadata": {},
   "outputs": [],
   "source": [
    "# %%writefile -a functions.py\n",
    "G = Program( CPHASE01(-np.pi/2, control=0, target=1), CPHASE10(-np.pi/2, control=0, target=1) )\n",
    "\n",
    "def arbitary_single_qubit_circuit(theta, phi, si, qubit):\n",
    "    return Program( RZ(si, qubit = qubit), RY(phi, qubit = qubit), RZ(theta, qubit = qubit) )\n",
    "\n",
    "def r_theta_phi_rotation(theta, phi, qubit):\n",
    "    return arbitary_single_qubit_circuit( - phi/2, theta, phi/2, qubit)\n",
    "\n",
    "def give_random_single_qubit_gate(qubit):\n",
    "    theta, si = np.random.uniform(0,2*np.pi, size = 2)\n",
    "    \n",
    "    phi_range = np.linspace(0,np.pi)\n",
    "    p_phi = np.sin(phi_range) / np.sum(np.sin(phi_range))\n",
    "    phi = np.random.choice(phi_range, p = p_phi)\n",
    "    return arbitary_single_qubit_circuit(theta, phi, si, qubit = qubit)\n",
    "\n",
    "def normalized_abs_angle_dist(angle_range):\n",
    "    dist = np.pi - np.abs( np.pi - angle_range )\n",
    "    dist /= np.sum(dist)\n",
    "    return dist\n",
    "\n",
    "def give_v_circuit(alpha, beta, delta, qubits = [0,1]):\n",
    "    prog = Program(G,  r_theta_phi_rotation(alpha, 0, qubit =qubits[0]),\n",
    "                   r_theta_phi_rotation(3*np.pi/2,0, qubit =qubits[1]), G)\n",
    "    prog += Program( r_theta_phi_rotation(beta, np.pi/2, qubit = qubits[0]), \n",
    "                    r_theta_phi_rotation(3*np.pi/2, delta, qubit = qubits[1]), G)\n",
    "    return prog\n",
    "\n",
    "def give_random_two_quibt_circuit(qubits):\n",
    "    a,b,c,d = [give_random_single_qubit_gate(qubit=qubit) for _ in range(2) for qubit in qubits]\n",
    "    \n",
    "    angles_range = np.linspace(0,2*np.pi)\n",
    "    alpha, beta, delta = np.random.choice(angles_range, p = normalized_abs_angle_dist(angles_range),\n",
    "                                          size = 3)\n",
    "    \n",
    "    prog = Program(a, b )\n",
    "    prog += give_v_circuit(alpha, beta, delta, qubits = [0,1])\n",
    "    prog += Program(c, d )\n",
    "    return prog"
   ]
  },
  {
   "cell_type": "code",
   "execution_count": null,
   "id": "244046f3",
   "metadata": {},
   "outputs": [],
   "source": [
    "program_unitary(give_random_two_quibt_circuit([0,1]), n_qubits=2)"
   ]
  },
  {
   "cell_type": "code",
   "execution_count": null,
   "id": "46c25714",
   "metadata": {},
   "outputs": [],
   "source": [
    "sample = give_random_two_quibt_circuit([0,1])\n",
    "# print( qc.compile( sample ) , len(sample), len(qc.compile( sample )))"
   ]
  },
  {
   "cell_type": "markdown",
   "id": "988a804c",
   "metadata": {},
   "source": [
    "# Visualization\n",
    "## single-qubit"
   ]
  },
  {
   "cell_type": "code",
   "execution_count": null,
   "id": "e0ec4680",
   "metadata": {},
   "outputs": [],
   "source": [
    "num_samples = 2021\n",
    "\n",
    "single_qubit_unitary_samples = [program_unitary(give_random_single_qubit_gate(qubit=0), n_qubits = 1) for _ in range(num_samples)]"
   ]
  },
  {
   "cell_type": "code",
   "execution_count": null,
   "id": "ef0e7929",
   "metadata": {},
   "outputs": [],
   "source": [
    "single_zero_state_density_matrix = np.array([[1,0],[0,0]]) #|0><0| state\n",
    "# What is U|0><0|U^T\n",
    "single_final_states = np.array( [np.dot( np.dot(u,single_zero_state_density_matrix), u.conj().T ) for u in single_qubit_unitary_samples] )"
   ]
  },
  {
   "cell_type": "code",
   "execution_count": null,
   "id": "c0670965",
   "metadata": {},
   "outputs": [],
   "source": [
    "# lets see where U|0><0|U^T is likely found\n",
    "single_qubit_bloch_vectors = np.array([convert_to_bloch_vector(s) for s in single_final_states])"
   ]
  },
  {
   "cell_type": "code",
   "execution_count": null,
   "id": "379f9eac",
   "metadata": {},
   "outputs": [],
   "source": [
    "plot_bloch_sphere(single_qubit_bloch_vectors)"
   ]
  },
  {
   "cell_type": "code",
   "execution_count": null,
   "id": "464ad046",
   "metadata": {},
   "outputs": [],
   "source": []
  },
  {
   "cell_type": "code",
   "execution_count": null,
   "id": "1eac8fea",
   "metadata": {},
   "outputs": [],
   "source": []
  },
  {
   "cell_type": "code",
   "execution_count": null,
   "id": "273f05a4",
   "metadata": {},
   "outputs": [],
   "source": []
  },
  {
   "cell_type": "code",
   "execution_count": null,
   "id": "0bb0baf3",
   "metadata": {},
   "outputs": [],
   "source": []
  },
  {
   "cell_type": "markdown",
   "id": "2cea2298",
   "metadata": {},
   "source": [
    "## Two qubits"
   ]
  },
  {
   "cell_type": "code",
   "execution_count": null,
   "id": "999862ae",
   "metadata": {},
   "outputs": [],
   "source": [
    "num_samples = 2021\n",
    "\n",
    "two_qubit_unitary_samples = [program_unitary(give_random_two_quibt_circuit([0,1]), n_qubits = 2) for _ in range(num_samples)]"
   ]
  },
  {
   "cell_type": "code",
   "execution_count": null,
   "id": "a212725f",
   "metadata": {},
   "outputs": [],
   "source": [
    "two_zero_state_density_matrix = np.kron( np.array([[1,0],[0,0]]) , np.array([[1,0],[0,0]]) )\n",
    "two_final_states = np.array( [np.dot( np.dot(u,two_zero_state_density_matrix), u.conj().T ) for u in two_qubit_unitary_samples] )"
   ]
  },
  {
   "cell_type": "code",
   "execution_count": null,
   "id": "92553aa6",
   "metadata": {},
   "outputs": [],
   "source": []
  },
  {
   "cell_type": "code",
   "execution_count": null,
   "id": "de529849",
   "metadata": {},
   "outputs": [],
   "source": [
    "X = np.array([[0, 1], [1, 0]])\n",
    "Y = np.array([[0, -1j], [1j, 0]])\n",
    "Z = np.array([[1, 0], [0, -1]])\n",
    "I = np.eye(2)\n",
    "\n",
    "two_qubit_unitary_basis = np.array([ [ np.kron(x,y) for x in [X,Y,Z] ] for y in [X,Y,Z] ])\n",
    "# two_qubit_unitary_basis[0]"
   ]
  },
  {
   "cell_type": "code",
   "execution_count": null,
   "id": "18f3480b",
   "metadata": {},
   "outputs": [],
   "source": [
    "# Used the mixed state simulator so we could have the density matrix for this part!\n",
    "def reduce_to_bloch_vector(rho, sigma_arr:np.array):\n",
    "    \"\"\"Reduce a density matrix to a Bloch vector.\"\"\"\n",
    "    ax = np.trace(np.dot(rho, sigma_arr[0])).real\n",
    "    ay = np.trace(np.dot(rho, sigma_arr[1])).real\n",
    "    az = np.trace(np.dot(rho, sigma_arr[2])).real\n",
    "    return [ax, ay, az]"
   ]
  },
  {
   "cell_type": "code",
   "execution_count": null,
   "id": "73c9cb41",
   "metadata": {
    "scrolled": true
   },
   "outputs": [],
   "source": [
    "two_qubit_bloch_vectors = np.array([reduce_to_bloch_vector(s,two_qubit_unitary_basis[2]) for s in two_final_states])\n",
    "plot_bloch_sphere(two_qubit_bloch_vectors)"
   ]
  },
  {
   "cell_type": "markdown",
   "id": "d922a2e5",
   "metadata": {},
   "source": [
    "### Verification of Haar distribution\n",
    "we need to find out whether the distribution of the points is really uniform over the total space. To do so we first compute the radial distance of points and plot their cumulative histogram. If it grows with the power of 3 then we can be sure that the density of points is uniform in the sphere."
   ]
  },
  {
   "cell_type": "code",
   "execution_count": null,
   "id": "03b2fbd4",
   "metadata": {},
   "outputs": [],
   "source": [
    "r_bloch_vectors = np.sqrt( two_qubit_bloch_vectors[:,0]**2 + two_qubit_bloch_vectors[:,1]**2 + two_qubit_bloch_vectors[:,2]**2)"
   ]
  },
  {
   "cell_type": "code",
   "execution_count": null,
   "id": "3a053e23",
   "metadata": {},
   "outputs": [],
   "source": [
    "n_bins = 10\n",
    "\n",
    "fig, ax = plt.subplots()\n",
    "\n",
    "bins = np.logspace(np.log10(0.1),np.log10(1),n_bins)\n",
    "# plot the cumulative histogram\n",
    "pop, bins, hist_ = ax.hist( r_bloch_vectors, bins, histtype='step',\n",
    "                           cumulative=True, density = True, label='Empirical')\n",
    "ax.set_yscale('log')\n",
    "ax.set_xscale('log')\n",
    "# ax.plot(np.linspace(0,1,10), np.linspace(0,1,10)**slope)\n",
    "ax.plot(bins, bins**3)\n",
    "plt.show()\n"
   ]
  },
  {
   "cell_type": "code",
   "execution_count": null,
   "id": "da603ee7",
   "metadata": {},
   "outputs": [],
   "source": [
    "non_zero_mask = pop != 0\n",
    "regression_pop = pop[non_zero_mask]\n",
    "regression_bins = np.array( bins[:-1] ) [non_zero_mask]\n",
    "exp, intercept = np.polyfit(np.log(regression_bins), np.log(regression_pop), deg = 1)\n",
    "exp, intercept"
   ]
  },
  {
   "cell_type": "code",
   "execution_count": null,
   "id": "2bf7eca9",
   "metadata": {},
   "outputs": [],
   "source": []
  },
  {
   "cell_type": "code",
   "execution_count": null,
   "id": "77091f18",
   "metadata": {},
   "outputs": [],
   "source": [
    "def exponent_of_dist(data):\n",
    "    n_bins = 100\n",
    "    bins = np.logspace(np.log10(0.1),np.log10(1),n_bins)\n",
    "    # plot the cumulative histogram\n",
    "    pop, bins, hist_ = plt.hist( data, bins, cumulative=True, density = True)\n",
    "    # extrapolate the exponent\n",
    "    non_zero_mask = pop != 0\n",
    "    regression_pop = pop[non_zero_mask]\n",
    "    regression_bins = np.array( bins[:-1] ) [non_zero_mask]\n",
    "    exp, intercept = np.polyfit(np.log(regression_bins), np.log(regression_pop), deg = 1)\n",
    "    plt.close()\n",
    "    return exp"
   ]
  },
  {
   "cell_type": "code",
   "execution_count": null,
   "id": "10843967",
   "metadata": {},
   "outputs": [],
   "source": [
    "exp_list = []\n",
    "for i in range(len(two_qubit_unitary_basis)):\n",
    "    two_qubit_bloch_vectors = np.array([reduce_to_bloch_vector(s,two_qubit_unitary_basis[i]) for s in two_final_states])\n",
    "    r_bloch_vectors = np.sqrt( two_qubit_bloch_vectors[:,0]**2 + two_qubit_bloch_vectors[:,1]**2 + two_qubit_bloch_vectors[:,2]**2)\n",
    "    exp_list.append(exponent_of_dist(r_bloch_vectors))\n",
    "exp_list"
   ]
  },
  {
   "cell_type": "markdown",
   "id": "48f06232",
   "metadata": {},
   "source": [
    "# Matrix decomposition verification\n"
   ]
  },
  {
   "cell_type": "code",
   "execution_count": null,
   "id": "796fa80d",
   "metadata": {},
   "outputs": [],
   "source": [
    "from scipy.stats import unitary_group\n",
    "import cmath"
   ]
  },
  {
   "cell_type": "code",
   "execution_count": null,
   "id": "2cb866e7",
   "metadata": {},
   "outputs": [],
   "source": [
    "u_matrix = unitary_group.rvs(4)\n",
    "lambda_unitary = np.array([ [1, 1j , 0 , 0],[0, 0, 1j, 1],[0, 0, 1j, -1],[1, -1j, 0, 0] ]) / np.sqrt(2)"
   ]
  },
  {
   "cell_type": "code",
   "execution_count": null,
   "id": "554d9320",
   "metadata": {},
   "outputs": [],
   "source": [
    "def matrix_in_magic_basis(matrix):\n",
    "    return np.dot( lambda_unitary.conj().transpose(), np.dot(matrix, lambda_unitary) )\n",
    "\n",
    "def matrix_out_magic_basis(magic_matrix):\n",
    "    return np.dot( lambda_unitary, np.dot(magic_matrix, lambda_unitary.conj().transpose()) )\n",
    "\n",
    "def relative_phases(complex_arr:np.array):\n",
    "    phases = np.array( [cmath.phase(x) for x in complex_arr] )\n",
    "    phases = np.sort(phases)\n",
    "    phases -= phases[0]\n",
    "    return phases"
   ]
  },
  {
   "cell_type": "code",
   "execution_count": null,
   "id": "5b19c583",
   "metadata": {},
   "outputs": [],
   "source": []
  },
  {
   "cell_type": "markdown",
   "id": "da6b7ca2",
   "metadata": {},
   "source": [
    "Strip U of any global phase"
   ]
  },
  {
   "cell_type": "code",
   "execution_count": null,
   "id": "c19282ca",
   "metadata": {},
   "outputs": [],
   "source": [
    "u_matrix /= ( np.linalg.det(u_matrix) )**(1/4)"
   ]
  },
  {
   "cell_type": "code",
   "execution_count": null,
   "id": "4276198b",
   "metadata": {},
   "outputs": [],
   "source": [
    "u_magic_matrix = matrix_in_magic_basis(u_matrix)"
   ]
  },
  {
   "cell_type": "code",
   "execution_count": null,
   "id": "a7c29e85",
   "metadata": {},
   "outputs": [],
   "source": [
    "u_u_T = np.dot(u_magic_matrix, u_magic_matrix.transpose())"
   ]
  },
  {
   "cell_type": "code",
   "execution_count": null,
   "id": "02e32f53",
   "metadata": {},
   "outputs": [],
   "source": [
    "u_u_T_eigen_values, u_u_T_eigen_vectors = np.linalg.eig(u_u_T)"
   ]
  },
  {
   "cell_type": "code",
   "execution_count": null,
   "id": "b5768cc1",
   "metadata": {},
   "outputs": [],
   "source": [
    "relative_phases(u_u_T_eigen_values)"
   ]
  },
  {
   "cell_type": "markdown",
   "id": "2086f968",
   "metadata": {},
   "source": [
    "#### V Gate:"
   ]
  },
  {
   "cell_type": "code",
   "execution_count": null,
   "id": "20bb2178",
   "metadata": {},
   "outputs": [],
   "source": [
    "# eigen_values_phases = [cmath.phase(x) for x in u_u_T_eigen_values]\n",
    "# alpha, beta, delta = np.array([eigen_values_phases[0] + eigen_values_phases[1],\n",
    "#                                eigen_values_phases[0] + eigen_values_phases[2],\n",
    "#                                eigen_values_phases[1] + eigen_values_phases[2] ]) / 2\n",
    "# v_matrix = program_unitary(give_v_circuit(alpha, beta, delta), n_qubits=2)\n",
    "# v_matrix"
   ]
  },
  {
   "cell_type": "code",
   "execution_count": null,
   "id": "3f72e0c3",
   "metadata": {},
   "outputs": [],
   "source": [
    "eigen_values_phases = relative_phases(u_u_T_eigen_values)[1:]\n",
    "# eigen_values_phases = [cmath.phase(x) for x in u_u_T_eigen_values]\n",
    "alpha, beta, delta = np.array([eigen_values_phases[0] + eigen_values_phases[1],\n",
    "                               eigen_values_phases[0] + eigen_values_phases[2],\n",
    "                               eigen_values_phases[1] + eigen_values_phases[2] ]) / 2\n",
    "v_matrix = program_unitary(give_v_circuit(alpha, beta, delta), n_qubits=2)\n",
    "v_matrix"
   ]
  },
  {
   "cell_type": "code",
   "execution_count": null,
   "id": "646ec87d",
   "metadata": {},
   "outputs": [],
   "source": [
    "eigen_values_phases"
   ]
  },
  {
   "cell_type": "code",
   "execution_count": null,
   "id": "0c4acf76",
   "metadata": {},
   "outputs": [],
   "source": [
    "v_magic_matrix = matrix_in_magic_basis(v_matrix)\n",
    "v_v_T = np.dot(v_magic_matrix, v_magic_matrix.transpose())"
   ]
  },
  {
   "cell_type": "markdown",
   "id": "e8f788da",
   "metadata": {},
   "source": [
    "Check whether vv^T and uu^T have same eigenvalues"
   ]
  },
  {
   "cell_type": "code",
   "execution_count": null,
   "id": "b9d13183",
   "metadata": {},
   "outputs": [],
   "source": [
    "v_v_T_eigen_values, v_v_T_eigen_vectors = np.linalg.eig(v_v_T)"
   ]
  },
  {
   "cell_type": "code",
   "execution_count": null,
   "id": "ff1afba8",
   "metadata": {},
   "outputs": [],
   "source": [
    "relative_phases(v_v_T_eigen_values), relative_phases(u_u_T_eigen_values)"
   ]
  },
  {
   "cell_type": "code",
   "execution_count": null,
   "id": "6c026744",
   "metadata": {},
   "outputs": [],
   "source": []
  },
  {
   "cell_type": "markdown",
   "id": "fbb0bcf5",
   "metadata": {},
   "source": [
    "#### K and L"
   ]
  },
  {
   "cell_type": "code",
   "execution_count": null,
   "id": "fad38f99",
   "metadata": {},
   "outputs": [],
   "source": [
    "v_v_T_eigen_values, v_v_T_eigen_vectors = np.linalg.eig(v_v_T)"
   ]
  },
  {
   "cell_type": "code",
   "execution_count": null,
   "id": "cb06f251",
   "metadata": {},
   "outputs": [],
   "source": [
    "k_matrix = np.copy(v_v_T_eigen_vectors)\n",
    "l_matrix = np.copy(u_u_T_eigen_vectors)"
   ]
  },
  {
   "cell_type": "code",
   "execution_count": null,
   "id": "4da6e42c",
   "metadata": {},
   "outputs": [],
   "source": []
  },
  {
   "cell_type": "markdown",
   "id": "e17923d6",
   "metadata": {},
   "source": [
    "#### AB\n",
    "$$ A \\otimes B = \\Lambda ( v^\\dagger k^T l u ) \\Lambda^\\dagger $$"
   ]
  },
  {
   "cell_type": "code",
   "execution_count": null,
   "id": "efeef057",
   "metadata": {},
   "outputs": [],
   "source": [
    "a_tensor_b = matrix_out_magic_basis( np.dot( v_magic_matrix.conjugate().transpose(),\n",
    "                                            np.dot(k_matrix.transpose(),np.dot(l_matrix, u_magic_matrix))) )\n",
    "a_tensor_b"
   ]
  },
  {
   "cell_type": "markdown",
   "id": "ebd5af58",
   "metadata": {},
   "source": [
    "#### CD\n",
    "$$ C \\otimes D = \\Lambda ( l^T k ) \\Lambda^\\dagger $$"
   ]
  },
  {
   "cell_type": "code",
   "execution_count": null,
   "id": "4000481a",
   "metadata": {},
   "outputs": [],
   "source": [
    "c_tensor_d = matrix_in_magic_basis( np.dot(l_matrix.transpose(), k_matrix) )\n",
    "c_tensor_d"
   ]
  },
  {
   "cell_type": "markdown",
   "id": "84c73752",
   "metadata": {},
   "source": [
    "#### Construct U\n",
    "$$ U = (A \\otimes B) V (C \\otimes D) $$"
   ]
  },
  {
   "cell_type": "code",
   "execution_count": null,
   "id": "b39a3f44",
   "metadata": {},
   "outputs": [],
   "source": [
    "u_constructed = np.dot(a_tensor_b, np.dot(v_matrix, c_tensor_d))\n",
    "u_constructed"
   ]
  },
  {
   "cell_type": "code",
   "execution_count": null,
   "id": "7e20e0b5",
   "metadata": {},
   "outputs": [],
   "source": [
    "u_matrix"
   ]
  },
  {
   "cell_type": "markdown",
   "id": "8da49291",
   "metadata": {},
   "source": [
    "#### Check Check\n",
    "Given U and constructed U are allowed to be different by a phase factor. So we should have their dot to be an identity with a global phase shift.\n",
    "$$ U_g U^{\\dagger}_c  = e^{i\\phi I}$$"
   ]
  },
  {
   "cell_type": "code",
   "execution_count": null,
   "id": "58f2c0b2",
   "metadata": {},
   "outputs": [],
   "source": [
    "np.dot(u_matrix, u_constructed.conjugate().transpose())"
   ]
  },
  {
   "cell_type": "code",
   "execution_count": null,
   "id": "28e165db",
   "metadata": {},
   "outputs": [],
   "source": [
    "# np.linalg.eig(u_matrix)[0], np.linalg.eig(u_constructed)[0]"
   ]
  },
  {
   "cell_type": "code",
   "execution_count": null,
   "id": "870d052f",
   "metadata": {},
   "outputs": [],
   "source": [
    "# u_constructed_phase = [cmath.phase(x) for x in u_u_T_eigen_values]"
   ]
  },
  {
   "cell_type": "code",
   "execution_count": null,
   "id": "8b37bd00",
   "metadata": {},
   "outputs": [],
   "source": [
    "print(qc.compiler.quil_to_native_quil(Program(XY(angle = np.pi,q1= 0, q2 = 1))))"
   ]
  },
  {
   "cell_type": "code",
   "execution_count": null,
   "id": "e7b8c862",
   "metadata": {},
   "outputs": [],
   "source": [
    "task = program_unitary(qc.compiler.quil_to_native_quil(Program(XY(angle = np.pi,q1= 0, q2 = 1))), n_qubits=2)"
   ]
  },
  {
   "cell_type": "code",
   "execution_count": null,
   "id": "de5952e4",
   "metadata": {},
   "outputs": [],
   "source": [
    "initial_state = np.array([0,0,1,0])"
   ]
  },
  {
   "cell_type": "code",
   "execution_count": null,
   "id": "e9ca9669",
   "metadata": {},
   "outputs": [],
   "source": [
    "np.dot(task, initial_state)"
   ]
  },
  {
   "cell_type": "code",
   "execution_count": null,
   "id": "c81f1984",
   "metadata": {},
   "outputs": [],
   "source": []
  }
 ],
 "metadata": {
  "kernelspec": {
   "display_name": "Python 3 (ipykernel)",
   "language": "python",
   "name": "python3"
  },
  "language_info": {
   "codemirror_mode": {
    "name": "ipython",
    "version": 3
   },
   "file_extension": ".py",
   "mimetype": "text/x-python",
   "name": "python",
   "nbconvert_exporter": "python",
   "pygments_lexer": "ipython3",
   "version": "3.9.12"
  }
 },
 "nbformat": 4,
 "nbformat_minor": 5
}
