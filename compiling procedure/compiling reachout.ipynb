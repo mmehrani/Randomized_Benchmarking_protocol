{
 "cells": [
  {
   "cell_type": "code",
   "execution_count": 1,
   "id": "b86ad0dc",
   "metadata": {},
   "outputs": [],
   "source": [
    "from pyquil.quil import *\n",
    "from pyquil.api import get_qc\n",
    "from pyquil.gates import *\n",
    "from pyquil.latex import display, to_latex\n",
    "from pyquil.simulation.tools import lifted_gate, program_unitary, lifted_gate_matrix"
   ]
  },
  {
   "cell_type": "code",
   "execution_count": 2,
   "id": "cb0ce7c0",
   "metadata": {},
   "outputs": [],
   "source": [
    "from functions import *"
   ]
  },
  {
   "cell_type": "code",
   "execution_count": 3,
   "id": "adf63062",
   "metadata": {},
   "outputs": [],
   "source": [
    "import numpy as np\n",
    "import matplotlib.pyplot as plt"
   ]
  },
  {
   "cell_type": "code",
   "execution_count": 4,
   "id": "a18e2976",
   "metadata": {},
   "outputs": [
    {
     "ename": "ConnectError",
     "evalue": "[WinError 10061] No connection could be made because the target machine actively refused it",
     "output_type": "error",
     "traceback": [
      "\u001b[1;31m---------------------------------------------------------------------------\u001b[0m",
      "\u001b[1;31mConnectionRefusedError\u001b[0m                    Traceback (most recent call last)",
      "File \u001b[1;32mC:\\ProgramData\\Anaconda3\\lib\\site-packages\\httpcore\\_exceptions.py:8\u001b[0m, in \u001b[0;36mmap_exceptions\u001b[1;34m(map)\u001b[0m\n\u001b[0;32m      7\u001b[0m \u001b[38;5;28;01mtry\u001b[39;00m:\n\u001b[1;32m----> 8\u001b[0m     \u001b[38;5;28;01myield\u001b[39;00m\n\u001b[0;32m      9\u001b[0m \u001b[38;5;28;01mexcept\u001b[39;00m \u001b[38;5;167;01mException\u001b[39;00m \u001b[38;5;28;01mas\u001b[39;00m exc:  \u001b[38;5;66;03m# noqa: PIE786\u001b[39;00m\n",
      "File \u001b[1;32mC:\\ProgramData\\Anaconda3\\lib\\site-packages\\httpcore\\backends\\sync.py:86\u001b[0m, in \u001b[0;36mSyncBackend.connect_tcp\u001b[1;34m(self, host, port, timeout, local_address)\u001b[0m\n\u001b[0;32m     85\u001b[0m \u001b[38;5;28;01mwith\u001b[39;00m map_exceptions(exc_map):\n\u001b[1;32m---> 86\u001b[0m     sock \u001b[38;5;241m=\u001b[39m \u001b[43msocket\u001b[49m\u001b[38;5;241;43m.\u001b[39;49m\u001b[43mcreate_connection\u001b[49m\u001b[43m(\u001b[49m\n\u001b[0;32m     87\u001b[0m \u001b[43m        \u001b[49m\u001b[43maddress\u001b[49m\u001b[43m,\u001b[49m\u001b[43m \u001b[49m\u001b[43mtimeout\u001b[49m\u001b[43m,\u001b[49m\u001b[43m \u001b[49m\u001b[43msource_address\u001b[49m\u001b[38;5;241;43m=\u001b[39;49m\u001b[43msource_address\u001b[49m\n\u001b[0;32m     88\u001b[0m \u001b[43m    \u001b[49m\u001b[43m)\u001b[49m\n\u001b[0;32m     89\u001b[0m \u001b[38;5;28;01mreturn\u001b[39;00m SyncStream(sock)\n",
      "File \u001b[1;32mC:\\ProgramData\\Anaconda3\\lib\\socket.py:844\u001b[0m, in \u001b[0;36mcreate_connection\u001b[1;34m(address, timeout, source_address)\u001b[0m\n\u001b[0;32m    843\u001b[0m \u001b[38;5;28;01mtry\u001b[39;00m:\n\u001b[1;32m--> 844\u001b[0m     \u001b[38;5;28;01mraise\u001b[39;00m err\n\u001b[0;32m    845\u001b[0m \u001b[38;5;28;01mfinally\u001b[39;00m:\n\u001b[0;32m    846\u001b[0m     \u001b[38;5;66;03m# Break explicitly a reference cycle\u001b[39;00m\n",
      "File \u001b[1;32mC:\\ProgramData\\Anaconda3\\lib\\socket.py:832\u001b[0m, in \u001b[0;36mcreate_connection\u001b[1;34m(address, timeout, source_address)\u001b[0m\n\u001b[0;32m    831\u001b[0m     sock\u001b[38;5;241m.\u001b[39mbind(source_address)\n\u001b[1;32m--> 832\u001b[0m \u001b[43msock\u001b[49m\u001b[38;5;241;43m.\u001b[39;49m\u001b[43mconnect\u001b[49m\u001b[43m(\u001b[49m\u001b[43msa\u001b[49m\u001b[43m)\u001b[49m\n\u001b[0;32m    833\u001b[0m \u001b[38;5;66;03m# Break explicitly a reference cycle\u001b[39;00m\n",
      "\u001b[1;31mConnectionRefusedError\u001b[0m: [WinError 10061] No connection could be made because the target machine actively refused it",
      "\nDuring handling of the above exception, another exception occurred:\n",
      "\u001b[1;31mConnectError\u001b[0m                              Traceback (most recent call last)",
      "File \u001b[1;32mC:\\ProgramData\\Anaconda3\\lib\\site-packages\\httpx\\_transports\\default.py:60\u001b[0m, in \u001b[0;36mmap_httpcore_exceptions\u001b[1;34m()\u001b[0m\n\u001b[0;32m     59\u001b[0m \u001b[38;5;28;01mtry\u001b[39;00m:\n\u001b[1;32m---> 60\u001b[0m     \u001b[38;5;28;01myield\u001b[39;00m\n\u001b[0;32m     61\u001b[0m \u001b[38;5;28;01mexcept\u001b[39;00m \u001b[38;5;167;01mException\u001b[39;00m \u001b[38;5;28;01mas\u001b[39;00m exc:  \u001b[38;5;66;03m# noqa: PIE-786\u001b[39;00m\n",
      "File \u001b[1;32mC:\\ProgramData\\Anaconda3\\lib\\site-packages\\httpx\\_transports\\default.py:218\u001b[0m, in \u001b[0;36mHTTPTransport.handle_request\u001b[1;34m(self, request)\u001b[0m\n\u001b[0;32m    217\u001b[0m \u001b[38;5;28;01mwith\u001b[39;00m map_httpcore_exceptions():\n\u001b[1;32m--> 218\u001b[0m     resp \u001b[38;5;241m=\u001b[39m \u001b[38;5;28;43mself\u001b[39;49m\u001b[38;5;241;43m.\u001b[39;49m\u001b[43m_pool\u001b[49m\u001b[38;5;241;43m.\u001b[39;49m\u001b[43mhandle_request\u001b[49m\u001b[43m(\u001b[49m\u001b[43mreq\u001b[49m\u001b[43m)\u001b[49m\n\u001b[0;32m    220\u001b[0m \u001b[38;5;28;01massert\u001b[39;00m \u001b[38;5;28misinstance\u001b[39m(resp\u001b[38;5;241m.\u001b[39mstream, typing\u001b[38;5;241m.\u001b[39mIterable)\n",
      "File \u001b[1;32mC:\\ProgramData\\Anaconda3\\lib\\site-packages\\httpcore\\_sync\\connection_pool.py:253\u001b[0m, in \u001b[0;36mConnectionPool.handle_request\u001b[1;34m(self, request)\u001b[0m\n\u001b[0;32m    252\u001b[0m     \u001b[38;5;28mself\u001b[39m\u001b[38;5;241m.\u001b[39mresponse_closed(status)\n\u001b[1;32m--> 253\u001b[0m     \u001b[38;5;28;01mraise\u001b[39;00m exc\n\u001b[0;32m    254\u001b[0m \u001b[38;5;28;01melse\u001b[39;00m:\n",
      "File \u001b[1;32mC:\\ProgramData\\Anaconda3\\lib\\site-packages\\httpcore\\_sync\\connection_pool.py:237\u001b[0m, in \u001b[0;36mConnectionPool.handle_request\u001b[1;34m(self, request)\u001b[0m\n\u001b[0;32m    236\u001b[0m \u001b[38;5;28;01mtry\u001b[39;00m:\n\u001b[1;32m--> 237\u001b[0m     response \u001b[38;5;241m=\u001b[39m \u001b[43mconnection\u001b[49m\u001b[38;5;241;43m.\u001b[39;49m\u001b[43mhandle_request\u001b[49m\u001b[43m(\u001b[49m\u001b[43mrequest\u001b[49m\u001b[43m)\u001b[49m\n\u001b[0;32m    238\u001b[0m \u001b[38;5;28;01mexcept\u001b[39;00m ConnectionNotAvailable:\n\u001b[0;32m    239\u001b[0m     \u001b[38;5;66;03m# The ConnectionNotAvailable exception is a special case, that\u001b[39;00m\n\u001b[0;32m    240\u001b[0m     \u001b[38;5;66;03m# indicates we need to retry the request on a new connection.\u001b[39;00m\n\u001b[1;32m   (...)\u001b[0m\n\u001b[0;32m    244\u001b[0m     \u001b[38;5;66;03m# might end up as an HTTP/2 connection, but which actually ends\u001b[39;00m\n\u001b[0;32m    245\u001b[0m     \u001b[38;5;66;03m# up as HTTP/1.1.\u001b[39;00m\n",
      "File \u001b[1;32mC:\\ProgramData\\Anaconda3\\lib\\site-packages\\httpcore\\_sync\\connection.py:86\u001b[0m, in \u001b[0;36mHTTPConnection.handle_request\u001b[1;34m(self, request)\u001b[0m\n\u001b[0;32m     85\u001b[0m         \u001b[38;5;28mself\u001b[39m\u001b[38;5;241m.\u001b[39m_connect_failed \u001b[38;5;241m=\u001b[39m \u001b[38;5;28;01mTrue\u001b[39;00m\n\u001b[1;32m---> 86\u001b[0m         \u001b[38;5;28;01mraise\u001b[39;00m exc\n\u001b[0;32m     87\u001b[0m \u001b[38;5;28;01melif\u001b[39;00m \u001b[38;5;129;01mnot\u001b[39;00m \u001b[38;5;28mself\u001b[39m\u001b[38;5;241m.\u001b[39m_connection\u001b[38;5;241m.\u001b[39mis_available():\n",
      "File \u001b[1;32mC:\\ProgramData\\Anaconda3\\lib\\site-packages\\httpcore\\_sync\\connection.py:63\u001b[0m, in \u001b[0;36mHTTPConnection.handle_request\u001b[1;34m(self, request)\u001b[0m\n\u001b[0;32m     62\u001b[0m \u001b[38;5;28;01mtry\u001b[39;00m:\n\u001b[1;32m---> 63\u001b[0m     stream \u001b[38;5;241m=\u001b[39m \u001b[38;5;28;43mself\u001b[39;49m\u001b[38;5;241;43m.\u001b[39;49m\u001b[43m_connect\u001b[49m\u001b[43m(\u001b[49m\u001b[43mrequest\u001b[49m\u001b[43m)\u001b[49m\n\u001b[0;32m     65\u001b[0m     ssl_object \u001b[38;5;241m=\u001b[39m stream\u001b[38;5;241m.\u001b[39mget_extra_info(\u001b[38;5;124m\"\u001b[39m\u001b[38;5;124mssl_object\u001b[39m\u001b[38;5;124m\"\u001b[39m)\n",
      "File \u001b[1;32mC:\\ProgramData\\Anaconda3\\lib\\site-packages\\httpcore\\_sync\\connection.py:111\u001b[0m, in \u001b[0;36mHTTPConnection._connect\u001b[1;34m(self, request)\u001b[0m\n\u001b[0;32m    108\u001b[0m \u001b[38;5;28;01mwith\u001b[39;00m Trace(\n\u001b[0;32m    109\u001b[0m     \u001b[38;5;124m\"\u001b[39m\u001b[38;5;124mconnection.connect_tcp\u001b[39m\u001b[38;5;124m\"\u001b[39m, request, kwargs\n\u001b[0;32m    110\u001b[0m ) \u001b[38;5;28;01mas\u001b[39;00m trace:\n\u001b[1;32m--> 111\u001b[0m     stream \u001b[38;5;241m=\u001b[39m \u001b[38;5;28mself\u001b[39m\u001b[38;5;241m.\u001b[39m_network_backend\u001b[38;5;241m.\u001b[39mconnect_tcp(\u001b[38;5;241m*\u001b[39m\u001b[38;5;241m*\u001b[39mkwargs)\n\u001b[0;32m    112\u001b[0m     trace\u001b[38;5;241m.\u001b[39mreturn_value \u001b[38;5;241m=\u001b[39m stream\n",
      "File \u001b[1;32mC:\\ProgramData\\Anaconda3\\lib\\site-packages\\httpcore\\backends\\sync.py:86\u001b[0m, in \u001b[0;36mSyncBackend.connect_tcp\u001b[1;34m(self, host, port, timeout, local_address)\u001b[0m\n\u001b[0;32m     85\u001b[0m \u001b[38;5;28;01mwith\u001b[39;00m map_exceptions(exc_map):\n\u001b[1;32m---> 86\u001b[0m     sock \u001b[38;5;241m=\u001b[39m socket\u001b[38;5;241m.\u001b[39mcreate_connection(\n\u001b[0;32m     87\u001b[0m         address, timeout, source_address\u001b[38;5;241m=\u001b[39msource_address\n\u001b[0;32m     88\u001b[0m     )\n\u001b[0;32m     89\u001b[0m \u001b[38;5;28;01mreturn\u001b[39;00m SyncStream(sock)\n",
      "File \u001b[1;32mC:\\ProgramData\\Anaconda3\\lib\\contextlib.py:137\u001b[0m, in \u001b[0;36m_GeneratorContextManager.__exit__\u001b[1;34m(self, typ, value, traceback)\u001b[0m\n\u001b[0;32m    136\u001b[0m \u001b[38;5;28;01mtry\u001b[39;00m:\n\u001b[1;32m--> 137\u001b[0m     \u001b[38;5;28;43mself\u001b[39;49m\u001b[38;5;241;43m.\u001b[39;49m\u001b[43mgen\u001b[49m\u001b[38;5;241;43m.\u001b[39;49m\u001b[43mthrow\u001b[49m\u001b[43m(\u001b[49m\u001b[43mtyp\u001b[49m\u001b[43m,\u001b[49m\u001b[43m \u001b[49m\u001b[43mvalue\u001b[49m\u001b[43m,\u001b[49m\u001b[43m \u001b[49m\u001b[43mtraceback\u001b[49m\u001b[43m)\u001b[49m\n\u001b[0;32m    138\u001b[0m \u001b[38;5;28;01mexcept\u001b[39;00m \u001b[38;5;167;01mStopIteration\u001b[39;00m \u001b[38;5;28;01mas\u001b[39;00m exc:\n\u001b[0;32m    139\u001b[0m     \u001b[38;5;66;03m# Suppress StopIteration *unless* it's the same exception that\u001b[39;00m\n\u001b[0;32m    140\u001b[0m     \u001b[38;5;66;03m# was passed to throw().  This prevents a StopIteration\u001b[39;00m\n\u001b[0;32m    141\u001b[0m     \u001b[38;5;66;03m# raised inside the \"with\" statement from being suppressed.\u001b[39;00m\n",
      "File \u001b[1;32mC:\\ProgramData\\Anaconda3\\lib\\site-packages\\httpcore\\_exceptions.py:12\u001b[0m, in \u001b[0;36mmap_exceptions\u001b[1;34m(map)\u001b[0m\n\u001b[0;32m     11\u001b[0m     \u001b[38;5;28;01mif\u001b[39;00m \u001b[38;5;28misinstance\u001b[39m(exc, from_exc):\n\u001b[1;32m---> 12\u001b[0m         \u001b[38;5;28;01mraise\u001b[39;00m to_exc(exc)\n\u001b[0;32m     13\u001b[0m \u001b[38;5;28;01mraise\u001b[39;00m\n",
      "\u001b[1;31mConnectError\u001b[0m: [WinError 10061] No connection could be made because the target machine actively refused it",
      "\nThe above exception was the direct cause of the following exception:\n",
      "\u001b[1;31mConnectError\u001b[0m                              Traceback (most recent call last)",
      "Input \u001b[1;32mIn [4]\u001b[0m, in \u001b[0;36m<cell line: 1>\u001b[1;34m()\u001b[0m\n\u001b[1;32m----> 1\u001b[0m qc \u001b[38;5;241m=\u001b[39m \u001b[43mget_qc\u001b[49m\u001b[43m(\u001b[49m\u001b[38;5;124;43m\"\u001b[39;49m\u001b[38;5;124;43m9q-square-qvm\u001b[39;49m\u001b[38;5;124;43m\"\u001b[39;49m\u001b[43m)\u001b[49m\n",
      "File \u001b[1;32mC:\\ProgramData\\Anaconda3\\lib\\site-packages\\pyquil\\api\\_quantum_computer.py:836\u001b[0m, in \u001b[0;36mget_qc\u001b[1;34m(***failed resolving arguments***)\u001b[0m\n\u001b[0;32m    834\u001b[0m     \u001b[38;5;28;01mif\u001b[39;00m qvm_type \u001b[38;5;129;01mis\u001b[39;00m \u001b[38;5;28;01mNone\u001b[39;00m:\n\u001b[0;32m    835\u001b[0m         \u001b[38;5;28;01mraise\u001b[39;00m \u001b[38;5;167;01mValueError\u001b[39;00m(\u001b[38;5;124m\"\u001b[39m\u001b[38;5;124mThe quantum_processor \u001b[39m\u001b[38;5;124m'\u001b[39m\u001b[38;5;124m9q-square\u001b[39m\u001b[38;5;124m'\u001b[39m\u001b[38;5;124m is only available as a QVM\u001b[39m\u001b[38;5;124m\"\u001b[39m)\n\u001b[1;32m--> 836\u001b[0m     \u001b[38;5;28;01mreturn\u001b[39;00m \u001b[43m_get_9q_square_qvm\u001b[49m\u001b[43m(\u001b[49m\n\u001b[0;32m    837\u001b[0m \u001b[43m        \u001b[49m\u001b[43mclient_configuration\u001b[49m\u001b[38;5;241;43m=\u001b[39;49m\u001b[43mclient_configuration\u001b[49m\u001b[43m,\u001b[49m\n\u001b[0;32m    838\u001b[0m \u001b[43m        \u001b[49m\u001b[43mname\u001b[49m\u001b[38;5;241;43m=\u001b[39;49m\u001b[43mname\u001b[49m\u001b[43m,\u001b[49m\n\u001b[0;32m    839\u001b[0m \u001b[43m        \u001b[49m\u001b[43mnoisy\u001b[49m\u001b[38;5;241;43m=\u001b[39;49m\u001b[43mnoisy\u001b[49m\u001b[43m,\u001b[49m\n\u001b[0;32m    840\u001b[0m \u001b[43m        \u001b[49m\u001b[43mqvm_type\u001b[49m\u001b[38;5;241;43m=\u001b[39;49m\u001b[43mqvm_type\u001b[49m\u001b[43m,\u001b[49m\n\u001b[0;32m    841\u001b[0m \u001b[43m        \u001b[49m\u001b[43mcompiler_timeout\u001b[49m\u001b[38;5;241;43m=\u001b[39;49m\u001b[43mcompiler_timeout\u001b[49m\u001b[43m,\u001b[49m\n\u001b[0;32m    842\u001b[0m \u001b[43m        \u001b[49m\u001b[43mexecution_timeout\u001b[49m\u001b[38;5;241;43m=\u001b[39;49m\u001b[43mexecution_timeout\u001b[49m\u001b[43m,\u001b[49m\n\u001b[0;32m    843\u001b[0m \u001b[43m    \u001b[49m\u001b[43m)\u001b[49m\n\u001b[0;32m    845\u001b[0m \u001b[38;5;28;01mif\u001b[39;00m noisy:\n\u001b[0;32m    846\u001b[0m     \u001b[38;5;28;01mraise\u001b[39;00m \u001b[38;5;167;01mValueError\u001b[39;00m(\n\u001b[0;32m    847\u001b[0m         \u001b[38;5;124m\"\u001b[39m\u001b[38;5;124mpyQuil currently does not support initializing a noisy QuantumComputer \u001b[39m\u001b[38;5;124m\"\u001b[39m\n\u001b[0;32m    848\u001b[0m         \u001b[38;5;124m\"\u001b[39m\u001b[38;5;124mbased on a QCSQuantumProcessor. Change noisy to False or specify the name of a QVM.\u001b[39m\u001b[38;5;124m\"\u001b[39m\n\u001b[0;32m    849\u001b[0m     )\n",
      "File \u001b[1;32mC:\\ProgramData\\Anaconda3\\lib\\site-packages\\pyquil\\api\\_quantum_computer.py:633\u001b[0m, in \u001b[0;36m_get_9q_square_qvm\u001b[1;34m(client_configuration, name, noisy, qvm_type, compiler_timeout, execution_timeout)\u001b[0m\n\u001b[0;32m    618\u001b[0m \u001b[38;5;124;03m\"\"\"\u001b[39;00m\n\u001b[0;32m    619\u001b[0m \u001b[38;5;124;03mA nine-qubit 3x3 square lattice.\u001b[39;00m\n\u001b[0;32m    620\u001b[0m \n\u001b[1;32m   (...)\u001b[0m\n\u001b[0;32m    630\u001b[0m \u001b[38;5;124;03m:return: A pre-configured QuantumComputer\u001b[39;00m\n\u001b[0;32m    631\u001b[0m \u001b[38;5;124;03m\"\"\"\u001b[39;00m\n\u001b[0;32m    632\u001b[0m topology \u001b[38;5;241m=\u001b[39m nx\u001b[38;5;241m.\u001b[39mconvert_node_labels_to_integers(nx\u001b[38;5;241m.\u001b[39mgrid_2d_graph(\u001b[38;5;241m3\u001b[39m, \u001b[38;5;241m3\u001b[39m))\n\u001b[1;32m--> 633\u001b[0m \u001b[38;5;28;01mreturn\u001b[39;00m \u001b[43m_get_qvm_with_topology\u001b[49m\u001b[43m(\u001b[49m\n\u001b[0;32m    634\u001b[0m \u001b[43m    \u001b[49m\u001b[43mclient_configuration\u001b[49m\u001b[38;5;241;43m=\u001b[39;49m\u001b[43mclient_configuration\u001b[49m\u001b[43m,\u001b[49m\n\u001b[0;32m    635\u001b[0m \u001b[43m    \u001b[49m\u001b[43mname\u001b[49m\u001b[38;5;241;43m=\u001b[39;49m\u001b[43mname\u001b[49m\u001b[43m,\u001b[49m\n\u001b[0;32m    636\u001b[0m \u001b[43m    \u001b[49m\u001b[43mtopology\u001b[49m\u001b[38;5;241;43m=\u001b[39;49m\u001b[43mtopology\u001b[49m\u001b[43m,\u001b[49m\n\u001b[0;32m    637\u001b[0m \u001b[43m    \u001b[49m\u001b[43mnoisy\u001b[49m\u001b[38;5;241;43m=\u001b[39;49m\u001b[43mnoisy\u001b[49m\u001b[43m,\u001b[49m\n\u001b[0;32m    638\u001b[0m \u001b[43m    \u001b[49m\u001b[43mqvm_type\u001b[49m\u001b[38;5;241;43m=\u001b[39;49m\u001b[43mqvm_type\u001b[49m\u001b[43m,\u001b[49m\n\u001b[0;32m    639\u001b[0m \u001b[43m    \u001b[49m\u001b[43mcompiler_timeout\u001b[49m\u001b[38;5;241;43m=\u001b[39;49m\u001b[43mcompiler_timeout\u001b[49m\u001b[43m,\u001b[49m\n\u001b[0;32m    640\u001b[0m \u001b[43m    \u001b[49m\u001b[43mexecution_timeout\u001b[49m\u001b[38;5;241;43m=\u001b[39;49m\u001b[43mexecution_timeout\u001b[49m\u001b[43m,\u001b[49m\n\u001b[0;32m    641\u001b[0m \u001b[43m\u001b[49m\u001b[43m)\u001b[49m\n",
      "File \u001b[1;32mC:\\ProgramData\\Anaconda3\\lib\\site-packages\\pyquil\\api\\_quantum_computer.py:598\u001b[0m, in \u001b[0;36m_get_qvm_with_topology\u001b[1;34m(client_configuration, name, topology, noisy, qvm_type, compiler_timeout, execution_timeout)\u001b[0m\n\u001b[0;32m    596\u001b[0m \u001b[38;5;28;01melse\u001b[39;00m:\n\u001b[0;32m    597\u001b[0m     noise_model \u001b[38;5;241m=\u001b[39m \u001b[38;5;28;01mNone\u001b[39;00m\n\u001b[1;32m--> 598\u001b[0m \u001b[38;5;28;01mreturn\u001b[39;00m \u001b[43m_get_qvm_qc\u001b[49m\u001b[43m(\u001b[49m\n\u001b[0;32m    599\u001b[0m \u001b[43m    \u001b[49m\u001b[43mclient_configuration\u001b[49m\u001b[38;5;241;43m=\u001b[39;49m\u001b[43mclient_configuration\u001b[49m\u001b[43m,\u001b[49m\n\u001b[0;32m    600\u001b[0m \u001b[43m    \u001b[49m\u001b[43mname\u001b[49m\u001b[38;5;241;43m=\u001b[39;49m\u001b[43mname\u001b[49m\u001b[43m,\u001b[49m\n\u001b[0;32m    601\u001b[0m \u001b[43m    \u001b[49m\u001b[43mqvm_type\u001b[49m\u001b[38;5;241;43m=\u001b[39;49m\u001b[43mqvm_type\u001b[49m\u001b[43m,\u001b[49m\n\u001b[0;32m    602\u001b[0m \u001b[43m    \u001b[49m\u001b[43mquantum_processor\u001b[49m\u001b[38;5;241;43m=\u001b[39;49m\u001b[43mquantum_processor\u001b[49m\u001b[43m,\u001b[49m\n\u001b[0;32m    603\u001b[0m \u001b[43m    \u001b[49m\u001b[43mnoise_model\u001b[49m\u001b[38;5;241;43m=\u001b[39;49m\u001b[43mnoise_model\u001b[49m\u001b[43m,\u001b[49m\n\u001b[0;32m    604\u001b[0m \u001b[43m    \u001b[49m\u001b[43mcompiler_timeout\u001b[49m\u001b[38;5;241;43m=\u001b[39;49m\u001b[43mcompiler_timeout\u001b[49m\u001b[43m,\u001b[49m\n\u001b[0;32m    605\u001b[0m \u001b[43m    \u001b[49m\u001b[43mexecution_timeout\u001b[49m\u001b[38;5;241;43m=\u001b[39;49m\u001b[43mexecution_timeout\u001b[49m\u001b[43m,\u001b[49m\n\u001b[0;32m    606\u001b[0m \u001b[43m\u001b[49m\u001b[43m)\u001b[49m\n",
      "File \u001b[1;32mC:\\ProgramData\\Anaconda3\\lib\\site-packages\\pyquil\\api\\_quantum_computer.py:551\u001b[0m, in \u001b[0;36m_get_qvm_qc\u001b[1;34m(client_configuration, name, qvm_type, quantum_processor, compiler_timeout, execution_timeout, noise_model)\u001b[0m\n\u001b[0;32m    525\u001b[0m \u001b[38;5;28;01mdef\u001b[39;00m \u001b[38;5;21m_get_qvm_qc\u001b[39m(\n\u001b[0;32m    526\u001b[0m     \u001b[38;5;241m*\u001b[39m,\n\u001b[0;32m    527\u001b[0m     client_configuration: QCSClientConfiguration,\n\u001b[1;32m   (...)\u001b[0m\n\u001b[0;32m    533\u001b[0m     noise_model: Optional[NoiseModel],\n\u001b[0;32m    534\u001b[0m ) \u001b[38;5;241m-\u001b[39m\u001b[38;5;241m>\u001b[39m QuantumComputer:\n\u001b[0;32m    535\u001b[0m     \u001b[38;5;124;03m\"\"\"Construct a QuantumComputer backed by a QVM.\u001b[39;00m\n\u001b[0;32m    536\u001b[0m \n\u001b[0;32m    537\u001b[0m \u001b[38;5;124;03m    This is a minimal wrapper over the QuantumComputer, QVM, and QVMCompiler constructors.\u001b[39;00m\n\u001b[1;32m   (...)\u001b[0m\n\u001b[0;32m    546\u001b[0m \u001b[38;5;124;03m    :return: A QuantumComputer backed by a QVM with the above options.\u001b[39;00m\n\u001b[0;32m    547\u001b[0m \u001b[38;5;124;03m    \"\"\"\u001b[39;00m\n\u001b[0;32m    549\u001b[0m     \u001b[38;5;28;01mreturn\u001b[39;00m QuantumComputer(\n\u001b[0;32m    550\u001b[0m         name\u001b[38;5;241m=\u001b[39mname,\n\u001b[1;32m--> 551\u001b[0m         qam\u001b[38;5;241m=\u001b[39m\u001b[43m_get_qvm_or_pyqvm\u001b[49m\u001b[43m(\u001b[49m\n\u001b[0;32m    552\u001b[0m \u001b[43m            \u001b[49m\u001b[43mclient_configuration\u001b[49m\u001b[38;5;241;43m=\u001b[39;49m\u001b[43mclient_configuration\u001b[49m\u001b[43m,\u001b[49m\n\u001b[0;32m    553\u001b[0m \u001b[43m            \u001b[49m\u001b[43mqvm_type\u001b[49m\u001b[38;5;241;43m=\u001b[39;49m\u001b[43mqvm_type\u001b[49m\u001b[43m,\u001b[49m\n\u001b[0;32m    554\u001b[0m \u001b[43m            \u001b[49m\u001b[43mnoise_model\u001b[49m\u001b[38;5;241;43m=\u001b[39;49m\u001b[43mnoise_model\u001b[49m\u001b[43m,\u001b[49m\n\u001b[0;32m    555\u001b[0m \u001b[43m            \u001b[49m\u001b[43mquantum_processor\u001b[49m\u001b[38;5;241;43m=\u001b[39;49m\u001b[43mquantum_processor\u001b[49m\u001b[43m,\u001b[49m\n\u001b[0;32m    556\u001b[0m \u001b[43m            \u001b[49m\u001b[43mexecution_timeout\u001b[49m\u001b[38;5;241;43m=\u001b[39;49m\u001b[43mexecution_timeout\u001b[49m\u001b[43m,\u001b[49m\n\u001b[0;32m    557\u001b[0m \u001b[43m        \u001b[49m\u001b[43m)\u001b[49m,\n\u001b[0;32m    558\u001b[0m         compiler\u001b[38;5;241m=\u001b[39mQVMCompiler(\n\u001b[0;32m    559\u001b[0m             quantum_processor\u001b[38;5;241m=\u001b[39mquantum_processor,\n\u001b[0;32m    560\u001b[0m             timeout\u001b[38;5;241m=\u001b[39mcompiler_timeout,\n\u001b[0;32m    561\u001b[0m             client_configuration\u001b[38;5;241m=\u001b[39mclient_configuration,\n\u001b[0;32m    562\u001b[0m         ),\n\u001b[0;32m    563\u001b[0m     )\n",
      "File \u001b[1;32mC:\\ProgramData\\Anaconda3\\lib\\site-packages\\pyquil\\api\\_quantum_computer.py:517\u001b[0m, in \u001b[0;36m_get_qvm_or_pyqvm\u001b[1;34m(client_configuration, qvm_type, noise_model, quantum_processor, execution_timeout)\u001b[0m\n\u001b[0;32m    508\u001b[0m \u001b[38;5;28;01mdef\u001b[39;00m \u001b[38;5;21m_get_qvm_or_pyqvm\u001b[39m(\n\u001b[0;32m    509\u001b[0m     \u001b[38;5;241m*\u001b[39m,\n\u001b[0;32m    510\u001b[0m     client_configuration: QCSClientConfiguration,\n\u001b[1;32m   (...)\u001b[0m\n\u001b[0;32m    514\u001b[0m     execution_timeout: \u001b[38;5;28mfloat\u001b[39m,\n\u001b[0;32m    515\u001b[0m ) \u001b[38;5;241m-\u001b[39m\u001b[38;5;241m>\u001b[39m Union[QVM, PyQVM]:\n\u001b[0;32m    516\u001b[0m     \u001b[38;5;28;01mif\u001b[39;00m qvm_type \u001b[38;5;241m==\u001b[39m \u001b[38;5;124m\"\u001b[39m\u001b[38;5;124mqvm\u001b[39m\u001b[38;5;124m\"\u001b[39m:\n\u001b[1;32m--> 517\u001b[0m         \u001b[38;5;28;01mreturn\u001b[39;00m \u001b[43mQVM\u001b[49m\u001b[43m(\u001b[49m\u001b[43mnoise_model\u001b[49m\u001b[38;5;241;43m=\u001b[39;49m\u001b[43mnoise_model\u001b[49m\u001b[43m,\u001b[49m\u001b[43m \u001b[49m\u001b[43mtimeout\u001b[49m\u001b[38;5;241;43m=\u001b[39;49m\u001b[43mexecution_timeout\u001b[49m\u001b[43m,\u001b[49m\u001b[43m \u001b[49m\u001b[43mclient_configuration\u001b[49m\u001b[38;5;241;43m=\u001b[39;49m\u001b[43mclient_configuration\u001b[49m\u001b[43m)\u001b[49m\n\u001b[0;32m    518\u001b[0m     \u001b[38;5;28;01melif\u001b[39;00m qvm_type \u001b[38;5;241m==\u001b[39m \u001b[38;5;124m\"\u001b[39m\u001b[38;5;124mpyqvm\u001b[39m\u001b[38;5;124m\"\u001b[39m:\n\u001b[0;32m    519\u001b[0m         \u001b[38;5;28;01massert\u001b[39;00m quantum_processor \u001b[38;5;129;01mis\u001b[39;00m \u001b[38;5;129;01mnot\u001b[39;00m \u001b[38;5;28;01mNone\u001b[39;00m\n",
      "File \u001b[1;32mC:\\ProgramData\\Anaconda3\\lib\\site-packages\\pyquil\\api\\_qvm.py:116\u001b[0m, in \u001b[0;36mQVM.__init__\u001b[1;34m(self, noise_model, gate_noise, measurement_noise, random_seed, timeout, client_configuration)\u001b[0m\n\u001b[0;32m    114\u001b[0m client_configuration \u001b[38;5;241m=\u001b[39m client_configuration \u001b[38;5;129;01mor\u001b[39;00m QCSClientConfiguration\u001b[38;5;241m.\u001b[39mload()\n\u001b[0;32m    115\u001b[0m \u001b[38;5;28mself\u001b[39m\u001b[38;5;241m.\u001b[39m_qvm_client \u001b[38;5;241m=\u001b[39m QVMClient(client_configuration\u001b[38;5;241m=\u001b[39mclient_configuration, request_timeout\u001b[38;5;241m=\u001b[39mtimeout)\n\u001b[1;32m--> 116\u001b[0m \u001b[38;5;28;43mself\u001b[39;49m\u001b[38;5;241;43m.\u001b[39;49m\u001b[43mconnect\u001b[49m\u001b[43m(\u001b[49m\u001b[43m)\u001b[49m\n",
      "File \u001b[1;32mC:\\ProgramData\\Anaconda3\\lib\\site-packages\\pyquil\\api\\_qvm.py:120\u001b[0m, in \u001b[0;36mQVM.connect\u001b[1;34m(self)\u001b[0m\n\u001b[0;32m    118\u001b[0m \u001b[38;5;28;01mdef\u001b[39;00m \u001b[38;5;21mconnect\u001b[39m(\u001b[38;5;28mself\u001b[39m) \u001b[38;5;241m-\u001b[39m\u001b[38;5;241m>\u001b[39m \u001b[38;5;28;01mNone\u001b[39;00m:\n\u001b[0;32m    119\u001b[0m     \u001b[38;5;28;01mtry\u001b[39;00m:\n\u001b[1;32m--> 120\u001b[0m         version \u001b[38;5;241m=\u001b[39m \u001b[38;5;28;43mself\u001b[39;49m\u001b[38;5;241;43m.\u001b[39;49m\u001b[43mget_version_info\u001b[49m\u001b[43m(\u001b[49m\u001b[43m)\u001b[49m\n\u001b[0;32m    121\u001b[0m         check_qvm_version(version)\n\u001b[0;32m    122\u001b[0m     \u001b[38;5;28;01mexcept\u001b[39;00m \u001b[38;5;167;01mConnectionError\u001b[39;00m:\n",
      "File \u001b[1;32mC:\\ProgramData\\Anaconda3\\lib\\site-packages\\pyquil\\api\\_qvm.py:175\u001b[0m, in \u001b[0;36mQVM.get_version_info\u001b[1;34m(self)\u001b[0m\n\u001b[0;32m    169\u001b[0m \u001b[38;5;28;01mdef\u001b[39;00m \u001b[38;5;21mget_version_info\u001b[39m(\u001b[38;5;28mself\u001b[39m) \u001b[38;5;241m-\u001b[39m\u001b[38;5;241m>\u001b[39m \u001b[38;5;28mstr\u001b[39m:\n\u001b[0;32m    170\u001b[0m     \u001b[38;5;124;03m\"\"\"\u001b[39;00m\n\u001b[0;32m    171\u001b[0m \u001b[38;5;124;03m    Return version information for the QVM.\u001b[39;00m\n\u001b[0;32m    172\u001b[0m \n\u001b[0;32m    173\u001b[0m \u001b[38;5;124;03m    :return: String with version information\u001b[39;00m\n\u001b[0;32m    174\u001b[0m \u001b[38;5;124;03m    \"\"\"\u001b[39;00m\n\u001b[1;32m--> 175\u001b[0m     \u001b[38;5;28;01mreturn\u001b[39;00m \u001b[38;5;28;43mself\u001b[39;49m\u001b[38;5;241;43m.\u001b[39;49m\u001b[43m_qvm_client\u001b[49m\u001b[38;5;241;43m.\u001b[39;49m\u001b[43mget_version\u001b[49m\u001b[43m(\u001b[49m\u001b[43m)\u001b[49m\n",
      "File \u001b[1;32mC:\\ProgramData\\Anaconda3\\lib\\site-packages\\pyquil\\api\\_qvm_client.py:176\u001b[0m, in \u001b[0;36mQVMClient.get_version\u001b[1;34m(self)\u001b[0m\n\u001b[0;32m    172\u001b[0m \u001b[38;5;28;01mdef\u001b[39;00m \u001b[38;5;21mget_version\u001b[39m(\u001b[38;5;28mself\u001b[39m) \u001b[38;5;241m-\u001b[39m\u001b[38;5;241m>\u001b[39m \u001b[38;5;28mstr\u001b[39m:\n\u001b[0;32m    173\u001b[0m     \u001b[38;5;124;03m\"\"\"\u001b[39;00m\n\u001b[0;32m    174\u001b[0m \u001b[38;5;124;03m    Get version info for QVM server.\u001b[39;00m\n\u001b[0;32m    175\u001b[0m \u001b[38;5;124;03m    \"\"\"\u001b[39;00m\n\u001b[1;32m--> 176\u001b[0m     \u001b[38;5;28;01mreturn\u001b[39;00m \u001b[38;5;28;43mself\u001b[39;49m\u001b[38;5;241;43m.\u001b[39;49m\u001b[43m_post_json\u001b[49m\u001b[43m(\u001b[49m\u001b[43m{\u001b[49m\u001b[38;5;124;43m\"\u001b[39;49m\u001b[38;5;124;43mtype\u001b[39;49m\u001b[38;5;124;43m\"\u001b[39;49m\u001b[43m:\u001b[49m\u001b[43m \u001b[49m\u001b[38;5;124;43m\"\u001b[39;49m\u001b[38;5;124;43mversion\u001b[39;49m\u001b[38;5;124;43m\"\u001b[39;49m\u001b[43m}\u001b[49m\u001b[43m)\u001b[49m\u001b[38;5;241m.\u001b[39mtext\u001b[38;5;241m.\u001b[39msplit()[\u001b[38;5;241m0\u001b[39m]\n",
      "File \u001b[1;32mC:\\ProgramData\\Anaconda3\\lib\\site-packages\\pyquil\\api\\_qvm_client.py:259\u001b[0m, in \u001b[0;36mQVMClient._post_json\u001b[1;34m(self, json)\u001b[0m\n\u001b[0;32m    257\u001b[0m \u001b[38;5;28;01mdef\u001b[39;00m \u001b[38;5;21m_post_json\u001b[39m(\u001b[38;5;28mself\u001b[39m, json: Dict[\u001b[38;5;28mstr\u001b[39m, Any]) \u001b[38;5;241m-\u001b[39m\u001b[38;5;241m>\u001b[39m httpx\u001b[38;5;241m.\u001b[39mResponse:\n\u001b[0;32m    258\u001b[0m     \u001b[38;5;28;01mwith\u001b[39;00m \u001b[38;5;28mself\u001b[39m\u001b[38;5;241m.\u001b[39m_http_client() \u001b[38;5;28;01mas\u001b[39;00m http:  \u001b[38;5;66;03m# type: httpx.Client\u001b[39;00m\n\u001b[1;32m--> 259\u001b[0m         response \u001b[38;5;241m=\u001b[39m \u001b[43mhttp\u001b[49m\u001b[38;5;241;43m.\u001b[39;49m\u001b[43mpost\u001b[49m\u001b[43m(\u001b[49m\u001b[38;5;124;43m\"\u001b[39;49m\u001b[38;5;124;43m/\u001b[39;49m\u001b[38;5;124;43m\"\u001b[39;49m\u001b[43m,\u001b[49m\u001b[43m \u001b[49m\u001b[43mjson\u001b[49m\u001b[38;5;241;43m=\u001b[39;49m\u001b[43mjson\u001b[49m\u001b[43m)\u001b[49m\n\u001b[0;32m    260\u001b[0m         \u001b[38;5;28;01mif\u001b[39;00m response\u001b[38;5;241m.\u001b[39mstatus_code \u001b[38;5;241m>\u001b[39m\u001b[38;5;241m=\u001b[39m \u001b[38;5;241m400\u001b[39m:\n\u001b[0;32m    261\u001b[0m             \u001b[38;5;28;01mraise\u001b[39;00m \u001b[38;5;28mself\u001b[39m\u001b[38;5;241m.\u001b[39m_parse_error(response)\n",
      "File \u001b[1;32mC:\\ProgramData\\Anaconda3\\lib\\site-packages\\httpx\\_client.py:1130\u001b[0m, in \u001b[0;36mClient.post\u001b[1;34m(self, url, content, data, files, json, params, headers, cookies, auth, follow_redirects, timeout, extensions)\u001b[0m\n\u001b[0;32m   1109\u001b[0m \u001b[38;5;28;01mdef\u001b[39;00m \u001b[38;5;21mpost\u001b[39m(\n\u001b[0;32m   1110\u001b[0m     \u001b[38;5;28mself\u001b[39m,\n\u001b[0;32m   1111\u001b[0m     url: URLTypes,\n\u001b[1;32m   (...)\u001b[0m\n\u001b[0;32m   1123\u001b[0m     extensions: typing\u001b[38;5;241m.\u001b[39mOptional[\u001b[38;5;28mdict\u001b[39m] \u001b[38;5;241m=\u001b[39m \u001b[38;5;28;01mNone\u001b[39;00m,\n\u001b[0;32m   1124\u001b[0m ) \u001b[38;5;241m-\u001b[39m\u001b[38;5;241m>\u001b[39m Response:\n\u001b[0;32m   1125\u001b[0m     \u001b[38;5;124;03m\"\"\"\u001b[39;00m\n\u001b[0;32m   1126\u001b[0m \u001b[38;5;124;03m    Send a `POST` request.\u001b[39;00m\n\u001b[0;32m   1127\u001b[0m \n\u001b[0;32m   1128\u001b[0m \u001b[38;5;124;03m    **Parameters**: See `httpx.request`.\u001b[39;00m\n\u001b[0;32m   1129\u001b[0m \u001b[38;5;124;03m    \"\"\"\u001b[39;00m\n\u001b[1;32m-> 1130\u001b[0m     \u001b[38;5;28;01mreturn\u001b[39;00m \u001b[38;5;28;43mself\u001b[39;49m\u001b[38;5;241;43m.\u001b[39;49m\u001b[43mrequest\u001b[49m\u001b[43m(\u001b[49m\n\u001b[0;32m   1131\u001b[0m \u001b[43m        \u001b[49m\u001b[38;5;124;43m\"\u001b[39;49m\u001b[38;5;124;43mPOST\u001b[39;49m\u001b[38;5;124;43m\"\u001b[39;49m\u001b[43m,\u001b[49m\n\u001b[0;32m   1132\u001b[0m \u001b[43m        \u001b[49m\u001b[43murl\u001b[49m\u001b[43m,\u001b[49m\n\u001b[0;32m   1133\u001b[0m \u001b[43m        \u001b[49m\u001b[43mcontent\u001b[49m\u001b[38;5;241;43m=\u001b[39;49m\u001b[43mcontent\u001b[49m\u001b[43m,\u001b[49m\n\u001b[0;32m   1134\u001b[0m \u001b[43m        \u001b[49m\u001b[43mdata\u001b[49m\u001b[38;5;241;43m=\u001b[39;49m\u001b[43mdata\u001b[49m\u001b[43m,\u001b[49m\n\u001b[0;32m   1135\u001b[0m \u001b[43m        \u001b[49m\u001b[43mfiles\u001b[49m\u001b[38;5;241;43m=\u001b[39;49m\u001b[43mfiles\u001b[49m\u001b[43m,\u001b[49m\n\u001b[0;32m   1136\u001b[0m \u001b[43m        \u001b[49m\u001b[43mjson\u001b[49m\u001b[38;5;241;43m=\u001b[39;49m\u001b[43mjson\u001b[49m\u001b[43m,\u001b[49m\n\u001b[0;32m   1137\u001b[0m \u001b[43m        \u001b[49m\u001b[43mparams\u001b[49m\u001b[38;5;241;43m=\u001b[39;49m\u001b[43mparams\u001b[49m\u001b[43m,\u001b[49m\n\u001b[0;32m   1138\u001b[0m \u001b[43m        \u001b[49m\u001b[43mheaders\u001b[49m\u001b[38;5;241;43m=\u001b[39;49m\u001b[43mheaders\u001b[49m\u001b[43m,\u001b[49m\n\u001b[0;32m   1139\u001b[0m \u001b[43m        \u001b[49m\u001b[43mcookies\u001b[49m\u001b[38;5;241;43m=\u001b[39;49m\u001b[43mcookies\u001b[49m\u001b[43m,\u001b[49m\n\u001b[0;32m   1140\u001b[0m \u001b[43m        \u001b[49m\u001b[43mauth\u001b[49m\u001b[38;5;241;43m=\u001b[39;49m\u001b[43mauth\u001b[49m\u001b[43m,\u001b[49m\n\u001b[0;32m   1141\u001b[0m \u001b[43m        \u001b[49m\u001b[43mfollow_redirects\u001b[49m\u001b[38;5;241;43m=\u001b[39;49m\u001b[43mfollow_redirects\u001b[49m\u001b[43m,\u001b[49m\n\u001b[0;32m   1142\u001b[0m \u001b[43m        \u001b[49m\u001b[43mtimeout\u001b[49m\u001b[38;5;241;43m=\u001b[39;49m\u001b[43mtimeout\u001b[49m\u001b[43m,\u001b[49m\n\u001b[0;32m   1143\u001b[0m \u001b[43m        \u001b[49m\u001b[43mextensions\u001b[49m\u001b[38;5;241;43m=\u001b[39;49m\u001b[43mextensions\u001b[49m\u001b[43m,\u001b[49m\n\u001b[0;32m   1144\u001b[0m \u001b[43m    \u001b[49m\u001b[43m)\u001b[49m\n",
      "File \u001b[1;32mC:\\ProgramData\\Anaconda3\\lib\\site-packages\\httpx\\_client.py:815\u001b[0m, in \u001b[0;36mClient.request\u001b[1;34m(self, method, url, content, data, files, json, params, headers, cookies, auth, follow_redirects, timeout, extensions)\u001b[0m\n\u001b[0;32m    800\u001b[0m     warnings\u001b[38;5;241m.\u001b[39mwarn(message, \u001b[38;5;167;01mDeprecationWarning\u001b[39;00m)\n\u001b[0;32m    802\u001b[0m request \u001b[38;5;241m=\u001b[39m \u001b[38;5;28mself\u001b[39m\u001b[38;5;241m.\u001b[39mbuild_request(\n\u001b[0;32m    803\u001b[0m     method\u001b[38;5;241m=\u001b[39mmethod,\n\u001b[0;32m    804\u001b[0m     url\u001b[38;5;241m=\u001b[39murl,\n\u001b[1;32m   (...)\u001b[0m\n\u001b[0;32m    813\u001b[0m     extensions\u001b[38;5;241m=\u001b[39mextensions,\n\u001b[0;32m    814\u001b[0m )\n\u001b[1;32m--> 815\u001b[0m \u001b[38;5;28;01mreturn\u001b[39;00m \u001b[38;5;28;43mself\u001b[39;49m\u001b[38;5;241;43m.\u001b[39;49m\u001b[43msend\u001b[49m\u001b[43m(\u001b[49m\u001b[43mrequest\u001b[49m\u001b[43m,\u001b[49m\u001b[43m \u001b[49m\u001b[43mauth\u001b[49m\u001b[38;5;241;43m=\u001b[39;49m\u001b[43mauth\u001b[49m\u001b[43m,\u001b[49m\u001b[43m \u001b[49m\u001b[43mfollow_redirects\u001b[49m\u001b[38;5;241;43m=\u001b[39;49m\u001b[43mfollow_redirects\u001b[49m\u001b[43m)\u001b[49m\n",
      "File \u001b[1;32mC:\\ProgramData\\Anaconda3\\lib\\site-packages\\httpx\\_client.py:902\u001b[0m, in \u001b[0;36mClient.send\u001b[1;34m(self, request, stream, auth, follow_redirects)\u001b[0m\n\u001b[0;32m    894\u001b[0m follow_redirects \u001b[38;5;241m=\u001b[39m (\n\u001b[0;32m    895\u001b[0m     \u001b[38;5;28mself\u001b[39m\u001b[38;5;241m.\u001b[39mfollow_redirects\n\u001b[0;32m    896\u001b[0m     \u001b[38;5;28;01mif\u001b[39;00m \u001b[38;5;28misinstance\u001b[39m(follow_redirects, UseClientDefault)\n\u001b[0;32m    897\u001b[0m     \u001b[38;5;28;01melse\u001b[39;00m follow_redirects\n\u001b[0;32m    898\u001b[0m )\n\u001b[0;32m    900\u001b[0m auth \u001b[38;5;241m=\u001b[39m \u001b[38;5;28mself\u001b[39m\u001b[38;5;241m.\u001b[39m_build_request_auth(request, auth)\n\u001b[1;32m--> 902\u001b[0m response \u001b[38;5;241m=\u001b[39m \u001b[38;5;28;43mself\u001b[39;49m\u001b[38;5;241;43m.\u001b[39;49m\u001b[43m_send_handling_auth\u001b[49m\u001b[43m(\u001b[49m\n\u001b[0;32m    903\u001b[0m \u001b[43m    \u001b[49m\u001b[43mrequest\u001b[49m\u001b[43m,\u001b[49m\n\u001b[0;32m    904\u001b[0m \u001b[43m    \u001b[49m\u001b[43mauth\u001b[49m\u001b[38;5;241;43m=\u001b[39;49m\u001b[43mauth\u001b[49m\u001b[43m,\u001b[49m\n\u001b[0;32m    905\u001b[0m \u001b[43m    \u001b[49m\u001b[43mfollow_redirects\u001b[49m\u001b[38;5;241;43m=\u001b[39;49m\u001b[43mfollow_redirects\u001b[49m\u001b[43m,\u001b[49m\n\u001b[0;32m    906\u001b[0m \u001b[43m    \u001b[49m\u001b[43mhistory\u001b[49m\u001b[38;5;241;43m=\u001b[39;49m\u001b[43m[\u001b[49m\u001b[43m]\u001b[49m\u001b[43m,\u001b[49m\n\u001b[0;32m    907\u001b[0m \u001b[43m\u001b[49m\u001b[43m)\u001b[49m\n\u001b[0;32m    908\u001b[0m \u001b[38;5;28;01mtry\u001b[39;00m:\n\u001b[0;32m    909\u001b[0m     \u001b[38;5;28;01mif\u001b[39;00m \u001b[38;5;129;01mnot\u001b[39;00m stream:\n",
      "File \u001b[1;32mC:\\ProgramData\\Anaconda3\\lib\\site-packages\\httpx\\_client.py:930\u001b[0m, in \u001b[0;36mClient._send_handling_auth\u001b[1;34m(self, request, auth, follow_redirects, history)\u001b[0m\n\u001b[0;32m    927\u001b[0m request \u001b[38;5;241m=\u001b[39m \u001b[38;5;28mnext\u001b[39m(auth_flow)\n\u001b[0;32m    929\u001b[0m \u001b[38;5;28;01mwhile\u001b[39;00m \u001b[38;5;28;01mTrue\u001b[39;00m:\n\u001b[1;32m--> 930\u001b[0m     response \u001b[38;5;241m=\u001b[39m \u001b[38;5;28;43mself\u001b[39;49m\u001b[38;5;241;43m.\u001b[39;49m\u001b[43m_send_handling_redirects\u001b[49m\u001b[43m(\u001b[49m\n\u001b[0;32m    931\u001b[0m \u001b[43m        \u001b[49m\u001b[43mrequest\u001b[49m\u001b[43m,\u001b[49m\n\u001b[0;32m    932\u001b[0m \u001b[43m        \u001b[49m\u001b[43mfollow_redirects\u001b[49m\u001b[38;5;241;43m=\u001b[39;49m\u001b[43mfollow_redirects\u001b[49m\u001b[43m,\u001b[49m\n\u001b[0;32m    933\u001b[0m \u001b[43m        \u001b[49m\u001b[43mhistory\u001b[49m\u001b[38;5;241;43m=\u001b[39;49m\u001b[43mhistory\u001b[49m\u001b[43m,\u001b[49m\n\u001b[0;32m    934\u001b[0m \u001b[43m    \u001b[49m\u001b[43m)\u001b[49m\n\u001b[0;32m    935\u001b[0m     \u001b[38;5;28;01mtry\u001b[39;00m:\n\u001b[0;32m    936\u001b[0m         \u001b[38;5;28;01mtry\u001b[39;00m:\n",
      "File \u001b[1;32mC:\\ProgramData\\Anaconda3\\lib\\site-packages\\httpx\\_client.py:967\u001b[0m, in \u001b[0;36mClient._send_handling_redirects\u001b[1;34m(self, request, follow_redirects, history)\u001b[0m\n\u001b[0;32m    964\u001b[0m \u001b[38;5;28;01mfor\u001b[39;00m hook \u001b[38;5;129;01min\u001b[39;00m \u001b[38;5;28mself\u001b[39m\u001b[38;5;241m.\u001b[39m_event_hooks[\u001b[38;5;124m\"\u001b[39m\u001b[38;5;124mrequest\u001b[39m\u001b[38;5;124m\"\u001b[39m]:\n\u001b[0;32m    965\u001b[0m     hook(request)\n\u001b[1;32m--> 967\u001b[0m response \u001b[38;5;241m=\u001b[39m \u001b[38;5;28;43mself\u001b[39;49m\u001b[38;5;241;43m.\u001b[39;49m\u001b[43m_send_single_request\u001b[49m\u001b[43m(\u001b[49m\u001b[43mrequest\u001b[49m\u001b[43m)\u001b[49m\n\u001b[0;32m    968\u001b[0m \u001b[38;5;28;01mtry\u001b[39;00m:\n\u001b[0;32m    969\u001b[0m     \u001b[38;5;28;01mfor\u001b[39;00m hook \u001b[38;5;129;01min\u001b[39;00m \u001b[38;5;28mself\u001b[39m\u001b[38;5;241m.\u001b[39m_event_hooks[\u001b[38;5;124m\"\u001b[39m\u001b[38;5;124mresponse\u001b[39m\u001b[38;5;124m\"\u001b[39m]:\n",
      "File \u001b[1;32mC:\\ProgramData\\Anaconda3\\lib\\site-packages\\httpx\\_client.py:1003\u001b[0m, in \u001b[0;36mClient._send_single_request\u001b[1;34m(self, request)\u001b[0m\n\u001b[0;32m    998\u001b[0m     \u001b[38;5;28;01mraise\u001b[39;00m \u001b[38;5;167;01mRuntimeError\u001b[39;00m(\n\u001b[0;32m    999\u001b[0m         \u001b[38;5;124m\"\u001b[39m\u001b[38;5;124mAttempted to send an async request with a sync Client instance.\u001b[39m\u001b[38;5;124m\"\u001b[39m\n\u001b[0;32m   1000\u001b[0m     )\n\u001b[0;32m   1002\u001b[0m \u001b[38;5;28;01mwith\u001b[39;00m request_context(request\u001b[38;5;241m=\u001b[39mrequest):\n\u001b[1;32m-> 1003\u001b[0m     response \u001b[38;5;241m=\u001b[39m \u001b[43mtransport\u001b[49m\u001b[38;5;241;43m.\u001b[39;49m\u001b[43mhandle_request\u001b[49m\u001b[43m(\u001b[49m\u001b[43mrequest\u001b[49m\u001b[43m)\u001b[49m\n\u001b[0;32m   1005\u001b[0m \u001b[38;5;28;01massert\u001b[39;00m \u001b[38;5;28misinstance\u001b[39m(response\u001b[38;5;241m.\u001b[39mstream, SyncByteStream)\n\u001b[0;32m   1007\u001b[0m response\u001b[38;5;241m.\u001b[39mrequest \u001b[38;5;241m=\u001b[39m request\n",
      "File \u001b[1;32mC:\\ProgramData\\Anaconda3\\lib\\site-packages\\httpx\\_transports\\default.py:218\u001b[0m, in \u001b[0;36mHTTPTransport.handle_request\u001b[1;34m(self, request)\u001b[0m\n\u001b[0;32m    205\u001b[0m req \u001b[38;5;241m=\u001b[39m httpcore\u001b[38;5;241m.\u001b[39mRequest(\n\u001b[0;32m    206\u001b[0m     method\u001b[38;5;241m=\u001b[39mrequest\u001b[38;5;241m.\u001b[39mmethod,\n\u001b[0;32m    207\u001b[0m     url\u001b[38;5;241m=\u001b[39mhttpcore\u001b[38;5;241m.\u001b[39mURL(\n\u001b[1;32m   (...)\u001b[0m\n\u001b[0;32m    215\u001b[0m     extensions\u001b[38;5;241m=\u001b[39mrequest\u001b[38;5;241m.\u001b[39mextensions,\n\u001b[0;32m    216\u001b[0m )\n\u001b[0;32m    217\u001b[0m \u001b[38;5;28;01mwith\u001b[39;00m map_httpcore_exceptions():\n\u001b[1;32m--> 218\u001b[0m     resp \u001b[38;5;241m=\u001b[39m \u001b[38;5;28mself\u001b[39m\u001b[38;5;241m.\u001b[39m_pool\u001b[38;5;241m.\u001b[39mhandle_request(req)\n\u001b[0;32m    220\u001b[0m \u001b[38;5;28;01massert\u001b[39;00m \u001b[38;5;28misinstance\u001b[39m(resp\u001b[38;5;241m.\u001b[39mstream, typing\u001b[38;5;241m.\u001b[39mIterable)\n\u001b[0;32m    222\u001b[0m \u001b[38;5;28;01mreturn\u001b[39;00m Response(\n\u001b[0;32m    223\u001b[0m     status_code\u001b[38;5;241m=\u001b[39mresp\u001b[38;5;241m.\u001b[39mstatus,\n\u001b[0;32m    224\u001b[0m     headers\u001b[38;5;241m=\u001b[39mresp\u001b[38;5;241m.\u001b[39mheaders,\n\u001b[0;32m    225\u001b[0m     stream\u001b[38;5;241m=\u001b[39mResponseStream(resp\u001b[38;5;241m.\u001b[39mstream),\n\u001b[0;32m    226\u001b[0m     extensions\u001b[38;5;241m=\u001b[39mresp\u001b[38;5;241m.\u001b[39mextensions,\n\u001b[0;32m    227\u001b[0m )\n",
      "File \u001b[1;32mC:\\ProgramData\\Anaconda3\\lib\\contextlib.py:137\u001b[0m, in \u001b[0;36m_GeneratorContextManager.__exit__\u001b[1;34m(self, typ, value, traceback)\u001b[0m\n\u001b[0;32m    135\u001b[0m     value \u001b[38;5;241m=\u001b[39m typ()\n\u001b[0;32m    136\u001b[0m \u001b[38;5;28;01mtry\u001b[39;00m:\n\u001b[1;32m--> 137\u001b[0m     \u001b[38;5;28;43mself\u001b[39;49m\u001b[38;5;241;43m.\u001b[39;49m\u001b[43mgen\u001b[49m\u001b[38;5;241;43m.\u001b[39;49m\u001b[43mthrow\u001b[49m\u001b[43m(\u001b[49m\u001b[43mtyp\u001b[49m\u001b[43m,\u001b[49m\u001b[43m \u001b[49m\u001b[43mvalue\u001b[49m\u001b[43m,\u001b[49m\u001b[43m \u001b[49m\u001b[43mtraceback\u001b[49m\u001b[43m)\u001b[49m\n\u001b[0;32m    138\u001b[0m \u001b[38;5;28;01mexcept\u001b[39;00m \u001b[38;5;167;01mStopIteration\u001b[39;00m \u001b[38;5;28;01mas\u001b[39;00m exc:\n\u001b[0;32m    139\u001b[0m     \u001b[38;5;66;03m# Suppress StopIteration *unless* it's the same exception that\u001b[39;00m\n\u001b[0;32m    140\u001b[0m     \u001b[38;5;66;03m# was passed to throw().  This prevents a StopIteration\u001b[39;00m\n\u001b[0;32m    141\u001b[0m     \u001b[38;5;66;03m# raised inside the \"with\" statement from being suppressed.\u001b[39;00m\n\u001b[0;32m    142\u001b[0m     \u001b[38;5;28;01mreturn\u001b[39;00m exc \u001b[38;5;129;01mis\u001b[39;00m \u001b[38;5;129;01mnot\u001b[39;00m value\n",
      "File \u001b[1;32mC:\\ProgramData\\Anaconda3\\lib\\site-packages\\httpx\\_transports\\default.py:77\u001b[0m, in \u001b[0;36mmap_httpcore_exceptions\u001b[1;34m()\u001b[0m\n\u001b[0;32m     74\u001b[0m     \u001b[38;5;28;01mraise\u001b[39;00m\n\u001b[0;32m     76\u001b[0m message \u001b[38;5;241m=\u001b[39m \u001b[38;5;28mstr\u001b[39m(exc)\n\u001b[1;32m---> 77\u001b[0m \u001b[38;5;28;01mraise\u001b[39;00m mapped_exc(message) \u001b[38;5;28;01mfrom\u001b[39;00m \u001b[38;5;21;01mexc\u001b[39;00m\n",
      "\u001b[1;31mConnectError\u001b[0m: [WinError 10061] No connection could be made because the target machine actively refused it"
     ]
    }
   ],
   "source": [
    "qc = get_qc(\"9q-square-qvm\")"
   ]
  },
  {
   "cell_type": "markdown",
   "id": "693551ed",
   "metadata": {},
   "source": [
    "# Programmable recipe\n",
    "![alt text](rotation_definition.png \"Title\")\n",
    "$$R(\\theta, \\phi) = R_z(-\\frac{\\phi}{2})R_y(\\theta)R_z(\\frac{\\phi}{2})$$\n",
    "![alt text](programmble_decomposition.png \"Title\")"
   ]
  },
  {
   "cell_type": "code",
   "execution_count": null,
   "id": "fa760a36",
   "metadata": {},
   "outputs": [],
   "source": [
    "# program_unitary(G, n_qubits=2)"
   ]
  },
  {
   "cell_type": "markdown",
   "id": "3b7306fc",
   "metadata": {},
   "source": [
    "$$R(\\theta, \\phi) = R_z(-\\frac{\\phi}{2})R_y(\\theta)R_z(\\frac{\\phi}{2})\\\\\n",
    "U(2) = R(\\theta, \\phi) R_z(\\phi_z)\\\\\n",
    "or\\\\\n",
    "U(2) = R_z(\\theta) R_y(\\phi) R_z(\\psi)\n",
    "$$"
   ]
  },
  {
   "cell_type": "code",
   "execution_count": 6,
   "id": "c70a359c",
   "metadata": {},
   "outputs": [],
   "source": [
    "G = Program( CPHASE01(-np.pi/2, control=0, target=1), CPHASE10(-np.pi/2, control=0, target=1) )"
   ]
  },
  {
   "cell_type": "code",
   "execution_count": 8,
   "id": "46c25714",
   "metadata": {},
   "outputs": [],
   "source": [
    "sample = give_random_two_qubit_circuit([0,1])\n",
    "# print( qc.compile( sample ) , len(sample), len(qc.compile( sample )))"
   ]
  },
  {
   "cell_type": "code",
   "execution_count": 9,
   "id": "32ba2941",
   "metadata": {},
   "outputs": [
    {
     "data": {
      "text/plain": [
       "array([[1.000000e+00+0.j, 0.000000e+00+0.j, 0.000000e+00+0.j,\n",
       "        0.000000e+00+0.j],\n",
       "       [0.000000e+00+0.j, 6.123234e-17-1.j, 0.000000e+00+0.j,\n",
       "        0.000000e+00+0.j],\n",
       "       [0.000000e+00+0.j, 0.000000e+00+0.j, 6.123234e-17-1.j,\n",
       "        0.000000e+00+0.j],\n",
       "       [0.000000e+00+0.j, 0.000000e+00+0.j, 0.000000e+00+0.j,\n",
       "        1.000000e+00+0.j]])"
      ]
     },
     "execution_count": 9,
     "metadata": {},
     "output_type": "execute_result"
    }
   ],
   "source": [
    "program_unitary(G, n_qubits=2)"
   ]
  },
  {
   "cell_type": "markdown",
   "id": "988a804c",
   "metadata": {},
   "source": [
    "# Visualization\n",
    "## single-qubit"
   ]
  },
  {
   "cell_type": "code",
   "execution_count": null,
   "id": "e0ec4680",
   "metadata": {},
   "outputs": [],
   "source": [
    "num_samples = 2021\n",
    "\n",
    "single_qubit_unitary_samples = [program_unitary(give_random_single_qubit_gate(qubit=0), n_qubits = 1) for _ in range(num_samples)]"
   ]
  },
  {
   "cell_type": "code",
   "execution_count": null,
   "id": "ef0e7929",
   "metadata": {},
   "outputs": [],
   "source": [
    "single_zero_state_density_matrix = np.array([[1,0],[0,0]]) #|0><0| state\n",
    "# What is U|0><0|U^T\n",
    "single_final_states = np.array( [np.dot( np.dot(u,single_zero_state_density_matrix), u.conj().T ) for u in single_qubit_unitary_samples] )"
   ]
  },
  {
   "cell_type": "code",
   "execution_count": 14,
   "id": "c0670965",
   "metadata": {},
   "outputs": [],
   "source": [
    "# lets see where U|0><0|U^T is likely found\n",
    "single_qubit_bloch_vectors = np.array([convert_to_bloch_vector(s) for s in single_final_states])"
   ]
  },
  {
   "cell_type": "code",
   "execution_count": 15,
   "id": "379f9eac",
   "metadata": {},
   "outputs": [
    {
     "data": {
      "image/png": "[encoded data removed]",
      "text/plain": [
       "<Figure size 432x432 with 1 Axes>"
      ]
     },
     "metadata": {
      "needs_background": "light"
     },
     "output_type": "display_data"
    }
   ],
   "source": [
    "plot_bloch_sphere(single_qubit_bloch_vectors)"
   ]
  },
  {
   "cell_type": "code",
   "execution_count": null,
   "id": "464ad046",
   "metadata": {},
   "outputs": [],
   "source": []
  },
  {
   "cell_type": "code",
   "execution_count": null,
   "id": "1eac8fea",
   "metadata": {},
   "outputs": [],
   "source": []
  },
  {
   "cell_type": "code",
   "execution_count": null,
   "id": "273f05a4",
   "metadata": {},
   "outputs": [],
   "source": []
  },
  {
   "cell_type": "code",
   "execution_count": null,
   "id": "0bb0baf3",
   "metadata": {},
   "outputs": [],
   "source": []
  },
  {
   "cell_type": "markdown",
   "id": "2cea2298",
   "metadata": {},
   "source": [
    "## Two qubits"
   ]
  },
  {
   "cell_type": "code",
   "execution_count": null,
   "id": "999862ae",
   "metadata": {},
   "outputs": [],
   "source": [
    "num_samples = 2021\n",
    "\n",
    "two_qubit_unitary_samples = [program_unitary(give_random_two_quibt_circuit([0,1]), n_qubits = 2) for _ in range(num_samples)]"
   ]
  },
  {
   "cell_type": "code",
   "execution_count": null,
   "id": "a212725f",
   "metadata": {},
   "outputs": [],
   "source": [
    "two_zero_state_density_matrix = np.kron( np.array([[1,0],[0,0]]) , np.array([[1,0],[0,0]]) )\n",
    "two_final_states = np.array( [np.dot( np.dot(u,two_zero_state_density_matrix), u.conj().T ) for u in two_qubit_unitary_samples] )"
   ]
  },
  {
   "cell_type": "code",
   "execution_count": null,
   "id": "92553aa6",
   "metadata": {},
   "outputs": [],
   "source": []
  },
  {
   "cell_type": "code",
   "execution_count": null,
   "id": "de529849",
   "metadata": {},
   "outputs": [],
   "source": [
    "X = np.array([[0, 1], [1, 0]])\n",
    "Y = np.array([[0, -1j], [1j, 0]])\n",
    "Z = np.array([[1, 0], [0, -1]])\n",
    "I = np.eye(2)\n",
    "\n",
    "two_qubit_unitary_basis = np.array([ [ np.kron(x,y) for x in [X,Y,Z] ] for y in [X,Y,Z] ])\n",
    "# two_qubit_unitary_basis[0]"
   ]
  },
  {
   "cell_type": "code",
   "execution_count": null,
   "id": "18f3480b",
   "metadata": {},
   "outputs": [],
   "source": [
    "# Used the mixed state simulator so we could have the density matrix for this part!\n",
    "def reduce_to_bloch_vector(rho, sigma_arr:np.array):\n",
    "    \"\"\"Reduce a density matrix to a Bloch vector.\"\"\"\n",
    "    ax = np.trace(np.dot(rho, sigma_arr[0])).real\n",
    "    ay = np.trace(np.dot(rho, sigma_arr[1])).real\n",
    "    az = np.trace(np.dot(rho, sigma_arr[2])).real\n",
    "    return [ax, ay, az]"
   ]
  },
  {
   "cell_type": "code",
   "execution_count": null,
   "id": "73c9cb41",
   "metadata": {
    "scrolled": true
   },
   "outputs": [],
   "source": [
    "two_qubit_bloch_vectors = np.array([reduce_to_bloch_vector(s,two_qubit_unitary_basis[2]) for s in two_final_states])\n",
    "plot_bloch_sphere(two_qubit_bloch_vectors)"
   ]
  },
  {
   "cell_type": "markdown",
   "id": "d922a2e5",
   "metadata": {},
   "source": [
    "### Verification of Haar distribution\n",
    "we need to find out whether the distribution of the points is really uniform over the total space. To do so we first compute the radial distance of points and plot their cumulative histogram. If it grows with the power of 3 then we can be sure that the density of points is uniform in the sphere."
   ]
  },
  {
   "cell_type": "code",
   "execution_count": null,
   "id": "03b2fbd4",
   "metadata": {},
   "outputs": [],
   "source": [
    "r_bloch_vectors = np.sqrt( two_qubit_bloch_vectors[:,0]**2 + two_qubit_bloch_vectors[:,1]**2 + two_qubit_bloch_vectors[:,2]**2)"
   ]
  },
  {
   "cell_type": "code",
   "execution_count": null,
   "id": "3a053e23",
   "metadata": {},
   "outputs": [],
   "source": [
    "n_bins = 10\n",
    "\n",
    "fig, ax = plt.subplots()\n",
    "\n",
    "bins = np.logspace(np.log10(0.1),np.log10(1),n_bins)\n",
    "# plot the cumulative histogram\n",
    "pop, bins, hist_ = ax.hist( r_bloch_vectors, bins, histtype='step',\n",
    "                           cumulative=True, density = True, label='Empirical')\n",
    "ax.set_yscale('log')\n",
    "ax.set_xscale('log')\n",
    "# ax.plot(np.linspace(0,1,10), np.linspace(0,1,10)**slope)\n",
    "ax.plot(bins, bins**3)\n",
    "plt.show()\n"
   ]
  },
  {
   "cell_type": "code",
   "execution_count": null,
   "id": "da603ee7",
   "metadata": {},
   "outputs": [],
   "source": [
    "non_zero_mask = pop != 0\n",
    "regression_pop = pop[non_zero_mask]\n",
    "regression_bins = np.array( bins[:-1] ) [non_zero_mask]\n",
    "exp, intercept = np.polyfit(np.log(regression_bins), np.log(regression_pop), deg = 1)\n",
    "exp, intercept"
   ]
  },
  {
   "cell_type": "code",
   "execution_count": null,
   "id": "2bf7eca9",
   "metadata": {},
   "outputs": [],
   "source": []
  },
  {
   "cell_type": "code",
   "execution_count": null,
   "id": "77091f18",
   "metadata": {},
   "outputs": [],
   "source": [
    "def exponent_of_dist(data):\n",
    "    n_bins = 100\n",
    "    bins = np.logspace(np.log10(0.1),np.log10(1),n_bins)\n",
    "    # plot the cumulative histogram\n",
    "    pop, bins, hist_ = plt.hist( data, bins, cumulative=True, density = True)\n",
    "    # extrapolate the exponent\n",
    "    non_zero_mask = pop != 0\n",
    "    regression_pop = pop[non_zero_mask]\n",
    "    regression_bins = np.array( bins[:-1] ) [non_zero_mask]\n",
    "    exp, intercept = np.polyfit(np.log(regression_bins), np.log(regression_pop), deg = 1)\n",
    "    plt.close()\n",
    "    return exp"
   ]
  },
  {
   "cell_type": "code",
   "execution_count": null,
   "id": "10843967",
   "metadata": {},
   "outputs": [],
   "source": [
    "exp_list = []\n",
    "for i in range(len(two_qubit_unitary_basis)):\n",
    "    two_qubit_bloch_vectors = np.array([reduce_to_bloch_vector(s,two_qubit_unitary_basis[i]) for s in two_final_states])\n",
    "    r_bloch_vectors = np.sqrt( two_qubit_bloch_vectors[:,0]**2 + two_qubit_bloch_vectors[:,1]**2 + two_qubit_bloch_vectors[:,2]**2)\n",
    "    exp_list.append(exponent_of_dist(r_bloch_vectors))\n",
    "exp_list"
   ]
  },
  {
   "cell_type": "markdown",
   "id": "48f06232",
   "metadata": {},
   "source": [
    "# Matrix decomposition verification\n"
   ]
  },
  {
   "cell_type": "code",
   "execution_count": 4,
   "id": "796fa80d",
   "metadata": {},
   "outputs": [],
   "source": [
    "from scipy.stats import unitary_group\n",
    "import cmath"
   ]
  },
  {
   "cell_type": "code",
   "execution_count": 5,
   "id": "2cb866e7",
   "metadata": {},
   "outputs": [],
   "source": [
    "lambda_unitary = np.array([ [1, 1j , 0 , 0],[0, 0, 1j, 1],[0, 0, 1j, -1],[1, -1j, 0, 0] ]) / np.sqrt(2)\n",
    "cnot_arr = np.array([[1,0,0,0],[0,1,0,0],[0,0,0,1],[0,0,1,0]])"
   ]
  },
  {
   "cell_type": "code",
   "execution_count": 6,
   "id": "34d10eaf",
   "metadata": {},
   "outputs": [],
   "source": [
    "def give_v_circuit(alpha, beta, delta, qubits = [0,1]):\n",
    "    prog = Program(CNOT(control=qubits[1], target=qubits[0]),\n",
    "                   RZ(angle = delta, qubit =qubits[0]),\n",
    "                   RY(beta, qubit =qubits[1]),\n",
    "                   CNOT(control=qubits[0], target=qubits[1]))\n",
    "    prog += Program(RY(angle= alpha, qubit = qubits[1]),\n",
    "                    CNOT(control=qubits[1], target=qubits[0]))\n",
    "    return prog"
   ]
  },
  {
   "cell_type": "code",
   "execution_count": 7,
   "id": "554d9320",
   "metadata": {},
   "outputs": [],
   "source": [
    "def matrix_in_magic_basis(matrix):\n",
    "    return np.matmul( lambda_unitary.conj().transpose(), np.matmul(matrix, lambda_unitary) )\n",
    "\n",
    "def matrix_out_magic_basis(magic_matrix):\n",
    "    return np.matmul( lambda_unitary, np.matmul(magic_matrix, lambda_unitary.conj().transpose()) )\n",
    "\n",
    "def phase_distance(complex_arr:np.array):\n",
    "    phases = np.array( [cmath.phase(x) for x in complex_arr] )\n",
    "    phases = np.sort(phases)\n",
    "    phases = [phases[i+1] - phases[i] for i,x in enumerate(phases[:-1])]\n",
    "    return phases\n",
    "\n",
    "def strip_global_factor(matrix):\n",
    "    shape_length = np.shape(matrix)[0]\n",
    "    return matrix / np.linalg.det(matrix)**(1/shape_length)\n",
    "\n",
    "def get_ordered_eig(matrix):\n",
    "    values, vecs = np.linalg.eig(matrix)\n",
    "    order = np.argsort([cmath.phase(x) for x in values])\n",
    "    values = values[order]\n",
    "    vecs = np.transpose(vecs.transpose()[order])\n",
    "    return values, vecs"
   ]
  },
  {
   "cell_type": "code",
   "execution_count": 8,
   "id": "66df6e96",
   "metadata": {},
   "outputs": [],
   "source": [
    "cn_arr = program_unitary( Program(CNOT(control=1, target=0)), n_qubits=2 )"
   ]
  },
  {
   "cell_type": "code",
   "execution_count": 9,
   "id": "03152291",
   "metadata": {},
   "outputs": [
    {
     "data": {
      "text/plain": [
       "array([[1.+0.j, 0.+0.j, 0.+0.j, 0.+0.j],\n",
       "       [0.+0.j, 1.+0.j, 0.+0.j, 0.+0.j],\n",
       "       [0.+0.j, 0.+0.j, 1.+0.j, 0.+0.j],\n",
       "       [0.+0.j, 0.+0.j, 0.+0.j, 1.+0.j]])"
      ]
     },
     "execution_count": 9,
     "metadata": {},
     "output_type": "execute_result"
    }
   ],
   "source": [
    "cn_arr.dot(cn_arr.T)"
   ]
  },
  {
   "cell_type": "code",
   "execution_count": 10,
   "id": "1d1119d5",
   "metadata": {},
   "outputs": [],
   "source": [
    "sigmay = np.array([[0,-1j],[1j,0]])"
   ]
  },
  {
   "cell_type": "code",
   "execution_count": 11,
   "id": "8f228f8c",
   "metadata": {},
   "outputs": [
    {
     "data": {
      "text/plain": [
       "array([[ 0.+0.j,  0.+0.j, -1.+0.j,  0.+0.j],\n",
       "       [ 0.+0.j,  0.+0.j,  0.+0.j,  1.+0.j],\n",
       "       [-1.+0.j,  0.+0.j,  0.+0.j,  0.+0.j],\n",
       "       [ 0.+0.j,  1.+0.j,  0.+0.j,  0.+0.j]])"
      ]
     },
     "execution_count": 11,
     "metadata": {},
     "output_type": "execute_result"
    }
   ],
   "source": [
    "cn_arr.dot(np.kron(sigmay, sigmay).dot(cn_arr))"
   ]
  },
  {
   "cell_type": "code",
   "execution_count": null,
   "id": "9563b115",
   "metadata": {},
   "outputs": [],
   "source": []
  },
  {
   "cell_type": "code",
   "execution_count": 12,
   "id": "3a513a3c",
   "metadata": {},
   "outputs": [],
   "source": [
    "u_matrix = unitary_group.rvs(4)\n",
    "# u_matrix = np.eye(4)"
   ]
  },
  {
   "cell_type": "markdown",
   "id": "da6b7ca2",
   "metadata": {},
   "source": [
    "Strip U of any global phase"
   ]
  },
  {
   "cell_type": "code",
   "execution_count": 13,
   "id": "46b1bc55",
   "metadata": {},
   "outputs": [],
   "source": [
    "u_matrix = strip_global_factor(u_matrix)\n",
    "u_matrix *= np.e**(-1j*np.pi/4)"
   ]
  },
  {
   "cell_type": "code",
   "execution_count": 14,
   "id": "c19282ca",
   "metadata": {},
   "outputs": [],
   "source": [
    "u_magic_matrix = matrix_in_magic_basis(u_matrix)\n",
    "u_u_T = np.dot(u_magic_matrix, u_magic_matrix.transpose())\n",
    "u_u_T_eigen_values, u_u_T_eigen_vectors = get_ordered_eig(u_u_T)\n",
    "# u_u_T_eigen_values, u_u_T_eigen_vectors = np.linalg.eig(u_u_T)"
   ]
  },
  {
   "cell_type": "code",
   "execution_count": 15,
   "id": "f8ca3337",
   "metadata": {},
   "outputs": [
    {
     "data": {
      "text/plain": [
       "(-0.9999999999999994-2.7755575615628904e-16j)"
      ]
     },
     "execution_count": 15,
     "metadata": {},
     "output_type": "execute_result"
    }
   ],
   "source": [
    "np.linalg.det(u_matrix)"
   ]
  },
  {
   "cell_type": "markdown",
   "id": "2086f968",
   "metadata": {},
   "source": [
    "#### V Gate:"
   ]
  },
  {
   "cell_type": "code",
   "execution_count": 16,
   "id": "3f72e0c3",
   "metadata": {},
   "outputs": [
    {
     "data": {
      "text/plain": [
       "array([[ 0.54319887-0.03022665j,  0.        +0.j        ,\n",
       "         0.        +0.j        ,  0.83776376-0.0466179j ],\n",
       "       [ 0.        +0.j        ,  0.29651475+0.01649975j,\n",
       "         0.95341079+0.05305315j,  0.        +0.j        ],\n",
       "       [ 0.        +0.j        ,  0.95341079+0.05305315j,\n",
       "        -0.29651475-0.01649975j,  0.        +0.j        ],\n",
       "       [-0.83776376+0.0466179j ,  0.        +0.j        ,\n",
       "         0.        +0.j        ,  0.54319887-0.03022665j]])"
      ]
     },
     "execution_count": 16,
     "metadata": {},
     "output_type": "execute_result"
    }
   ],
   "source": [
    "# eigen_values_phases = relative_phases(u_u_T_eigen_values)[1:]\n",
    "eigen_values_phases = np.array([cmath.phase(x) for x in u_u_T_eigen_values])\n",
    "alpha, beta, delta = np.array([eigen_values_phases[0] + eigen_values_phases[1],\n",
    "                               eigen_values_phases[0] + eigen_values_phases[2],\n",
    "                               eigen_values_phases[1] + eigen_values_phases[2] ]) / 2\n",
    "v_matrix = program_unitary(give_v_circuit(alpha, beta, delta), n_qubits=2)\n",
    "# v_matrix = v_matrix * np.e**(-1j*np.pi/4)\n",
    "v_matrix"
   ]
  },
  {
   "cell_type": "code",
   "execution_count": 17,
   "id": "29d5bdbc",
   "metadata": {},
   "outputs": [
    {
     "data": {
      "text/plain": [
       "array([-2.10228206, -0.49186649,  0.71421973,  1.87992882])"
      ]
     },
     "execution_count": 17,
     "metadata": {},
     "output_type": "execute_result"
    }
   ],
   "source": [
    "eigen_values_phases"
   ]
  },
  {
   "cell_type": "code",
   "execution_count": 18,
   "id": "0c4acf76",
   "metadata": {},
   "outputs": [],
   "source": [
    "v_magic_matrix = matrix_in_magic_basis(v_matrix)\n",
    "v_v_T = np.dot(v_magic_matrix, v_magic_matrix.transpose())"
   ]
  },
  {
   "cell_type": "code",
   "execution_count": 19,
   "id": "674a9612",
   "metadata": {},
   "outputs": [
    {
     "data": {
      "text/plain": [
       "(-0.9999999999999993-2.7755575615628895e-17j)"
      ]
     },
     "execution_count": 19,
     "metadata": {},
     "output_type": "execute_result"
    }
   ],
   "source": [
    "np.linalg.det(v_magic_matrix)"
   ]
  },
  {
   "cell_type": "markdown",
   "id": "e8f788da",
   "metadata": {},
   "source": [
    "Check whether vv^T and uu^T have same eigenvalues"
   ]
  },
  {
   "cell_type": "code",
   "execution_count": 20,
   "id": "b9d13183",
   "metadata": {},
   "outputs": [
    {
     "data": {
      "text/plain": [
       "([1.6104155729507559, 1.2060862258458114, 1.1657090861854502],\n",
       " [1.6104155729507554, 1.2060862258458114, 1.1657090861854504])"
      ]
     },
     "execution_count": 20,
     "metadata": {},
     "output_type": "execute_result"
    }
   ],
   "source": [
    "v_v_T_eigen_values, v_v_T_eigen_vectors = get_ordered_eig(v_v_T)\n",
    "phase_distance(v_v_T_eigen_values), phase_distance(u_u_T_eigen_values)"
   ]
  },
  {
   "cell_type": "code",
   "execution_count": 21,
   "id": "23682b89",
   "metadata": {},
   "outputs": [
    {
     "data": {
      "text/plain": [
       "(array([-0.50681469-0.86205503j,  0.8814529 -0.47227193j,\n",
       "         0.75560457+0.65502804j, -0.30423237+0.95259785j]),\n",
       " array([-0.50681469-0.86205503j,  0.8814529 -0.47227193j,\n",
       "         0.75560457+0.65502804j, -0.30423237+0.95259785j]))"
      ]
     },
     "execution_count": 21,
     "metadata": {},
     "output_type": "execute_result"
    }
   ],
   "source": [
    "u_u_T_eigen_values, v_v_T_eigen_values"
   ]
  },
  {
   "cell_type": "code",
   "execution_count": 22,
   "id": "1ba41de5",
   "metadata": {},
   "outputs": [],
   "source": [
    "def orthonormal_matrix_to_special_one(ortho_matrix):\n",
    "    if np.linalg.det(ortho_matrix) < 0:\n",
    "        ortho_matrix[0] = ortho_matrix[0] * -1\n",
    "    return ortho_matrix\n",
    "\n",
    "def special_orthonormal_to_minus_one(sortho_matrix):\n",
    "    if np.linalg.det(sortho_matrix) > 0:\n",
    "        sortho_matrix[0] = sortho_matrix[0] * -1\n",
    "    return sortho_matrix"
   ]
  },
  {
   "cell_type": "markdown",
   "id": "fbb0bcf5",
   "metadata": {},
   "source": [
    "#### K and L"
   ]
  },
  {
   "cell_type": "code",
   "execution_count": 23,
   "id": "fad38f99",
   "metadata": {},
   "outputs": [],
   "source": [
    "v_v_T_eigen_values, v_v_T_eigen_vectors = get_ordered_eig(v_v_T)"
   ]
  },
  {
   "cell_type": "code",
   "execution_count": 24,
   "id": "cb06f251",
   "metadata": {},
   "outputs": [],
   "source": [
    "k_matrix = np.copy(v_v_T_eigen_vectors.transpose()) # transpose needed to be consistent with the paper\n",
    "l_matrix = np.copy(u_u_T_eigen_vectors.transpose())\n",
    "\n",
    "k_matrix = orthonormal_matrix_to_special_one(k_matrix)\n",
    "# k_matrix = special_orthonormal_to_minus_one(k_matrix)\n",
    "\n",
    "l_matrix = orthonormal_matrix_to_special_one(l_matrix)\n"
   ]
  },
  {
   "cell_type": "code",
   "execution_count": 25,
   "id": "7bf90436",
   "metadata": {},
   "outputs": [
    {
     "data": {
      "text/plain": [
       "((0.9999999999999994+9.156670907524792e-17j),\n",
       " (1.0000000000000002+5.316077658318831e-16j))"
      ]
     },
     "execution_count": 25,
     "metadata": {},
     "output_type": "execute_result"
    }
   ],
   "source": [
    "np.linalg.det(k_matrix), np.linalg.det(l_matrix)"
   ]
  },
  {
   "cell_type": "code",
   "execution_count": 26,
   "id": "8f1ae730",
   "metadata": {},
   "outputs": [
    {
     "data": {
      "text/plain": [
       "array([[-5.06814687e-01-8.62055029e-01j,  0.00000000e+00+0.00000000e+00j,\n",
       "         0.00000000e+00+0.00000000e+00j,  1.51760029e-16-9.22282765e-17j],\n",
       "       [ 0.00000000e+00+0.00000000e+00j,  8.81452903e-01-4.72271934e-01j,\n",
       "         2.23981323e-16+1.13477282e-17j,  0.00000000e+00+0.00000000e+00j],\n",
       "       [ 0.00000000e+00+0.00000000e+00j,  1.23231506e-16-4.41928299e-17j,\n",
       "         7.55604567e-01+6.55028044e-01j,  0.00000000e+00+0.00000000e+00j],\n",
       "       [ 1.65864063e-16-1.49046258e-16j,  0.00000000e+00+0.00000000e+00j,\n",
       "         0.00000000e+00+0.00000000e+00j, -3.04232367e-01+9.52597852e-01j]])"
      ]
     },
     "execution_count": 26,
     "metadata": {},
     "output_type": "execute_result"
    }
   ],
   "source": [
    "np.matmul(k_matrix, np.matmul(v_v_T, k_matrix.transpose()))"
   ]
  },
  {
   "cell_type": "code",
   "execution_count": 27,
   "id": "ca6327e0",
   "metadata": {},
   "outputs": [
    {
     "data": {
      "text/plain": [
       "array([[-5.06814687e-01-8.62055029e-01j, -5.93424319e-16+1.20473364e-16j,\n",
       "         2.29482640e-16+5.18507119e-17j,  9.74708734e-17-7.35034167e-17j],\n",
       "       [-5.72556041e-16+1.22048870e-16j,  8.81452903e-01-4.72271934e-01j,\n",
       "         5.66327503e-17+9.84983687e-18j,  5.95357059e-17+1.11463448e-16j],\n",
       "       [ 2.60978984e-16-1.61508510e-17j,  7.60253125e-18+3.71934279e-17j,\n",
       "         7.55604567e-01+6.55028044e-01j,  9.70293890e-17+2.19866114e-16j],\n",
       "       [ 5.73584610e-17-1.12316122e-16j,  3.90031696e-17+1.50175377e-16j,\n",
       "         6.51503794e-17+2.00785803e-16j, -3.04232367e-01+9.52597852e-01j]])"
      ]
     },
     "execution_count": 27,
     "metadata": {},
     "output_type": "execute_result"
    }
   ],
   "source": [
    "np.matmul(l_matrix, np.matmul(u_u_T, l_matrix.transpose()))"
   ]
  },
  {
   "cell_type": "code",
   "execution_count": 28,
   "id": "09978e3c",
   "metadata": {},
   "outputs": [
    {
     "data": {
      "text/plain": [
       "array([[ 1.00000000e+00+2.06298961e-16j, -8.33455436e-17-2.49839055e-16j,\n",
       "        -1.02778796e-16+4.57808995e-16j, -2.77585563e-16+6.05576439e-18j],\n",
       "       [-8.33455436e-17-2.49839055e-16j,  1.00000000e+00+1.90752657e-16j,\n",
       "         3.56353337e-16-1.80216570e-16j,  3.93735565e-16-6.21336772e-17j],\n",
       "       [-1.02778796e-16+4.57808995e-16j,  3.56353337e-16-1.80216570e-16j,\n",
       "         1.00000000e+00+5.06788327e-16j,  3.13478156e-16-6.57403996e-17j],\n",
       "       [-2.77585563e-16+6.05576439e-18j,  3.93735565e-16-6.21336772e-17j,\n",
       "         3.13478156e-16-6.57403996e-17j,  1.00000000e+00+1.59375587e-16j]])"
      ]
     },
     "execution_count": 28,
     "metadata": {},
     "output_type": "execute_result"
    }
   ],
   "source": [
    "np.matmul(l_matrix, l_matrix.transpose())"
   ]
  },
  {
   "cell_type": "code",
   "execution_count": 29,
   "id": "2de096c5",
   "metadata": {},
   "outputs": [
    {
     "data": {
      "text/plain": [
       "array([[ 1.00000000e+00+1.31166981e-16j,  0.00000000e+00+0.00000000e+00j,\n",
       "         0.00000000e+00+0.00000000e+00j, -1.33393446e-16+1.56838531e-16j],\n",
       "       [ 0.00000000e+00+0.00000000e+00j,  1.00000000e+00-6.95671553e-16j,\n",
       "         4.79929617e-16+6.52718224e-17j,  0.00000000e+00+0.00000000e+00j],\n",
       "       [ 0.00000000e+00+0.00000000e+00j,  4.79929617e-16+6.52718224e-17j,\n",
       "         1.00000000e+00+5.65127909e-16j,  0.00000000e+00+0.00000000e+00j],\n",
       "       [-1.33393446e-16+1.56838531e-16j,  0.00000000e+00+0.00000000e+00j,\n",
       "         0.00000000e+00+0.00000000e+00j,  1.00000000e+00+1.82510082e-16j]])"
      ]
     },
     "execution_count": 29,
     "metadata": {},
     "output_type": "execute_result"
    }
   ],
   "source": [
    "np.matmul(k_matrix, k_matrix.transpose())"
   ]
  },
  {
   "cell_type": "markdown",
   "id": "76dfc8e4",
   "metadata": {},
   "source": [
    "### Solving for single parts"
   ]
  },
  {
   "cell_type": "code",
   "execution_count": 30,
   "id": "0611c304",
   "metadata": {},
   "outputs": [],
   "source": [
    "zero_state = np.array([[1],[0]])\n",
    "one_state = np.array([[0],[1]])\n",
    "def partial_trace_on_left(one_tensor_two):\n",
    "    states_id_mat = [np.kron(state, np.eye(2)) for state in [zero_state, one_state]]\n",
    "    tr_one_dot_two =  np.zeros((2,2))\n",
    "    for vec_id in states_id_mat:\n",
    "        tr_one_dot_two = tr_one_dot_two +  np.matmul(vec_id.conj().transpose(), np.matmul(one_tensor_two, vec_id))\n",
    "    return tr_one_dot_two\n",
    "\n",
    "def partial_trace_on_right(one_tensor_two):\n",
    "    states_id_mat = [np.kron(np.eye(2), state) for state in [zero_state, one_state]]\n",
    "    one_dot_tr_two =  np.zeros((2,2))\n",
    "    for vec_id in states_id_mat:\n",
    "        one_dot_tr_two = one_dot_tr_two + np.matmul(vec_id.conj().transpose(), np.matmul(one_tensor_two, vec_id))\n",
    "    return one_dot_tr_two"
   ]
  },
  {
   "cell_type": "markdown",
   "id": "e17923d6",
   "metadata": {},
   "source": [
    "#### AB\n",
    "$$ A \\otimes B = \\Lambda ( v^\\dagger k^T l u ) \\Lambda^\\dagger $$"
   ]
  },
  {
   "cell_type": "code",
   "execution_count": 31,
   "id": "c8159a8c",
   "metadata": {},
   "outputs": [],
   "source": [
    "a_tensor_b_magic = np.matmul( v_magic_matrix.conjugate().transpose(),\n",
    "                             np.matmul(k_matrix.transpose(), np.matmul(l_matrix, u_magic_matrix)))"
   ]
  },
  {
   "cell_type": "code",
   "execution_count": 32,
   "id": "e0d47bf5",
   "metadata": {},
   "outputs": [
    {
     "data": {
      "text/plain": [
       "(array([[ 1.00000000e+00+1.68240166e-16j, -3.49744771e-16-5.76842996e-17j,\n",
       "         -3.54623231e-16-2.53037291e-16j,  1.51471591e-16-1.14534501e-16j],\n",
       "        [-3.49744771e-16-5.76842996e-17j,  1.00000000e+00+5.02949849e-16j,\n",
       "         -2.11111414e-16-3.45093864e-16j, -1.98544385e-16-1.42624979e-16j],\n",
       "        [-3.54623231e-16-2.53037291e-16j, -2.11111414e-16-3.45093864e-16j,\n",
       "          1.00000000e+00+2.25887820e-16j, -2.51485533e-16-8.38636799e-16j],\n",
       "        [ 1.51471591e-16-1.14534501e-16j, -1.98544385e-16-1.42624979e-16j,\n",
       "         -2.51485533e-16-8.38636799e-16j,  1.00000000e+00+5.02705243e-16j]]),\n",
       " (0.9999999999999971+6.998915390322203e-16j))"
      ]
     },
     "execution_count": 32,
     "metadata": {},
     "output_type": "execute_result"
    }
   ],
   "source": [
    "a_tensor_b_magic.dot(a_tensor_b_magic.T), np.linalg.det(a_tensor_b_magic)"
   ]
  },
  {
   "cell_type": "code",
   "execution_count": 33,
   "id": "0b7dc76e",
   "metadata": {},
   "outputs": [],
   "source": [
    "# rz = np.eye(4)\n",
    "# rz[-1,-1]*=-1\n",
    "# # a_tensor_b_magic.dot(rz), rz.dot(a_tensor_b_magic) == a_tensor_b_magic\n",
    "# matrix_out_magic_basis(rz)"
   ]
  },
  {
   "cell_type": "code",
   "execution_count": 34,
   "id": "efeef057",
   "metadata": {},
   "outputs": [],
   "source": [
    "a_tensor_b = matrix_out_magic_basis( a_tensor_b_magic )\n",
    "a_tensor_b = strip_global_factor(a_tensor_b)"
   ]
  },
  {
   "cell_type": "code",
   "execution_count": 35,
   "id": "74677030",
   "metadata": {},
   "outputs": [],
   "source": [
    "# a_tensor_b_copy = np.copy(a_tensor_b)\n",
    "# a_tensor_b_magic_copy = np.copy(a_tensor_b_magic)"
   ]
  },
  {
   "cell_type": "code",
   "execution_count": null,
   "id": "4d7b5cac",
   "metadata": {},
   "outputs": [],
   "source": []
  },
  {
   "cell_type": "code",
   "execution_count": 36,
   "id": "74523699",
   "metadata": {},
   "outputs": [],
   "source": [
    "# a_tensor_b_magic_rz = rz.dot(a_tensor_b_magic)\n",
    "# a_tensor_b_magic_rz.dot(a_tensor_b_magic_rz.T), np.linalg.det(a_tensor_b_magic_rz)\n",
    "# a_tensor_b = matrix_out_magic_basis( a_tensor_b_magic )\n",
    "# a_tensor_b = strip_global_factor(a_tensor_b)"
   ]
  },
  {
   "cell_type": "code",
   "execution_count": 354,
   "id": "ec9be503",
   "metadata": {},
   "outputs": [],
   "source": [
    "# a_tensor_b, a_tensor_b_copy"
   ]
  },
  {
   "cell_type": "code",
   "execution_count": 355,
   "id": "a72ac565",
   "metadata": {},
   "outputs": [],
   "source": [
    "# a_tensor_b_magic_copy, a_tensor_b_magic"
   ]
  },
  {
   "cell_type": "code",
   "execution_count": 37,
   "id": "62e765f3",
   "metadata": {},
   "outputs": [],
   "source": [
    "a = strip_global_factor(partial_trace_on_right(a_tensor_b))\n",
    "b = strip_global_factor(partial_trace_on_left(a_tensor_b))"
   ]
  },
  {
   "cell_type": "code",
   "execution_count": null,
   "id": "f258d25c",
   "metadata": {},
   "outputs": [],
   "source": []
  },
  {
   "cell_type": "markdown",
   "id": "c1546b90",
   "metadata": {},
   "source": [
    "#### We need to check whether tensor of a and b is equal to $a \\otimes b$"
   ]
  },
  {
   "cell_type": "code",
   "execution_count": 38,
   "id": "297f60f9",
   "metadata": {},
   "outputs": [
    {
     "data": {
      "text/plain": [
       "(array([[ 0.15816073-0.46119097j,  0.0268201 +0.22239746j,\n",
       "         -0.73069365+0.23253707j,  0.25573124-0.24232819j],\n",
       "        [ 0.19798436-0.10479571j,  0.28865302-0.39292667j,\n",
       "         -0.31792235-0.15181171j, -0.76679374+0.00375062j],\n",
       "        [ 0.76679374+0.00375062j, -0.31792235+0.15181171j,\n",
       "          0.28865302+0.39292667j, -0.19798436-0.10479571j],\n",
       "        [ 0.25573124+0.24232819j,  0.73069365+0.23253707j,\n",
       "         -0.0268201 +0.22239746j,  0.15816073+0.46119097j]]),\n",
       " array([[-0.15816073+0.46119097j, -0.0268201 -0.22239746j,\n",
       "          0.73069365-0.23253707j, -0.25573124+0.24232819j],\n",
       "        [-0.19798436+0.10479571j, -0.28865302+0.39292667j,\n",
       "          0.31792235+0.15181171j,  0.76679374-0.00375062j],\n",
       "        [-0.76679374-0.00375062j,  0.31792235-0.15181171j,\n",
       "         -0.28865302-0.39292667j,  0.19798436+0.10479571j],\n",
       "        [-0.25573124-0.24232819j, -0.73069365-0.23253707j,\n",
       "          0.0268201 -0.22239746j, -0.15816073-0.46119097j]]))"
      ]
     },
     "execution_count": 38,
     "metadata": {},
     "output_type": "execute_result"
    }
   ],
   "source": [
    "strip_global_factor(np.kron(a,b)), strip_global_factor(a_tensor_b)"
   ]
  },
  {
   "cell_type": "code",
   "execution_count": null,
   "id": "3794b7f8",
   "metadata": {},
   "outputs": [],
   "source": []
  },
  {
   "cell_type": "code",
   "execution_count": 39,
   "id": "9be33d6a",
   "metadata": {},
   "outputs": [
    {
     "data": {
      "text/plain": [
       "array([[-1.00000000e+00+1.06165077e-15j,  1.47364759e-15-1.94289029e-16j,\n",
       "         3.19189120e-16-1.11022302e-16j,  1.11022302e-16-1.34672261e-16j],\n",
       "       [ 2.42861287e-16-5.27355937e-16j, -1.00000000e+00-9.08995101e-16j,\n",
       "         0.00000000e+00+3.23472849e-16j,  2.35922393e-16+1.11022302e-16j],\n",
       "       [-3.60822483e-16+2.77555756e-16j,  2.77555756e-16-2.38508188e-16j,\n",
       "        -1.00000000e+00+6.29704622e-16j,  1.97411532e-15-8.32667268e-17j],\n",
       "       [-6.66133815e-16+1.98947772e-17j,  3.26128013e-16+1.66533454e-16j,\n",
       "        -2.34187669e-17-8.60422844e-16j, -1.00000000e+00-8.50014503e-16j]])"
      ]
     },
     "execution_count": 39,
     "metadata": {},
     "output_type": "execute_result"
    }
   ],
   "source": [
    "np.matmul( np.kron(a,b).T.conj(), strip_global_factor(a_tensor_b) )"
   ]
  },
  {
   "cell_type": "markdown",
   "id": "ebd5af58",
   "metadata": {},
   "source": [
    "#### CD\n",
    "$$ C \\otimes D = \\Lambda (\\Pi  l^T k ) \\Lambda^\\dagger $$"
   ]
  },
  {
   "cell_type": "code",
   "execution_count": 225,
   "id": "dfc9c88a",
   "metadata": {},
   "outputs": [],
   "source": [
    "rz = np.eye(4)\n",
    "rz[-1,-1]*=-1\n",
    "cnot_arr = matrix_out_magic_basis(rz)"
   ]
  },
  {
   "cell_type": "code",
   "execution_count": null,
   "id": "c6cda055",
   "metadata": {},
   "outputs": [],
   "source": []
  },
  {
   "cell_type": "code",
   "execution_count": 40,
   "id": "2b5f6ecc",
   "metadata": {},
   "outputs": [],
   "source": [
    "# c_tensor_d_magic = np.matmul(rz, np.matmul(l_matrix.transpose(), k_matrix ))\n",
    "c_tensor_d_magic =  np.matmul(l_matrix.transpose(), k_matrix )\n",
    "c_tensor_d = matrix_out_magic_basis( c_tensor_d_magic )\n",
    "c_tensor_d = strip_global_factor( c_tensor_d)"
   ]
  },
  {
   "cell_type": "code",
   "execution_count": 41,
   "id": "4000481a",
   "metadata": {},
   "outputs": [],
   "source": [
    "# c_tensor_d_magic = np.matmul(l_matrix.transpose(), k_matrix )\n",
    "# c_tensor_d = matrix_out_magic_basis( c_tensor_d_magic )\n",
    "# c_tensor_d = strip_global_factor( c_tensor_d)"
   ]
  },
  {
   "cell_type": "code",
   "execution_count": 42,
   "id": "4d12c930",
   "metadata": {},
   "outputs": [
    {
     "data": {
      "text/plain": [
       "(array([[ 0.46366298+0.08040635j, -0.79439868+0.38403411j],\n",
       "        [ 0.79439868+0.38403411j,  0.46366298-0.08040635j]]),\n",
       " array([[ 0.60674909+0.33532328j,  0.45177437+0.56152806j],\n",
       "        [-0.45177437+0.56152806j,  0.60674909-0.33532328j]]))"
      ]
     },
     "execution_count": 42,
     "metadata": {},
     "output_type": "execute_result"
    }
   ],
   "source": [
    "c = strip_global_factor( partial_trace_on_right(c_tensor_d) )\n",
    "d = strip_global_factor( partial_trace_on_left(c_tensor_d) )\n",
    "c, d"
   ]
  },
  {
   "cell_type": "code",
   "execution_count": 43,
   "id": "7e86c9c9",
   "metadata": {},
   "outputs": [
    {
     "data": {
      "text/plain": [
       "array([[ 1.00000000e+00+5.02570101e-16j, -1.91859434e-16-2.20986393e-18j,\n",
       "         4.69388450e-17-3.52020664e-16j, -2.86692987e-16-4.00479314e-17j],\n",
       "       [-1.91859434e-16-2.20986393e-18j,  1.00000000e+00+1.76781510e-16j,\n",
       "        -6.11007959e-17-3.55627386e-16j,  4.78440786e-16-1.67922008e-16j],\n",
       "       [ 4.69388450e-17-3.52020664e-16j, -6.11007959e-17-3.55627386e-16j,\n",
       "         1.00000000e+00+3.98443417e-16j,  2.86941897e-16+7.88417566e-16j],\n",
       "       [-2.86692987e-16-4.00479314e-17j,  4.78440786e-16-1.67922008e-16j,\n",
       "         2.86941897e-16+7.88417566e-16j,  1.00000000e+00+1.68553922e-16j]])"
      ]
     },
     "execution_count": 43,
     "metadata": {},
     "output_type": "execute_result"
    }
   ],
   "source": [
    "np.matmul(c_tensor_d_magic.T, c_tensor_d_magic)"
   ]
  },
  {
   "cell_type": "code",
   "execution_count": 44,
   "id": "856c8a96",
   "metadata": {},
   "outputs": [
    {
     "data": {
      "text/plain": [
       "array([[ 1.00000000e+00+4.07660017e-16j,  2.22044605e-16+5.55111512e-17j,\n",
       "        -3.33066907e-16-4.85722573e-17j, -1.66533454e-16-3.87194579e-17j],\n",
       "       [ 4.44089210e-16+5.55111512e-16j,  1.00000000e+00-4.16333634e-17j,\n",
       "         6.93889390e-17-5.54551432e-17j, -1.99493200e-16+1.83880688e-16j],\n",
       "       [ 2.08166817e-16+5.55111512e-16j, -7.35522754e-16+2.23304587e-16j,\n",
       "         1.00000000e+00+0.00000000e+00j,  3.33066907e-16+0.00000000e+00j],\n",
       "       [-3.19189120e-16+2.39841167e-16j, -1.70002901e-16+3.46944695e-16j,\n",
       "         4.44089210e-16+9.43689571e-16j,  1.00000000e+00-4.16333634e-16j]])"
      ]
     },
     "execution_count": 44,
     "metadata": {},
     "output_type": "execute_result"
    }
   ],
   "source": [
    "np.matmul( np.kron(c,d).T.conj(), strip_global_factor(c_tensor_d) )"
   ]
  },
  {
   "cell_type": "code",
   "execution_count": 45,
   "id": "017d7126",
   "metadata": {},
   "outputs": [
    {
     "data": {
      "text/plain": [
       "(0.9999999999999996+6.23174474907131e-16j)"
      ]
     },
     "execution_count": 45,
     "metadata": {},
     "output_type": "execute_result"
    }
   ],
   "source": [
    "np.linalg.det(c_tensor_d_magic)"
   ]
  },
  {
   "cell_type": "code",
   "execution_count": 46,
   "id": "f25cb6af",
   "metadata": {},
   "outputs": [
    {
     "data": {
      "text/plain": [
       "(array([[ 0.25436497+0.20426347j,  0.16432063+0.2966853j ,\n",
       "         -0.61077625-0.03336802j, -0.57453489-0.27258038j],\n",
       "        [-0.25462147+0.22403424j,  0.30828921-0.10669051j,\n",
       "          0.14324303-0.61957392j, -0.3532251 +0.49939272j],\n",
       "        [ 0.3532251 +0.49939272j,  0.14324303+0.61957392j,\n",
       "          0.30828921+0.10669051j,  0.25462147+0.22403424j],\n",
       "        [-0.57453489+0.27258038j,  0.61077625-0.03336802j,\n",
       "         -0.16432063+0.2966853j ,  0.25436497-0.20426347j]]),\n",
       " array([[ 0.25436497+0.20426347j,  0.16432063+0.2966853j ,\n",
       "         -0.61077625-0.03336802j, -0.57453489-0.27258038j],\n",
       "        [-0.25462147+0.22403424j,  0.30828921-0.10669051j,\n",
       "          0.14324303-0.61957392j, -0.3532251 +0.49939272j],\n",
       "        [ 0.3532251 +0.49939272j,  0.14324303+0.61957392j,\n",
       "          0.30828921+0.10669051j,  0.25462147+0.22403424j],\n",
       "        [-0.57453489+0.27258038j,  0.61077625-0.03336802j,\n",
       "         -0.16432063+0.2966853j ,  0.25436497-0.20426347j]]))"
      ]
     },
     "execution_count": 46,
     "metadata": {},
     "output_type": "execute_result"
    }
   ],
   "source": [
    "np.kron(c,d), strip_global_factor(c_tensor_d)"
   ]
  },
  {
   "cell_type": "code",
   "execution_count": 47,
   "id": "237c4d90",
   "metadata": {},
   "outputs": [
    {
     "data": {
      "text/plain": [
       "(0.9999999999999999, 1.0)"
      ]
     },
     "execution_count": 47,
     "metadata": {},
     "output_type": "execute_result"
    }
   ],
   "source": [
    "abs(np.linalg.det(c)), abs(np.linalg.det(d))"
   ]
  },
  {
   "cell_type": "code",
   "execution_count": null,
   "id": "c0e8926e",
   "metadata": {},
   "outputs": [],
   "source": []
  },
  {
   "cell_type": "code",
   "execution_count": 155,
   "id": "7b384648",
   "metadata": {},
   "outputs": [],
   "source": [
    "def get_corresponding_entangling_part(magic_special_u, target_qubits):\n",
    "    u_u_T = np.dot(magic_special_u, magic_special_u.transpose())\n",
    "    u_u_T_eigen_values, u_u_T_eigen_vectors = get_ordered_eig(u_u_T)\n",
    "    \n",
    "    eigen_values_phases = [cmath.phase(x) for x in u_u_T_eigen_values]\n",
    "    alpha, beta, delta = np.array([eigen_values_phases[0] + eigen_values_phases[1],\n",
    "                                   eigen_values_phases[0] + eigen_values_phases[2],\n",
    "                                   eigen_values_phases[1] + eigen_values_phases[2] ]) / 2\n",
    "    v_circuit = give_v_circuit(alpha, beta, delta, qubits = target_qubits)\n",
    "    return v_circuit\n",
    "\n",
    "def get_corresponding_universal_circuit(u_matrix, target_qubits):\n",
    "    u_matrix = strip_global_factor(u_matrix)\n",
    "    u_magic_matrix = matrix_in_magic_basis(u_matrix)\n",
    "    u_u_T = np.dot(u_magic_matrix, u_magic_matrix.transpose())\n",
    "    u_u_T_eigen_values, u_u_T_eigen_vectors = get_ordered_eig(u_u_T)\n",
    "    \n",
    "    v_circuit = get_corresponding_entangling_part(u_magic_matrix, target_qubits)\n",
    "    v_matrix = program_unitary(v_circuit, n_qubits=2)\n",
    "    v_magic_matrix = matrix_in_magic_basis(v_matrix)\n",
    "    v_v_T = np.dot(v_magic_matrix, v_magic_matrix.transpose())\n",
    "    v_v_T_eigen_values, v_v_T_eigen_vectors = get_ordered_eig(v_v_T)\n",
    "    \n",
    "    k_matrix = np.copy(v_v_T_eigen_vectors.transpose()) # transpose needed to be consistent with the paper\n",
    "    l_matrix = np.copy(u_u_T_eigen_vectors.transpose())\n",
    "    \n",
    "    a_tensor_b = matrix_out_magic_basis( np.matmul( v_magic_matrix.conjugate().transpose(),\n",
    "                                                    np.matmul(k_matrix.transpose(), np.matmul(l_matrix, u_magic_matrix))) )\n",
    "    c_tensor_d = matrix_out_magic_basis( np.matmul(l_matrix.transpose(), k_matrix) )\n",
    "    a_tensor_b = strip_global_factor(a_tensor_b)\n",
    "    c_tensor_d = strip_global_factor(c_tensor_d)\n",
    "    u_constructed = np.matmul(c_tensor_d, np.matmul(v_matrix, a_tensor_b))\n",
    "    return a_tensor_b, c_tensor_d"
   ]
  },
  {
   "cell_type": "code",
   "execution_count": 156,
   "id": "7862215a",
   "metadata": {},
   "outputs": [],
   "source": [
    "target_qubits = [0,1]"
   ]
  },
  {
   "cell_type": "code",
   "execution_count": null,
   "id": "9a238022",
   "metadata": {},
   "outputs": [],
   "source": []
  },
  {
   "cell_type": "code",
   "execution_count": null,
   "id": "b38a9e1e",
   "metadata": {},
   "outputs": [],
   "source": []
  },
  {
   "cell_type": "markdown",
   "id": "84c73752",
   "metadata": {},
   "source": [
    "#### Construct U\n",
    "$$ \\Lambda (\\Pi  u) \\Lambda^\\dagger = \\Lambda (\\Pi  l^T k ) \\Lambda^\\dagger \\Lambda (v) \\Lambda^\\dagger \\Lambda ( v^\\dagger k^T l u ) \\Lambda^\\dagger $$\n",
    "$$ CNOT \\cdot U = (C \\otimes D) V (A \\otimes B) $$\n",
    "$$ U = CNOT^{\\dagger} \\cdot (C \\otimes D) V (A \\otimes B) $$"
   ]
  },
  {
   "cell_type": "code",
   "execution_count": 227,
   "id": "b39a3f44",
   "metadata": {},
   "outputs": [
    {
     "data": {
      "text/plain": [
       "array([[ 0.11205569+0.18229316j, -0.23543   +0.41728934j,\n",
       "         0.43319433-0.26058241j,  0.43129005+0.53205585j],\n",
       "       [ 0.20869845+0.35259486j, -0.23750676+0.59001508j,\n",
       "        -0.13436867+0.52717058j, -0.00272681-0.36279937j],\n",
       "       [-0.16443607-0.77401794j, -0.09648303+0.39905084j,\n",
       "        -0.30340756+0.20062801j,  0.02522596+0.26900253j],\n",
       "       [-0.39271486-0.07724371j, -0.28336072+0.34215674j,\n",
       "         0.23650834-0.51012919j, -0.42223147-0.38470316j]])"
      ]
     },
     "execution_count": 227,
     "metadata": {},
     "output_type": "execute_result"
    }
   ],
   "source": [
    "u_constructed = np.matmul( cnot_arr.T.conj(),\n",
    "                          np.matmul(c_tensor_d,\n",
    "                                    np.matmul(v_matrix, a_tensor_b)) )\n",
    "u_constructed"
   ]
  },
  {
   "cell_type": "code",
   "execution_count": 228,
   "id": "c0780ab7",
   "metadata": {},
   "outputs": [],
   "source": [
    "u_constructed /= ( np.linalg.det(u_constructed) )**(1/4)"
   ]
  },
  {
   "cell_type": "code",
   "execution_count": 229,
   "id": "2c5f0ebf",
   "metadata": {},
   "outputs": [
    {
     "data": {
      "text/plain": [
       "array([[ 0.11205569+0.18229316j, -0.23543   +0.41728934j,\n",
       "         0.43319433-0.26058241j,  0.43129005+0.53205585j],\n",
       "       [ 0.20869845+0.35259486j, -0.23750676+0.59001508j,\n",
       "        -0.13436867+0.52717058j, -0.00272681-0.36279937j],\n",
       "       [-0.16443607-0.77401794j, -0.09648303+0.39905084j,\n",
       "        -0.30340756+0.20062801j,  0.02522596+0.26900253j],\n",
       "       [-0.39271486-0.07724371j, -0.28336072+0.34215674j,\n",
       "         0.23650834-0.51012919j, -0.42223147-0.38470316j]])"
      ]
     },
     "execution_count": 229,
     "metadata": {},
     "output_type": "execute_result"
    }
   ],
   "source": [
    "u_constructed"
   ]
  },
  {
   "cell_type": "code",
   "execution_count": null,
   "id": "50641a84",
   "metadata": {},
   "outputs": [],
   "source": []
  },
  {
   "cell_type": "markdown",
   "id": "8da49291",
   "metadata": {},
   "source": [
    "#### Check Check\n",
    "Given U and constructed U are allowed to be different by a phase factor. So we should have their dot to be an identity with a global phase shift.\n",
    "$$ U_g U^{\\dagger}_c  = e^{i\\phi I}$$"
   ]
  },
  {
   "cell_type": "code",
   "execution_count": 230,
   "id": "58f2c0b2",
   "metadata": {},
   "outputs": [
    {
     "data": {
      "text/plain": [
       "array([[ 1.00000000e+00-1.59594560e-16j, -4.33680869e-16-5.20417043e-17j,\n",
       "        -1.80411242e-16+7.56339436e-16j,  4.85722573e-17-2.77555756e-16j],\n",
       "       [ 9.36750677e-17-9.71445147e-17j,  1.00000000e+00+1.38777878e-16j,\n",
       "        -3.60822483e-16-7.21644966e-16j,  1.66533454e-16-2.74086309e-16j],\n",
       "       [ 1.94289029e-16-1.97758476e-16j,  1.14491749e-16-1.66533454e-16j,\n",
       "         1.00000000e+00+3.88578059e-16j,  2.96637714e-16-6.93889390e-17j],\n",
       "       [-5.82867088e-16+4.99600361e-16j, -5.55111512e-17-2.42861287e-16j,\n",
       "         1.90819582e-17+2.91433544e-16j,  1.00000000e+00-1.66533454e-16j]])"
      ]
     },
     "execution_count": 230,
     "metadata": {},
     "output_type": "execute_result"
    }
   ],
   "source": [
    "np.dot(u_matrix, u_constructed.conjugate().transpose())"
   ]
  },
  {
   "cell_type": "code",
   "execution_count": null,
   "id": "11bce5dc",
   "metadata": {},
   "outputs": [],
   "source": []
  },
  {
   "cell_type": "markdown",
   "id": "1443f681",
   "metadata": {},
   "source": [
    "## Solving for single rotation angles"
   ]
  },
  {
   "cell_type": "code",
   "execution_count": 42,
   "id": "5a690148",
   "metadata": {},
   "outputs": [],
   "source": [
    "def find_phi_theta_omega(single_rot):\n",
    "    cos_theta_2 = abs(single_rot[0,0])\n",
    "    theta = 2*np.arccos(cos_theta_2)\n",
    "    phi_plus_omega_2 = cmath.phase(single_rot[1,1])\n",
    "    phi_minus_omega_2 = - cmath.phase(single_rot[1,0])\n",
    "    phi = phi_plus_omega_2 + phi_minus_omega_2\n",
    "    omega =  phi_plus_omega_2 - phi_minus_omega_2\n",
    "    return phi, theta, omega"
   ]
  },
  {
   "cell_type": "code",
   "execution_count": 43,
   "id": "8cb735ea",
   "metadata": {},
   "outputs": [
    {
     "data": {
      "text/plain": [
       "(0.9999999999999998, 1.9999999999999993, 3.0)"
      ]
     },
     "execution_count": 43,
     "metadata": {},
     "output_type": "execute_result"
    }
   ],
   "source": [
    "find_phi_theta_omega(program_unitary(arbitary_single_qubit_circuit(1,2,3, qubit = 0), n_qubits=1))"
   ]
  },
  {
   "cell_type": "code",
   "execution_count": 44,
   "id": "23def841",
   "metadata": {},
   "outputs": [
    {
     "data": {
      "text/plain": [
       "array([[ 3.74939946e-33+6.123234e-17j, -6.12323400e-17+1.000000e+00j],\n",
       "       [ 6.12323400e-17+1.000000e+00j,  3.74939946e-33-6.123234e-17j]])"
      ]
     },
     "execution_count": 44,
     "metadata": {},
     "output_type": "execute_result"
    }
   ],
   "source": [
    "program_unitary(arbitary_single_qubit_circuit(0,np.pi,- np.pi, qubit = 0), n_qubits=1)"
   ]
  },
  {
   "cell_type": "code",
   "execution_count": null,
   "id": "c9088ba3",
   "metadata": {},
   "outputs": [],
   "source": []
  },
  {
   "cell_type": "markdown",
   "id": "00e894ea",
   "metadata": {},
   "source": [
    "### t-designs in universal circuit"
   ]
  },
  {
   "cell_type": "code",
   "execution_count": 45,
   "id": "5fc79c02",
   "metadata": {},
   "outputs": [],
   "source": [
    "from forest.benchmarking.randomized_benchmarking import (generate_rb_sequence,\n",
    "                                                         generate_rb_experiments, acquire_rb_data,\n",
    "                                                        get_stats_by_qubit_group, fit_rb_results)\n",
    "from pyquil.api import get_qc, BenchmarkConnection"
   ]
  },
  {
   "cell_type": "code",
   "execution_count": null,
   "id": "fc15f87b",
   "metadata": {},
   "outputs": [],
   "source": []
  },
  {
   "cell_type": "code",
   "execution_count": 76,
   "id": "3e91d4d8",
   "metadata": {},
   "outputs": [],
   "source": [
    "def two_design_two_qubits_packs_generator(qmachine, target_qubit, num_layer:int):\n",
    "    bm = BenchmarkConnection()\n",
    "    \n",
    "    sequences = generate_rb_sequence(bm, qubits=target_qubit, depth=num_layer)\n",
    "    gates_list = []\n",
    "    for prog in sequences:\n",
    "        gates_list.extend(prog.instructions)\n",
    "    total_program = Program(gates_list)\n",
    "    program = get_corresponding_uni_circuit(program_unitary(total_program, n_qubits=2))\n",
    "    return program\n",
    "\n",
    "# def get_sample_two_design_matrix_two_qubits(qmachine, target_qubit, num_layer:int):\n",
    "#     return program_unitary(two_design_single_qubit_packs_generator(qmachine, target_qubit, num_layer))"
   ]
  },
  {
   "cell_type": "code",
   "execution_count": 80,
   "id": "7c317163",
   "metadata": {},
   "outputs": [
    {
     "ename": "NameError",
     "evalue": "name 'get_corresponding_uni_circuit' is not defined",
     "output_type": "error",
     "traceback": [
      "\u001b[1;31m---------------------------------------------------------------------------\u001b[0m",
      "\u001b[1;31mNameError\u001b[0m                                 Traceback (most recent call last)",
      "Input \u001b[1;32mIn [80]\u001b[0m, in \u001b[0;36m<cell line: 1>\u001b[1;34m()\u001b[0m\n\u001b[1;32m----> 1\u001b[0m \u001b[43mtwo_design_two_qubits_packs_generator\u001b[49m\u001b[43m(\u001b[49m\u001b[43mqc\u001b[49m\u001b[43m,\u001b[49m\u001b[43m \u001b[49m\u001b[43m[\u001b[49m\u001b[38;5;241;43m0\u001b[39;49m\u001b[43m,\u001b[49m\u001b[38;5;241;43m1\u001b[39;49m\u001b[43m]\u001b[49m\u001b[43m,\u001b[49m\u001b[43m \u001b[49m\u001b[38;5;241;43m2\u001b[39;49m\u001b[43m)\u001b[49m\n",
      "Input \u001b[1;32mIn [76]\u001b[0m, in \u001b[0;36mtwo_design_two_qubits_packs_generator\u001b[1;34m(qmachine, target_qubit, num_layer)\u001b[0m\n\u001b[0;32m      7\u001b[0m     gates_list\u001b[38;5;241m.\u001b[39mextend(prog\u001b[38;5;241m.\u001b[39minstructions)\n\u001b[0;32m      8\u001b[0m total_program \u001b[38;5;241m=\u001b[39m Program(gates_list)\n\u001b[1;32m----> 9\u001b[0m program \u001b[38;5;241m=\u001b[39m \u001b[43mget_corresponding_uni_circuit\u001b[49m(program_unitary(total_program, n_qubits\u001b[38;5;241m=\u001b[39m\u001b[38;5;241m2\u001b[39m))\n\u001b[0;32m     10\u001b[0m \u001b[38;5;28;01mreturn\u001b[39;00m program\n",
      "\u001b[1;31mNameError\u001b[0m: name 'get_corresponding_uni_circuit' is not defined"
     ]
    }
   ],
   "source": [
    "two_design_two_qubits_packs_generator(qc, [0,1], 2)"
   ]
  },
  {
   "cell_type": "code",
   "execution_count": null,
   "id": "ab039ca8",
   "metadata": {},
   "outputs": [],
   "source": []
  }
 ],
 "metadata": {
  "kernelspec": {
   "display_name": "Python 3 (ipykernel)",
   "language": "python",
   "name": "python3"
  },
  "language_info": {
   "codemirror_mode": {
    "name": "ipython",
    "version": 3
   },
   "file_extension": ".py",
   "mimetype": "text/x-python",
   "name": "python",
   "nbconvert_exporter": "python",
   "pygments_lexer": "ipython3",
   "version": "3.9.12"
  }
 },
 "nbformat": 4,
 "nbformat_minor": 5
}
