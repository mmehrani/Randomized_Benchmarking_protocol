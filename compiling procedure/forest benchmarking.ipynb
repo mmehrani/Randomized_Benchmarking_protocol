{
 "cells": [
  {
   "cell_type": "code",
   "execution_count": 1,
   "id": "e33f398a",
   "metadata": {},
   "outputs": [],
   "source": [
    "# Needs in terminal:\n",
    "# $ quilc -S\n",
    "# $ qvm -S\n",
    "\n",
    "import numpy as np\n",
    "\n",
    "from forest.benchmarking.randomized_benchmarking import (generate_rb_sequence,\n",
    "                                                         generate_rb_experiments, acquire_rb_data,\n",
    "                                                        get_stats_by_qubit_group, fit_rb_results)\n",
    "\n",
    "%matplotlib inline"
   ]
  },
  {
   "cell_type": "code",
   "execution_count": 2,
   "id": "943e70d3",
   "metadata": {},
   "outputs": [],
   "source": [
    "from pyquil.api import get_qc, BenchmarkConnection\n",
    "qc = get_qc(\"9q-square-noisy-qvm\")\n",
    "bm = BenchmarkConnection()"
   ]
  },
  {
   "cell_type": "code",
   "execution_count": 3,
   "id": "44837bb4",
   "metadata": {},
   "outputs": [
    {
     "name": "stdout",
     "output_type": "stream",
     "text": [
      "RZ(-pi/2) 0\n",
      "RX(pi/2) 0\n",
      "\n",
      "RX(pi/2) 0\n",
      "RZ(-pi) 0\n",
      "\n",
      "RX(-pi/2) 0\n",
      "RZ(pi/2) 0\n",
      "\n",
      "RX(-pi/2) 0\n",
      "RZ(-pi/2) 0\n",
      "RX(-pi/2) 0\n",
      "\n",
      "RZ(-pi) 0\n",
      "RZ(-pi) 0\n",
      "\n"
     ]
    }
   ],
   "source": [
    "# the results are stochastic and can be seeded with random_seed = #\n",
    "sequence = generate_rb_sequence(bm, qubits=[0], depth=5)\n",
    "for gate in sequence:\n",
    "    print(gate) # each 'gate' is a separate pyquil Program"
   ]
  },
  {
   "cell_type": "code",
   "execution_count": 6,
   "id": "cd9dcc3d",
   "metadata": {},
   "outputs": [
    {
     "name": "stdout",
     "output_type": "stream",
     "text": [
      "RZ(-pi/2) 0\n",
      "RX(pi/2) 0\n",
      "\n"
     ]
    }
   ],
   "source": [
    "print(sequence[0])"
   ]
  },
  {
   "cell_type": "code",
   "execution_count": null,
   "id": "61a1ee82",
   "metadata": {},
   "outputs": [],
   "source": []
  }
 ],
 "metadata": {
  "kernelspec": {
   "display_name": "Python 3 (ipykernel)",
   "language": "python",
   "name": "python3"
  },
  "language_info": {
   "codemirror_mode": {
    "name": "ipython",
    "version": 3
   },
   "file_extension": ".py",
   "mimetype": "text/x-python",
   "name": "python",
   "nbconvert_exporter": "python",
   "pygments_lexer": "ipython3",
   "version": "3.9.12"
  }
 },
 "nbformat": 4,
 "nbformat_minor": 5
}
