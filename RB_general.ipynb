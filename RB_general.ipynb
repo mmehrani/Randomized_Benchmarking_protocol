{
 "cells": [
  {
   "cell_type": "code",
   "execution_count": 1,
   "id": "6f099d08",
   "metadata": {},
   "outputs": [],
   "source": [
    "from pyquil import get_qc, Program\n",
    "from pyquil.gates import *\n",
    "from pyquil.api import local_forest_runtime\n",
    "from pyquil.quilbase import Declare\n",
    "from pyquil.simulation.tools import lifted_gate, program_unitary\n",
    "from pyquil.quil import *"
   ]
  },
  {
   "cell_type": "code",
   "execution_count": 2,
   "id": "5c1ea222",
   "metadata": {},
   "outputs": [],
   "source": [
    "import numpy as np\n",
    "import math\n",
    "from math import pi\n",
    "import random\n",
    "import copy\n",
    "from tqdm import tqdm_notebook as tqdm"
   ]
  },
  {
   "cell_type": "code",
   "execution_count": 3,
   "id": "4339fa20",
   "metadata": {},
   "outputs": [],
   "source": [
    "from functions import *"
   ]
  },
  {
   "cell_type": "code",
   "execution_count": 4,
   "id": "e6678862",
   "metadata": {},
   "outputs": [],
   "source": [
    "# if __name__ == \"__main__\":\n",
    "#     target_qubit = [0]\n",
    "#     num_qubits = len(target_qubit)\n",
    "\n",
    "# #     First step choose m and the K_m sequences of \n",
    "#     m = 1\n",
    "#     k_m = 1 #n. of diff sequences\n",
    "#     n_m = 1  #n. of samples from a certain sequence"
   ]
  },
  {
   "cell_type": "code",
   "execution_count": 5,
   "id": "4519416a",
   "metadata": {},
   "outputs": [],
   "source": [
    "def native_universal_two_qubits_packs_generator(qmachine, target_qubits:list, num_layer:int):\n",
    "    list_gates = []\n",
    "    for index in range(num_layer):\n",
    "        draft_circuit = give_random_two_qubit_circuit(target_qubits)\n",
    "        list_gates.extend( qmachine.compiler.quil_to_native_quil(draft_circuit) )\n",
    "    list_gates = [ ins for ins in list_gates if isinstance(ins, Gate)]\n",
    "    list_gates.extend( get_inverse_circuit(qmachine, list_gates) )\n",
    "    return list_gates\n",
    "\n",
    "def native_rigetti_single_qubit_packs_generator(qmachine, target_qubit, num_layer:int):\n",
    "    try:\n",
    "        temp = iter(target_qubit)\n",
    "        if len(target_qubit) == 1:\n",
    "            target_qubit = target_qubit[0]\n",
    "        else:\n",
    "            raise ValueError('target qubit should be only one index')\n",
    "    except:\n",
    "        pass\n",
    "    \n",
    "    list_gates = []\n",
    "    angles = np.linspace(0, np.pi, 100)\n",
    "    \n",
    "    for index in range(0,num_layer):\n",
    "        omega, phi = np.random.uniform(0, 2*np.pi, size = 2)\n",
    "        theta = np.random.choice(angles, p = np.sin(angles) / np.sum( np.sin(angles) ))\n",
    "        \n",
    "        draft_circuit = Program( [RZ(phi, qubit = target_qubit),\n",
    "                                  RY(theta, qubit = target_qubit),\n",
    "                                  RZ(omega, qubit = target_qubit)])\n",
    "        \n",
    "        list_gates.extend(qmachine.compiler.quil_to_native_quil(draft_circuit))\n",
    "    \n",
    "    list_gates = [ ins for ins in list_gates if isinstance(ins, Gate)]\n",
    "    list_gates.extend( get_inverse_circuit(qmachine, list_gates) )\n",
    "    return list_gates"
   ]
  },
  {
   "cell_type": "code",
   "execution_count": 6,
   "id": "5153d4e8",
   "metadata": {},
   "outputs": [],
   "source": [
    "def used_qubits_index(gates_sequence):\n",
    "    qubits = np.array([np.array(gate.qubits) for gate in gates_sequence])\n",
    "    qubits = np.array([ ele.index for sub_arr in qubits for ele in sub_arr]) #some gates might have multiple indices\n",
    "    qubits_indices = np.unique(qubits)\n",
    "    qubits_indices.sort()\n",
    "    return [ int(x) for x in qubits_indices ]\n",
    "\n",
    "def run_bench_experiment(qmachine, program):\n",
    "    #Do not let the quilc to alter the gates by optimization\n",
    "    program = Program('PRAGMA PRESERVE_BLOCK') + program\n",
    "    program += Program('PRAGMA END_PRESERVE_BLOCK')\n",
    "    \n",
    "    #Run the program\n",
    "    executable = qmachine.compile(program)\n",
    "    result = qmachine.run(executable)\n",
    "    measured_outcome = result.readout_data.get('ro')\n",
    "    return 1 - np.bool_(np.sum(measured_outcome, axis = 1)) # 1 if it is equal to n_zero state"
   ]
  },
  {
   "cell_type": "code",
   "execution_count": 17,
   "id": "f2bc5af4",
   "metadata": {},
   "outputs": [],
   "source": [
    "def get_inverse_circuit(qmachine, gates_sequence):\n",
    "    \"\"\"\n",
    "    :params gates_sequence: iterable sequence of circuit gates.\n",
    "    :return: numpy array of gates constructing inverse circuit of the input \n",
    "    \"\"\"\n",
    "    target_qubits = used_qubits_index(gates_sequence)\n",
    "    n_qubits = len(target_qubits)\n",
    "    \n",
    "    prog = Program()\n",
    "    for gate in reversed(gates_sequence):\n",
    "        prog += daggered_gate(gate)\n",
    "    prog_daggered_native = qmachine.compiler.quil_to_native_quil(prog)\n",
    "#     prog = Program(gates_sequence)\n",
    "#     u_inverse_definition = DefGate('U_inverse', np.linalg.inv(program_unitary(prog, n_qubits=n_qubits)))\n",
    "#     U_inverse = u_inverse_definition.get_constructor()\n",
    "#     prog_inverse = qmachine.compiler.quil_to_native_quil(Program(u_inverse_definition, U_inverse(*target_qubits)))\n",
    "\n",
    "#     instructions = prog_inverse.instructions\n",
    "    instructions = prog_daggered_native.instructions\n",
    "    inverting_gates_list = [ ins for ins in instructions if isinstance(ins, Gate)]\n",
    "    return np.array(inverting_gates_list)"
   ]
  },
  {
   "cell_type": "code",
   "execution_count": 18,
   "id": "75b9d452",
   "metadata": {},
   "outputs": [],
   "source": [
    "def generate_experiments(qmachine, target_qubits:list, circuit_gen_func, layers_num:int, exp_num:int):\n",
    "    n_qubits = len(target_qubits)\n",
    "    return np.array([circuit_gen_func(qmachine, target_qubits, layers_num) for i in range(exp_num)])\n",
    "\n",
    "def bench_machine(qmachine, rb_experiments, number_of_shots):\n",
    "    \"\"\"\n",
    "    It samples and record the accept or reject of the machine with given gate sequences\n",
    "    :return: response_matrix including accepts and rejects in columns\n",
    "    \"\"\"\n",
    "    target_qubits = used_qubits_index(rb_experiments[0])\n",
    "    n_qubits = len(target_qubits)\n",
    "    sequ_num = len(rb_experiments)\n",
    "    response_matrix = np.zeros((sequ_num, number_of_shots))\n",
    "\n",
    "    for i_sequ, sequ in enumerate(rb_experiments):\n",
    "        prog = Program() #All qubits begin with |0> state\n",
    "        for gate in sequ:\n",
    "            prog += gate\n",
    "        \n",
    "        #Measurments\n",
    "        ro = prog.declare('ro', 'BIT', n_qubits)\n",
    "        for ind, qubit_ind in enumerate(target_qubits):\n",
    "            prog += MEASURE(qubit_ind, ro[ind])\n",
    "        prog = prog.wrap_in_numshots_loop(number_of_shots)\n",
    "\n",
    "        response_matrix[i_sequ,:] = run_bench_experiment(qmachine, prog)\n",
    "    return response_matrix"
   ]
  },
  {
   "cell_type": "code",
   "execution_count": 19,
   "id": "832673a5",
   "metadata": {},
   "outputs": [],
   "source": [
    "qc = get_qc(\"2q-qvm\")"
   ]
  },
  {
   "cell_type": "code",
   "execution_count": 20,
   "id": "cac7d216",
   "metadata": {},
   "outputs": [
    {
     "data": {
      "text/plain": [
       "array([[1., 1., 1., 1., 1., 1., 1., 1., 1., 1., 1., 1., 1., 1., 1., 1.,\n",
       "        1., 1., 1., 1., 1., 1., 1., 1., 1., 1., 1., 1., 1., 1., 1., 1.,\n",
       "        1., 1., 1., 1., 1., 1., 1., 1., 1., 1., 1., 1., 1., 1., 1., 1.,\n",
       "        1., 1., 1., 1., 1., 1., 1., 1., 1., 1., 1., 1., 1., 1., 1., 1.,\n",
       "        1., 1., 1., 1., 1., 1., 1., 1., 1., 1., 1., 1., 1., 1., 1., 1.,\n",
       "        1., 1., 1., 1., 1., 1., 1., 1., 1., 1., 1., 1., 1., 1., 1., 1.,\n",
       "        1., 1., 1., 1.],\n",
       "       [1., 1., 1., 1., 1., 1., 1., 1., 1., 1., 1., 1., 1., 1., 1., 1.,\n",
       "        1., 1., 1., 1., 1., 1., 1., 1., 1., 1., 1., 1., 1., 1., 1., 1.,\n",
       "        1., 1., 1., 1., 1., 1., 1., 1., 1., 1., 1., 1., 1., 1., 1., 1.,\n",
       "        1., 1., 1., 1., 1., 1., 1., 1., 1., 1., 1., 1., 1., 1., 1., 1.,\n",
       "        1., 1., 1., 1., 1., 1., 1., 1., 1., 1., 1., 1., 1., 1., 1., 1.,\n",
       "        1., 1., 1., 1., 1., 1., 1., 1., 1., 1., 1., 1., 1., 1., 1., 1.,\n",
       "        1., 1., 1., 1.]])"
      ]
     },
     "execution_count": 20,
     "metadata": {},
     "output_type": "execute_result"
    }
   ],
   "source": [
    "exps = generate_experiments(qmachine = qc, target_qubits = [0],\n",
    "                           circuit_gen_func=native_rigetti_single_qubit_packs_generator, layers_num=2, exp_num=2)\n",
    "response_matrix = bench_machine(qc, exps, 100)\n",
    "response_matrix"
   ]
  },
  {
   "cell_type": "code",
   "execution_count": 21,
   "id": "41b31581",
   "metadata": {},
   "outputs": [
    {
     "name": "stderr",
     "output_type": "stream",
     "text": [
      "C:\\Users\\mohsen\\AppData\\Local\\Temp\\ipykernel_14952\\147581551.py:2: VisibleDeprecationWarning: Creating an ndarray from ragged nested sequences (which is a list-or-tuple of lists-or-tuples-or ndarrays with different lengths or shapes) is deprecated. If you meant to do this, you must specify 'dtype=object' when creating the ndarray.\n",
      "  qubits = np.array([np.array(gate.qubits) for gate in gates_sequence])\n"
     ]
    },
    {
     "data": {
      "text/plain": [
       "array([[-1.00000000e+00+6.10622664e-16j, -4.08049963e-16+8.78852790e-17j,\n",
       "        -4.11881861e-16+1.66616780e-16j, -2.41070325e-16+3.84317830e-16j],\n",
       "       [ 2.60682851e-16-1.17126470e-17j, -1.00000000e+00-1.11022302e-16j,\n",
       "        -7.55307991e-17-2.16347683e-17j, -3.22040015e-16+2.10699411e-16j],\n",
       "       [ 2.18934474e-17-1.65088062e-16j, -1.71603100e-16-2.64572157e-16j,\n",
       "        -1.00000000e+00+1.11022302e-16j,  2.25500371e-16+2.93513231e-16j],\n",
       "       [ 3.75660000e-16+5.22531997e-16j,  5.55076476e-16+3.53598290e-16j,\n",
       "         2.69616798e-16+3.24723441e-16j, -1.00000000e+00-3.60822483e-16j]])"
      ]
     },
     "execution_count": 21,
     "metadata": {},
     "output_type": "execute_result"
    }
   ],
   "source": [
    "program_unitary( Program( native_universal_two_qubits_packs_generator(qc, [0,1], 1) ) , n_qubits=2)"
   ]
  },
  {
   "cell_type": "code",
   "execution_count": 26,
   "id": "d4833a80",
   "metadata": {},
   "outputs": [
    {
     "name": "stderr",
     "output_type": "stream",
     "text": [
      "C:\\Users\\mohsen\\AppData\\Local\\Temp\\ipykernel_14952\\147581551.py:2: VisibleDeprecationWarning: Creating an ndarray from ragged nested sequences (which is a list-or-tuple of lists-or-tuples-or ndarrays with different lengths or shapes) is deprecated. If you meant to do this, you must specify 'dtype=object' when creating the ndarray.\n",
      "  qubits = np.array([np.array(gate.qubits) for gate in gates_sequence])\n"
     ]
    },
    {
     "data": {
      "text/plain": [
       "array([[1., 1., 1., 1., 1., 1., 1., 1., 1., 1., 1., 1., 1., 1., 1., 1.,\n",
       "        1., 1., 1., 1., 1., 1., 1., 1., 1., 1., 1., 1., 1., 1., 1., 1.,\n",
       "        1., 1., 1., 1., 1., 1., 1., 1., 1., 1., 1., 1., 1., 1., 1., 1.,\n",
       "        1., 1., 1., 1., 1., 1., 1., 1., 1., 1., 1., 1., 1., 1., 1., 1.,\n",
       "        1., 1., 1., 1., 1., 1., 1., 1., 1., 1., 1., 1., 1., 1., 1., 1.,\n",
       "        1., 1., 1., 1., 1., 1., 1., 1., 1., 1., 1., 1., 1., 1., 1., 1.,\n",
       "        1., 1., 1., 1.],\n",
       "       [1., 1., 1., 1., 1., 1., 1., 1., 1., 1., 1., 1., 1., 1., 1., 1.,\n",
       "        1., 1., 1., 1., 1., 1., 1., 1., 1., 1., 1., 1., 1., 1., 1., 1.,\n",
       "        1., 1., 1., 1., 1., 1., 1., 1., 1., 1., 1., 1., 1., 1., 1., 1.,\n",
       "        1., 1., 1., 1., 1., 1., 1., 1., 1., 1., 1., 1., 1., 1., 1., 1.,\n",
       "        1., 1., 1., 1., 1., 1., 1., 1., 1., 1., 1., 1., 1., 1., 1., 1.,\n",
       "        1., 1., 1., 1., 1., 1., 1., 1., 1., 1., 1., 1., 1., 1., 1., 1.,\n",
       "        1., 1., 1., 1.],\n",
       "       [1., 1., 1., 1., 1., 1., 1., 1., 1., 1., 1., 1., 1., 1., 1., 1.,\n",
       "        1., 1., 1., 1., 1., 1., 1., 1., 1., 1., 1., 1., 1., 1., 1., 1.,\n",
       "        1., 1., 1., 1., 1., 1., 1., 1., 1., 1., 1., 1., 1., 1., 1., 1.,\n",
       "        1., 1., 1., 1., 1., 1., 1., 1., 1., 1., 1., 1., 1., 1., 1., 1.,\n",
       "        1., 1., 1., 1., 1., 1., 1., 1., 1., 1., 1., 1., 1., 1., 1., 1.,\n",
       "        1., 1., 1., 1., 1., 1., 1., 1., 1., 1., 1., 1., 1., 1., 1., 1.,\n",
       "        1., 1., 1., 1.],\n",
       "       [1., 1., 1., 1., 1., 1., 1., 1., 1., 1., 1., 1., 1., 1., 1., 1.,\n",
       "        1., 1., 1., 1., 1., 1., 1., 1., 1., 1., 1., 1., 1., 1., 1., 1.,\n",
       "        1., 1., 1., 1., 1., 1., 1., 1., 1., 1., 1., 1., 1., 1., 1., 1.,\n",
       "        1., 1., 1., 1., 1., 1., 1., 1., 1., 1., 1., 1., 1., 1., 1., 1.,\n",
       "        1., 1., 1., 1., 1., 1., 1., 1., 1., 1., 1., 1., 1., 1., 1., 1.,\n",
       "        1., 1., 1., 1., 1., 1., 1., 1., 1., 1., 1., 1., 1., 1., 1., 1.,\n",
       "        1., 1., 1., 1.],\n",
       "       [1., 1., 1., 1., 1., 1., 1., 1., 1., 1., 1., 1., 1., 1., 1., 1.,\n",
       "        1., 1., 1., 1., 1., 1., 1., 1., 1., 1., 1., 1., 1., 1., 1., 1.,\n",
       "        1., 1., 1., 1., 1., 1., 1., 1., 1., 1., 1., 1., 1., 1., 1., 1.,\n",
       "        1., 1., 1., 1., 1., 1., 1., 1., 1., 1., 1., 1., 1., 1., 1., 1.,\n",
       "        1., 1., 1., 1., 1., 1., 1., 1., 1., 1., 1., 1., 1., 1., 1., 1.,\n",
       "        1., 1., 1., 1., 1., 1., 1., 1., 1., 1., 1., 1., 1., 1., 1., 1.,\n",
       "        1., 1., 1., 1.],\n",
       "       [1., 1., 1., 1., 1., 1., 1., 1., 1., 1., 1., 1., 1., 1., 1., 1.,\n",
       "        1., 1., 1., 1., 1., 1., 1., 1., 1., 1., 1., 1., 1., 1., 1., 1.,\n",
       "        1., 1., 1., 1., 1., 1., 1., 1., 1., 1., 1., 1., 1., 1., 1., 1.,\n",
       "        1., 1., 1., 1., 1., 1., 1., 1., 1., 1., 1., 1., 1., 1., 1., 1.,\n",
       "        1., 1., 1., 1., 1., 1., 1., 1., 1., 1., 1., 1., 1., 1., 1., 1.,\n",
       "        1., 1., 1., 1., 1., 1., 1., 1., 1., 1., 1., 1., 1., 1., 1., 1.,\n",
       "        1., 1., 1., 1.],\n",
       "       [1., 1., 1., 1., 1., 1., 1., 1., 1., 1., 1., 1., 1., 1., 1., 1.,\n",
       "        1., 1., 1., 1., 1., 1., 1., 1., 1., 1., 1., 1., 1., 1., 1., 1.,\n",
       "        1., 1., 1., 1., 1., 1., 1., 1., 1., 1., 1., 1., 1., 1., 1., 1.,\n",
       "        1., 1., 1., 1., 1., 1., 1., 1., 1., 1., 1., 1., 1., 1., 1., 1.,\n",
       "        1., 1., 1., 1., 1., 1., 1., 1., 1., 1., 1., 1., 1., 1., 1., 1.,\n",
       "        1., 1., 1., 1., 1., 1., 1., 1., 1., 1., 1., 1., 1., 1., 1., 1.,\n",
       "        1., 1., 1., 1.],\n",
       "       [1., 1., 1., 1., 1., 1., 1., 1., 1., 1., 1., 1., 1., 1., 1., 1.,\n",
       "        1., 1., 1., 1., 1., 1., 1., 1., 1., 1., 1., 1., 1., 1., 1., 1.,\n",
       "        1., 1., 1., 1., 1., 1., 1., 1., 1., 1., 1., 1., 1., 1., 1., 1.,\n",
       "        1., 1., 1., 1., 1., 1., 1., 1., 1., 1., 1., 1., 1., 1., 1., 1.,\n",
       "        1., 1., 1., 1., 1., 1., 1., 1., 1., 1., 1., 1., 1., 1., 1., 1.,\n",
       "        1., 1., 1., 1., 1., 1., 1., 1., 1., 1., 1., 1., 1., 1., 1., 1.,\n",
       "        1., 1., 1., 1.],\n",
       "       [1., 1., 1., 1., 1., 1., 1., 1., 1., 1., 1., 1., 1., 1., 1., 1.,\n",
       "        1., 1., 1., 1., 1., 1., 1., 1., 1., 1., 1., 1., 1., 1., 1., 1.,\n",
       "        1., 1., 1., 1., 1., 1., 1., 1., 1., 1., 1., 1., 1., 1., 1., 1.,\n",
       "        1., 1., 1., 1., 1., 1., 1., 1., 1., 1., 1., 1., 1., 1., 1., 1.,\n",
       "        1., 1., 1., 1., 1., 1., 1., 1., 1., 1., 1., 1., 1., 1., 1., 1.,\n",
       "        1., 1., 1., 1., 1., 1., 1., 1., 1., 1., 1., 1., 1., 1., 1., 1.,\n",
       "        1., 1., 1., 1.],\n",
       "       [1., 1., 1., 1., 1., 1., 1., 1., 1., 1., 1., 1., 1., 1., 1., 1.,\n",
       "        1., 1., 1., 1., 1., 1., 1., 1., 1., 1., 1., 1., 1., 1., 1., 1.,\n",
       "        1., 1., 1., 1., 1., 1., 1., 1., 1., 1., 1., 1., 1., 1., 1., 1.,\n",
       "        1., 1., 1., 1., 1., 1., 1., 1., 1., 1., 1., 1., 1., 1., 1., 1.,\n",
       "        1., 1., 1., 1., 1., 1., 1., 1., 1., 1., 1., 1., 1., 1., 1., 1.,\n",
       "        1., 1., 1., 1., 1., 1., 1., 1., 1., 1., 1., 1., 1., 1., 1., 1.,\n",
       "        1., 1., 1., 1.]])"
      ]
     },
     "execution_count": 26,
     "metadata": {},
     "output_type": "execute_result"
    }
   ],
   "source": [
    "exps = generate_experiments(qmachine = qc, target_qubits = [0,1],\n",
    "                           circuit_gen_func=native_universal_two_qubits_packs_generator, layers_num=1, exp_num=10)\n",
    "response_matrix = bench_machine(qc, exps, 100)\n",
    "response_matrix"
   ]
  },
  {
   "cell_type": "code",
   "execution_count": null,
   "id": "0e547433",
   "metadata": {},
   "outputs": [],
   "source": []
  },
  {
   "cell_type": "code",
   "execution_count": null,
   "id": "b25e3df3",
   "metadata": {},
   "outputs": [],
   "source": []
  },
  {
   "cell_type": "code",
   "execution_count": null,
   "id": "63b462ce",
   "metadata": {},
   "outputs": [],
   "source": []
  },
  {
   "cell_type": "code",
   "execution_count": null,
   "id": "454aead8",
   "metadata": {},
   "outputs": [],
   "source": []
  },
  {
   "cell_type": "code",
   "execution_count": null,
   "id": "3f38b669",
   "metadata": {},
   "outputs": [],
   "source": []
  },
  {
   "cell_type": "code",
   "execution_count": null,
   "id": "4a9fe431",
   "metadata": {},
   "outputs": [],
   "source": []
  },
  {
   "cell_type": "code",
   "execution_count": null,
   "id": "430041ee",
   "metadata": {},
   "outputs": [],
   "source": []
  },
  {
   "cell_type": "code",
   "execution_count": null,
   "id": "ce411fe6",
   "metadata": {},
   "outputs": [],
   "source": []
  }
 ],
 "metadata": {
  "kernelspec": {
   "display_name": "Python 3 (ipykernel)",
   "language": "python",
   "name": "python3"
  },
  "language_info": {
   "codemirror_mode": {
    "name": "ipython",
    "version": 3
   },
   "file_extension": ".py",
   "mimetype": "text/x-python",
   "name": "python",
   "nbconvert_exporter": "python",
   "pygments_lexer": "ipython3",
   "version": "3.9.12"
  }
 },
 "nbformat": 4,
 "nbformat_minor": 5
}
