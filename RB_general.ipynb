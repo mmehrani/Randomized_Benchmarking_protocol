{
 "cells": [
  {
   "cell_type": "code",
   "execution_count": 1,
   "id": "6f099d08",
   "metadata": {},
   "outputs": [],
   "source": [
    "from pyquil import get_qc, Program\n",
    "from pyquil.gates import *\n",
    "from pyquil.api import local_forest_runtime\n",
    "from pyquil.quilbase import Declare\n",
    "from pyquil.simulation.tools import lifted_gate, program_unitary\n",
    "from pyquil.quil import *"
   ]
  },
  {
   "cell_type": "code",
   "execution_count": 2,
   "id": "ab010c90",
   "metadata": {},
   "outputs": [],
   "source": [
    "import numpy as np\n",
    "import math\n",
    "from math import pi\n",
    "import random\n",
    "import copy"
   ]
  },
  {
   "cell_type": "code",
   "execution_count": 3,
   "id": "5c1ea222",
   "metadata": {},
   "outputs": [],
   "source": [
    "%%capture\n",
    "from tqdm import tqdm_notebook as tqdm\n",
    "tqdm().pandas() #This line make sure that the progress bars looks naturalfrom tqdm import tqdm_notebook as tqdm"
   ]
  },
  {
   "cell_type": "code",
   "execution_count": 4,
   "id": "ff34968d",
   "metadata": {},
   "outputs": [],
   "source": [
    "from functions import *"
   ]
  },
  {
   "cell_type": "code",
   "execution_count": 5,
   "id": "e4d56adf",
   "metadata": {},
   "outputs": [],
   "source": [
    "# # %%writefile -a functions.py\n",
    "\n",
    "# def native_universal_two_qubits_packs_generator(qmachine, target_qubits:list, num_layer:int):\n",
    "#     list_gates = []\n",
    "#     for index in range(num_layer):\n",
    "#         draft_circuit = give_random_two_qubit_circuit(target_qubits)\n",
    "#         list_gates.extend( qmachine.compiler.quil_to_native_quil(draft_circuit) )\n",
    "#     list_gates = [ ins for ins in list_gates if isinstance(ins, Gate)]\n",
    "#     list_gates.extend( get_inverse_circuit(qmachine, list_gates) )\n",
    "#     return list_gates\n",
    "\n",
    "# def native_rigetti_single_qubit_packs_generator(qmachine, target_qubit, num_layer:int):\n",
    "#     try:\n",
    "#         temp = iter(target_qubit)\n",
    "#         if len(target_qubit) == 1:\n",
    "#             target_qubit = target_qubit[0]\n",
    "#         else:\n",
    "#             raise ValueError('target qubit should be only one index')\n",
    "#     except:\n",
    "#         pass\n",
    "    \n",
    "#     list_gates = []\n",
    "#     angles = np.linspace(0, np.pi, 100)\n",
    "    \n",
    "#     for index in range(0,num_layer):\n",
    "#         omega, phi = np.random.uniform(0, 2*np.pi, size = 2)\n",
    "#         theta = np.random.choice(angles, p = np.sin(angles) / np.sum( np.sin(angles) ))\n",
    "        \n",
    "#         draft_circuit = Program( [RZ(phi, qubit = target_qubit),\n",
    "#                                   RY(theta, qubit = target_qubit),\n",
    "#                                   RZ(omega, qubit = target_qubit)])\n",
    "        \n",
    "#         list_gates.extend(qmachine.compiler.quil_to_native_quil(draft_circuit))\n",
    "    \n",
    "#     list_gates = [ ins for ins in list_gates if isinstance(ins, Gate)]\n",
    "#     list_gates.extend( get_inverse_circuit(qmachine, list_gates) )\n",
    "#     return list_gates"
   ]
  },
  {
   "cell_type": "code",
   "execution_count": 6,
   "id": "d3f009cd",
   "metadata": {},
   "outputs": [],
   "source": [
    "# def clifford_group_packs_generator(qmachine, target_qubit, num_layer:int):\n",
    "    \n",
    "#     list_gates = []\n",
    "    \n",
    "#     for index in range(0,num_layer):\n",
    "#         omega, phi = np.random.uniform(0, 2*np.pi, size = 2)\n",
    "#         theta = np.random.choice(angles, p = np.sin(angles) / np.sum( np.sin(angles) ))\n",
    "        \n",
    "#         draft_circuit = Program( [RZ(phi, qubit = target_qubit),\n",
    "#                                   RY(theta, qubit = target_qubit),\n",
    "#                                   RZ(omega, qubit = target_qubit)])\n",
    "        \n",
    "#         list_gates.extend(qmachine.compiler.quil_to_native_quil(draft_circuit))\n",
    "    \n",
    "#     list_gates = [ ins for ins in list_gates if isinstance(ins, Gate)]\n",
    "#     list_gates.extend( get_inverse_circuit(qmachine, list_gates) )\n",
    "#     return list_gates"
   ]
  },
  {
   "cell_type": "code",
   "execution_count": 7,
   "id": "93cc3f1e",
   "metadata": {},
   "outputs": [],
   "source": [
    "# def used_qubits_index(gates_sequence):\n",
    "#     qubits = np.array([np.array(gate.qubits) for gate in gates_sequence])\n",
    "#     qubits = np.array([ ele.index for sub_arr in qubits for ele in sub_arr]) #some gates might have multiple indices\n",
    "#     qubits_indices = np.unique(qubits)\n",
    "#     qubits_indices.sort()\n",
    "#     return [ int(x) for x in qubits_indices ]\n",
    "\n",
    "# def convert_measured_to_response_matrix(measured_outcome):\n",
    "#     return 1 - np.bool_(np.sum(measured_outcome, axis = 1)) # 1 if it is equal to n_zero state\n",
    "\n",
    "# def run_bench_experiment(qmachine, program, number_of_shots):\n",
    "    \n",
    "#     program = program.wrap_in_numshots_loop(number_of_shots)\n",
    "    \n",
    "#     #Run the program\n",
    "#     executable = qmachine.compile(program)\n",
    "#     result = qmachine.run(executable)\n",
    "#     measured_outcome = result.readout_data.get('ro')\n",
    "#     return measured_outcome\n",
    "\n",
    "# def get_inverse_circuit(qmachine, gates_sequence):\n",
    "#     \"\"\"\n",
    "#     :params gates_sequence: iterable sequence of circuit gates.\n",
    "#     :return: numpy array of gates constructing inverse circuit of the input \n",
    "#     \"\"\"\n",
    "#     target_qubits = used_qubits_index(gates_sequence)\n",
    "#     n_qubits = len(target_qubits)\n",
    "    \n",
    "#     prog = Program()\n",
    "#     for gate in reversed(gates_sequence):\n",
    "#         prog += daggered_gate(gate)\n",
    "#     prog_daggered_native = qmachine.compiler.quil_to_native_quil(prog)\n",
    "#     instructions = prog_daggered_native.instructions\n",
    "#     inverting_gates_list = [ ins for ins in instructions if isinstance(ins, Gate)]\n",
    "#     return np.array(inverting_gates_list)\n",
    "\n",
    "# def generate_experiments(qmachine, target_qubits:list, circuit_gen_func, layers_num:int, exp_num:int):\n",
    "#     n_qubits = len(target_qubits)\n",
    "#     return np.array([circuit_gen_func(qmachine, target_qubits, layers_num) for i in range(exp_num)])\n",
    "\n",
    "# def find_machine_response(qmachine, rb_experiments, number_of_shots):\n",
    "#     \"\"\"\n",
    "#     It samples and record the accept or reject of the machine with given gate sequences\n",
    "#     :return: response_matrix including accepts and rejects in columns\n",
    "#     \"\"\"\n",
    "#     target_qubits = used_qubits_index(rb_experiments[0])\n",
    "#     n_qubits = len(target_qubits)\n",
    "#     sequ_num = len(rb_experiments)\n",
    "#     response_matrix = np.zeros((sequ_num, number_of_shots))\n",
    "\n",
    "#     for i_sequ, sequ in enumerate(tqdm(rb_experiments)):\n",
    "#         prog = Program() #All qubits begin with |0> state\n",
    "#         for gate in sequ:\n",
    "#             prog += gate\n",
    "        \n",
    "#         #Do not let the quilc to alter the gates by optimization\n",
    "#         prog = Program('PRAGMA PRESERVE_BLOCK') + prog\n",
    "#         prog += Program('PRAGMA END_PRESERVE_BLOCK')\n",
    "        \n",
    "#         #Measurments\n",
    "#         ro = prog.declare('ro', 'BIT', n_qubits)\n",
    "#         for ind, qubit_ind in enumerate(target_qubits):\n",
    "#             prog += MEASURE(qubit_ind, ro[ind])\n",
    "            \n",
    "#         response = convert_measured_to_response_matrix( run_bench_experiment(qmachine, prog, number_of_shots) )\n",
    "#         response_matrix[i_sequ,:] = np.copy(response)\n",
    "#     return response_matrix"
   ]
  },
  {
   "cell_type": "markdown",
   "id": "ed5d848d",
   "metadata": {},
   "source": [
    "## Single Qubit"
   ]
  },
  {
   "cell_type": "code",
   "execution_count": 8,
   "id": "d0a49f0e",
   "metadata": {},
   "outputs": [],
   "source": [
    "qc = get_qc(\"2q-qvm\")\n",
    "# qc = get_qc(\"9q-square-noisy-qvm\")\n",
    "epsilon = 0.01\n",
    "p_xi = epsilon/4\n",
    "qc.qam.gate_noise=(p_xi,p_xi,p_xi)"
   ]
  },
  {
   "cell_type": "code",
   "execution_count": 8,
   "id": "832673a5",
   "metadata": {},
   "outputs": [
    {
     "data": {
      "application/vnd.jupyter.widget-view+json": {
       "model_id": "02cb52a0db404504aeef5522b3fe7ee3",
       "version_major": 2,
       "version_minor": 0
      },
      "text/plain": [
       "  0%|          | 0/10 [00:00<?, ?it/s]"
      ]
     },
     "metadata": {},
     "output_type": "display_data"
    },
    {
     "data": {
      "text/plain": [
       "array([[1., 1., 1., 1., 0., 1., 1., 1., 1., 1.],\n",
       "       [1., 0., 0., 1., 1., 1., 0., 1., 1., 1.],\n",
       "       [0., 1., 1., 1., 1., 1., 1., 0., 1., 0.],\n",
       "       [1., 1., 1., 1., 1., 1., 1., 1., 1., 1.],\n",
       "       [1., 1., 0., 0., 1., 1., 0., 1., 1., 0.],\n",
       "       [1., 0., 1., 1., 1., 1., 1., 0., 0., 1.],\n",
       "       [1., 1., 1., 1., 1., 0., 0., 1., 1., 1.],\n",
       "       [0., 0., 1., 0., 1., 1., 0., 1., 0., 1.],\n",
       "       [1., 1., 1., 1., 1., 1., 1., 0., 1., 1.],\n",
       "       [1., 1., 0., 1., 1., 1., 1., 1., 1., 0.]])"
      ]
     },
     "execution_count": 8,
     "metadata": {},
     "output_type": "execute_result"
    }
   ],
   "source": [
    "# while 0 not in response_matrix:\n",
    "exps = generate_experiments(qmachine = qc, target_qubits = [0], circuit_gen_func=native_rigetti_single_qubit_packs_generator, layers_num=10, exp_num=10)\n",
    "response_matrix = find_machine_response(qc, exps, 10)\n",
    "response_matrix"
   ]
  },
  {
   "cell_type": "markdown",
   "id": "04cd8dee",
   "metadata": {},
   "source": [
    "## Two-qubits"
   ]
  },
  {
   "cell_type": "code",
   "execution_count": 10,
   "id": "ef031b57",
   "metadata": {},
   "outputs": [
    {
     "data": {
      "application/vnd.jupyter.widget-view+json": {
       "model_id": "435c11fdebac4bc4b5a73b7ae96b749f",
       "version_major": 2,
       "version_minor": 0
      },
      "text/plain": [
       "  0%|          | 0/10 [00:00<?, ?it/s]"
      ]
     },
     "metadata": {},
     "output_type": "display_data"
    },
    {
     "data": {
      "text/plain": [
       "array([[1., 1., 1., 1., 1., 1., 1., 1., 1., 1.],\n",
       "       [1., 1., 1., 1., 1., 1., 1., 1., 1., 1.],\n",
       "       [1., 1., 1., 1., 1., 1., 1., 1., 1., 1.],\n",
       "       [1., 1., 1., 1., 1., 1., 1., 1., 1., 1.],\n",
       "       [1., 1., 1., 1., 1., 1., 1., 1., 1., 1.],\n",
       "       [1., 1., 1., 1., 1., 1., 1., 1., 1., 1.],\n",
       "       [1., 1., 1., 1., 1., 1., 1., 1., 1., 1.],\n",
       "       [1., 1., 1., 1., 1., 1., 1., 1., 1., 1.],\n",
       "       [1., 1., 1., 1., 1., 1., 1., 1., 1., 1.],\n",
       "       [1., 1., 1., 1., 1., 1., 1., 1., 1., 1.]])"
      ]
     },
     "execution_count": 10,
     "metadata": {},
     "output_type": "execute_result"
    }
   ],
   "source": [
    "qc = get_qc(\"2q-qvm\")\n",
    "# qc = get_qc(\"9q-square-noisy-qvm\")\n",
    "epsilon = 0.0\n",
    "p_xi = epsilon/4\n",
    "qc.qam.gate_noise=(p_xi,p_xi,p_xi)\n",
    "\n",
    "# while 0 not in response_matrix:\n",
    "exps = generate_experiments(qmachine = qc, target_qubits = [0,1], circuit_gen_func=native_universal_two_qubits_packs_generator, layers_num=1, exp_num=10)\n",
    "response_matrix = find_machine_response(qc, exps, 10)\n",
    "response_matrix"
   ]
  },
  {
   "cell_type": "code",
   "execution_count": 9,
   "id": "63b462ce",
   "metadata": {},
   "outputs": [],
   "source": [
    "draft_circuit = Program( [RZ(1, qubit = 0),\n",
    "                          RY(2, qubit = 0),\n",
    "                          RZ(3, qubit = 0)])"
   ]
  },
  {
   "cell_type": "code",
   "execution_count": 19,
   "id": "454aead8",
   "metadata": {},
   "outputs": [
    {
     "data": {
      "text/plain": [
       "[<Gate RZ(-pi/2) 0>,\n",
       " <Gate RZ(-pi/2) 1>,\n",
       " <Gate CZ 1 0>,\n",
       " <pyquil.quilbase.Halt at 0x1de69ad2910>]"
      ]
     },
     "execution_count": 19,
     "metadata": {},
     "output_type": "execute_result"
    }
   ],
   "source": [
    "qc.compiler.quil_to_native_quil(draft_circuit).instructions"
   ]
  },
  {
   "cell_type": "code",
   "execution_count": 20,
   "id": "ce411fe6",
   "metadata": {},
   "outputs": [],
   "source": [
    "draft_circuit = Program( CPHASE01(-np.pi/2, control=0, target=1),\n",
    "                        CPHASE10(-np.pi/2, control=0, target=1) )\n",
    "dc = qc.compiler.quil_to_native_quil(draft_circuit)"
   ]
  },
  {
   "cell_type": "code",
   "execution_count": 21,
   "id": "d0dc53d8",
   "metadata": {},
   "outputs": [
    {
     "data": {
      "text/plain": [
       "[<Gate RZ(-3*pi/2) 0>,\n",
       " <Gate RZ(-3*pi/2) 1>,\n",
       " <Gate CZ 1 0>,\n",
       " <Gate RZ(-pi) 0>,\n",
       " <Gate RZ(-pi) 1>,\n",
       " <pyquil.quilbase.Halt at 0x1de69ad2910>]"
      ]
     },
     "execution_count": 21,
     "metadata": {},
     "output_type": "execute_result"
    }
   ],
   "source": [
    "qc.compiler.native_quil_to_executable(dc).instructions"
   ]
  },
  {
   "cell_type": "code",
   "execution_count": null,
   "id": "1af35073",
   "metadata": {},
   "outputs": [],
   "source": []
  }
 ],
 "metadata": {
  "kernelspec": {
   "display_name": "Python 3 (ipykernel)",
   "language": "python",
   "name": "python3"
  },
  "language_info": {
   "codemirror_mode": {
    "name": "ipython",
    "version": 3
   },
   "file_extension": ".py",
   "mimetype": "text/x-python",
   "name": "python",
   "nbconvert_exporter": "python",
   "pygments_lexer": "ipython3",
   "version": "3.9.12"
  }
 },
 "nbformat": 4,
 "nbformat_minor": 5
}
