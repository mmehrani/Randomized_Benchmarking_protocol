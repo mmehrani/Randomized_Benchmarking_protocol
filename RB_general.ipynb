{
 "cells": [
  {
   "cell_type": "code",
   "execution_count": 1,
   "id": "f22f69df",
   "metadata": {},
   "outputs": [],
   "source": [
    "from pyquil import get_qc, Program\n",
    "from pyquil.gates import *\n",
    "from pyquil.api import local_forest_runtime\n",
    "from pyquil.quilbase import Declare\n",
    "from pyquil.simulation.tools import lifted_gate, program_unitary\n",
    "from pyquil.quil import *"
   ]
  },
  {
   "cell_type": "code",
   "execution_count": 2,
   "id": "992f76d8",
   "metadata": {},
   "outputs": [],
   "source": [
    "import numpy as np\n",
    "import math\n",
    "from math import pi\n",
    "import random\n",
    "import copy\n",
    "from tqdm import tqdm_notebook as tqdm"
   ]
  },
  {
   "cell_type": "code",
   "execution_count": 3,
   "id": "ff3ed073",
   "metadata": {},
   "outputs": [],
   "source": [
    "from functions import *"
   ]
  },
  {
   "cell_type": "code",
   "execution_count": 4,
   "id": "dc644466",
   "metadata": {},
   "outputs": [],
   "source": [
    "# if __name__ == \"__main__\":\n",
    "#     target_qubit = [0]\n",
    "#     num_qubits = len(target_qubit)\n",
    "\n",
    "# #     First step choose m and the K_m sequences of \n",
    "#     m = 1\n",
    "#     k_m = 1 #n. of diff sequences\n",
    "#     n_m = 1  #n. of samples from a certain sequence"
   ]
  },
  {
   "cell_type": "code",
   "execution_count": 9,
   "id": "bfacbcd6",
   "metadata": {},
   "outputs": [],
   "source": [
    "def native_universal_two_qubits_packs_generator(qmachine, target_qubits:list, num_layer:int):\n",
    "    list_gates = []\n",
    "    for index in range(num_layer):\n",
    "        draft_circuit = give_random_two_qubit_circuit(target_qubits)\n",
    "        list_gates.extend( qmachine.compiler.quil_to_native_quil(draft_circuit) )\n",
    "    list_gates = [ ins for ins in list_gates if isinstance(ins, Gate)]\n",
    "    return list_gates\n",
    "\n",
    "def native_rigetti_single_qubit_packs_generator(qmachine, target_qubit, num_layer:int):\n",
    "    try:\n",
    "        temp = iter(target_qubit)\n",
    "        if len(target_qubit) == 1:\n",
    "            target_qubit = target_qubit[0]\n",
    "        else:\n",
    "            raise ValueError('target qubit should be only one index')\n",
    "    except:\n",
    "        pass\n",
    "    \n",
    "    list_gates = []\n",
    "    angles = np.linspace(0, np.pi, 100)\n",
    "    \n",
    "    for index in range(0,num_layer):\n",
    "        omega, phi = np.random.uniform(0, 2*np.pi, size = 2)\n",
    "        theta = np.random.choice(angles, p = np.sin(angles) / np.sum( np.sin(angles) ))\n",
    "        \n",
    "        draft_circuit = Program( [RZ(phi, qubit = target_qubit),\n",
    "                                  RY(theta, qubit = target_qubit),\n",
    "                                  RZ(omega, qubit = target_qubit)])\n",
    "        \n",
    "        list_gates.extend(qmachine.compiler.quil_to_native_quil(draft_circuit))\n",
    "    \n",
    "    list_gates = [ ins for ins in list_gates if isinstance(ins, Gate)]\n",
    "    return list_gates"
   ]
  },
  {
   "cell_type": "code",
   "execution_count": 56,
   "id": "0175df63",
   "metadata": {},
   "outputs": [],
   "source": [
    "def used_qubits_index(gates_sequence):\n",
    "    qubits = np.array([np.array(gate.qubits) for gate in gates_sequence])\n",
    "    qubits = np.array([ ele.index for sub_arr in qubits for ele in sub_arr]) #some gates might have multiple indices\n",
    "    qubits_indices = np.unique(qubits)\n",
    "    qubits_indices.sort()\n",
    "    return qubits_indices\n",
    "\n",
    "def run_bench_experiment(qmachine, program):\n",
    "    #Run the program\n",
    "    executable = qmachine.compile(program)\n",
    "    result = qmachine.run(executable)\n",
    "    measured_outcome = result.readout_data.get('ro')\n",
    "    return 1 - np.bool_(np.sum(measured_outcome, axis = 1)) # 1 if it is equal to n_zero state\n",
    "\n",
    "def get_inverse_circuit(gates_sequence):\n",
    "    \"\"\"\n",
    "    :params gates_sequence: iterable sequence of circuit gates.\n",
    "    :return: numpy array of gates constructing inverse circuit of the input \n",
    "    \"\"\"\n",
    "    target_qubits = used_qubits_index(gates_sequence)\n",
    "    n_qubits = len(target_qubits)\n",
    "    \n",
    "    prog = Program(gates_sequence)\n",
    "    u_inverse_definition = DefGate('U_inverse', np.linalg.inv(program_unitary(prog, n_qubits=n_qubits)))\n",
    "    U_inverse = u_inverse_definition.get_constructor()\n",
    "    prog += qmachine.compiler.quil_to_native_quil(Program(u_inverse_definition, U_inverse(*target_qubits)))\n",
    "\n",
    "    #Do not let the quilc to alter the gates by optimization\n",
    "    prog = Program('PRAGMA PRESERVE_BLOCK') + prog\n",
    "    prog += Program('PRAGMA END_PRESERVE_BLOCK')\n",
    "    \n",
    "    instructions = prog.instructions\n",
    "    inverting_gates_list = [ ins for ins in instructions if isinstance(ins, Gate)]\n",
    "    return np.array(inverting_gates_list)\n",
    "\n",
    "def generate_experiments(qmachine, target_qubits:list, circuit_gen_func, layers_num:int, exp_num:int):\n",
    "    n_qubits = len(target_qubits)\n",
    "    return np.array([circuit_gen_func(qmachine, target_qubits, layers_num) for i in range(exp_num)])\n",
    "\n",
    "def bench_machine(qmachine, rb_experiments, number_of_shots):\n",
    "    \"\"\"\n",
    "    It samples and record the accept or reject of the machine with given gate sequences\n",
    "    :return: response_matrix including accepts and rejects in columns\n",
    "    \"\"\"\n",
    "    target_qubits = used_qubits_index(rb_experiments[0])\n",
    "    n_qubits = len(target_qubits)\n",
    "    sequ_num = len(rb_experiments)\n",
    "    response_matrix = np.zeros((sequ_num, number_of_shots))\n",
    "\n",
    "    for i_sequ, sequ in enumerate(rb_experiments):\n",
    "        prog = Program() #All qubits begin with |0> state\n",
    "        for gate in sequ:\n",
    "            prog += gate\n",
    "        \n",
    "        #Measurments\n",
    "        ro = prog.declare('ro', 'BIT', n_qubits)\n",
    "        for ind, qubit_ind in enumerate(target_qubits):\n",
    "            prog += MEASURE(qubit_ind, ro[ind])\n",
    "        prog = prog.wrap_in_numshots_loop(number_of_shots)\n",
    "\n",
    "        response_matrix[i_sequ,:] = run_bench_experiment(qmachine, prog)\n",
    "    return response_matrix"
   ]
  },
  {
   "cell_type": "code",
   "execution_count": 43,
   "id": "c462ba75",
   "metadata": {},
   "outputs": [],
   "source": [
    "qc = get_qc(\"9q-square-noisy-qvm\")"
   ]
  },
  {
   "cell_type": "code",
   "execution_count": 30,
   "id": "e47b92ff",
   "metadata": {},
   "outputs": [
    {
     "data": {
      "text/plain": [
       "array([[1., 0., 1., 0., 1., 0., 1., 0., 1., 0., 0., 1., 1., 0., 0., 0.,\n",
       "        1., 0., 0., 1., 1., 0., 0., 1., 1., 0., 1., 0., 1., 1., 1., 0.,\n",
       "        0., 0., 1., 0., 0., 0., 1., 1., 0., 1., 0., 1., 0., 0., 1., 0.,\n",
       "        1., 0., 0., 1., 1., 1., 1., 0., 0., 1., 1., 1., 1., 0., 0., 1.,\n",
       "        0., 1., 1., 0., 0., 0., 1., 0., 1., 1., 0., 1., 1., 0., 1., 1.,\n",
       "        1., 1., 1., 1., 1., 1., 1., 1., 0., 1., 0., 1., 0., 0., 1., 0.,\n",
       "        0., 0., 0., 1.],\n",
       "       [1., 0., 0., 1., 1., 1., 1., 1., 1., 0., 1., 0., 1., 1., 1., 1.,\n",
       "        1., 1., 1., 1., 0., 0., 1., 1., 0., 0., 1., 1., 0., 1., 1., 1.,\n",
       "        1., 1., 1., 1., 1., 0., 1., 1., 1., 1., 0., 1., 1., 1., 0., 1.,\n",
       "        1., 1., 1., 0., 1., 1., 0., 1., 0., 0., 1., 1., 1., 0., 1., 1.,\n",
       "        1., 1., 1., 1., 1., 0., 0., 0., 1., 0., 1., 1., 1., 1., 1., 0.,\n",
       "        0., 0., 1., 0., 0., 0., 1., 1., 1., 1., 1., 1., 1., 1., 0., 1.,\n",
       "        1., 1., 1., 1.]])"
      ]
     },
     "execution_count": 30,
     "metadata": {},
     "output_type": "execute_result"
    }
   ],
   "source": [
    "exps = generate_experiments(qmachine = qc, target_qubits = [0],\n",
    "                           circuit_gen_func=native_rigetti_single_qubit_packs_generator, layers_num=2, exp_num=2)\n",
    "response_matrix = bench_machine(qc, exps, 100)\n",
    "response_matrix"
   ]
  },
  {
   "cell_type": "code",
   "execution_count": 47,
   "id": "45d50579",
   "metadata": {},
   "outputs": [
    {
     "name": "stderr",
     "output_type": "stream",
     "text": [
      "C:\\Users\\mohsen\\AppData\\Local\\Temp\\ipykernel_20096\\932765169.py:2: VisibleDeprecationWarning: Creating an ndarray from ragged nested sequences (which is a list-or-tuple of lists-or-tuples-or ndarrays with different lengths or shapes) is deprecated. If you meant to do this, you must specify 'dtype=object' when creating the ndarray.\n",
      "  qubits = np.array([np.array(gate.qubits) for gate in gates_sequence]).flatten()\n"
     ]
    },
    {
     "ename": "TypeError",
     "evalue": "qubit should be an int or Qubit or QubitPlaceholder instance",
     "output_type": "error",
     "traceback": [
      "\u001b[1;31m---------------------------------------------------------------------------\u001b[0m",
      "\u001b[1;31mTypeError\u001b[0m                                 Traceback (most recent call last)",
      "Input \u001b[1;32mIn [47]\u001b[0m, in \u001b[0;36m<cell line: 3>\u001b[1;34m()\u001b[0m\n\u001b[0;32m      1\u001b[0m exps \u001b[38;5;241m=\u001b[39m generate_experiments(qmachine \u001b[38;5;241m=\u001b[39m qc, target_qubits \u001b[38;5;241m=\u001b[39m [\u001b[38;5;241m0\u001b[39m,\u001b[38;5;241m1\u001b[39m],\n\u001b[0;32m      2\u001b[0m                            circuit_gen_func\u001b[38;5;241m=\u001b[39mnative_universal_two_qubits_packs_generator, layers_num\u001b[38;5;241m=\u001b[39m\u001b[38;5;241m2\u001b[39m, exp_num\u001b[38;5;241m=\u001b[39m\u001b[38;5;241m2\u001b[39m)\n\u001b[1;32m----> 3\u001b[0m response_matrix \u001b[38;5;241m=\u001b[39m \u001b[43mbench_machine\u001b[49m\u001b[43m(\u001b[49m\u001b[43mqc\u001b[49m\u001b[43m,\u001b[49m\u001b[43m \u001b[49m\u001b[43mexps\u001b[49m\u001b[43m,\u001b[49m\u001b[43m \u001b[49m\u001b[38;5;241;43m100\u001b[39;49m\u001b[43m)\u001b[49m\n\u001b[0;32m      4\u001b[0m response_matrix\n",
      "Input \u001b[1;32mIn [46]\u001b[0m, in \u001b[0;36mbench_machine\u001b[1;34m(qmachine, rb_experiments, number_of_shots)\u001b[0m\n\u001b[0;32m     57\u001b[0m ro \u001b[38;5;241m=\u001b[39m prog\u001b[38;5;241m.\u001b[39mdeclare(\u001b[38;5;124m'\u001b[39m\u001b[38;5;124mro\u001b[39m\u001b[38;5;124m'\u001b[39m, \u001b[38;5;124m'\u001b[39m\u001b[38;5;124mBIT\u001b[39m\u001b[38;5;124m'\u001b[39m, n_qubits)\n\u001b[0;32m     58\u001b[0m \u001b[38;5;28;01mfor\u001b[39;00m ind, qubit_ind \u001b[38;5;129;01min\u001b[39;00m \u001b[38;5;28menumerate\u001b[39m(target_qubits):\n\u001b[1;32m---> 59\u001b[0m     prog \u001b[38;5;241m+\u001b[39m\u001b[38;5;241m=\u001b[39m \u001b[43mMEASURE\u001b[49m\u001b[43m(\u001b[49m\u001b[43mqubit_ind\u001b[49m\u001b[43m,\u001b[49m\u001b[43m \u001b[49m\u001b[43mro\u001b[49m\u001b[43m[\u001b[49m\u001b[43mind\u001b[49m\u001b[43m]\u001b[49m\u001b[43m)\u001b[49m\n\u001b[0;32m     60\u001b[0m prog \u001b[38;5;241m=\u001b[39m prog\u001b[38;5;241m.\u001b[39mwrap_in_numshots_loop(number_of_shots)\n\u001b[0;32m     62\u001b[0m response_matrix[i_sequ,:] \u001b[38;5;241m=\u001b[39m run_bench_experiment(qmachine, prog)\n",
      "File \u001b[1;32mC:\\ProgramData\\Anaconda3\\lib\\site-packages\\pyquil\\gates.py:583\u001b[0m, in \u001b[0;36mMEASURE\u001b[1;34m(qubit, classical_reg)\u001b[0m\n\u001b[0;32m    575\u001b[0m \u001b[38;5;28;01mdef\u001b[39;00m \u001b[38;5;21mMEASURE\u001b[39m(qubit: QubitDesignator, classical_reg: Optional[MemoryReferenceDesignator]) \u001b[38;5;241m-\u001b[39m\u001b[38;5;241m>\u001b[39m Measurement:\n\u001b[0;32m    576\u001b[0m     \u001b[38;5;124;03m\"\"\"\u001b[39;00m\n\u001b[0;32m    577\u001b[0m \u001b[38;5;124;03m    Produce a MEASURE instruction.\u001b[39;00m\n\u001b[0;32m    578\u001b[0m \n\u001b[1;32m   (...)\u001b[0m\n\u001b[0;32m    581\u001b[0m \u001b[38;5;124;03m    :return: A Measurement instance.\u001b[39;00m\n\u001b[0;32m    582\u001b[0m \u001b[38;5;124;03m    \"\"\"\u001b[39;00m\n\u001b[1;32m--> 583\u001b[0m     qubit \u001b[38;5;241m=\u001b[39m \u001b[43munpack_qubit\u001b[49m\u001b[43m(\u001b[49m\u001b[43mqubit\u001b[49m\u001b[43m)\u001b[49m\n\u001b[0;32m    584\u001b[0m     \u001b[38;5;28;01mif\u001b[39;00m classical_reg \u001b[38;5;129;01mis\u001b[39;00m \u001b[38;5;28;01mNone\u001b[39;00m:\n\u001b[0;32m    585\u001b[0m         address \u001b[38;5;241m=\u001b[39m \u001b[38;5;28;01mNone\u001b[39;00m\n",
      "File \u001b[1;32mC:\\ProgramData\\Anaconda3\\lib\\site-packages\\pyquil\\quilatom.py:177\u001b[0m, in \u001b[0;36munpack_qubit\u001b[1;34m(qubit)\u001b[0m\n\u001b[0;32m    175\u001b[0m     \u001b[38;5;28;01mreturn\u001b[39;00m qubit\n\u001b[0;32m    176\u001b[0m \u001b[38;5;28;01melse\u001b[39;00m:\n\u001b[1;32m--> 177\u001b[0m     \u001b[38;5;28;01mraise\u001b[39;00m \u001b[38;5;167;01mTypeError\u001b[39;00m(\u001b[38;5;124m\"\u001b[39m\u001b[38;5;124mqubit should be an int or Qubit or QubitPlaceholder instance\u001b[39m\u001b[38;5;124m\"\u001b[39m)\n",
      "\u001b[1;31mTypeError\u001b[0m: qubit should be an int or Qubit or QubitPlaceholder instance"
     ]
    }
   ],
   "source": [
    "exps = generate_experiments(qmachine = qc, target_qubits = [0,1],\n",
    "                           circuit_gen_func=native_universal_two_qubits_packs_generator, layers_num=2, exp_num=2)\n",
    "response_matrix = bench_machine(qc, exps, 100)\n",
    "response_matrix"
   ]
  },
  {
   "cell_type": "code",
   "execution_count": null,
   "id": "3211d11a",
   "metadata": {},
   "outputs": [],
   "source": [
    "Qubit(0).index"
   ]
  },
  {
   "cell_type": "code",
   "execution_count": 58,
   "id": "a9ffdb88",
   "metadata": {},
   "outputs": [
    {
     "name": "stderr",
     "output_type": "stream",
     "text": [
      "C:\\Users\\mohsen\\AppData\\Local\\Temp\\ipykernel_20096\\2340585608.py:2: VisibleDeprecationWarning: Creating an ndarray from ragged nested sequences (which is a list-or-tuple of lists-or-tuples-or ndarrays with different lengths or shapes) is deprecated. If you meant to do this, you must specify 'dtype=object' when creating the ndarray.\n",
      "  qubits = np.array([np.array(gate.qubits) for gate in gates_sequence])\n"
     ]
    },
    {
     "data": {
      "text/plain": [
       "array([0, 1])"
      ]
     },
     "execution_count": 58,
     "metadata": {},
     "output_type": "execute_result"
    }
   ],
   "source": [
    "used_qubits_index(native_universal_two_qubits_packs_generator(qc,[0,1],2))"
   ]
  },
  {
   "cell_type": "code",
   "execution_count": 41,
   "id": "9fabe62e",
   "metadata": {},
   "outputs": [
    {
     "data": {
      "text/plain": [
       "array([<Qubit 0>, <Qubit 1>], dtype=object)"
      ]
     },
     "execution_count": 41,
     "metadata": {},
     "output_type": "execute_result"
    }
   ],
   "source": [
    "np.array( CNOT(0,1).qubits ).flatten()"
   ]
  },
  {
   "cell_type": "code",
   "execution_count": null,
   "id": "c039a88d",
   "metadata": {},
   "outputs": [],
   "source": []
  }
 ],
 "metadata": {
  "kernelspec": {
   "display_name": "Python 3 (ipykernel)",
   "language": "python",
   "name": "python3"
  },
  "language_info": {
   "codemirror_mode": {
    "name": "ipython",
    "version": 3
   },
   "file_extension": ".py",
   "mimetype": "text/x-python",
   "name": "python",
   "nbconvert_exporter": "python",
   "pygments_lexer": "ipython3",
   "version": "3.9.12"
  }
 },
 "nbformat": 4,
 "nbformat_minor": 5
}
