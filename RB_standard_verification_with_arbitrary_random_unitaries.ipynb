{
 "cells": [
  {
   "cell_type": "markdown",
   "metadata": {},
   "source": [
    "# Standard Randomized Benchmarking with arbitrary random unitary gates"
   ]
  },
  {
   "cell_type": "code",
   "execution_count": 1,
   "metadata": {},
   "outputs": [],
   "source": [
    "from pyquil import get_qc, Program\n",
    "from pyquil.gates import *\n",
    "from pyquil.api import local_forest_runtime\n",
    "from pyquil.quilbase import Declare\n",
    "from pyquil.simulation.tools import lifted_gate, program_unitary, lifted_gate_matrix\n",
    "from pyquil.quil import *"
   ]
  },
  {
   "cell_type": "code",
   "execution_count": 2,
   "metadata": {},
   "outputs": [],
   "source": [
    "import numpy as np\n",
    "import random\n",
    "from functions import averageOfFidelity\n",
    "from scipy.stats import unitary_group"
   ]
  },
  {
   "cell_type": "code",
   "execution_count": null,
   "metadata": {},
   "outputs": [],
   "source": []
  },
  {
   "cell_type": "code",
   "execution_count": 3,
   "metadata": {},
   "outputs": [],
   "source": [
    "if __name__ == \"__main__\":\n",
    "    num_qubits = 2\n",
    "\n",
    "    #First step choose m and the K_m sequences of Clifford group\n",
    "    m = 1\n",
    "    k_m = 10 #n. of diff sequences\n",
    "    n_m = 10  #n. of samples from a certain sequence\n"
   ]
  },
  {
   "cell_type": "code",
   "execution_count": 4,
   "metadata": {},
   "outputs": [],
   "source": [
    "def generate_clifford_group(num_qubits):\n",
    "    #The glossary of Clifford gates\n",
    "    clifford_glossary = []\n",
    "    clifford_glossary.extend([CNOT(i,j) for i in range(num_qubits) for j in range(num_qubits)])\n",
    "    for i in range(num_qubits): clifford_glossary.remove(CNOT(i,i))\n",
    "    clifford_glossary.extend([H(i) for i in range(num_qubits)])\n",
    "    clifford_glossary.extend([S(i) for i in range(num_qubits)])\n",
    "    return clifford_glossary"
   ]
  },
  {
   "cell_type": "code",
   "execution_count": 5,
   "metadata": {},
   "outputs": [],
   "source": [
    "def bring_matrix_to_n(matrix_two_d, n_qubits, qubit_ind):\n",
    "    matrix_n_d = np.eye(2**(qubit_ind))\n",
    "    matrix_n_d = np.kron(matrix_n_d, matrix_two_d)\n",
    "    matrix_n_d = np.kron(matrix_n_d, np.eye(2**(n_qubits - qubit_ind - 1)))\n",
    "    return matrix_n_d"
   ]
  },
  {
   "cell_type": "code",
   "execution_count": 6,
   "metadata": {},
   "outputs": [],
   "source": [
    "def machine_response_standard_bench_random_units(num_qubits, m, k_m, n_m):\n",
    "    \"\"\"\n",
    "    It samples and record the accept or reject of the machine.\n",
    "    ::return response_matrix including accepts and rejects in columns\n",
    "    \"\"\"\n",
    "    response_matrix = np.zeros((k_m,n_m))\n",
    "    \n",
    "    for i_sequ in range(k_m):\n",
    "        prog = Program() #All qubits begin with |0> state\n",
    "            \n",
    "        circuit_unitary = np.eye(2**num_qubits)\n",
    "        # Add some random unitaries to the circuit\n",
    "        for i in range(m):\n",
    "            random_unit = unitary_group.rvs(2)\n",
    "            random_choice_qubit_ind = random.choices(range(num_qubits), k = 1)[0]\n",
    "            random_unit_on_all_qubits = bring_matrix_to_n(random_unit,\n",
    "                                                          qubit_ind = random_choice_qubit_ind,\n",
    "                                                          n_qubits = num_qubits)\n",
    "            circuit_unitary = random_unit_on_all_qubits.dot(circuit_unitary)\n",
    "            random_unit_definition = DefGate(\"U_random_{}\".format(i), random_unit)\n",
    "            U_random_i = random_unit_definition.get_constructor() # Get the gate constructor\n",
    "            \n",
    "            prog += Program( random_unit_definition, U_random_i(random_choice_qubit_ind) )\n",
    "        \n",
    "\n",
    "        #report the reversed unitary operator of the total transforamtions \n",
    "        circuit_unitary_inv = np.linalg.inv( circuit_unitary )\n",
    "        circuit_unitary_inv_definition = DefGate(\"U_r\", circuit_unitary_inv)\n",
    "        U_r = circuit_unitary_inv_definition.get_constructor() # Get the gate constructor\n",
    "\n",
    "        n_tuple = tuple(range(num_qubits))\n",
    "        prog += Program( circuit_unitary_inv_definition, U_r(*n_tuple) )\n",
    "\n",
    "\n",
    "        #Measurments\n",
    "        ro = prog.declare('ro', 'BIT', num_qubits)\n",
    "        for q in range(num_qubits):\n",
    "            prog += MEASURE(q, ro[q])\n",
    "\n",
    "        prog = prog.wrap_in_numshots_loop(n_m)\n",
    "        \n",
    "        #Run the program\n",
    "        qc = get_qc( str(num_qubits) + 'q-qvm')  # You can make any 'nq-qvm'\n",
    "        executable = qc.compile(prog)\n",
    "        result = qc.run(executable)\n",
    "        measured_outcome = result.readout_data.get('ro')\n",
    "        response_matrix[i_sequ,:] = 1 - np.bool_(np.sum(measured_outcome, axis = 1)) # 1 if it is equal to n_zero state\n",
    "    \n",
    "    return response_matrix"
   ]
  },
  {
   "cell_type": "code",
   "execution_count": null,
   "metadata": {},
   "outputs": [],
   "source": []
  },
  {
   "cell_type": "code",
   "execution_count": 7,
   "metadata": {},
   "outputs": [
    {
     "name": "stdout",
     "output_type": "stream",
     "text": [
      "DEFGATE U_random_0:\n",
      "    -0.7769141537013584-0.26513195136036116i, 0.04600598768346459+0.5692037379037654i\n",
      "    -0.35166561914910344-0.4499341490205287i, 0.3920219328826237-0.7212554041340848i\n",
      "\n",
      "DEFGATE U_r:\n",
      "    -0.776914153701358+0.265131951360361i, -0.0, -0.3516656191491033+0.44993414902052853i, -0.0\n",
      "    -0.0, -0.776914153701358+0.265131951360361i, -0.0, -0.3516656191491033+0.44993414902052853i\n",
      "    0.04600598768346451-0.5692037379037652i, 0.0, 0.3920219328826237+0.7212554041340848i, 0.0\n",
      "    0.0, 0.04600598768346451-0.5692037379037652i, 0.0, 0.3920219328826237+0.7212554041340848i\n",
      "\n",
      "U_random_0 0\n",
      "U_r 0 1\n",
      "DECLARE ro BIT[2]\n",
      "MEASURE 0 ro[0]\n",
      "MEASURE 1 ro[1]\n",
      "\n",
      "DEFGATE U_random_0:\n",
      "    -0.5883063832827382+0.34493277071732i, 0.5352769235055398-0.49839301583840506i\n",
      "    0.07927807136778355+0.7270708153091148i, 0.21972474742085024+0.6456036340486221i\n",
      "\n",
      "DEFGATE U_r:\n",
      "    -0.5883063832827387-0.34493277071732015i, 0.0, 0.07927807136778364-0.727070815309115i, 0.0\n",
      "    0.0, -0.5883063832827387-0.34493277071732015i, 0.0, 0.07927807136778364-0.727070815309115i\n",
      "    0.53527692350554+0.49839301583840534i, 0.0, 0.2197247474208502-0.6456036340486221i, 0.0\n",
      "    0.0, 0.53527692350554+0.49839301583840534i, 0.0, 0.2197247474208502-0.6456036340486221i\n",
      "\n",
      "U_random_0 0\n",
      "U_r 0 1\n",
      "DECLARE ro BIT[2]\n",
      "MEASURE 0 ro[0]\n",
      "MEASURE 1 ro[1]\n",
      "\n",
      "DEFGATE U_random_0:\n",
      "    -0.15091519106883955-0.15044968946449797i, -0.4426497154761262+0.8710055828946197i\n",
      "    0.06340887437087354+0.9749711845463489i, -0.19800582865356064+0.07876671742890487i\n",
      "\n",
      "DEFGATE U_r:\n",
      "    -0.15091519106883938+0.15044968946449794i, 0.06340887437087356-0.9749711845463487i, 0.0, 0.0\n",
      "    -0.44264971547612625-0.8710055828946198i, -0.1980058286535608-0.07876671742890483i, 0.0, 0.0\n",
      "    0.0, 0.0, -0.15091519106883938+0.15044968946449794i, 0.06340887437087356-0.9749711845463487i\n",
      "    0.0, 0.0, -0.44264971547612625-0.8710055828946198i, -0.1980058286535608-0.07876671742890483i\n",
      "\n",
      "U_random_0 1\n",
      "U_r 0 1\n",
      "DECLARE ro BIT[2]\n",
      "MEASURE 0 ro[0]\n",
      "MEASURE 1 ro[1]\n",
      "\n",
      "DEFGATE U_random_0:\n",
      "    0.4053106428077875+5.177492934747633e-05i, 0.4176218135942727+0.8132129493289719i\n",
      "    -0.7853119682974656-0.4679833251247899i, -0.025461619653492185+0.40451010590407543i\n",
      "\n",
      "DEFGATE U_r:\n",
      "    0.4053106428077879-5.177492934748378e-05i, -0.0, -0.7853119682974657+0.46798332512479i, -0.0\n",
      "    -0.0, 0.4053106428077879-5.177492934748378e-05i, -0.0, -0.7853119682974657+0.46798332512479i\n",
      "    0.4176218135942728-0.8132129493289721i, 0.0, -0.0254616196534922-0.40451010590407527i, 0.0\n",
      "    0.0, 0.4176218135942728-0.8132129493289721i, 0.0, -0.0254616196534922-0.40451010590407527i\n",
      "\n",
      "U_random_0 0\n",
      "U_r 0 1\n",
      "DECLARE ro BIT[2]\n",
      "MEASURE 0 ro[0]\n",
      "MEASURE 1 ro[1]\n",
      "\n",
      "DEFGATE U_random_0:\n",
      "    0.5605366668376639+0.5621788121485382i, 0.5066314010850246-0.3362710985743583i\n",
      "    -0.5924592640548058-0.13691474988991795i, 0.32738489038840624-0.7232326771126912i\n",
      "\n",
      "DEFGATE U_r:\n",
      "    0.5605366668376635-0.5621788121485377i, 0.0, -0.5924592640548055+0.13691474988991786i, 0.0\n",
      "    0.0, 0.5605366668376635-0.5621788121485377i, 0.0, -0.5924592640548055+0.13691474988991786i\n",
      "    0.5066314010850245+0.3362710985743582i, 0.0, 0.3273848903884063+0.7232326771126913i, 0.0\n",
      "    0.0, 0.5066314010850245+0.3362710985743582i, 0.0, 0.3273848903884063+0.7232326771126913i\n",
      "\n",
      "U_random_0 0\n",
      "U_r 0 1\n",
      "DECLARE ro BIT[2]\n",
      "MEASURE 0 ro[0]\n",
      "MEASURE 1 ro[1]\n",
      "\n",
      "DEFGATE U_random_0:\n",
      "    0.568537168985132-0.11497872327124904i, 0.264139367089478+0.7705684754977035i\n",
      "    -0.7909321176735161+0.19486345452591208i, 0.2109698214917815+0.5403206027373385i\n",
      "\n",
      "DEFGATE U_r:\n",
      "    0.568537168985132+0.11497872327124901i, 0.0, -0.7909321176735162-0.1948634545259121i, 0.0\n",
      "    0.0, 0.568537168985132+0.11497872327124901i, 0.0, -0.7909321176735162-0.1948634545259121i\n",
      "    0.264139367089478-0.7705684754977036i, 0.0, 0.2109698214917815-0.5403206027373385i, 0.0\n",
      "    0.0, 0.264139367089478-0.7705684754977036i, 0.0, 0.2109698214917815-0.5403206027373385i\n",
      "\n",
      "U_random_0 0\n",
      "U_r 0 1\n",
      "DECLARE ro BIT[2]\n",
      "MEASURE 0 ro[0]\n",
      "MEASURE 1 ro[1]\n",
      "\n",
      "DEFGATE U_random_0:\n",
      "    -0.02013921150616271-0.631442199806228i, 0.5585405744544165+0.5375012438608046i\n",
      "    -0.6320333928065511+0.4487860858373636i, -0.11350052842094122+0.6214840863484643i\n",
      "\n",
      "DEFGATE U_r:\n",
      "    -0.02013921150616262+0.6314421998062281i, -0.6320333928065512-0.44878608583736374i, 0.0, 0.0\n",
      "    0.5585405744544165-0.5375012438608044i, -0.11350052842094127-0.6214840863484642i, 0.0, 0.0\n",
      "    0.0, 0.0, -0.02013921150616262+0.6314421998062281i, -0.6320333928065512-0.44878608583736374i\n",
      "    0.0, 0.0, 0.5585405744544165-0.5375012438608044i, -0.11350052842094127-0.6214840863484642i\n",
      "\n",
      "U_random_0 1\n",
      "U_r 0 1\n",
      "DECLARE ro BIT[2]\n",
      "MEASURE 0 ro[0]\n",
      "MEASURE 1 ro[1]\n",
      "\n",
      "DEFGATE U_random_0:\n",
      "    -0.20943918763625158+0.29473691279533815i, 0.8902170284158388+0.27709027632996047i\n",
      "    -0.8727419665763978+0.3280043272496604i, -0.2260998628842508-0.2821585956259043i\n",
      "\n",
      "DEFGATE U_r:\n",
      "    -0.2094391876362513-0.2947369127953381i, 0.0, -0.8727419665763976-0.3280043272496603i, 0.0\n",
      "    0.0, -0.2094391876362513-0.2947369127953381i, 0.0, -0.8727419665763976-0.3280043272496603i\n",
      "    0.890217028415839-0.2770902763299606i, 0.0, -0.2260998628842511+0.28215859562590434i, 0.0\n",
      "    0.0, 0.890217028415839-0.2770902763299606i, 0.0, -0.2260998628842511+0.28215859562590434i\n",
      "\n",
      "U_random_0 0\n",
      "U_r 0 1\n",
      "DECLARE ro BIT[2]\n",
      "MEASURE 0 ro[0]\n",
      "MEASURE 1 ro[1]\n",
      "\n",
      "DEFGATE U_random_0:\n",
      "    0.2468820914113239+0.5841034950789578i, -0.7569621748701114+0.1577358735127415i\n",
      "    -0.769925217549052-0.07132670859475852i, -0.17940602352750998+0.6082278674519361i\n",
      "\n",
      "DEFGATE U_r:\n",
      "    0.24688209141132406-0.5841034950789579i, -0.7699252175490519+0.07132670859475862i, -0.0, -0.0\n",
      "    -0.7569621748701114-0.15773587351274146i, -0.17940602352750987-0.6082278674519362i, 0.0, 0.0\n",
      "    -0.0, -0.0, 0.24688209141132406-0.5841034950789579i, -0.7699252175490519+0.07132670859475862i\n",
      "    0.0, 0.0, -0.7569621748701114-0.15773587351274146i, -0.17940602352750987-0.6082278674519362i\n",
      "\n",
      "U_random_0 1\n",
      "U_r 0 1\n",
      "DECLARE ro BIT[2]\n",
      "MEASURE 0 ro[0]\n",
      "MEASURE 1 ro[1]\n",
      "\n",
      "DEFGATE U_random_0:\n",
      "    0.6473236422354018-0.04206483108667306i, -0.07885478040523511-0.7569574464895535i\n",
      "    0.5126621934277443+0.5624767796261436i, -0.46207069989078486+0.455288936955091i\n",
      "\n",
      "DEFGATE U_r:\n",
      "    0.6473236422354016+0.04206483108667305i, 0.0, 0.5126621934277443-0.5624767796261436i, 0.0\n",
      "    0.0, 0.6473236422354016+0.04206483108667305i, 0.0, 0.5126621934277443-0.5624767796261436i\n",
      "    -0.07885478040523514+0.7569574464895537i, -0.0, -0.462070699890785-0.45528893695509115i, -0.0\n",
      "    -0.0, -0.07885478040523514+0.7569574464895537i, -0.0, -0.462070699890785-0.45528893695509115i\n",
      "\n",
      "U_random_0 0\n",
      "U_r 0 1\n",
      "DECLARE ro BIT[2]\n",
      "MEASURE 0 ro[0]\n",
      "MEASURE 1 ro[1]\n",
      "\n"
     ]
    },
    {
     "data": {
      "text/plain": [
       "array([[1., 1., 1., 1., 1., 1., 1., 1., 1., 1.],\n",
       "       [1., 1., 1., 1., 1., 1., 1., 1., 1., 1.],\n",
       "       [1., 1., 1., 1., 1., 1., 1., 1., 1., 1.],\n",
       "       [1., 1., 1., 1., 1., 1., 1., 1., 1., 1.],\n",
       "       [1., 1., 1., 1., 1., 1., 1., 1., 1., 1.],\n",
       "       [1., 1., 1., 1., 1., 1., 1., 1., 1., 1.],\n",
       "       [1., 1., 1., 1., 1., 1., 1., 1., 1., 1.],\n",
       "       [1., 1., 1., 1., 1., 1., 1., 1., 1., 1.],\n",
       "       [1., 1., 1., 1., 1., 1., 1., 1., 1., 1.],\n",
       "       [1., 1., 1., 1., 1., 1., 1., 1., 1., 1.]])"
      ]
     },
     "execution_count": 7,
     "metadata": {},
     "output_type": "execute_result"
    }
   ],
   "source": [
    "response_matrix = machine_response_standard_bench_random_units(num_qubits, m, k_m, n_m)\n",
    "response_matrix"
   ]
  },
  {
   "cell_type": "code",
   "execution_count": 8,
   "metadata": {},
   "outputs": [
    {
     "data": {
      "text/plain": [
       "1.0"
      ]
     },
     "execution_count": 8,
     "metadata": {},
     "output_type": "execute_result"
    }
   ],
   "source": [
    "averageOfFidelity(response_matrix)"
   ]
  },
  {
   "cell_type": "code",
   "execution_count": 9,
   "metadata": {},
   "outputs": [],
   "source": [
    "# !ipython nbconvert --to python RB_standard_verification.ipynb"
   ]
  },
  {
   "cell_type": "code",
   "execution_count": null,
   "metadata": {},
   "outputs": [],
   "source": []
  },
  {
   "cell_type": "code",
   "execution_count": null,
   "metadata": {},
   "outputs": [],
   "source": []
  },
  {
   "cell_type": "code",
   "execution_count": null,
   "metadata": {},
   "outputs": [],
   "source": []
  },
  {
   "cell_type": "code",
   "execution_count": null,
   "metadata": {},
   "outputs": [],
   "source": []
  }
 ],
 "metadata": {
  "kernelspec": {
   "display_name": "Python 3 (ipykernel)",
   "language": "python",
   "name": "python3"
  },
  "language_info": {
   "codemirror_mode": {
    "name": "ipython",
    "version": 3
   },
   "file_extension": ".py",
   "mimetype": "text/x-python",
   "name": "python",
   "nbconvert_exporter": "python",
   "pygments_lexer": "ipython3",
   "version": "3.9.7"
  }
 },
 "nbformat": 4,
 "nbformat_minor": 4
}
