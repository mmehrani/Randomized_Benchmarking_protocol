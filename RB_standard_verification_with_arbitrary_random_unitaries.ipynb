{
 "cells": [
  {
   "cell_type": "markdown",
   "metadata": {},
   "source": [
    "# Standard Randomized Benchmarking with arbitrary random unitary gates"
   ]
  },
  {
   "cell_type": "code",
   "execution_count": 1,
   "metadata": {},
   "outputs": [],
   "source": [
    "from pyquil import get_qc, Program\n",
    "from pyquil.gates import *\n",
    "from pyquil.api import local_forest_runtime\n",
    "from pyquil.quilbase import Declare\n",
    "from pyquil.simulation.tools import lifted_gate, program_unitary, lifted_gate_matrix\n",
    "from pyquil.quil import *"
   ]
  },
  {
   "cell_type": "code",
   "execution_count": 2,
   "metadata": {},
   "outputs": [],
   "source": [
    "import numpy as np\n",
    "import random\n",
    "from functions import averageOfFidelity\n",
    "from scipy.stats import unitary_group"
   ]
  },
  {
   "cell_type": "code",
   "execution_count": null,
   "metadata": {},
   "outputs": [],
   "source": []
  },
  {
   "cell_type": "code",
   "execution_count": 3,
   "metadata": {},
   "outputs": [],
   "source": [
    "if __name__ == \"__main__\":\n",
    "    num_qubits = 2\n",
    "\n",
    "    #First step choose m and the K_m sequences of Clifford group\n",
    "    m = 1\n",
    "    k_m = 10 #n. of diff sequences\n",
    "    n_m = 10  #n. of samples from a certain sequence\n"
   ]
  },
  {
   "cell_type": "code",
   "execution_count": 4,
   "metadata": {},
   "outputs": [],
   "source": [
    "def generate_clifford_group(num_qubits):\n",
    "    #The glossary of Clifford gates\n",
    "    clifford_glossary = []\n",
    "    clifford_glossary.extend([CNOT(i,j) for i in range(num_qubits) for j in range(num_qubits)])\n",
    "    for i in range(num_qubits): clifford_glossary.remove(CNOT(i,i))\n",
    "    clifford_glossary.extend([H(i) for i in range(num_qubits)])\n",
    "    clifford_glossary.extend([S(i) for i in range(num_qubits)])\n",
    "    return clifford_glossary"
   ]
  },
  {
   "cell_type": "code",
   "execution_count": 5,
   "metadata": {},
   "outputs": [],
   "source": [
    "def bring_matrix_to_n(matrix_two_d, n_qubits, qubit_ind):\n",
    "    matrix_n_d = np.eye(2**(qubit_ind))\n",
    "    matrix_n_d = np.kron(matrix_n_d, matrix_two_d)\n",
    "    matrix_n_d = np.kron(matrix_n_d, np.eye(2**(n_qubits - qubit_ind - 1)))\n",
    "    return matrix_n_d"
   ]
  },
  {
   "cell_type": "code",
   "execution_count": 6,
   "metadata": {},
   "outputs": [],
   "source": [
    "def machine_response_standard_bench_random_units(num_qubits, m, k_m, n_m):\n",
    "    \"\"\"\n",
    "    It samples and record the accept or reject of the machine.\n",
    "    ::return response_matrix including accepts and rejects in columns\n",
    "    \"\"\"\n",
    "    response_matrix = np.zeros((k_m,n_m))\n",
    "    \n",
    "    for i_sequ in range(k_m):\n",
    "        prog = Program() #All qubits begin with |0> state\n",
    "            \n",
    "        circuit_unitary = np.eye(2**num_qubits)\n",
    "        # Add some random unitaries to the circuit\n",
    "        for i in range(m):\n",
    "            random_unit = unitary_group.rvs(2)\n",
    "            random_choice_qubit_ind = random.choices(range(num_qubits), k = 1)[0]\n",
    "            random_unit_on_all_qubits = bring_matrix_to_n(random_unit,\n",
    "                                                          qubit_ind = random_choice_qubit_ind,\n",
    "                                                          n_qubits = num_qubits)\n",
    "            circuit_unitary = random_unit_on_all_qubits.dot(circuit_unitary)\n",
    "            random_unit_definition = DefGate(\"U_random_{}\".format(i), random_unit)\n",
    "            U_random_i = random_unit_definition.get_constructor() # Get the gate constructor\n",
    "            \n",
    "            prog += Program( random_unit_definition, U_random_i(random_choice_qubit_ind) )\n",
    "        \n",
    "\n",
    "        #report the reversed unitary operator of the total transforamtions \n",
    "        circuit_unitary_inv = np.linalg.inv( circuit_unitary )\n",
    "        circuit_unitary_inv_definition = DefGate(\"U_r\", circuit_unitary_inv)\n",
    "        U_r = circuit_unitary_inv_definition.get_constructor() # Get the gate constructor\n",
    "\n",
    "        n_tuple = tuple(range(num_qubits))\n",
    "        prog += Program( circuit_unitary_inv_definition, U_r(*n_tuple) )\n",
    "\n",
    "\n",
    "        #Measurments\n",
    "        ro = prog.declare('ro', 'BIT', num_qubits)\n",
    "        for q in range(num_qubits):\n",
    "            prog += MEASURE(q, ro[q])\n",
    "\n",
    "        prog = prog.wrap_in_numshots_loop(n_m)\n",
    "        \n",
    "        #Run the program\n",
    "        qc = get_qc( str(num_qubits) + 'q-qvm')  # You can make any 'nq-qvm'\n",
    "        executable = qc.compile(prog)\n",
    "        result = qc.run(executable)\n",
    "        measured_outcome = result.readout_data.get('ro')\n",
    "        response_matrix[i_sequ,:] = 1 - np.bool_(np.sum(measured_outcome, axis = 1)) # 1 if it is equal to n_zero state\n",
    "    \n",
    "    return response_matrix"
   ]
  },
  {
   "cell_type": "code",
   "execution_count": null,
   "metadata": {},
   "outputs": [],
   "source": []
  },
  {
   "cell_type": "code",
   "execution_count": 7,
   "metadata": {},
   "outputs": [
    {
     "data": {
      "text/plain": [
       "array([[1., 1., 1., 1., 1., 1., 1., 1., 1., 1.],\n",
       "       [1., 1., 1., 1., 1., 1., 1., 1., 1., 1.],\n",
       "       [1., 1., 1., 1., 1., 1., 1., 1., 1., 1.],\n",
       "       [1., 1., 1., 1., 1., 1., 1., 1., 1., 1.],\n",
       "       [1., 1., 1., 1., 1., 1., 1., 1., 1., 1.],\n",
       "       [1., 1., 1., 1., 1., 1., 1., 1., 1., 1.],\n",
       "       [1., 1., 1., 1., 1., 1., 1., 1., 1., 1.],\n",
       "       [1., 1., 1., 1., 1., 1., 1., 1., 1., 1.],\n",
       "       [1., 1., 1., 1., 1., 1., 1., 1., 1., 1.],\n",
       "       [1., 1., 1., 1., 1., 1., 1., 1., 1., 1.]])"
      ]
     },
     "execution_count": 7,
     "metadata": {},
     "output_type": "execute_result"
    }
   ],
   "source": [
    "response_matrix = machine_response_standard_bench_random_units(num_qubits, m, k_m, n_m)\n",
    "response_matrix"
   ]
  },
  {
   "cell_type": "code",
   "execution_count": 8,
   "metadata": {},
   "outputs": [
    {
     "data": {
      "text/plain": [
       "1.0"
      ]
     },
     "execution_count": 8,
     "metadata": {},
     "output_type": "execute_result"
    }
   ],
   "source": [
    "averageOfFidelity(response_matrix)"
   ]
  },
  {
   "cell_type": "code",
   "execution_count": 10,
   "metadata": {},
   "outputs": [
    {
     "name": "stderr",
     "output_type": "stream",
     "text": [
      "[TerminalIPythonApp] WARNING | Subcommand `ipython nbconvert` is deprecated and will be removed in future versions.\n",
      "[TerminalIPythonApp] WARNING | You likely want to use `jupyter nbconvert` in the future\n",
      "[NbConvertApp] Converting notebook RB_standard_verification_with_arbitrary_random_unitaries.ipynb to python\n",
      "[NbConvertApp] Writing 4016 bytes to RB_standard_verification_with_arbitrary_random_unitaries.py\n"
     ]
    }
   ],
   "source": [
    "!ipython nbconvert --to python RB_standard_verification_with_arbitrary_random_unitaries.ipynb"
   ]
  },
  {
   "cell_type": "code",
   "execution_count": null,
   "metadata": {},
   "outputs": [],
   "source": []
  },
  {
   "cell_type": "code",
   "execution_count": null,
   "metadata": {},
   "outputs": [],
   "source": []
  },
  {
   "cell_type": "code",
   "execution_count": null,
   "metadata": {},
   "outputs": [],
   "source": []
  },
  {
   "cell_type": "code",
   "execution_count": null,
   "metadata": {},
   "outputs": [],
   "source": []
  }
 ],
 "metadata": {
  "kernelspec": {
   "display_name": "Python 3 (ipykernel)",
   "language": "python",
   "name": "python3"
  },
  "language_info": {
   "codemirror_mode": {
    "name": "ipython",
    "version": 3
   },
   "file_extension": ".py",
   "mimetype": "text/x-python",
   "name": "python",
   "nbconvert_exporter": "python",
   "pygments_lexer": "ipython3",
   "version": "3.9.7"
  }
 },
 "nbformat": 4,
 "nbformat_minor": 4
}
