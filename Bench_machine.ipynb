{
 "cells": [
  {
   "cell_type": "markdown",
   "metadata": {},
   "source": [
    "# Benchmarking Qmachines with different RB protocols"
   ]
  },
  {
   "cell_type": "code",
   "execution_count": 1,
   "metadata": {},
   "outputs": [],
   "source": [
    "from IPython.display import clear_output\n",
    "# !pip install forest-benchmarking\n",
    "clear_output()"
   ]
  },
  {
   "cell_type": "code",
   "execution_count": 2,
   "metadata": {},
   "outputs": [],
   "source": [
    "from functions import *\n",
    "from pyquil import get_qc\n",
    "from pyquil import noise"
   ]
  },
  {
   "cell_type": "code",
   "execution_count": 3,
   "metadata": {},
   "outputs": [],
   "source": [
    "%%capture\n",
    "from tqdm import tqdm_notebook as tqdm\n",
    "tqdm().pandas() #This line make sure that the progress bars looks natural"
   ]
  },
  {
   "cell_type": "code",
   "execution_count": 4,
   "metadata": {},
   "outputs": [],
   "source": [
    "import matplotlib.pyplot as plt\n",
    "import os\n",
    "import numpy as np\n",
    "import seaborn as sns"
   ]
  },
  {
   "cell_type": "code",
   "execution_count": 5,
   "metadata": {},
   "outputs": [],
   "source": [
    "from scipy.optimize import curve_fit"
   ]
  },
  {
   "cell_type": "code",
   "execution_count": 6,
   "metadata": {},
   "outputs": [],
   "source": [
    "from csv import writer\n",
    "import _pickle as cPickle\n",
    "from datetime import datetime"
   ]
  },
  {
   "cell_type": "code",
   "execution_count": 7,
   "metadata": {},
   "outputs": [
    {
     "ename": "UnknownApiError",
     "evalue": "\n\nThe server has failed to return a proper response. Please describe the problem\nand copy the above message into a GitHub issue at:\n    https://github.com/rigetti/pyquil/issues",
     "output_type": "error",
     "traceback": [
      "\u001b[1;31m---------------------------------------------------------------------------\u001b[0m",
      "\u001b[1;31mJSONDecodeError\u001b[0m                           Traceback (most recent call last)",
      "File \u001b[1;32mC:\\ProgramData\\Anaconda3\\lib\\site-packages\\pyquil\\api\\_qvm_client.py:280\u001b[0m, in \u001b[0;36mQVMClient._parse_error\u001b[1;34m(res)\u001b[0m\n\u001b[0;32m    279\u001b[0m \u001b[38;5;28;01mtry\u001b[39;00m:\n\u001b[1;32m--> 280\u001b[0m     body \u001b[38;5;241m=\u001b[39m \u001b[43mres\u001b[49m\u001b[38;5;241;43m.\u001b[39;49m\u001b[43mjson\u001b[49m\u001b[43m(\u001b[49m\u001b[43m)\u001b[49m\n\u001b[0;32m    281\u001b[0m \u001b[38;5;28;01mexcept\u001b[39;00m JSONDecodeError:\n",
      "File \u001b[1;32mC:\\ProgramData\\Anaconda3\\lib\\site-packages\\httpx\\_models.py:743\u001b[0m, in \u001b[0;36mResponse.json\u001b[1;34m(self, **kwargs)\u001b[0m\n\u001b[0;32m    742\u001b[0m         \u001b[38;5;28;01mreturn\u001b[39;00m jsonlib\u001b[38;5;241m.\u001b[39mloads(\u001b[38;5;28mself\u001b[39m\u001b[38;5;241m.\u001b[39mcontent\u001b[38;5;241m.\u001b[39mdecode(encoding), \u001b[38;5;241m*\u001b[39m\u001b[38;5;241m*\u001b[39mkwargs)\n\u001b[1;32m--> 743\u001b[0m \u001b[38;5;28;01mreturn\u001b[39;00m jsonlib\u001b[38;5;241m.\u001b[39mloads(\u001b[38;5;28mself\u001b[39m\u001b[38;5;241m.\u001b[39mtext, \u001b[38;5;241m*\u001b[39m\u001b[38;5;241m*\u001b[39mkwargs)\n",
      "File \u001b[1;32mC:\\ProgramData\\Anaconda3\\lib\\json\\__init__.py:346\u001b[0m, in \u001b[0;36mloads\u001b[1;34m(s, cls, object_hook, parse_float, parse_int, parse_constant, object_pairs_hook, **kw)\u001b[0m\n\u001b[0;32m    343\u001b[0m \u001b[38;5;28;01mif\u001b[39;00m (\u001b[38;5;28mcls\u001b[39m \u001b[38;5;129;01mis\u001b[39;00m \u001b[38;5;28;01mNone\u001b[39;00m \u001b[38;5;129;01mand\u001b[39;00m object_hook \u001b[38;5;129;01mis\u001b[39;00m \u001b[38;5;28;01mNone\u001b[39;00m \u001b[38;5;129;01mand\u001b[39;00m\n\u001b[0;32m    344\u001b[0m         parse_int \u001b[38;5;129;01mis\u001b[39;00m \u001b[38;5;28;01mNone\u001b[39;00m \u001b[38;5;129;01mand\u001b[39;00m parse_float \u001b[38;5;129;01mis\u001b[39;00m \u001b[38;5;28;01mNone\u001b[39;00m \u001b[38;5;129;01mand\u001b[39;00m\n\u001b[0;32m    345\u001b[0m         parse_constant \u001b[38;5;129;01mis\u001b[39;00m \u001b[38;5;28;01mNone\u001b[39;00m \u001b[38;5;129;01mand\u001b[39;00m object_pairs_hook \u001b[38;5;129;01mis\u001b[39;00m \u001b[38;5;28;01mNone\u001b[39;00m \u001b[38;5;129;01mand\u001b[39;00m \u001b[38;5;129;01mnot\u001b[39;00m kw):\n\u001b[1;32m--> 346\u001b[0m     \u001b[38;5;28;01mreturn\u001b[39;00m \u001b[43m_default_decoder\u001b[49m\u001b[38;5;241;43m.\u001b[39;49m\u001b[43mdecode\u001b[49m\u001b[43m(\u001b[49m\u001b[43ms\u001b[49m\u001b[43m)\u001b[49m\n\u001b[0;32m    347\u001b[0m \u001b[38;5;28;01mif\u001b[39;00m \u001b[38;5;28mcls\u001b[39m \u001b[38;5;129;01mis\u001b[39;00m \u001b[38;5;28;01mNone\u001b[39;00m:\n",
      "File \u001b[1;32mC:\\ProgramData\\Anaconda3\\lib\\json\\decoder.py:337\u001b[0m, in \u001b[0;36mJSONDecoder.decode\u001b[1;34m(self, s, _w)\u001b[0m\n\u001b[0;32m    333\u001b[0m \u001b[38;5;124;03m\"\"\"Return the Python representation of ``s`` (a ``str`` instance\u001b[39;00m\n\u001b[0;32m    334\u001b[0m \u001b[38;5;124;03mcontaining a JSON document).\u001b[39;00m\n\u001b[0;32m    335\u001b[0m \n\u001b[0;32m    336\u001b[0m \u001b[38;5;124;03m\"\"\"\u001b[39;00m\n\u001b[1;32m--> 337\u001b[0m obj, end \u001b[38;5;241m=\u001b[39m \u001b[38;5;28;43mself\u001b[39;49m\u001b[38;5;241;43m.\u001b[39;49m\u001b[43mraw_decode\u001b[49m\u001b[43m(\u001b[49m\u001b[43ms\u001b[49m\u001b[43m,\u001b[49m\u001b[43m \u001b[49m\u001b[43midx\u001b[49m\u001b[38;5;241;43m=\u001b[39;49m\u001b[43m_w\u001b[49m\u001b[43m(\u001b[49m\u001b[43ms\u001b[49m\u001b[43m,\u001b[49m\u001b[43m \u001b[49m\u001b[38;5;241;43m0\u001b[39;49m\u001b[43m)\u001b[49m\u001b[38;5;241;43m.\u001b[39;49m\u001b[43mend\u001b[49m\u001b[43m(\u001b[49m\u001b[43m)\u001b[49m\u001b[43m)\u001b[49m\n\u001b[0;32m    338\u001b[0m end \u001b[38;5;241m=\u001b[39m _w(s, end)\u001b[38;5;241m.\u001b[39mend()\n",
      "File \u001b[1;32mC:\\ProgramData\\Anaconda3\\lib\\json\\decoder.py:355\u001b[0m, in \u001b[0;36mJSONDecoder.raw_decode\u001b[1;34m(self, s, idx)\u001b[0m\n\u001b[0;32m    354\u001b[0m \u001b[38;5;28;01mexcept\u001b[39;00m \u001b[38;5;167;01mStopIteration\u001b[39;00m \u001b[38;5;28;01mas\u001b[39;00m err:\n\u001b[1;32m--> 355\u001b[0m     \u001b[38;5;28;01mraise\u001b[39;00m JSONDecodeError(\u001b[38;5;124m\"\u001b[39m\u001b[38;5;124mExpecting value\u001b[39m\u001b[38;5;124m\"\u001b[39m, s, err\u001b[38;5;241m.\u001b[39mvalue) \u001b[38;5;28;01mfrom\u001b[39;00m \u001b[38;5;28mNone\u001b[39m\n\u001b[0;32m    356\u001b[0m \u001b[38;5;28;01mreturn\u001b[39;00m obj, end\n",
      "\u001b[1;31mJSONDecodeError\u001b[0m: Expecting value: line 1 column 1 (char 0)",
      "\nDuring handling of the above exception, another exception occurred:\n",
      "\u001b[1;31mUnknownApiError\u001b[0m                           Traceback (most recent call last)",
      "Input \u001b[1;32mIn [7]\u001b[0m, in \u001b[0;36m<cell line: 10>\u001b[1;34m()\u001b[0m\n\u001b[0;32m      7\u001b[0m n_qubit \u001b[38;5;241m=\u001b[39m \u001b[38;5;28mlen\u001b[39m(target_qubits)\n\u001b[0;32m      9\u001b[0m \u001b[38;5;66;03m# qmachine = get_qc('Aspen-M-3', execution_timeout=200, compiler_timeout=200)\u001b[39;00m\n\u001b[1;32m---> 10\u001b[0m qmachine \u001b[38;5;241m=\u001b[39m \u001b[43mget_qc\u001b[49m\u001b[43m(\u001b[49m\u001b[43m \u001b[49m\u001b[38;5;28;43mstr\u001b[39;49m\u001b[43m(\u001b[49m\u001b[43mn_qubit\u001b[49m\u001b[43m)\u001b[49m\u001b[43m \u001b[49m\u001b[38;5;241;43m+\u001b[39;49m\u001b[43m \u001b[49m\u001b[38;5;124;43m'\u001b[39;49m\u001b[38;5;124;43mq-qvm\u001b[39;49m\u001b[38;5;124;43m'\u001b[39;49m\u001b[43m)\u001b[49m\n",
      "File \u001b[1;32mC:\\ProgramData\\Anaconda3\\lib\\site-packages\\pyquil\\api\\_quantum_computer.py:822\u001b[0m, in \u001b[0;36mget_qc\u001b[1;34m(***failed resolving arguments***)\u001b[0m\n\u001b[0;32m    820\u001b[0m     \u001b[38;5;28;01mif\u001b[39;00m qvm_type \u001b[38;5;129;01mis\u001b[39;00m \u001b[38;5;28;01mNone\u001b[39;00m:\n\u001b[0;32m    821\u001b[0m         \u001b[38;5;28;01mraise\u001b[39;00m \u001b[38;5;167;01mValueError\u001b[39;00m(\u001b[38;5;124m\"\u001b[39m\u001b[38;5;124mPlease name a valid quantum_processor or run as a QVM\u001b[39m\u001b[38;5;124m\"\u001b[39m)\n\u001b[1;32m--> 822\u001b[0m     \u001b[38;5;28;01mreturn\u001b[39;00m \u001b[43m_get_unrestricted_qvm\u001b[49m\u001b[43m(\u001b[49m\n\u001b[0;32m    823\u001b[0m \u001b[43m        \u001b[49m\u001b[43mclient_configuration\u001b[49m\u001b[38;5;241;43m=\u001b[39;49m\u001b[43mclient_configuration\u001b[49m\u001b[43m,\u001b[49m\n\u001b[0;32m    824\u001b[0m \u001b[43m        \u001b[49m\u001b[43mname\u001b[49m\u001b[38;5;241;43m=\u001b[39;49m\u001b[43mname\u001b[49m\u001b[43m,\u001b[49m\n\u001b[0;32m    825\u001b[0m \u001b[43m        \u001b[49m\u001b[43mnoisy\u001b[49m\u001b[38;5;241;43m=\u001b[39;49m\u001b[43mnoisy\u001b[49m\u001b[43m,\u001b[49m\n\u001b[0;32m    826\u001b[0m \u001b[43m        \u001b[49m\u001b[43mn_qubits\u001b[49m\u001b[38;5;241;43m=\u001b[39;49m\u001b[43mn_qubits\u001b[49m\u001b[43m,\u001b[49m\n\u001b[0;32m    827\u001b[0m \u001b[43m        \u001b[49m\u001b[43mqvm_type\u001b[49m\u001b[38;5;241;43m=\u001b[39;49m\u001b[43mqvm_type\u001b[49m\u001b[43m,\u001b[49m\n\u001b[0;32m    828\u001b[0m \u001b[43m        \u001b[49m\u001b[43mcompiler_timeout\u001b[49m\u001b[38;5;241;43m=\u001b[39;49m\u001b[43mcompiler_timeout\u001b[49m\u001b[43m,\u001b[49m\n\u001b[0;32m    829\u001b[0m \u001b[43m        \u001b[49m\u001b[43mexecution_timeout\u001b[49m\u001b[38;5;241;43m=\u001b[39;49m\u001b[43mexecution_timeout\u001b[49m\u001b[43m,\u001b[49m\n\u001b[0;32m    830\u001b[0m \u001b[43m    \u001b[49m\u001b[43m)\u001b[49m\n\u001b[0;32m    832\u001b[0m \u001b[38;5;66;03m# 3. Check for \"9q-square\" qvm\u001b[39;00m\n\u001b[0;32m    833\u001b[0m \u001b[38;5;28;01mif\u001b[39;00m prefix \u001b[38;5;241m==\u001b[39m \u001b[38;5;124m\"\u001b[39m\u001b[38;5;124m9q-square\u001b[39m\u001b[38;5;124m\"\u001b[39m:\n",
      "File \u001b[1;32mC:\\ProgramData\\Anaconda3\\lib\\site-packages\\pyquil\\api\\_quantum_computer.py:669\u001b[0m, in \u001b[0;36m_get_unrestricted_qvm\u001b[1;34m(client_configuration, name, noisy, n_qubits, qvm_type, compiler_timeout, execution_timeout)\u001b[0m\n\u001b[0;32m    654\u001b[0m \u001b[38;5;124;03m\"\"\"\u001b[39;00m\n\u001b[0;32m    655\u001b[0m \u001b[38;5;124;03mA qvm with a fully-connected topology.\u001b[39;00m\n\u001b[0;32m    656\u001b[0m \n\u001b[1;32m   (...)\u001b[0m\n\u001b[0;32m    666\u001b[0m \u001b[38;5;124;03m:return: A pre-configured QuantumComputer\u001b[39;00m\n\u001b[0;32m    667\u001b[0m \u001b[38;5;124;03m\"\"\"\u001b[39;00m\n\u001b[0;32m    668\u001b[0m topology \u001b[38;5;241m=\u001b[39m nx\u001b[38;5;241m.\u001b[39mcomplete_graph(n_qubits)\n\u001b[1;32m--> 669\u001b[0m \u001b[38;5;28;01mreturn\u001b[39;00m \u001b[43m_get_qvm_with_topology\u001b[49m\u001b[43m(\u001b[49m\n\u001b[0;32m    670\u001b[0m \u001b[43m    \u001b[49m\u001b[43mclient_configuration\u001b[49m\u001b[38;5;241;43m=\u001b[39;49m\u001b[43mclient_configuration\u001b[49m\u001b[43m,\u001b[49m\n\u001b[0;32m    671\u001b[0m \u001b[43m    \u001b[49m\u001b[43mname\u001b[49m\u001b[38;5;241;43m=\u001b[39;49m\u001b[43mname\u001b[49m\u001b[43m,\u001b[49m\n\u001b[0;32m    672\u001b[0m \u001b[43m    \u001b[49m\u001b[43mtopology\u001b[49m\u001b[38;5;241;43m=\u001b[39;49m\u001b[43mtopology\u001b[49m\u001b[43m,\u001b[49m\n\u001b[0;32m    673\u001b[0m \u001b[43m    \u001b[49m\u001b[43mnoisy\u001b[49m\u001b[38;5;241;43m=\u001b[39;49m\u001b[43mnoisy\u001b[49m\u001b[43m,\u001b[49m\n\u001b[0;32m    674\u001b[0m \u001b[43m    \u001b[49m\u001b[43mqvm_type\u001b[49m\u001b[38;5;241;43m=\u001b[39;49m\u001b[43mqvm_type\u001b[49m\u001b[43m,\u001b[49m\n\u001b[0;32m    675\u001b[0m \u001b[43m    \u001b[49m\u001b[43mcompiler_timeout\u001b[49m\u001b[38;5;241;43m=\u001b[39;49m\u001b[43mcompiler_timeout\u001b[49m\u001b[43m,\u001b[49m\n\u001b[0;32m    676\u001b[0m \u001b[43m    \u001b[49m\u001b[43mexecution_timeout\u001b[49m\u001b[38;5;241;43m=\u001b[39;49m\u001b[43mexecution_timeout\u001b[49m\u001b[43m,\u001b[49m\n\u001b[0;32m    677\u001b[0m \u001b[43m\u001b[49m\u001b[43m)\u001b[49m\n",
      "File \u001b[1;32mC:\\ProgramData\\Anaconda3\\lib\\site-packages\\pyquil\\api\\_quantum_computer.py:598\u001b[0m, in \u001b[0;36m_get_qvm_with_topology\u001b[1;34m(client_configuration, name, topology, noisy, qvm_type, compiler_timeout, execution_timeout)\u001b[0m\n\u001b[0;32m    596\u001b[0m \u001b[38;5;28;01melse\u001b[39;00m:\n\u001b[0;32m    597\u001b[0m     noise_model \u001b[38;5;241m=\u001b[39m \u001b[38;5;28;01mNone\u001b[39;00m\n\u001b[1;32m--> 598\u001b[0m \u001b[38;5;28;01mreturn\u001b[39;00m \u001b[43m_get_qvm_qc\u001b[49m\u001b[43m(\u001b[49m\n\u001b[0;32m    599\u001b[0m \u001b[43m    \u001b[49m\u001b[43mclient_configuration\u001b[49m\u001b[38;5;241;43m=\u001b[39;49m\u001b[43mclient_configuration\u001b[49m\u001b[43m,\u001b[49m\n\u001b[0;32m    600\u001b[0m \u001b[43m    \u001b[49m\u001b[43mname\u001b[49m\u001b[38;5;241;43m=\u001b[39;49m\u001b[43mname\u001b[49m\u001b[43m,\u001b[49m\n\u001b[0;32m    601\u001b[0m \u001b[43m    \u001b[49m\u001b[43mqvm_type\u001b[49m\u001b[38;5;241;43m=\u001b[39;49m\u001b[43mqvm_type\u001b[49m\u001b[43m,\u001b[49m\n\u001b[0;32m    602\u001b[0m \u001b[43m    \u001b[49m\u001b[43mquantum_processor\u001b[49m\u001b[38;5;241;43m=\u001b[39;49m\u001b[43mquantum_processor\u001b[49m\u001b[43m,\u001b[49m\n\u001b[0;32m    603\u001b[0m \u001b[43m    \u001b[49m\u001b[43mnoise_model\u001b[49m\u001b[38;5;241;43m=\u001b[39;49m\u001b[43mnoise_model\u001b[49m\u001b[43m,\u001b[49m\n\u001b[0;32m    604\u001b[0m \u001b[43m    \u001b[49m\u001b[43mcompiler_timeout\u001b[49m\u001b[38;5;241;43m=\u001b[39;49m\u001b[43mcompiler_timeout\u001b[49m\u001b[43m,\u001b[49m\n\u001b[0;32m    605\u001b[0m \u001b[43m    \u001b[49m\u001b[43mexecution_timeout\u001b[49m\u001b[38;5;241;43m=\u001b[39;49m\u001b[43mexecution_timeout\u001b[49m\u001b[43m,\u001b[49m\n\u001b[0;32m    606\u001b[0m \u001b[43m\u001b[49m\u001b[43m)\u001b[49m\n",
      "File \u001b[1;32mC:\\ProgramData\\Anaconda3\\lib\\site-packages\\pyquil\\api\\_quantum_computer.py:551\u001b[0m, in \u001b[0;36m_get_qvm_qc\u001b[1;34m(client_configuration, name, qvm_type, quantum_processor, compiler_timeout, execution_timeout, noise_model)\u001b[0m\n\u001b[0;32m    525\u001b[0m \u001b[38;5;28;01mdef\u001b[39;00m \u001b[38;5;21m_get_qvm_qc\u001b[39m(\n\u001b[0;32m    526\u001b[0m     \u001b[38;5;241m*\u001b[39m,\n\u001b[0;32m    527\u001b[0m     client_configuration: QCSClientConfiguration,\n\u001b[1;32m   (...)\u001b[0m\n\u001b[0;32m    533\u001b[0m     noise_model: Optional[NoiseModel],\n\u001b[0;32m    534\u001b[0m ) \u001b[38;5;241m-\u001b[39m\u001b[38;5;241m>\u001b[39m QuantumComputer:\n\u001b[0;32m    535\u001b[0m     \u001b[38;5;124;03m\"\"\"Construct a QuantumComputer backed by a QVM.\u001b[39;00m\n\u001b[0;32m    536\u001b[0m \n\u001b[0;32m    537\u001b[0m \u001b[38;5;124;03m    This is a minimal wrapper over the QuantumComputer, QVM, and QVMCompiler constructors.\u001b[39;00m\n\u001b[1;32m   (...)\u001b[0m\n\u001b[0;32m    546\u001b[0m \u001b[38;5;124;03m    :return: A QuantumComputer backed by a QVM with the above options.\u001b[39;00m\n\u001b[0;32m    547\u001b[0m \u001b[38;5;124;03m    \"\"\"\u001b[39;00m\n\u001b[0;32m    549\u001b[0m     \u001b[38;5;28;01mreturn\u001b[39;00m QuantumComputer(\n\u001b[0;32m    550\u001b[0m         name\u001b[38;5;241m=\u001b[39mname,\n\u001b[1;32m--> 551\u001b[0m         qam\u001b[38;5;241m=\u001b[39m\u001b[43m_get_qvm_or_pyqvm\u001b[49m\u001b[43m(\u001b[49m\n\u001b[0;32m    552\u001b[0m \u001b[43m            \u001b[49m\u001b[43mclient_configuration\u001b[49m\u001b[38;5;241;43m=\u001b[39;49m\u001b[43mclient_configuration\u001b[49m\u001b[43m,\u001b[49m\n\u001b[0;32m    553\u001b[0m \u001b[43m            \u001b[49m\u001b[43mqvm_type\u001b[49m\u001b[38;5;241;43m=\u001b[39;49m\u001b[43mqvm_type\u001b[49m\u001b[43m,\u001b[49m\n\u001b[0;32m    554\u001b[0m \u001b[43m            \u001b[49m\u001b[43mnoise_model\u001b[49m\u001b[38;5;241;43m=\u001b[39;49m\u001b[43mnoise_model\u001b[49m\u001b[43m,\u001b[49m\n\u001b[0;32m    555\u001b[0m \u001b[43m            \u001b[49m\u001b[43mquantum_processor\u001b[49m\u001b[38;5;241;43m=\u001b[39;49m\u001b[43mquantum_processor\u001b[49m\u001b[43m,\u001b[49m\n\u001b[0;32m    556\u001b[0m \u001b[43m            \u001b[49m\u001b[43mexecution_timeout\u001b[49m\u001b[38;5;241;43m=\u001b[39;49m\u001b[43mexecution_timeout\u001b[49m\u001b[43m,\u001b[49m\n\u001b[0;32m    557\u001b[0m \u001b[43m        \u001b[49m\u001b[43m)\u001b[49m,\n\u001b[0;32m    558\u001b[0m         compiler\u001b[38;5;241m=\u001b[39mQVMCompiler(\n\u001b[0;32m    559\u001b[0m             quantum_processor\u001b[38;5;241m=\u001b[39mquantum_processor,\n\u001b[0;32m    560\u001b[0m             timeout\u001b[38;5;241m=\u001b[39mcompiler_timeout,\n\u001b[0;32m    561\u001b[0m             client_configuration\u001b[38;5;241m=\u001b[39mclient_configuration,\n\u001b[0;32m    562\u001b[0m         ),\n\u001b[0;32m    563\u001b[0m     )\n",
      "File \u001b[1;32mC:\\ProgramData\\Anaconda3\\lib\\site-packages\\pyquil\\api\\_quantum_computer.py:517\u001b[0m, in \u001b[0;36m_get_qvm_or_pyqvm\u001b[1;34m(client_configuration, qvm_type, noise_model, quantum_processor, execution_timeout)\u001b[0m\n\u001b[0;32m    508\u001b[0m \u001b[38;5;28;01mdef\u001b[39;00m \u001b[38;5;21m_get_qvm_or_pyqvm\u001b[39m(\n\u001b[0;32m    509\u001b[0m     \u001b[38;5;241m*\u001b[39m,\n\u001b[0;32m    510\u001b[0m     client_configuration: QCSClientConfiguration,\n\u001b[1;32m   (...)\u001b[0m\n\u001b[0;32m    514\u001b[0m     execution_timeout: \u001b[38;5;28mfloat\u001b[39m,\n\u001b[0;32m    515\u001b[0m ) \u001b[38;5;241m-\u001b[39m\u001b[38;5;241m>\u001b[39m Union[QVM, PyQVM]:\n\u001b[0;32m    516\u001b[0m     \u001b[38;5;28;01mif\u001b[39;00m qvm_type \u001b[38;5;241m==\u001b[39m \u001b[38;5;124m\"\u001b[39m\u001b[38;5;124mqvm\u001b[39m\u001b[38;5;124m\"\u001b[39m:\n\u001b[1;32m--> 517\u001b[0m         \u001b[38;5;28;01mreturn\u001b[39;00m \u001b[43mQVM\u001b[49m\u001b[43m(\u001b[49m\u001b[43mnoise_model\u001b[49m\u001b[38;5;241;43m=\u001b[39;49m\u001b[43mnoise_model\u001b[49m\u001b[43m,\u001b[49m\u001b[43m \u001b[49m\u001b[43mtimeout\u001b[49m\u001b[38;5;241;43m=\u001b[39;49m\u001b[43mexecution_timeout\u001b[49m\u001b[43m,\u001b[49m\u001b[43m \u001b[49m\u001b[43mclient_configuration\u001b[49m\u001b[38;5;241;43m=\u001b[39;49m\u001b[43mclient_configuration\u001b[49m\u001b[43m)\u001b[49m\n\u001b[0;32m    518\u001b[0m     \u001b[38;5;28;01melif\u001b[39;00m qvm_type \u001b[38;5;241m==\u001b[39m \u001b[38;5;124m\"\u001b[39m\u001b[38;5;124mpyqvm\u001b[39m\u001b[38;5;124m\"\u001b[39m:\n\u001b[0;32m    519\u001b[0m         \u001b[38;5;28;01massert\u001b[39;00m quantum_processor \u001b[38;5;129;01mis\u001b[39;00m \u001b[38;5;129;01mnot\u001b[39;00m \u001b[38;5;28;01mNone\u001b[39;00m\n",
      "File \u001b[1;32mC:\\ProgramData\\Anaconda3\\lib\\site-packages\\pyquil\\api\\_qvm.py:116\u001b[0m, in \u001b[0;36mQVM.__init__\u001b[1;34m(self, noise_model, gate_noise, measurement_noise, random_seed, timeout, client_configuration)\u001b[0m\n\u001b[0;32m    114\u001b[0m client_configuration \u001b[38;5;241m=\u001b[39m client_configuration \u001b[38;5;129;01mor\u001b[39;00m QCSClientConfiguration\u001b[38;5;241m.\u001b[39mload()\n\u001b[0;32m    115\u001b[0m \u001b[38;5;28mself\u001b[39m\u001b[38;5;241m.\u001b[39m_qvm_client \u001b[38;5;241m=\u001b[39m QVMClient(client_configuration\u001b[38;5;241m=\u001b[39mclient_configuration, request_timeout\u001b[38;5;241m=\u001b[39mtimeout)\n\u001b[1;32m--> 116\u001b[0m \u001b[38;5;28;43mself\u001b[39;49m\u001b[38;5;241;43m.\u001b[39;49m\u001b[43mconnect\u001b[49m\u001b[43m(\u001b[49m\u001b[43m)\u001b[49m\n",
      "File \u001b[1;32mC:\\ProgramData\\Anaconda3\\lib\\site-packages\\pyquil\\api\\_qvm.py:120\u001b[0m, in \u001b[0;36mQVM.connect\u001b[1;34m(self)\u001b[0m\n\u001b[0;32m    118\u001b[0m \u001b[38;5;28;01mdef\u001b[39;00m \u001b[38;5;21mconnect\u001b[39m(\u001b[38;5;28mself\u001b[39m) \u001b[38;5;241m-\u001b[39m\u001b[38;5;241m>\u001b[39m \u001b[38;5;28;01mNone\u001b[39;00m:\n\u001b[0;32m    119\u001b[0m     \u001b[38;5;28;01mtry\u001b[39;00m:\n\u001b[1;32m--> 120\u001b[0m         version \u001b[38;5;241m=\u001b[39m \u001b[38;5;28;43mself\u001b[39;49m\u001b[38;5;241;43m.\u001b[39;49m\u001b[43mget_version_info\u001b[49m\u001b[43m(\u001b[49m\u001b[43m)\u001b[49m\n\u001b[0;32m    121\u001b[0m         check_qvm_version(version)\n\u001b[0;32m    122\u001b[0m     \u001b[38;5;28;01mexcept\u001b[39;00m \u001b[38;5;167;01mConnectionError\u001b[39;00m:\n",
      "File \u001b[1;32mC:\\ProgramData\\Anaconda3\\lib\\site-packages\\pyquil\\api\\_qvm.py:175\u001b[0m, in \u001b[0;36mQVM.get_version_info\u001b[1;34m(self)\u001b[0m\n\u001b[0;32m    169\u001b[0m \u001b[38;5;28;01mdef\u001b[39;00m \u001b[38;5;21mget_version_info\u001b[39m(\u001b[38;5;28mself\u001b[39m) \u001b[38;5;241m-\u001b[39m\u001b[38;5;241m>\u001b[39m \u001b[38;5;28mstr\u001b[39m:\n\u001b[0;32m    170\u001b[0m     \u001b[38;5;124;03m\"\"\"\u001b[39;00m\n\u001b[0;32m    171\u001b[0m \u001b[38;5;124;03m    Return version information for the QVM.\u001b[39;00m\n\u001b[0;32m    172\u001b[0m \n\u001b[0;32m    173\u001b[0m \u001b[38;5;124;03m    :return: String with version information\u001b[39;00m\n\u001b[0;32m    174\u001b[0m \u001b[38;5;124;03m    \"\"\"\u001b[39;00m\n\u001b[1;32m--> 175\u001b[0m     \u001b[38;5;28;01mreturn\u001b[39;00m \u001b[38;5;28;43mself\u001b[39;49m\u001b[38;5;241;43m.\u001b[39;49m\u001b[43m_qvm_client\u001b[49m\u001b[38;5;241;43m.\u001b[39;49m\u001b[43mget_version\u001b[49m\u001b[43m(\u001b[49m\u001b[43m)\u001b[49m\n",
      "File \u001b[1;32mC:\\ProgramData\\Anaconda3\\lib\\site-packages\\pyquil\\api\\_qvm_client.py:176\u001b[0m, in \u001b[0;36mQVMClient.get_version\u001b[1;34m(self)\u001b[0m\n\u001b[0;32m    172\u001b[0m \u001b[38;5;28;01mdef\u001b[39;00m \u001b[38;5;21mget_version\u001b[39m(\u001b[38;5;28mself\u001b[39m) \u001b[38;5;241m-\u001b[39m\u001b[38;5;241m>\u001b[39m \u001b[38;5;28mstr\u001b[39m:\n\u001b[0;32m    173\u001b[0m     \u001b[38;5;124;03m\"\"\"\u001b[39;00m\n\u001b[0;32m    174\u001b[0m \u001b[38;5;124;03m    Get version info for QVM server.\u001b[39;00m\n\u001b[0;32m    175\u001b[0m \u001b[38;5;124;03m    \"\"\"\u001b[39;00m\n\u001b[1;32m--> 176\u001b[0m     \u001b[38;5;28;01mreturn\u001b[39;00m \u001b[38;5;28;43mself\u001b[39;49m\u001b[38;5;241;43m.\u001b[39;49m\u001b[43m_post_json\u001b[49m\u001b[43m(\u001b[49m\u001b[43m{\u001b[49m\u001b[38;5;124;43m\"\u001b[39;49m\u001b[38;5;124;43mtype\u001b[39;49m\u001b[38;5;124;43m\"\u001b[39;49m\u001b[43m:\u001b[49m\u001b[43m \u001b[49m\u001b[38;5;124;43m\"\u001b[39;49m\u001b[38;5;124;43mversion\u001b[39;49m\u001b[38;5;124;43m\"\u001b[39;49m\u001b[43m}\u001b[49m\u001b[43m)\u001b[49m\u001b[38;5;241m.\u001b[39mtext\u001b[38;5;241m.\u001b[39msplit()[\u001b[38;5;241m0\u001b[39m]\n",
      "File \u001b[1;32mC:\\ProgramData\\Anaconda3\\lib\\site-packages\\pyquil\\api\\_qvm_client.py:261\u001b[0m, in \u001b[0;36mQVMClient._post_json\u001b[1;34m(self, json)\u001b[0m\n\u001b[0;32m    259\u001b[0m     response \u001b[38;5;241m=\u001b[39m http\u001b[38;5;241m.\u001b[39mpost(\u001b[38;5;124m\"\u001b[39m\u001b[38;5;124m/\u001b[39m\u001b[38;5;124m\"\u001b[39m, json\u001b[38;5;241m=\u001b[39mjson)\n\u001b[0;32m    260\u001b[0m     \u001b[38;5;28;01mif\u001b[39;00m response\u001b[38;5;241m.\u001b[39mstatus_code \u001b[38;5;241m>\u001b[39m\u001b[38;5;241m=\u001b[39m \u001b[38;5;241m400\u001b[39m:\n\u001b[1;32m--> 261\u001b[0m         \u001b[38;5;28;01mraise\u001b[39;00m \u001b[38;5;28;43mself\u001b[39;49m\u001b[38;5;241;43m.\u001b[39;49m\u001b[43m_parse_error\u001b[49m\u001b[43m(\u001b[49m\u001b[43mresponse\u001b[49m\u001b[43m)\u001b[49m\n\u001b[0;32m    262\u001b[0m \u001b[38;5;28;01mreturn\u001b[39;00m response\n",
      "File \u001b[1;32mC:\\ProgramData\\Anaconda3\\lib\\site-packages\\pyquil\\api\\_qvm_client.py:282\u001b[0m, in \u001b[0;36mQVMClient._parse_error\u001b[1;34m(res)\u001b[0m\n\u001b[0;32m    280\u001b[0m     body \u001b[38;5;241m=\u001b[39m res\u001b[38;5;241m.\u001b[39mjson()\n\u001b[0;32m    281\u001b[0m \u001b[38;5;28;01mexcept\u001b[39;00m JSONDecodeError:\n\u001b[1;32m--> 282\u001b[0m     \u001b[38;5;28;01mraise\u001b[39;00m UnknownApiError(res\u001b[38;5;241m.\u001b[39mtext)\n\u001b[0;32m    284\u001b[0m \u001b[38;5;28;01mif\u001b[39;00m \u001b[38;5;124m\"\u001b[39m\u001b[38;5;124merror_type\u001b[39m\u001b[38;5;124m\"\u001b[39m \u001b[38;5;129;01mnot\u001b[39;00m \u001b[38;5;129;01min\u001b[39;00m body:\n\u001b[0;32m    285\u001b[0m     \u001b[38;5;28;01mraise\u001b[39;00m UnknownApiError(\u001b[38;5;28mstr\u001b[39m(body))\n",
      "\u001b[1;31mUnknownApiError\u001b[0m: \n\nThe server has failed to return a proper response. Please describe the problem\nand copy the above message into a GitHub issue at:\n    https://github.com/rigetti/pyquil/issues"
     ]
    }
   ],
   "source": [
    "k_m = 50 #number of sequences\n",
    "n_m = 800 #number of shots\n",
    "\n",
    "# target_qubits = [0]\n",
    "# target_qubits = [41,42]\n",
    "target_qubits = [0,1]\n",
    "n_qubit = len(target_qubits)\n",
    "\n",
    "# qmachine = get_qc('Aspen-M-3', execution_timeout=200, compiler_timeout=200)\n",
    "qmachine = get_qc( str(n_qubit) + 'q-qvm')  # You can make any 'nq-qvm'"
   ]
  },
  {
   "cell_type": "markdown",
   "metadata": {},
   "source": [
    "### Depolarising noise in terms of pauli channels\n",
    "$$ \\Lambda_{dep}(\\rho) = (1-3\\lambda/4)\\rho + \\lambda/4 X^{\\dagger}\\rho X + \\lambda/4 Y^{\\dagger}\\rho Y + \\lambda/4 Z^{\\dagger}\\rho Z $$\n",
    "\n",
    "$$ \\Lambda_{dep}(\\rho) = (1-\\epsilon)\\rho + \\frac{\\epsilon}{d} I $$\n",
    "\n",
    "So if we want to have a depolarising noise channel with $\\epsilon = 0.0001$, we should define it with taking into account that $p_i = \\frac{\\epsilon}{4} $. So it gives\n",
    "\n",
    "$p_i \\approx 0.000025 $"
   ]
  },
  {
   "cell_type": "code",
   "execution_count": null,
   "metadata": {},
   "outputs": [],
   "source": [
    "epsilon = 0.01\n",
    "p_xi = epsilon/4\n",
    "qmachine.qam.gate_noise=(p_xi,p_xi,p_xi)\n",
    "# qmachine.qam.gate_noise=(0.005,0.010,0.015)\n",
    "# qmachine.qam.gate_noise=(0,0,p_xi)"
   ]
  },
  {
   "cell_type": "code",
   "execution_count": null,
   "metadata": {},
   "outputs": [],
   "source": [
    "noisy_machine = qmachine.name\n",
    "# noisy_machine = 'depolarising_noise' + '_epsilon{}'.format(epsilon)\n",
    "# noisy_machine = 'pauli_stochastic_noise'\n",
    "path = os.path.join( os.getcwd(), 'output_storage', noisy_machine)\n",
    "try:\n",
    "    os.makedirs( path )\n",
    "except:\n",
    "    pass"
   ]
  },
  {
   "cell_type": "code",
   "execution_count": null,
   "metadata": {},
   "outputs": [],
   "source": [
    "ordered_layers = np.arange(1,5,1).astype('int')\n",
    "\n",
    "ordered_layers_arr = np.array( ordered_layers )\n",
    "between_layers = np.arange(ordered_layers_arr.min(),ordered_layers_arr.max()+1,1).astype('int')\n",
    "\n",
    "# bench_protocol_func_dict = {'standard':machine_response_standard_bench,\n",
    "#                             'native':machine_response_srb_native_gate,\n",
    "#                             'native_conditional':machine_response_rb_native_gate_conditional_single_qubit,\n",
    "#                             'stabilizer':machine_response_stabilizer_bench,\n",
    "#                             'random_def_unitaries':machine_response_standard_bench_random_units,\n",
    "#                            'conditional_universal_circuit':machine_response_rb_universal_two_qubits_conditional}"
   ]
  },
  {
   "cell_type": "code",
   "execution_count": 11,
   "metadata": {},
   "outputs": [],
   "source": [
    "# bench_protocol_func_dict = {'native_conditional_single_qubit':native_rigetti_single_qubit_packs_generator,\n",
    "#                            'native_conditional_conditional_two_qubits':native_universal_two_qubits_packs_generator,\n",
    "#                            'standard_rb_single_qubit':two_design_single_qubit_packs_generator,\n",
    "#                            'standard_rb_non_uniform_single_qubit':two_design_single_qubit_packs_generator_non_uniform,\n",
    "#                            'standard_rb_non_uniform_two_qubits':two_design_two_qubits_packs_generator_non_uniform}\n",
    "\n",
    "bench_protocol_func_dict = {'native_conditional_single_qubit':native_rigetti_single_qubit_packs_generator,\n",
    "                           'native_conditional_conditional_two_qubits':native_universal_two_qubits_packs_generator,\n",
    "                           'standard_rb_single_qubit':two_design_single_qubit_packs_generator,\n",
    "                           'standard_rb_two_qubits':two_design_two_qubits_packs_generator}"
   ]
  },
  {
   "cell_type": "code",
   "execution_count": 12,
   "metadata": {},
   "outputs": [],
   "source": [
    "sns.set_theme(context='paper', font= 'Serif', style = 'ticks')"
   ]
  },
  {
   "cell_type": "code",
   "execution_count": 13,
   "metadata": {},
   "outputs": [],
   "source": [
    "file_path = os.path.join(path, '{}.csv'.format(qmachine.name))\n",
    "if os.path.isfile(file_path):\n",
    "    pass\n",
    "else:\n",
    "    with open(file_path, 'w') as f_object:\n",
    "        writer_object = writer(f_object)\n",
    "        writer_object.writerow(['date', 'target qubits', 'number of sequences', 'number of shots',\n",
    "                                'protocol name', 'circuit depth', 'average of fidelity', 'error of fidelity'])\n",
    "        f_object.close()"
   ]
  },
  {
   "cell_type": "code",
   "execution_count": 14,
   "metadata": {},
   "outputs": [],
   "source": [
    "def record_this_layer(protocol_name:str, qmachine, depth:int, fidelity_average, fidelity_err):\n",
    "    List = [datetime.today().strftime('%Y-%m-%d'), target_qubits, k_m, n_m,\n",
    "            protocol_name, depth, fidelity_average, fidelity_err]\n",
    "    file_path = os.path.join(path, '{}.csv'.format(qmachine.name))\n",
    "    with open(file_path, 'a') as f_object:\n",
    "        writer_object = writer(f_object)\n",
    "        writer_object.writerow(List)\n",
    "        f_object.close()\n",
    "    return\n",
    "\n",
    "# def save_experiment(experiment, protocol_name, target_qubits, layer_num, num_of_sequences):\n",
    "#     path = os.path.join( os.getcwd(), 'experiments_warehouse', protocol_name, str(target_qubits))\n",
    "#     try:\n",
    "#         os.makedirs( path )\n",
    "#     except:\n",
    "#         pass\n",
    "    \n",
    "#     file_path = os.path.join( path, 'L{}_K{}.pickle'.format(layer_num, num_of_sequences) )\n",
    "    \n",
    "#     with open(file_path, \"wb\") as output_file:\n",
    "#         cPickle.dump(experiment, output_file)\n",
    "#     return"
   ]
  },
  {
   "cell_type": "code",
   "execution_count": 15,
   "metadata": {},
   "outputs": [],
   "source": [
    "def bench_machine(protocol_name:str, qmachine, target_qubits:list, k_m:int, n_m:int):\n",
    "    bench_protocol_func = bench_protocol_func_dict[protocol_name]\n",
    "    avg_fdlty_list = []\n",
    "    err_fdlty_list = []\n",
    "    \n",
    "    for m in tqdm(ordered_layers):\n",
    "        exps = catch_experiments(qmachine, target_qubits = target_qubits,\n",
    "                                    protocol_name=protocol_name,\n",
    "                                    layers_num=m, exp_num=k_m)\n",
    "#         save_experiment(exps, protocol_name, target_qubits, m, k_m)\n",
    "        \n",
    "        response = find_machine_response(qmachine, exps, n_m)\n",
    "        record_this_layer(protocol_name, qmachine, m, averageOfFidelity(response), stdOfFidelity(response))\n",
    "        \n",
    "        avg_fdlty_list.append( averageOfFidelity(response) )\n",
    "        err_fdlty_list.append( stdOfFidelity(response) )\n",
    "    return np.array(avg_fdlty_list), np.array(err_fdlty_list)"
   ]
  },
  {
   "cell_type": "code",
   "execution_count": 16,
   "metadata": {},
   "outputs": [],
   "source": [
    "def prepare_experiments(protocol_name:str, qmachine, target_qubits:list, k_m:int, n_m:int):\n",
    "    bench_protocol_func = bench_protocol_func_dict[protocol_name]\n",
    "    \n",
    "    for m in tqdm(ordered_layers):\n",
    "        exps = generate_experiments(qmachine, target_qubits = target_qubits,\n",
    "                                    circuit_gen_func=bench_protocol_func,\n",
    "                                    layers_num=m, exp_num=k_m)\n",
    "        save_experiment(exps, protocol_name, target_qubits, m, k_m)\n",
    "    return "
   ]
  },
  {
   "cell_type": "code",
   "execution_count": null,
   "metadata": {},
   "outputs": [],
   "source": []
  },
  {
   "cell_type": "markdown",
   "metadata": {},
   "source": [
    "# single-qubit RB with conditional prob. on native gates"
   ]
  },
  {
   "cell_type": "code",
   "execution_count": 17,
   "metadata": {},
   "outputs": [
    {
     "name": "stderr",
     "output_type": "stream",
     "text": [
      "C:\\Users\\mohsen\\AppData\\Local\\Temp\\ipykernel_8164\\1121408283.py:4: TqdmDeprecationWarning: This function will be removed in tqdm==5.0.0\n",
      "Please use `tqdm.notebook.tqdm` instead of `tqdm.tqdm_notebook`\n",
      "  for m in tqdm(ordered_layers):\n"
     ]
    },
    {
     "data": {
      "application/vnd.jupyter.widget-view+json": {
       "model_id": "06e2ba500dde4f82ac496c3b4f481e2a",
       "version_major": 2,
       "version_minor": 0
      },
      "text/plain": [
       "  0%|          | 0/14 [00:00<?, ?it/s]"
      ]
     },
     "metadata": {},
     "output_type": "display_data"
    },
    {
     "data": {
      "application/vnd.jupyter.widget-view+json": {
       "model_id": "3cb0e72cd1f347ea828c7097daa068fb",
       "version_major": 2,
       "version_minor": 0
      },
      "text/plain": [
       "exp. generation:   0%|          | 0/200 [00:00<?, ?it/s]"
      ]
     },
     "metadata": {},
     "output_type": "display_data"
    },
    {
     "data": {
      "application/vnd.jupyter.widget-view+json": {
       "model_id": "d6a00dc91e8e4ec59e2c973471d81bc0",
       "version_major": 2,
       "version_minor": 0
      },
      "text/plain": [
       "exp. generation:   0%|          | 0/200 [00:00<?, ?it/s]"
      ]
     },
     "metadata": {},
     "output_type": "display_data"
    },
    {
     "data": {
      "application/vnd.jupyter.widget-view+json": {
       "model_id": "64f7437c0e9a4c96b0128dfd6abd0773",
       "version_major": 2,
       "version_minor": 0
      },
      "text/plain": [
       "exp. generation:   0%|          | 0/200 [00:00<?, ?it/s]"
      ]
     },
     "metadata": {},
     "output_type": "display_data"
    },
    {
     "data": {
      "application/vnd.jupyter.widget-view+json": {
       "model_id": "bf063afa26974e51ac4fac08a87a12c8",
       "version_major": 2,
       "version_minor": 0
      },
      "text/plain": [
       "exp. generation:   0%|          | 0/200 [00:00<?, ?it/s]"
      ]
     },
     "metadata": {},
     "output_type": "display_data"
    },
    {
     "data": {
      "application/vnd.jupyter.widget-view+json": {
       "model_id": "251918a4479f48968b0868a966ca21af",
       "version_major": 2,
       "version_minor": 0
      },
      "text/plain": [
       "exp. generation:   0%|          | 0/200 [00:00<?, ?it/s]"
      ]
     },
     "metadata": {},
     "output_type": "display_data"
    },
    {
     "data": {
      "application/vnd.jupyter.widget-view+json": {
       "model_id": "f81f43f605294e5981f5f9f0b9d68600",
       "version_major": 2,
       "version_minor": 0
      },
      "text/plain": [
       "exp. generation:   0%|          | 0/200 [00:00<?, ?it/s]"
      ]
     },
     "metadata": {},
     "output_type": "display_data"
    },
    {
     "data": {
      "application/vnd.jupyter.widget-view+json": {
       "model_id": "a99f1f2949074cd8b592778bdd5fb6df",
       "version_major": 2,
       "version_minor": 0
      },
      "text/plain": [
       "exp. generation:   0%|          | 0/200 [00:00<?, ?it/s]"
      ]
     },
     "metadata": {},
     "output_type": "display_data"
    },
    {
     "data": {
      "application/vnd.jupyter.widget-view+json": {
       "model_id": "51868b3921ba46b8ae5b48b31719bd0c",
       "version_major": 2,
       "version_minor": 0
      },
      "text/plain": [
       "exp. generation:   0%|          | 0/200 [00:00<?, ?it/s]"
      ]
     },
     "metadata": {},
     "output_type": "display_data"
    },
    {
     "data": {
      "application/vnd.jupyter.widget-view+json": {
       "model_id": "ccc41391306e42e8a95aaffb74e3cc6f",
       "version_major": 2,
       "version_minor": 0
      },
      "text/plain": [
       "exp. generation:   0%|          | 0/200 [00:00<?, ?it/s]"
      ]
     },
     "metadata": {},
     "output_type": "display_data"
    },
    {
     "data": {
      "application/vnd.jupyter.widget-view+json": {
       "model_id": "bea4dc0b26b64e469aa8f50378ecdeb9",
       "version_major": 2,
       "version_minor": 0
      },
      "text/plain": [
       "exp. generation:   0%|          | 0/200 [00:00<?, ?it/s]"
      ]
     },
     "metadata": {},
     "output_type": "display_data"
    },
    {
     "data": {
      "application/vnd.jupyter.widget-view+json": {
       "model_id": "cc976e92fe26427a8dd643df377ba2c0",
       "version_major": 2,
       "version_minor": 0
      },
      "text/plain": [
       "exp. generation:   0%|          | 0/200 [00:00<?, ?it/s]"
      ]
     },
     "metadata": {},
     "output_type": "display_data"
    },
    {
     "data": {
      "application/vnd.jupyter.widget-view+json": {
       "model_id": "549062c18285409689c2d39378b2e408",
       "version_major": 2,
       "version_minor": 0
      },
      "text/plain": [
       "exp. generation:   0%|          | 0/200 [00:00<?, ?it/s]"
      ]
     },
     "metadata": {},
     "output_type": "display_data"
    },
    {
     "data": {
      "application/vnd.jupyter.widget-view+json": {
       "model_id": "d561846c3b2f400d8da170493f95fa7d",
       "version_major": 2,
       "version_minor": 0
      },
      "text/plain": [
       "exp. generation:   0%|          | 0/200 [00:00<?, ?it/s]"
      ]
     },
     "metadata": {},
     "output_type": "display_data"
    },
    {
     "data": {
      "application/vnd.jupyter.widget-view+json": {
       "model_id": "80a664e163994217ac1d5c108f12e62d",
       "version_major": 2,
       "version_minor": 0
      },
      "text/plain": [
       "exp. generation:   0%|          | 0/200 [00:00<?, ?it/s]"
      ]
     },
     "metadata": {},
     "output_type": "display_data"
    }
   ],
   "source": [
    "prepare_experiments('native_conditional_single_qubit', qmachine, target_qubits, k_m, n_m)"
   ]
  },
  {
   "cell_type": "code",
   "execution_count": 18,
   "metadata": {},
   "outputs": [
    {
     "name": "stderr",
     "output_type": "stream",
     "text": [
      "C:\\Users\\mohsen\\AppData\\Local\\Temp\\ipykernel_8164\\4003176086.py:6: TqdmDeprecationWarning: This function will be removed in tqdm==5.0.0\n",
      "Please use `tqdm.notebook.tqdm` instead of `tqdm.tqdm_notebook`\n",
      "  for m in tqdm(ordered_layers):\n"
     ]
    },
    {
     "data": {
      "application/vnd.jupyter.widget-view+json": {
       "model_id": "7f6ab5ca161a402fb2e4d80cbb9522d2",
       "version_major": 2,
       "version_minor": 0
      },
      "text/plain": [
       "  0%|          | 0/14 [00:00<?, ?it/s]"
      ]
     },
     "metadata": {},
     "output_type": "display_data"
    },
    {
     "data": {
      "application/vnd.jupyter.widget-view+json": {
       "model_id": "1fbd0b2e7ba64485b8343953fc987ff4",
       "version_major": 2,
       "version_minor": 0
      },
      "text/plain": [
       "Examing the seq.:   0%|          | 0/200 [00:00<?, ?it/s]"
      ]
     },
     "metadata": {},
     "output_type": "display_data"
    },
    {
     "data": {
      "application/vnd.jupyter.widget-view+json": {
       "model_id": "4f681a920cc34339b7643bb075158aaf",
       "version_major": 2,
       "version_minor": 0
      },
      "text/plain": [
       "Examing the seq.:   0%|          | 0/200 [00:00<?, ?it/s]"
      ]
     },
     "metadata": {},
     "output_type": "display_data"
    },
    {
     "data": {
      "application/vnd.jupyter.widget-view+json": {
       "model_id": "888c94e4444745c7bbe15a575e876997",
       "version_major": 2,
       "version_minor": 0
      },
      "text/plain": [
       "Examing the seq.:   0%|          | 0/200 [00:00<?, ?it/s]"
      ]
     },
     "metadata": {},
     "output_type": "display_data"
    },
    {
     "data": {
      "application/vnd.jupyter.widget-view+json": {
       "model_id": "16ed488f88e1425392dbfde241c74cea",
       "version_major": 2,
       "version_minor": 0
      },
      "text/plain": [
       "Examing the seq.:   0%|          | 0/200 [00:00<?, ?it/s]"
      ]
     },
     "metadata": {},
     "output_type": "display_data"
    },
    {
     "data": {
      "application/vnd.jupyter.widget-view+json": {
       "model_id": "c1c00d72986042eb81799d9763d50084",
       "version_major": 2,
       "version_minor": 0
      },
      "text/plain": [
       "Examing the seq.:   0%|          | 0/200 [00:00<?, ?it/s]"
      ]
     },
     "metadata": {},
     "output_type": "display_data"
    },
    {
     "data": {
      "application/vnd.jupyter.widget-view+json": {
       "model_id": "6c9a9943208c4dbaa2269927878634ef",
       "version_major": 2,
       "version_minor": 0
      },
      "text/plain": [
       "Examing the seq.:   0%|          | 0/200 [00:00<?, ?it/s]"
      ]
     },
     "metadata": {},
     "output_type": "display_data"
    },
    {
     "data": {
      "application/vnd.jupyter.widget-view+json": {
       "model_id": "4c165c5ee48b4c96bbd8c2ee57c81c44",
       "version_major": 2,
       "version_minor": 0
      },
      "text/plain": [
       "Examing the seq.:   0%|          | 0/200 [00:00<?, ?it/s]"
      ]
     },
     "metadata": {},
     "output_type": "display_data"
    },
    {
     "data": {
      "application/vnd.jupyter.widget-view+json": {
       "model_id": "26f292387d0b45ccb59d050f3def6383",
       "version_major": 2,
       "version_minor": 0
      },
      "text/plain": [
       "Examing the seq.:   0%|          | 0/200 [00:00<?, ?it/s]"
      ]
     },
     "metadata": {},
     "output_type": "display_data"
    },
    {
     "data": {
      "application/vnd.jupyter.widget-view+json": {
       "model_id": "7322160085e8488d96dad0c7ba525373",
       "version_major": 2,
       "version_minor": 0
      },
      "text/plain": [
       "Examing the seq.:   0%|          | 0/200 [00:00<?, ?it/s]"
      ]
     },
     "metadata": {},
     "output_type": "display_data"
    },
    {
     "data": {
      "application/vnd.jupyter.widget-view+json": {
       "model_id": "1140323a76e94805bdc3abd187db9148",
       "version_major": 2,
       "version_minor": 0
      },
      "text/plain": [
       "Examing the seq.:   0%|          | 0/200 [00:00<?, ?it/s]"
      ]
     },
     "metadata": {},
     "output_type": "display_data"
    },
    {
     "data": {
      "application/vnd.jupyter.widget-view+json": {
       "model_id": "12e7036dabc14a608e45bc5f3f215f23",
       "version_major": 2,
       "version_minor": 0
      },
      "text/plain": [
       "Examing the seq.:   0%|          | 0/200 [00:00<?, ?it/s]"
      ]
     },
     "metadata": {},
     "output_type": "display_data"
    },
    {
     "data": {
      "application/vnd.jupyter.widget-view+json": {
       "model_id": "1726b2fcfec04d2d8f0c38c9363a51a3",
       "version_major": 2,
       "version_minor": 0
      },
      "text/plain": [
       "Examing the seq.:   0%|          | 0/200 [00:00<?, ?it/s]"
      ]
     },
     "metadata": {},
     "output_type": "display_data"
    },
    {
     "data": {
      "application/vnd.jupyter.widget-view+json": {
       "model_id": "43df4c45048742bf824d80b03dae0489",
       "version_major": 2,
       "version_minor": 0
      },
      "text/plain": [
       "Examing the seq.:   0%|          | 0/200 [00:00<?, ?it/s]"
      ]
     },
     "metadata": {},
     "output_type": "display_data"
    },
    {
     "data": {
      "application/vnd.jupyter.widget-view+json": {
       "model_id": "27187ae1317b44d08d99b5d3f08b2a06",
       "version_major": 2,
       "version_minor": 0
      },
      "text/plain": [
       "Examing the seq.:   0%|          | 0/200 [00:00<?, ?it/s]"
      ]
     },
     "metadata": {},
     "output_type": "display_data"
    },
    {
     "data": {
      "image/png": "[encoded data removed]",
      "text/plain": [
       "<Figure size 432x288 with 1 Axes>"
      ]
     },
     "metadata": {},
     "output_type": "display_data"
    }
   ],
   "source": [
    "avg_cond_fdlty_arr, err_cond_fdlty_arr = bench_machine('native_conditional_single_qubit', qmachine, [0], k_m, n_m)\n",
    "\n",
    "plot_decay(ordered_layers_arr, avg_cond_fdlty_arr, err_cond_fdlty_arr, 'native_conditional_single_qubit')"
   ]
  },
  {
   "cell_type": "code",
   "execution_count": null,
   "metadata": {},
   "outputs": [],
   "source": []
  },
  {
   "cell_type": "code",
   "execution_count": null,
   "metadata": {},
   "outputs": [],
   "source": [
    "avg_cond_fdlty_arr, err_cond_fdlty_arr"
   ]
  },
  {
   "cell_type": "code",
   "execution_count": null,
   "metadata": {},
   "outputs": [],
   "source": []
  },
  {
   "cell_type": "markdown",
   "metadata": {},
   "source": [
    "# RB with conditional prob. on two qubits"
   ]
  },
  {
   "cell_type": "code",
   "execution_count": 20,
   "metadata": {},
   "outputs": [
    {
     "name": "stderr",
     "output_type": "stream",
     "text": [
      "C:\\Users\\mohsen\\AppData\\Local\\Temp\\ipykernel_18964\\1121408283.py:4: TqdmDeprecationWarning: This function will be removed in tqdm==5.0.0\n",
      "Please use `tqdm.notebook.tqdm` instead of `tqdm.tqdm_notebook`\n",
      "  for m in tqdm(ordered_layers):\n"
     ]
    },
    {
     "data": {
      "application/vnd.jupyter.widget-view+json": {
       "model_id": "b979b0e5613f46d0a9444ae7a8486c0c",
       "version_major": 2,
       "version_minor": 0
      },
      "text/plain": [
       "  0%|          | 0/4 [00:00<?, ?it/s]"
      ]
     },
     "metadata": {},
     "output_type": "display_data"
    },
    {
     "data": {
      "application/vnd.jupyter.widget-view+json": {
       "model_id": "e0fc680bee664af88d2ff1689abc182d",
       "version_major": 2,
       "version_minor": 0
      },
      "text/plain": [
       "exp. generation:   0%|          | 0/50 [00:00<?, ?it/s]"
      ]
     },
     "metadata": {},
     "output_type": "display_data"
    },
    {
     "data": {
      "application/vnd.jupyter.widget-view+json": {
       "model_id": "1efbb0c1613e4dc9bfee0194ecff82e0",
       "version_major": 2,
       "version_minor": 0
      },
      "text/plain": [
       "exp. generation:   0%|          | 0/50 [00:00<?, ?it/s]"
      ]
     },
     "metadata": {},
     "output_type": "display_data"
    },
    {
     "data": {
      "application/vnd.jupyter.widget-view+json": {
       "model_id": "94b91a74117d45b080513e4a501586e0",
       "version_major": 2,
       "version_minor": 0
      },
      "text/plain": [
       "exp. generation:   0%|          | 0/50 [00:00<?, ?it/s]"
      ]
     },
     "metadata": {},
     "output_type": "display_data"
    },
    {
     "data": {
      "application/vnd.jupyter.widget-view+json": {
       "model_id": "b54e66b64d3a4732a1ce95ba45a3cf0a",
       "version_major": 2,
       "version_minor": 0
      },
      "text/plain": [
       "exp. generation:   0%|          | 0/50 [00:00<?, ?it/s]"
      ]
     },
     "metadata": {},
     "output_type": "display_data"
    }
   ],
   "source": [
    "#Classical compilation process\n",
    "prepare_experiments('native_conditional_conditional_two_qubits', qmachine, target_qubits, k_m, n_m)"
   ]
  },
  {
   "cell_type": "code",
   "execution_count": 29,
   "metadata": {},
   "outputs": [
    {
     "name": "stderr",
     "output_type": "stream",
     "text": [
      "C:\\Users\\mohsen\\AppData\\Local\\Temp\\ipykernel_18964\\2088849496.py:6: TqdmDeprecationWarning: This function will be removed in tqdm==5.0.0\n",
      "Please use `tqdm.notebook.tqdm` instead of `tqdm.tqdm_notebook`\n",
      "  for m in tqdm(ordered_layers):\n"
     ]
    },
    {
     "data": {
      "application/vnd.jupyter.widget-view+json": {
       "model_id": "a8da3d7c7ac54c3d8d6abaa5ba7fa7a9",
       "version_major": 2,
       "version_minor": 0
      },
      "text/plain": [
       "  0%|          | 0/4 [00:00<?, ?it/s]"
      ]
     },
     "metadata": {},
     "output_type": "display_data"
    },
    {
     "name": "stderr",
     "output_type": "stream",
     "text": [
      "C:\\Users\\mohsen\\Documents\\Python_pros\\git_controlled\\Randomized_Benchmarking_protocol\\functions.py:366: VisibleDeprecationWarning: Creating an ndarray from ragged nested sequences (which is a list-or-tuple of lists-or-tuples-or ndarrays with different lengths or shapes) is deprecated. If you meant to do this, you must specify 'dtype=object' when creating the ndarray.\n",
      "  qubits = np.array([np.array(gate.qubits) for gate in gates_sequence])\n"
     ]
    },
    {
     "data": {
      "application/vnd.jupyter.widget-view+json": {
       "model_id": "186c90f21422491386438312be966985",
       "version_major": 2,
       "version_minor": 0
      },
      "text/plain": [
       "Examing the seq.:   0%|          | 0/50 [00:00<?, ?it/s]"
      ]
     },
     "metadata": {},
     "output_type": "display_data"
    },
    {
     "data": {
      "application/vnd.jupyter.widget-view+json": {
       "model_id": "41ab2ee112d54de69bd022181f711b21",
       "version_major": 2,
       "version_minor": 0
      },
      "text/plain": [
       "Examing the seq.:   0%|          | 0/50 [00:00<?, ?it/s]"
      ]
     },
     "metadata": {},
     "output_type": "display_data"
    },
    {
     "data": {
      "application/vnd.jupyter.widget-view+json": {
       "model_id": "ea170504e2f94c5f9e65bd6a45655ff4",
       "version_major": 2,
       "version_minor": 0
      },
      "text/plain": [
       "Examing the seq.:   0%|          | 0/50 [00:00<?, ?it/s]"
      ]
     },
     "metadata": {},
     "output_type": "display_data"
    },
    {
     "data": {
      "application/vnd.jupyter.widget-view+json": {
       "model_id": "64037ad7568d450a825d243ee9d9cead",
       "version_major": 2,
       "version_minor": 0
      },
      "text/plain": [
       "Examing the seq.:   0%|          | 0/50 [00:00<?, ?it/s]"
      ]
     },
     "metadata": {},
     "output_type": "display_data"
    },
    {
     "data": {
      "image/png": "[encoded data removed]",
      "text/plain": [
       "<Figure size 432x288 with 1 Axes>"
      ]
     },
     "metadata": {},
     "output_type": "display_data"
    }
   ],
   "source": [
    "avg_cond_fdlty_arr, err_cond_fdlty_arr = bench_machine('native_conditional_conditional_two_qubits', qmachine, target_qubits, k_m, n_m)\n",
    "plot_decay(ordered_layers_arr, avg_cond_fdlty_arr, err_cond_fdlty_arr, ' native_conditional_conditional_two_qubits')"
   ]
  },
  {
   "cell_type": "code",
   "execution_count": 23,
   "metadata": {},
   "outputs": [
    {
     "data": {
      "text/plain": [
       "array([1., 1., 1., 1.])"
      ]
     },
     "execution_count": 23,
     "metadata": {},
     "output_type": "execute_result"
    }
   ],
   "source": [
    "avg_cond_fdlty_arr"
   ]
  },
  {
   "cell_type": "code",
   "execution_count": 24,
   "metadata": {},
   "outputs": [
    {
     "data": {
      "text/plain": [
       "array([0., 0., 0., 0.])"
      ]
     },
     "execution_count": 24,
     "metadata": {},
     "output_type": "execute_result"
    }
   ],
   "source": [
    "err_cond_fdlty_arr"
   ]
  },
  {
   "cell_type": "markdown",
   "metadata": {},
   "source": [
    "## RB standard version single qubit(with Clifford set)"
   ]
  },
  {
   "cell_type": "code",
   "execution_count": 17,
   "metadata": {},
   "outputs": [
    {
     "name": "stderr",
     "output_type": "stream",
     "text": [
      "C:\\Users\\mohsen\\AppData\\Local\\Temp\\ipykernel_2224\\1121408283.py:4: TqdmDeprecationWarning: This function will be removed in tqdm==5.0.0\n",
      "Please use `tqdm.notebook.tqdm` instead of `tqdm.tqdm_notebook`\n",
      "  for m in tqdm(ordered_layers):\n"
     ]
    },
    {
     "data": {
      "application/vnd.jupyter.widget-view+json": {
       "model_id": "b30a47ca97c445c690a25244ed576173",
       "version_major": 2,
       "version_minor": 0
      },
      "text/plain": [
       "  0%|          | 0/6 [00:00<?, ?it/s]"
      ]
     },
     "metadata": {},
     "output_type": "display_data"
    },
    {
     "data": {
      "application/vnd.jupyter.widget-view+json": {
       "model_id": "0528aafa9e4745169e65e185722de946",
       "version_major": 2,
       "version_minor": 0
      },
      "text/plain": [
       "exp. generation:   0%|          | 0/200 [00:00<?, ?it/s]"
      ]
     },
     "metadata": {},
     "output_type": "display_data"
    },
    {
     "data": {
      "application/vnd.jupyter.widget-view+json": {
       "model_id": "9fdcadf44a164afeaaf98aeb5bbbf4b3",
       "version_major": 2,
       "version_minor": 0
      },
      "text/plain": [
       "exp. generation:   0%|          | 0/200 [00:00<?, ?it/s]"
      ]
     },
     "metadata": {},
     "output_type": "display_data"
    },
    {
     "data": {
      "application/vnd.jupyter.widget-view+json": {
       "model_id": "0677818318864d14b7506672ce367b87",
       "version_major": 2,
       "version_minor": 0
      },
      "text/plain": [
       "exp. generation:   0%|          | 0/200 [00:00<?, ?it/s]"
      ]
     },
     "metadata": {},
     "output_type": "display_data"
    },
    {
     "data": {
      "application/vnd.jupyter.widget-view+json": {
       "model_id": "21c2229707054305b2ed8b06fb687626",
       "version_major": 2,
       "version_minor": 0
      },
      "text/plain": [
       "exp. generation:   0%|          | 0/200 [00:00<?, ?it/s]"
      ]
     },
     "metadata": {},
     "output_type": "display_data"
    },
    {
     "data": {
      "application/vnd.jupyter.widget-view+json": {
       "model_id": "b26d90698b3e4d1bb7e3c1d9412a4ebf",
       "version_major": 2,
       "version_minor": 0
      },
      "text/plain": [
       "exp. generation:   0%|          | 0/200 [00:00<?, ?it/s]"
      ]
     },
     "metadata": {},
     "output_type": "display_data"
    },
    {
     "data": {
      "application/vnd.jupyter.widget-view+json": {
       "model_id": "ae82c657d0e840f9870523622c279958",
       "version_major": 2,
       "version_minor": 0
      },
      "text/plain": [
       "exp. generation:   0%|          | 0/200 [00:00<?, ?it/s]"
      ]
     },
     "metadata": {},
     "output_type": "display_data"
    }
   ],
   "source": [
    "prepare_experiments('standard_rb_single_qubit', qmachine, target_qubits, k_m, n_m)"
   ]
  },
  {
   "cell_type": "code",
   "execution_count": 18,
   "metadata": {},
   "outputs": [
    {
     "name": "stderr",
     "output_type": "stream",
     "text": [
      "C:\\Users\\mohsen\\AppData\\Local\\Temp\\ipykernel_2224\\2088849496.py:6: TqdmDeprecationWarning: This function will be removed in tqdm==5.0.0\n",
      "Please use `tqdm.notebook.tqdm` instead of `tqdm.tqdm_notebook`\n",
      "  for m in tqdm(ordered_layers):\n"
     ]
    },
    {
     "data": {
      "application/vnd.jupyter.widget-view+json": {
       "model_id": "09838fd758bb415b83ca19980875b50b",
       "version_major": 2,
       "version_minor": 0
      },
      "text/plain": [
       "  0%|          | 0/6 [00:00<?, ?it/s]"
      ]
     },
     "metadata": {},
     "output_type": "display_data"
    },
    {
     "data": {
      "application/vnd.jupyter.widget-view+json": {
       "model_id": "34f83925625142209d436ed3e67c6a31",
       "version_major": 2,
       "version_minor": 0
      },
      "text/plain": [
       "Examing the seq.:   0%|          | 0/200 [00:00<?, ?it/s]"
      ]
     },
     "metadata": {},
     "output_type": "display_data"
    },
    {
     "data": {
      "application/vnd.jupyter.widget-view+json": {
       "model_id": "8a5841d098e64602b16dc48a6ac1d239",
       "version_major": 2,
       "version_minor": 0
      },
      "text/plain": [
       "Examing the seq.:   0%|          | 0/200 [00:00<?, ?it/s]"
      ]
     },
     "metadata": {},
     "output_type": "display_data"
    },
    {
     "data": {
      "application/vnd.jupyter.widget-view+json": {
       "model_id": "16aee0aa4b97405a8f5f2c1b40489a6d",
       "version_major": 2,
       "version_minor": 0
      },
      "text/plain": [
       "Examing the seq.:   0%|          | 0/200 [00:00<?, ?it/s]"
      ]
     },
     "metadata": {},
     "output_type": "display_data"
    },
    {
     "data": {
      "application/vnd.jupyter.widget-view+json": {
       "model_id": "7a968b6459704208899ba85bc5ffef28",
       "version_major": 2,
       "version_minor": 0
      },
      "text/plain": [
       "Examing the seq.:   0%|          | 0/200 [00:00<?, ?it/s]"
      ]
     },
     "metadata": {},
     "output_type": "display_data"
    },
    {
     "data": {
      "application/vnd.jupyter.widget-view+json": {
       "model_id": "b14bf0fa936840829a597d7699d83f46",
       "version_major": 2,
       "version_minor": 0
      },
      "text/plain": [
       "Examing the seq.:   0%|          | 0/200 [00:00<?, ?it/s]"
      ]
     },
     "metadata": {},
     "output_type": "display_data"
    },
    {
     "data": {
      "application/vnd.jupyter.widget-view+json": {
       "model_id": "8b4899aceb294717b9eed3abd51c80fa",
       "version_major": 2,
       "version_minor": 0
      },
      "text/plain": [
       "Examing the seq.:   0%|          | 0/200 [00:00<?, ?it/s]"
      ]
     },
     "metadata": {},
     "output_type": "display_data"
    },
    {
     "data": {
      "image/png": "[encoded data removed]",
      "text/plain": [
       "<Figure size 432x288 with 1 Axes>"
      ]
     },
     "metadata": {},
     "output_type": "display_data"
    }
   ],
   "source": [
    "avg_cond_fdlty_arr, err_cond_fdlty_arr = bench_machine('standard_rb_single_qubit', qmachine, target_qubits, k_m, n_m)\n",
    "plot_decay(ordered_layers_arr, avg_cond_fdlty_arr, err_cond_fdlty_arr, 'standard_rb_single_qubit')"
   ]
  },
  {
   "cell_type": "markdown",
   "metadata": {},
   "source": [
    "## RB standard version (with Clifford set& non-uniform length gates blocks)"
   ]
  },
  {
   "cell_type": "code",
   "execution_count": 8,
   "metadata": {},
   "outputs": [],
   "source": [
    "# prepare_experiments('standard_rb_non_uniform_single_qubit', qmachine, target_qubits, k_m, n_m)"
   ]
  },
  {
   "cell_type": "code",
   "execution_count": 9,
   "metadata": {},
   "outputs": [],
   "source": [
    "# avg_cond_fdlty_arr, err_cond_fdlty_arr = bench_machine('standard_rb_non_uniform_single_qubit', qmachine, target_qubits, k_m, n_m)\n",
    "# plot_decay(ordered_layers_arr, avg_cond_fdlty_arr, err_cond_fdlty_arr, 'standard_rb_non_uniform_single_qubit')"
   ]
  },
  {
   "cell_type": "code",
   "execution_count": null,
   "metadata": {},
   "outputs": [],
   "source": []
  },
  {
   "cell_type": "markdown",
   "metadata": {},
   "source": [
    "## RB standard version two-qubits (with Clifford set in fixed length circuit blocks)"
   ]
  },
  {
   "cell_type": "code",
   "execution_count": null,
   "metadata": {},
   "outputs": [],
   "source": [
    "prepare_experiments('standard_rb_two_qubits', qmachine, target_qubits, k_m, n_m)"
   ]
  },
  {
   "cell_type": "code",
   "execution_count": null,
   "metadata": {},
   "outputs": [],
   "source": [
    "avg_cond_fdlty_arr, err_cond_fdlty_arr = bench_machine('standard_rb_two_qubits', qmachine, target_qubits, k_m, n_m)\n",
    "plot_decay(ordered_layers_arr, avg_cond_fdlty_arr, err_cond_fdlty_arr, 'standard_rb_two_qubits')"
   ]
  },
  {
   "cell_type": "code",
   "execution_count": null,
   "metadata": {},
   "outputs": [],
   "source": []
  },
  {
   "cell_type": "code",
   "execution_count": null,
   "metadata": {},
   "outputs": [],
   "source": []
  },
  {
   "cell_type": "code",
   "execution_count": null,
   "metadata": {},
   "outputs": [],
   "source": []
  },
  {
   "cell_type": "markdown",
   "metadata": {},
   "source": [
    "## Diamond distance"
   ]
  },
  {
   "cell_type": "code",
   "execution_count": null,
   "metadata": {},
   "outputs": [],
   "source": [
    "fig = plt.figure(dpi = 800)\n",
    "ax = fig.add_subplot()\n",
    "\n",
    "plot_decay(ordered_layers_arr[1:], avg_cond_fdlty_arr[1:], err_cond_fdlty_arr[1:],\n",
    "           ' conditional_universal_circuit', axes = ax)\n",
    "\n",
    "plt.xlabel('Depth', fontsize=18)\n",
    "plt.ylabel('Average of Fidelity', fontsize=16)\n",
    "plt.title(r'RB versions comparison ($\\epsilon = {}$)'.format(epsilon))\n",
    "\n",
    "plt.legend()\n",
    "\n",
    "# fig.savefig('RB_comparison.png')"
   ]
  },
  {
   "cell_type": "code",
   "execution_count": null,
   "metadata": {},
   "outputs": [],
   "source": []
  },
  {
   "cell_type": "code",
   "execution_count": null,
   "metadata": {},
   "outputs": [],
   "source": []
  },
  {
   "cell_type": "code",
   "execution_count": null,
   "metadata": {},
   "outputs": [],
   "source": []
  },
  {
   "cell_type": "markdown",
   "metadata": {},
   "source": [
    "r parameter for Native gateset"
   ]
  },
  {
   "cell_type": "code",
   "execution_count": null,
   "metadata": {},
   "outputs": [],
   "source": [
    "decay_param(popt_native[0], n_qubit)"
   ]
  },
  {
   "cell_type": "markdown",
   "metadata": {},
   "source": [
    "r parameter for Clifford gateset"
   ]
  },
  {
   "cell_type": "code",
   "execution_count": null,
   "metadata": {},
   "outputs": [],
   "source": [
    "decay_param(popt_std[0], n_qubit)"
   ]
  },
  {
   "cell_type": "markdown",
   "metadata": {},
   "source": [
    "r parameter for Native benchmarking new method!"
   ]
  },
  {
   "cell_type": "code",
   "execution_count": null,
   "metadata": {},
   "outputs": [],
   "source": [
    "decay_param(popt_cond[0], n_qubit)"
   ]
  },
  {
   "cell_type": "code",
   "execution_count": null,
   "metadata": {},
   "outputs": [],
   "source": []
  },
  {
   "cell_type": "code",
   "execution_count": null,
   "metadata": {},
   "outputs": [],
   "source": []
  }
 ],
 "metadata": {
  "kernelspec": {
   "display_name": "Python 3 (ipykernel)",
   "language": "python",
   "name": "python3"
  },
  "language_info": {
   "codemirror_mode": {
    "name": "ipython",
    "version": 3
   },
   "file_extension": ".py",
   "mimetype": "text/x-python",
   "name": "python",
   "nbconvert_exporter": "python",
   "pygments_lexer": "ipython3",
   "version": "3.9.12"
  }
 },
 "nbformat": 4,
 "nbformat_minor": 4
}
