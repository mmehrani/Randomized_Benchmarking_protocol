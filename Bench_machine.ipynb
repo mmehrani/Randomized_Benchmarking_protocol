{
 "cells": [
  {
   "cell_type": "code",
   "execution_count": 1,
   "metadata": {},
   "outputs": [
    {
     "name": "stderr",
     "output_type": "stream",
     "text": [
      "[TerminalIPythonApp] WARNING | Subcommand `ipython nbconvert` is deprecated and will be removed in future versions.\n",
      "[TerminalIPythonApp] WARNING | You likely want to use `jupyter nbconvert` in the future\n",
      "[NbConvertApp] Converting notebook RB_stabilizer_verification.ipynb to python\n",
      "[NbConvertApp] Writing 3085 bytes to RB_stabilizer_verification.py\n",
      "[TerminalIPythonApp] WARNING | Subcommand `ipython nbconvert` is deprecated and will be removed in future versions.\n",
      "[TerminalIPythonApp] WARNING | You likely want to use `jupyter nbconvert` in the future\n",
      "[NbConvertApp] Converting notebook RB_standard_verification.ipynb to python\n",
      "[NbConvertApp] Writing 2881 bytes to RB_standard_verification.py\n"
     ]
    }
   ],
   "source": [
    "from RB_stabilizer_verification import machine_response_stabilizer_bench\n",
    "from RB_standard_verification import machine_response_standard_bench\n",
    "from AverageFidelity import averageOfFidelity"
   ]
  },
  {
   "cell_type": "code",
   "execution_count": 2,
   "metadata": {},
   "outputs": [],
   "source": [
    "k_m = 10\n",
    "n_m = 10\n",
    "n_qubit = 2\n",
    "avg_std_fdlty_list = []\n",
    "avg_stab_fdlty_list = []"
   ]
  },
  {
   "cell_type": "code",
   "execution_count": 3,
   "metadata": {},
   "outputs": [
    {
     "ename": "TypeError",
     "evalue": "averageOfFidelity() missing 2 required positional arguments: 'k_m' and 'n_m'",
     "output_type": "error",
     "traceback": [
      "\u001b[1;31m---------------------------------------------------------------------------\u001b[0m",
      "\u001b[1;31mTypeError\u001b[0m                                 Traceback (most recent call last)",
      "\u001b[1;32m<ipython-input-3-58ff3794026a>\u001b[0m in \u001b[0;36m<module>\u001b[1;34m\u001b[0m\n\u001b[0;32m      1\u001b[0m \u001b[1;32mfor\u001b[0m \u001b[0mm\u001b[0m \u001b[1;32min\u001b[0m \u001b[0mrange\u001b[0m\u001b[1;33m(\u001b[0m\u001b[1;36m1\u001b[0m\u001b[1;33m,\u001b[0m\u001b[1;36m10\u001b[0m\u001b[1;33m)\u001b[0m\u001b[1;33m:\u001b[0m\u001b[1;33m\u001b[0m\u001b[1;33m\u001b[0m\u001b[0m\n\u001b[1;32m----> 2\u001b[1;33m     \u001b[0mavg_std_fdlty_list\u001b[0m\u001b[1;33m.\u001b[0m\u001b[0mappend\u001b[0m\u001b[1;33m(\u001b[0m \u001b[0maverageOfFidelity\u001b[0m\u001b[1;33m(\u001b[0m\u001b[0mmachine_response_standard_bench\u001b[0m\u001b[1;33m(\u001b[0m\u001b[0mn_qubit\u001b[0m\u001b[1;33m,\u001b[0m \u001b[0mm\u001b[0m\u001b[1;33m,\u001b[0m \u001b[0mk_m\u001b[0m\u001b[1;33m,\u001b[0m \u001b[0mn_m\u001b[0m\u001b[1;33m)\u001b[0m\u001b[1;33m)\u001b[0m \u001b[1;33m)\u001b[0m\u001b[1;33m\u001b[0m\u001b[1;33m\u001b[0m\u001b[0m\n\u001b[0m\u001b[0;32m      3\u001b[0m     \u001b[0mavg_stab_fdlty_list\u001b[0m\u001b[1;33m.\u001b[0m\u001b[0mappend\u001b[0m\u001b[1;33m(\u001b[0m \u001b[0maverageOfFidelity\u001b[0m\u001b[1;33m(\u001b[0m\u001b[0mmachine_response_stabilizer_bench\u001b[0m\u001b[1;33m(\u001b[0m\u001b[0mn_qubit\u001b[0m\u001b[1;33m,\u001b[0m \u001b[0mm\u001b[0m\u001b[1;33m,\u001b[0m \u001b[0mk_m\u001b[0m\u001b[1;33m,\u001b[0m \u001b[0mn_m\u001b[0m\u001b[1;33m)\u001b[0m\u001b[1;33m)\u001b[0m \u001b[1;33m)\u001b[0m\u001b[1;33m\u001b[0m\u001b[1;33m\u001b[0m\u001b[0m\n",
      "\u001b[1;31mTypeError\u001b[0m: averageOfFidelity() missing 2 required positional arguments: 'k_m' and 'n_m'"
     ]
    }
   ],
   "source": [
    "for m in range(1,10):\n",
    "    avg_std_fdlty_list.append( averageOfFidelity(machine_response_standard_bench(n_qubit, m, k_m, n_m)) )\n",
    "    avg_stab_fdlty_list.append( averageOfFidelity(machine_response_stabilizer_bench(n_qubit, m, k_m, n_m)) )"
   ]
  },
  {
   "cell_type": "code",
   "execution_count": null,
   "metadata": {},
   "outputs": [],
   "source": []
  }
 ],
 "metadata": {
  "kernelspec": {
   "display_name": "Python 3",
   "language": "python",
   "name": "python3"
  },
  "language_info": {
   "codemirror_mode": {
    "name": "ipython",
    "version": 3
   },
   "file_extension": ".py",
   "mimetype": "text/x-python",
   "name": "python",
   "nbconvert_exporter": "python",
   "pygments_lexer": "ipython3",
   "version": "3.7.6"
  }
 },
 "nbformat": 4,
 "nbformat_minor": 4
}
