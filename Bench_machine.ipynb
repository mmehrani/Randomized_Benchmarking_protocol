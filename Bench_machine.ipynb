{
 "cells": [
  {
   "cell_type": "markdown",
   "metadata": {},
   "source": [
    "# Benchmarking Qmachines with different RB protocols"
   ]
  },
  {
   "cell_type": "code",
   "execution_count": 1,
   "metadata": {},
   "outputs": [],
   "source": [
    "from IPython.display import clear_output\n",
    "# !pip install forest-benchmarking\n",
    "clear_output()"
   ]
  },
  {
   "cell_type": "code",
   "execution_count": 2,
   "metadata": {},
   "outputs": [],
   "source": [
    "from functions import *\n",
    "from pyquil import get_qc\n",
    "from pyquil import noise"
   ]
  },
  {
   "cell_type": "code",
   "execution_count": 3,
   "metadata": {},
   "outputs": [],
   "source": [
    "%%capture\n",
    "from tqdm import tqdm_notebook as tqdm\n",
    "tqdm().pandas() #This line make sure that the progress bars looks natural"
   ]
  },
  {
   "cell_type": "code",
   "execution_count": 4,
   "metadata": {},
   "outputs": [],
   "source": [
    "import matplotlib.pyplot as plt\n",
    "import os\n",
    "import numpy as np\n",
    "import seaborn as sns"
   ]
  },
  {
   "cell_type": "code",
   "execution_count": 5,
   "metadata": {},
   "outputs": [],
   "source": [
    "from scipy.optimize import curve_fit"
   ]
  },
  {
   "cell_type": "code",
   "execution_count": 6,
   "metadata": {},
   "outputs": [],
   "source": [
    "from csv import writer\n",
    "import _pickle as cPickle\n",
    "from datetime import datetime"
   ]
  },
  {
   "cell_type": "code",
   "execution_count": 7,
   "metadata": {},
   "outputs": [],
   "source": [
    "k_m = 50 #number of sequences\n",
    "n_m = 800 #number of shots\n",
    "\n",
    "# target_qubits = [0]\n",
    "# target_qubits = [41,42]\n",
    "target_qubits = [0,1]\n",
    "n_qubit = len(target_qubits)\n",
    "\n",
    "# qmachine = get_qc('Aspen-M-3', execution_timeout=200, compiler_timeout=200)\n",
    "qmachine = get_qc( str(n_qubit) + 'q-qvm')  # You can make any 'nq-qvm'"
   ]
  },
  {
   "cell_type": "markdown",
   "metadata": {},
   "source": [
    "### Depolarising noise in terms of pauli channels\n",
    "$$ \\Lambda_{dep}(\\rho) = (1-3\\lambda/4)\\rho + \\lambda/4 X^{\\dagger}\\rho X + \\lambda/4 Y^{\\dagger}\\rho Y + \\lambda/4 Z^{\\dagger}\\rho Z $$\n",
    "\n",
    "$$ \\Lambda_{dep}(\\rho) = (1-\\epsilon)\\rho + \\frac{\\epsilon}{d} I $$\n",
    "\n",
    "So if we want to have a depolarising noise channel with $\\epsilon = 0.0001$, we should define it with taking into account that $p_i = \\frac{\\epsilon}{4} $. So it gives\n",
    "\n",
    "$p_i \\approx 0.000025 $"
   ]
  },
  {
   "cell_type": "code",
   "execution_count": 8,
   "metadata": {},
   "outputs": [],
   "source": [
    "epsilon = 0.01\n",
    "p_xi = epsilon/4\n",
    "qmachine.qam.gate_noise=(p_xi,p_xi,p_xi)\n",
    "# qmachine.qam.gate_noise=(0.005,0.010,0.015)\n",
    "# qmachine.qam.gate_noise=(0,0,p_xi)"
   ]
  },
  {
   "cell_type": "code",
   "execution_count": 9,
   "metadata": {},
   "outputs": [],
   "source": [
    "noisy_machine = qmachine.name\n",
    "# noisy_machine = 'depolarising_noise' + '_epsilon{}'.format(epsilon)\n",
    "# noisy_machine = 'pauli_stochastic_noise'\n",
    "path = os.path.join( os.getcwd(), 'output_storage', noisy_machine)\n",
    "try:\n",
    "    os.makedirs( path )\n",
    "except:\n",
    "    pass"
   ]
  },
  {
   "cell_type": "code",
   "execution_count": 10,
   "metadata": {},
   "outputs": [],
   "source": [
    "ordered_layers = np.arange(1,5,1).astype('int')\n",
    "\n",
    "ordered_layers_arr = np.array( ordered_layers )\n",
    "between_layers = np.arange(ordered_layers_arr.min(),ordered_layers_arr.max()+1,1).astype('int')\n",
    "\n",
    "# bench_protocol_func_dict = {'standard':machine_response_standard_bench,\n",
    "#                             'native':machine_response_srb_native_gate,\n",
    "#                             'native_conditional':machine_response_rb_native_gate_conditional_single_qubit,\n",
    "#                             'stabilizer':machine_response_stabilizer_bench,\n",
    "#                             'random_def_unitaries':machine_response_standard_bench_random_units,\n",
    "#                            'conditional_universal_circuit':machine_response_rb_universal_two_qubits_conditional}"
   ]
  },
  {
   "cell_type": "code",
   "execution_count": 11,
   "metadata": {},
   "outputs": [],
   "source": [
    "# bench_protocol_func_dict = {'native_conditional_single_qubit':native_rigetti_single_qubit_packs_generator,\n",
    "#                            'native_conditional_conditional_two_qubits':native_universal_two_qubits_packs_generator,\n",
    "#                            'standard_rb_single_qubit':two_design_single_qubit_packs_generator,\n",
    "#                            'standard_rb_non_uniform_single_qubit':two_design_single_qubit_packs_generator_non_uniform,\n",
    "#                            'standard_rb_non_uniform_two_qubits':two_design_two_qubits_packs_generator_non_uniform}\n",
    "\n",
    "bench_protocol_func_dict = {'native_conditional_single_qubit':native_rigetti_single_qubit_packs_generator,\n",
    "                           'native_conditional_conditional_two_qubits':native_universal_two_qubits_packs_generator,\n",
    "                           'standard_rb_single_qubit':two_design_single_qubit_packs_generator,\n",
    "                           'standard_rb_two_qubits':two_design_two_qubits_packs_generator}"
   ]
  },
  {
   "cell_type": "code",
   "execution_count": 12,
   "metadata": {},
   "outputs": [],
   "source": [
    "sns.set_theme(context='paper', font= 'Serif', style = 'ticks')"
   ]
  },
  {
   "cell_type": "code",
   "execution_count": 13,
   "metadata": {},
   "outputs": [],
   "source": [
    "file_path = os.path.join(path, '{}.csv'.format(qmachine.name))\n",
    "if os.path.isfile(file_path):\n",
    "    pass\n",
    "else:\n",
    "    with open(file_path, 'w') as f_object:\n",
    "        writer_object = writer(f_object)\n",
    "        writer_object.writerow(['date', 'target qubits', 'number of sequences', 'number of shots',\n",
    "                                'protocol name', 'circuit depth', 'average of fidelity', 'error of fidelity'])\n",
    "        f_object.close()"
   ]
  },
  {
   "cell_type": "code",
   "execution_count": 14,
   "metadata": {},
   "outputs": [],
   "source": [
    "def record_this_layer(protocol_name:str, qmachine, depth:int, fidelity_average, fidelity_err):\n",
    "    List = [datetime.today().strftime('%Y-%m-%d'), target_qubits, k_m, n_m,\n",
    "            protocol_name, depth, fidelity_average, fidelity_err]\n",
    "    file_path = os.path.join(path, '{}.csv'.format(qmachine.name))\n",
    "    with open(file_path, 'a') as f_object:\n",
    "        writer_object = writer(f_object)\n",
    "        writer_object.writerow(List)\n",
    "        f_object.close()\n",
    "    return\n",
    "\n",
    "# def save_experiment(experiment, protocol_name, target_qubits, layer_num, num_of_sequences):\n",
    "#     path = os.path.join( os.getcwd(), 'experiments_warehouse', protocol_name, str(target_qubits))\n",
    "#     try:\n",
    "#         os.makedirs( path )\n",
    "#     except:\n",
    "#         pass\n",
    "    \n",
    "#     file_path = os.path.join( path, 'L{}_K{}.pickle'.format(layer_num, num_of_sequences) )\n",
    "    \n",
    "#     with open(file_path, \"wb\") as output_file:\n",
    "#         cPickle.dump(experiment, output_file)\n",
    "#     return"
   ]
  },
  {
   "cell_type": "code",
   "execution_count": 15,
   "metadata": {},
   "outputs": [],
   "source": [
    "def bench_machine(protocol_name:str, qmachine, target_qubits:list, k_m:int, n_m:int):\n",
    "    bench_protocol_func = bench_protocol_func_dict[protocol_name]\n",
    "    avg_fdlty_list = []\n",
    "    err_fdlty_list = []\n",
    "    \n",
    "    for m in tqdm(ordered_layers):\n",
    "        exps = catch_experiments(qmachine, target_qubits = target_qubits,\n",
    "                                    protocol_name=protocol_name,\n",
    "                                    layers_num=m, exp_num=k_m)\n",
    "#         save_experiment(exps, protocol_name, target_qubits, m, k_m)\n",
    "        \n",
    "        response = find_machine_response(qmachine, exps, n_m)\n",
    "        record_this_layer(protocol_name, qmachine, m, averageOfFidelity(response), stdOfFidelity(response))\n",
    "        \n",
    "        avg_fdlty_list.append( averageOfFidelity(response) )\n",
    "        err_fdlty_list.append( stdOfFidelity(response) )\n",
    "    return np.array(avg_fdlty_list), np.array(err_fdlty_list)"
   ]
  },
  {
   "cell_type": "code",
   "execution_count": 16,
   "metadata": {},
   "outputs": [],
   "source": [
    "def prepare_experiments(protocol_name:str, qmachine, target_qubits:list, k_m:int, n_m:int):\n",
    "    bench_protocol_func = bench_protocol_func_dict[protocol_name]\n",
    "    \n",
    "    for m in tqdm(ordered_layers):\n",
    "        exps = generate_experiments(qmachine, target_qubits = target_qubits,\n",
    "                                    circuit_gen_func=bench_protocol_func,\n",
    "                                    layers_num=m, exp_num=k_m)\n",
    "        save_experiment(exps, protocol_name, target_qubits, m, k_m)\n",
    "    return "
   ]
  },
  {
   "cell_type": "code",
   "execution_count": null,
   "metadata": {},
   "outputs": [],
   "source": []
  },
  {
   "cell_type": "markdown",
   "metadata": {},
   "source": [
    "# single-qubit RB with conditional prob. on native gates"
   ]
  },
  {
   "cell_type": "code",
   "execution_count": null,
   "metadata": {},
   "outputs": [],
   "source": [
    "prepare_experiments('native_conditional_single_qubit', qmachine, target_qubits, k_m, n_m)"
   ]
  },
  {
   "cell_type": "code",
   "execution_count": null,
   "metadata": {},
   "outputs": [],
   "source": [
    "avg_cond_fdlty_arr, err_cond_fdlty_arr = bench_machine('native_conditional_single_qubit', qmachine, [0], k_m, n_m)\n",
    "\n",
    "plot_decay(ordered_layers_arr, avg_cond_fdlty_arr, err_cond_fdlty_arr, 'native_conditional_single_qubit')"
   ]
  },
  {
   "cell_type": "code",
   "execution_count": null,
   "metadata": {},
   "outputs": [],
   "source": []
  },
  {
   "cell_type": "code",
   "execution_count": null,
   "metadata": {},
   "outputs": [],
   "source": [
    "avg_cond_fdlty_arr, err_cond_fdlty_arr"
   ]
  },
  {
   "cell_type": "code",
   "execution_count": null,
   "metadata": {},
   "outputs": [],
   "source": []
  },
  {
   "cell_type": "markdown",
   "metadata": {},
   "source": [
    "# RB with conditional prob. on two qubits"
   ]
  },
  {
   "cell_type": "code",
   "execution_count": null,
   "metadata": {},
   "outputs": [],
   "source": [
    "#Classical compilation process\n",
    "prepare_experiments('native_conditional_conditional_two_qubits', qmachine, target_qubits, k_m, n_m)"
   ]
  },
  {
   "cell_type": "code",
   "execution_count": null,
   "metadata": {},
   "outputs": [],
   "source": [
    "avg_cond_fdlty_arr, err_cond_fdlty_arr = bench_machine('native_conditional_conditional_two_qubits', qmachine, target_qubits, k_m, n_m)\n",
    "plot_decay(ordered_layers_arr, avg_cond_fdlty_arr, err_cond_fdlty_arr, ' native_conditional_conditional_two_qubits')"
   ]
  },
  {
   "cell_type": "code",
   "execution_count": null,
   "metadata": {},
   "outputs": [],
   "source": [
    "avg_cond_fdlty_arr"
   ]
  },
  {
   "cell_type": "code",
   "execution_count": null,
   "metadata": {},
   "outputs": [],
   "source": [
    "err_cond_fdlty_arr"
   ]
  },
  {
   "cell_type": "markdown",
   "metadata": {},
   "source": [
    "## RB standard version single qubit(with Clifford set)"
   ]
  },
  {
   "cell_type": "code",
   "execution_count": null,
   "metadata": {},
   "outputs": [],
   "source": [
    "prepare_experiments('standard_rb_single_qubit', qmachine, target_qubits, k_m, n_m)"
   ]
  },
  {
   "cell_type": "code",
   "execution_count": null,
   "metadata": {},
   "outputs": [],
   "source": [
    "avg_cond_fdlty_arr, err_cond_fdlty_arr = bench_machine('standard_rb_single_qubit', qmachine, target_qubits, k_m, n_m)\n",
    "plot_decay(ordered_layers_arr, avg_cond_fdlty_arr, err_cond_fdlty_arr, 'standard_rb_single_qubit')"
   ]
  },
  {
   "cell_type": "markdown",
   "metadata": {},
   "source": [
    "## RB standard version (with Clifford set& non-uniform length gates blocks)"
   ]
  },
  {
   "cell_type": "code",
   "execution_count": null,
   "metadata": {},
   "outputs": [],
   "source": [
    "# prepare_experiments('standard_rb_non_uniform_single_qubit', qmachine, target_qubits, k_m, n_m)"
   ]
  },
  {
   "cell_type": "code",
   "execution_count": null,
   "metadata": {},
   "outputs": [],
   "source": [
    "# avg_cond_fdlty_arr, err_cond_fdlty_arr = bench_machine('standard_rb_non_uniform_single_qubit', qmachine, target_qubits, k_m, n_m)\n",
    "# plot_decay(ordered_layers_arr, avg_cond_fdlty_arr, err_cond_fdlty_arr, 'standard_rb_non_uniform_single_qubit')"
   ]
  },
  {
   "cell_type": "code",
   "execution_count": null,
   "metadata": {},
   "outputs": [],
   "source": []
  },
  {
   "cell_type": "markdown",
   "metadata": {},
   "source": [
    "## RB standard version two-qubits (with Clifford set in fixed length circuit blocks)"
   ]
  },
  {
   "cell_type": "code",
   "execution_count": 17,
   "metadata": {},
   "outputs": [
    {
     "name": "stderr",
     "output_type": "stream",
     "text": [
      "C:\\Users\\mohsen\\AppData\\Local\\Temp\\ipykernel_16368\\1121408283.py:4: TqdmDeprecationWarning: This function will be removed in tqdm==5.0.0\n",
      "Please use `tqdm.notebook.tqdm` instead of `tqdm.tqdm_notebook`\n",
      "  for m in tqdm(ordered_layers):\n"
     ]
    },
    {
     "data": {
      "application/vnd.jupyter.widget-view+json": {
       "model_id": "cca15a80c271413b865f6e0aa46551e0",
       "version_major": 2,
       "version_minor": 0
      },
      "text/plain": [
       "  0%|          | 0/4 [00:00<?, ?it/s]"
      ]
     },
     "metadata": {},
     "output_type": "display_data"
    },
    {
     "data": {
      "application/vnd.jupyter.widget-view+json": {
       "model_id": "49c01a9f4257479bb5d8c243e12a711e",
       "version_major": 2,
       "version_minor": 0
      },
      "text/plain": [
       "exp. generation:   0%|          | 0/50 [00:00<?, ?it/s]"
      ]
     },
     "metadata": {},
     "output_type": "display_data"
    },
    {
     "name": "stderr",
     "output_type": "stream",
     "text": [
      "C:\\ProgramData\\Anaconda3\\lib\\site-packages\\scipy\\optimize\\minpack.py:175: RuntimeWarning: The iteration is not making good progress, as measured by the \n",
      "  improvement from the last ten iterations.\n",
      "  warnings.warn(msg, RuntimeWarning)\n",
      "C:\\Users\\mohsen\\Documents\\Python_pros\\git_controlled\\Randomized_Benchmarking_protocol\\functions.py:434: VisibleDeprecationWarning: Creating an ndarray from ragged nested sequences (which is a list-or-tuple of lists-or-tuples-or ndarrays with different lengths or shapes) is deprecated. If you meant to do this, you must specify 'dtype=object' when creating the ndarray.\n",
      "  qubits = np.array([np.array(gate.qubits) for gate in gates_sequence])\n",
      "C:\\ProgramData\\Anaconda3\\lib\\site-packages\\scipy\\optimize\\minpack.py:175: RuntimeWarning: The iteration is not making good progress, as measured by the \n",
      "  improvement from the last five Jacobian evaluations.\n",
      "  warnings.warn(msg, RuntimeWarning)\n"
     ]
    },
    {
     "data": {
      "application/vnd.jupyter.widget-view+json": {
       "model_id": "cd6216dc20084c9ebfa0207a80457133",
       "version_major": 2,
       "version_minor": 0
      },
      "text/plain": [
       "exp. generation:   0%|          | 0/50 [00:00<?, ?it/s]"
      ]
     },
     "metadata": {},
     "output_type": "display_data"
    },
    {
     "data": {
      "application/vnd.jupyter.widget-view+json": {
       "model_id": "0144f4df40b04ff088903014cde655da",
       "version_major": 2,
       "version_minor": 0
      },
      "text/plain": [
       "exp. generation:   0%|          | 0/50 [00:00<?, ?it/s]"
      ]
     },
     "metadata": {},
     "output_type": "display_data"
    },
    {
     "data": {
      "application/vnd.jupyter.widget-view+json": {
       "model_id": "aa234d50742b4f42b102b477bcd2ef5f",
       "version_major": 2,
       "version_minor": 0
      },
      "text/plain": [
       "exp. generation:   0%|          | 0/50 [00:00<?, ?it/s]"
      ]
     },
     "metadata": {},
     "output_type": "display_data"
    }
   ],
   "source": [
    "prepare_experiments('standard_rb_two_qubits', qmachine, target_qubits, k_m, n_m)"
   ]
  },
  {
   "cell_type": "code",
   "execution_count": 18,
   "metadata": {},
   "outputs": [
    {
     "name": "stderr",
     "output_type": "stream",
     "text": [
      "C:\\Users\\mohsen\\AppData\\Local\\Temp\\ipykernel_16368\\2088849496.py:6: TqdmDeprecationWarning: This function will be removed in tqdm==5.0.0\n",
      "Please use `tqdm.notebook.tqdm` instead of `tqdm.tqdm_notebook`\n",
      "  for m in tqdm(ordered_layers):\n"
     ]
    },
    {
     "data": {
      "application/vnd.jupyter.widget-view+json": {
       "model_id": "137b979a32ad46b7a6c12f4ef88a9c0b",
       "version_major": 2,
       "version_minor": 0
      },
      "text/plain": [
       "  0%|          | 0/4 [00:00<?, ?it/s]"
      ]
     },
     "metadata": {},
     "output_type": "display_data"
    },
    {
     "data": {
      "application/vnd.jupyter.widget-view+json": {
       "model_id": "c1a082118f2e470caa25537f8c7e3083",
       "version_major": 2,
       "version_minor": 0
      },
      "text/plain": [
       "Examing the seq.:   0%|          | 0/50 [00:00<?, ?it/s]"
      ]
     },
     "metadata": {},
     "output_type": "display_data"
    },
    {
     "data": {
      "application/vnd.jupyter.widget-view+json": {
       "model_id": "b47be71e0a094fb1b05cf18be041b8dd",
       "version_major": 2,
       "version_minor": 0
      },
      "text/plain": [
       "Examing the seq.:   0%|          | 0/50 [00:00<?, ?it/s]"
      ]
     },
     "metadata": {},
     "output_type": "display_data"
    },
    {
     "data": {
      "application/vnd.jupyter.widget-view+json": {
       "model_id": "8961d3e0b9074e1b9ea6c05245805b72",
       "version_major": 2,
       "version_minor": 0
      },
      "text/plain": [
       "Examing the seq.:   0%|          | 0/50 [00:00<?, ?it/s]"
      ]
     },
     "metadata": {},
     "output_type": "display_data"
    },
    {
     "data": {
      "application/vnd.jupyter.widget-view+json": {
       "model_id": "fbc8c726ebd84f9eb9cfcc5005389b2d",
       "version_major": 2,
       "version_minor": 0
      },
      "text/plain": [
       "Examing the seq.:   0%|          | 0/50 [00:00<?, ?it/s]"
      ]
     },
     "metadata": {},
     "output_type": "display_data"
    },
    {
     "data": {
      "image/png": "[encoded data removed]",
      "text/plain": [
       "<Figure size 432x288 with 1 Axes>"
      ]
     },
     "metadata": {},
     "output_type": "display_data"
    }
   ],
   "source": [
    "avg_cond_fdlty_arr, err_cond_fdlty_arr = bench_machine('standard_rb_two_qubits', qmachine, target_qubits, k_m, n_m)\n",
    "plot_decay(ordered_layers_arr, avg_cond_fdlty_arr, err_cond_fdlty_arr, 'standard_rb_two_qubits')"
   ]
  },
  {
   "cell_type": "code",
   "execution_count": 38,
   "metadata": {},
   "outputs": [
    {
     "data": {
      "text/plain": [
       "array([0.690925, 0.5295  , 0.42145 , 0.366075])"
      ]
     },
     "execution_count": 38,
     "metadata": {},
     "output_type": "execute_result"
    }
   ],
   "source": [
    "avg_cond_fdlty_arr"
   ]
  },
  {
   "cell_type": "code",
   "execution_count": 39,
   "metadata": {},
   "outputs": [
    {
     "data": {
      "text/plain": [
       "array([0.02842293, 0.01837287, 0.02636091, 0.0192159 ])"
      ]
     },
     "execution_count": 39,
     "metadata": {},
     "output_type": "execute_result"
    }
   ],
   "source": [
    "err_cond_fdlty_arr"
   ]
  },
  {
   "cell_type": "code",
   "execution_count": 18,
   "metadata": {},
   "outputs": [],
   "source": []
  },
  {
   "cell_type": "markdown",
   "metadata": {},
   "source": [
    "## Diamond distance"
   ]
  },
  {
   "cell_type": "code",
   "execution_count": null,
   "metadata": {},
   "outputs": [],
   "source": [
    "fig = plt.figure(dpi = 800)\n",
    "ax = fig.add_subplot()\n",
    "\n",
    "plot_decay(ordered_layers_arr[1:], avg_cond_fdlty_arr[1:], err_cond_fdlty_arr[1:],\n",
    "           ' conditional_universal_circuit', axes = ax)\n",
    "\n",
    "plt.xlabel('Depth', fontsize=18)\n",
    "plt.ylabel('Average of Fidelity', fontsize=16)\n",
    "plt.title(r'RB versions comparison ($\\epsilon = {}$)'.format(epsilon))\n",
    "\n",
    "plt.legend()\n",
    "\n",
    "# fig.savefig('RB_comparison.png')"
   ]
  },
  {
   "cell_type": "code",
   "execution_count": null,
   "metadata": {},
   "outputs": [],
   "source": [
    "unitary_to_orthogonal()"
   ]
  },
  {
   "cell_type": "code",
   "execution_count": null,
   "metadata": {},
   "outputs": [],
   "source": []
  },
  {
   "cell_type": "code",
   "execution_count": null,
   "metadata": {},
   "outputs": [],
   "source": []
  },
  {
   "cell_type": "markdown",
   "metadata": {},
   "source": [
    "r parameter for Native gateset"
   ]
  },
  {
   "cell_type": "code",
   "execution_count": null,
   "metadata": {},
   "outputs": [],
   "source": [
    "decay_param(popt_native[0], n_qubit)"
   ]
  },
  {
   "cell_type": "markdown",
   "metadata": {},
   "source": [
    "r parameter for Clifford gateset"
   ]
  },
  {
   "cell_type": "code",
   "execution_count": null,
   "metadata": {},
   "outputs": [],
   "source": [
    "decay_param(popt_std[0], n_qubit)"
   ]
  },
  {
   "cell_type": "markdown",
   "metadata": {},
   "source": [
    "r parameter for Native benchmarking new method!"
   ]
  },
  {
   "cell_type": "code",
   "execution_count": null,
   "metadata": {},
   "outputs": [],
   "source": [
    "decay_param(popt_cond[0], n_qubit)"
   ]
  },
  {
   "cell_type": "code",
   "execution_count": null,
   "metadata": {},
   "outputs": [],
   "source": []
  },
  {
   "cell_type": "code",
   "execution_count": null,
   "metadata": {},
   "outputs": [],
   "source": []
  }
 ],
 "metadata": {
  "kernelspec": {
   "display_name": "Python 3 (ipykernel)",
   "language": "python",
   "name": "python3"
  },
  "language_info": {
   "codemirror_mode": {
    "name": "ipython",
    "version": 3
   },
   "file_extension": ".py",
   "mimetype": "text/x-python",
   "name": "python",
   "nbconvert_exporter": "python",
   "pygments_lexer": "ipython3",
   "version": "3.9.12"
  }
 },
 "nbformat": 4,
 "nbformat_minor": 4
}
