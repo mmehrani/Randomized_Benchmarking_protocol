{
 "cells": [
  {
   "cell_type": "code",
   "execution_count": 1,
   "metadata": {},
   "outputs": [
    {
     "name": "stderr",
     "output_type": "stream",
     "text": [
      "[TerminalIPythonApp] WARNING | Subcommand `ipython nbconvert` is deprecated and will be removed in future versions.\n",
      "[TerminalIPythonApp] WARNING | You likely want to use `jupyter nbconvert` in the future\n",
      "[NbConvertApp] Converting notebook RB_stabilizer_verification.ipynb to notebook\n",
      "[NbConvertApp] Writing 5871 bytes to RB_stabilizer_verification.ipynb\n",
      "[NbConvertApp] WARNING | pattern 'python' matched no files\n",
      "[NbConvertApp] Converting notebook RB_standard_verification.ipynb to notebook\n",
      "[NbConvertApp] Writing 5375 bytes to RB_standard_verification.ipynb\n"
     ]
    }
   ],
   "source": [
    "from RB_stabilizer_verification import machine_response_stabilizer_bench\n",
    "from RB_standard_verification import machine_response_standard_bench\n",
    "from functions import averageOfFidelity"
   ]
  },
  {
   "cell_type": "code",
   "execution_count": 2,
   "metadata": {},
   "outputs": [],
   "source": [
    "from tqdm import tqdm"
   ]
  },
  {
   "cell_type": "code",
   "execution_count": 3,
   "metadata": {},
   "outputs": [],
   "source": [
    "k_m = 10\n",
    "n_m = 10\n",
    "n_qubit = 2\n",
    "avg_std_fdlty_list = []\n",
    "avg_stab_fdlty_list = []"
   ]
  },
  {
   "cell_type": "code",
   "execution_count": 4,
   "metadata": {},
   "outputs": [
    {
     "name": "stderr",
     "output_type": "stream",
     "text": [
      "100%|████████████████████████████████████████████████████████████████████████████████████| 9/9 [00:37<00:00,  4.13s/it]\n"
     ]
    }
   ],
   "source": [
    "for m in tqdm(range(1,10)):\n",
    "    avg_std_fdlty_list.append( averageOfFidelity(machine_response_standard_bench(n_qubit, m, k_m, n_m)) )\n",
    "    avg_stab_fdlty_list.append( averageOfFidelity(machine_response_stabilizer_bench(n_qubit, m, k_m, n_m)) )"
   ]
  },
  {
   "cell_type": "code",
   "execution_count": 5,
   "metadata": {},
   "outputs": [],
   "source": [
    "import matplotlib.pyplot as plt"
   ]
  },
  {
   "cell_type": "code",
   "execution_count": 6,
   "metadata": {},
   "outputs": [
    {
     "data": {
      "text/plain": [
       "[<matplotlib.lines.Line2D at 0x1bf4ec4dc88>]"
      ]
     },
     "execution_count": 6,
     "metadata": {},
     "output_type": "execute_result"
    },
    {
     "data": {
      "image/png": "[encoded data removed]",
      "text/plain": [
       "<Figure size 432x288 with 1 Axes>"
      ]
     },
     "metadata": {
      "needs_background": "light"
     },
     "output_type": "display_data"
    }
   ],
   "source": [
    "plt.plot(avg_std_fdlty_list)"
   ]
  },
  {
   "cell_type": "code",
   "execution_count": null,
   "metadata": {},
   "outputs": [],
   "source": []
  }
 ],
 "metadata": {
  "kernelspec": {
   "display_name": "Python 3",
   "language": "python",
   "name": "python3"
  },
  "language_info": {
   "codemirror_mode": {
    "name": "ipython",
    "version": 3
   },
   "file_extension": ".py",
   "mimetype": "text/x-python",
   "name": "python",
   "nbconvert_exporter": "python",
   "pygments_lexer": "ipython3",
   "version": "3.7.6"
  }
 },
 "nbformat": 4,
 "nbformat_minor": 4
}
