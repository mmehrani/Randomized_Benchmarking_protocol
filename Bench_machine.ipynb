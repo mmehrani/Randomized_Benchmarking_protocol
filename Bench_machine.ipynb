{
 "cells": [
  {
   "cell_type": "markdown",
   "metadata": {},
   "source": [
    "# Benchmarking Qmachines with different RB protocols"
   ]
  },
  {
   "cell_type": "code",
   "execution_count": 1,
   "metadata": {},
   "outputs": [],
   "source": [
    "from functions import *\n",
    "from pyquil import get_qc\n",
    "from pyquil import noise"
   ]
  },
  {
   "cell_type": "code",
   "execution_count": 2,
   "metadata": {},
   "outputs": [],
   "source": [
    "%%capture\n",
    "from tqdm import tqdm_notebook as tqdm\n",
    "tqdm().pandas() #This line make sure that the progress bars looks natural"
   ]
  },
  {
   "cell_type": "code",
   "execution_count": 3,
   "metadata": {},
   "outputs": [],
   "source": [
    "import matplotlib.pyplot as plt\n",
    "import os\n",
    "import numpy as np\n",
    "import seaborn as sns"
   ]
  },
  {
   "cell_type": "code",
   "execution_count": 4,
   "metadata": {},
   "outputs": [],
   "source": [
    "from scipy.optimize import curve_fit"
   ]
  },
  {
   "cell_type": "code",
   "execution_count": 5,
   "metadata": {},
   "outputs": [],
   "source": [
    "from csv import writer\n",
    "from datetime import datetime"
   ]
  },
  {
   "cell_type": "code",
   "execution_count": 52,
   "metadata": {},
   "outputs": [],
   "source": [
    "k_m = 50 #number of sequences\n",
    "n_m = 200 #number of shots\n",
    "\n",
    "target_qubits = [0,1]\n",
    "n_qubit = len(target_qubits)\n",
    "\n",
    "# qmachine = get_qc(\"Aspen-M-3\")\n",
    "qmachine = get_qc( str(n_qubit) + 'q-qvm')  # You can make any 'nq-qvm'"
   ]
  },
  {
   "cell_type": "markdown",
   "metadata": {},
   "source": [
    "### Depolarising noise in terms of pauli channels\n",
    "$$ \\Lambda_{dep}(\\rho) = (1-3\\lambda/4)\\rho + \\lambda/4 X^{\\dagger}\\rho X + \\lambda/4 Y^{\\dagger}\\rho Y + \\lambda/4 Z^{\\dagger}\\rho Z $$\n",
    "\n",
    "$$ \\Lambda_{dep}(\\rho) = (1-\\epsilon)\\rho + \\frac{\\epsilon}{d} I $$\n",
    "\n",
    "So if we want to have a depolarising noise channel with $\\epsilon = 0.0001$, we should define it with taking into account that $p_i = \\frac{\\epsilon}{4} $. So it gives\n",
    "\n",
    "$p_i \\approx 0.000025 $"
   ]
  },
  {
   "cell_type": "code",
   "execution_count": 53,
   "metadata": {},
   "outputs": [],
   "source": [
    "epsilon = 0.01\n",
    "p_xi = epsilon/4\n",
    "qmachine.qam.gate_noise=(p_xi,p_xi,p_xi)\n",
    "# qmachine.qam.gate_noise=(0,0,p_xi)"
   ]
  },
  {
   "cell_type": "code",
   "execution_count": 54,
   "metadata": {},
   "outputs": [],
   "source": [
    "# noisy_machine = qmachine.name\n",
    "noisy_machine = 'depolarising_noise' + '_epsilon{}'.format(epsilon)\n",
    "# noise_model = 'z_noise'\n",
    "path = os.path.join( os.getcwd(), 'output_storage', noisy_machine)\n",
    "try:\n",
    "    os.makedirs( path )\n",
    "except:\n",
    "    pass"
   ]
  },
  {
   "cell_type": "code",
   "execution_count": 55,
   "metadata": {},
   "outputs": [],
   "source": [
    "ordered_layers = np.arange(1,5,1).astype('int')\n",
    "\n",
    "ordered_layers_arr = np.array( ordered_layers )\n",
    "between_layers = np.arange(ordered_layers_arr.min(),ordered_layers_arr.max()+1,1).astype('int')\n",
    "\n",
    "# bench_protocol_func_dict = {'standard':machine_response_standard_bench,\n",
    "#                             'native':machine_response_srb_native_gate,\n",
    "#                             'native_conditional':machine_response_rb_native_gate_conditional_single_qubit,\n",
    "#                             'stabilizer':machine_response_stabilizer_bench,\n",
    "#                             'random_def_unitaries':machine_response_standard_bench_random_units,\n",
    "#                            'conditional_universal_circuit':machine_response_rb_universal_two_qubits_conditional}"
   ]
  },
  {
   "cell_type": "code",
   "execution_count": 56,
   "metadata": {},
   "outputs": [],
   "source": [
    "bench_protocol_func_dict = {'native_conditional_single_qubit':native_rigetti_single_qubit_packs_generator,\n",
    "                           'native_conditional_conditional_two_qubits':native_universal_two_qubits_packs_generator}"
   ]
  },
  {
   "cell_type": "code",
   "execution_count": 57,
   "metadata": {},
   "outputs": [],
   "source": [
    "sns.set_theme(context='paper', font= 'Serif', style = 'ticks')"
   ]
  },
  {
   "cell_type": "code",
   "execution_count": 58,
   "metadata": {},
   "outputs": [],
   "source": [
    "file_path = os.path.join(path, '{}.csv'.format(qmachine.name))\n",
    "if os.path.isfile(file_path):\n",
    "    pass\n",
    "else:\n",
    "    with open(file_path, 'w') as f_object:\n",
    "        writer_object = writer(f_object)\n",
    "        writer_object.writerow(['date', 'target qubits', 'number of sequences', 'number of shots',\n",
    "                                'protocol name', 'circuit depth', 'average of fidelity', 'error of fidelity'])\n",
    "        f_object.close()"
   ]
  },
  {
   "cell_type": "code",
   "execution_count": 59,
   "metadata": {},
   "outputs": [],
   "source": [
    "def record_this_layer(protocol_name:str, qmachine, depth:int, fidelity_average, fidelity_err):\n",
    "    List = [datetime.today().strftime('%Y-%m-%d'), target_qubits, k_m, n_m,\n",
    "            protocol_name, depth, fidelity_average, fidelity_err]\n",
    "    file_path = os.path.join(path, '{}.csv'.format(qmachine.name))\n",
    "    with open(file_path, 'a') as f_object:\n",
    "        writer_object = writer(f_object)\n",
    "        writer_object.writerow(List)\n",
    "        f_object.close()\n",
    "    return"
   ]
  },
  {
   "cell_type": "code",
   "execution_count": 60,
   "metadata": {},
   "outputs": [],
   "source": [
    "def bench_machine(protocol_name:str, qmachine, target_qubits:list, k_m:int, n_m:int):\n",
    "    bench_protocol_func = bench_protocol_func_dict[protocol_name]\n",
    "    avg_fdlty_list = []\n",
    "    err_fdlty_list = []\n",
    "    \n",
    "    for m in tqdm(ordered_layers):\n",
    "        exps = generate_experiments(qmachine, target_qubits = target_qubits,\n",
    "                                    circuit_gen_func=bench_protocol_func,\n",
    "                                    layers_num=m, exp_num=k_m)\n",
    "        response = find_machine_response(qmachine, exps, n_m)\n",
    "        \n",
    "#         response = bench_protocol_func(qmachine, target_qubits, m, k_m, n_m)\n",
    "        record_this_layer(protocol_name, qmachine, m, averageOfFidelity(response), stdOfFidelity(response))\n",
    "        \n",
    "        avg_fdlty_list.append( averageOfFidelity(response) )\n",
    "        err_fdlty_list.append( stdOfFidelity(response) )\n",
    "    return np.array(avg_fdlty_list), np.array(err_fdlty_list)"
   ]
  },
  {
   "cell_type": "code",
   "execution_count": null,
   "metadata": {},
   "outputs": [],
   "source": []
  },
  {
   "cell_type": "markdown",
   "metadata": {},
   "source": [
    "## RB standard version (with Clifford set)"
   ]
  },
  {
   "cell_type": "code",
   "execution_count": 61,
   "metadata": {},
   "outputs": [],
   "source": [
    "# avg_std_fdlty_arr, err_std_fdlty_arr = bench_machine('standard', qmachine, n_qubit, k_m, n_m)\n",
    "\n",
    "# popt_std, pcov_std = extrapolate_decay_func(avg_std_fdlty_arr, err_std_fdlty_arr)\n",
    "# plot_decay(ordered_layers_arr, avg_std_fdlty_arr, err_std_fdlty_arr, 'std_clifford')"
   ]
  },
  {
   "cell_type": "markdown",
   "metadata": {},
   "source": [
    "## RB stabilizer version (with Clifford set)"
   ]
  },
  {
   "cell_type": "code",
   "execution_count": 62,
   "metadata": {},
   "outputs": [],
   "source": [
    "# avg_stab_fdlty_arr, err_stab_fdlty_arr = bench_machine('stabilizer', qmachine, n_qubit, k_m, n_m)\n",
    "\n",
    "# popt_stab, pcov_stab = extrapolate_decay_func(avg_stab_fdlty_arr, err_stab_fdlty_arr)\n",
    "# plot_decay(ordered_layers_arr, avg_stab_fdlty_arr, err_stab_fdlty_arr, 'stabilizer_clifford')"
   ]
  },
  {
   "cell_type": "markdown",
   "metadata": {},
   "source": [
    "## RB standard version (with Riggetti native gate set)"
   ]
  },
  {
   "cell_type": "code",
   "execution_count": 63,
   "metadata": {},
   "outputs": [],
   "source": [
    "# avg_native_fdlty_arr, err_native_fdlty_arr = bench_machine('native', qmachine, n_qubit, k_m, n_m)\n",
    "\n",
    "# # popt_native, pcov_native = extrapolate_decay_func(avg_native_fdlty_arr, err_native_fdlty_arr)\n",
    "# plot_decay(ordered_layers_arr, avg_native_fdlty_arr, err_native_fdlty_arr, 'random_native_gates')"
   ]
  },
  {
   "cell_type": "markdown",
   "metadata": {},
   "source": [
    "## RB standard version (with arbitary random unitary set)"
   ]
  },
  {
   "cell_type": "code",
   "execution_count": 38,
   "metadata": {},
   "outputs": [],
   "source": [
    "# avg_runitary_fdlty_arr, err_runitary_fdlty_arr = bench_machine('random_def_unitaries', qmachine, n_qubit, k_m, n_m)\n",
    "\n",
    "# # popt_runitary, pcov_runitary = extrapolate_decay_func(avg_runitary_fdlty_arr, err_runitary_fdlty_arr)\n",
    "# plot_decay(ordered_layers_arr, avg_runitary_fdlty_arr, err_runitary_fdlty_arr, 'random_unitary_gates')"
   ]
  },
  {
   "cell_type": "code",
   "execution_count": null,
   "metadata": {},
   "outputs": [],
   "source": []
  },
  {
   "cell_type": "markdown",
   "metadata": {},
   "source": [
    "# single-qubit RB with conditional prob. on native gates"
   ]
  },
  {
   "cell_type": "code",
   "execution_count": 39,
   "metadata": {},
   "outputs": [
    {
     "name": "stderr",
     "output_type": "stream",
     "text": [
      "C:\\Users\\mohsen\\AppData\\Local\\Temp\\ipykernel_13748\\3990807030.py:6: TqdmDeprecationWarning: This function will be removed in tqdm==5.0.0\n",
      "Please use `tqdm.notebook.tqdm` instead of `tqdm.tqdm_notebook`\n",
      "  for m in tqdm(ordered_layers):\n"
     ]
    },
    {
     "data": {
      "application/vnd.jupyter.widget-view+json": {
       "model_id": "78b13b29cd23444d94bc8f3ceef570d0",
       "version_major": 2,
       "version_minor": 0
      },
      "text/plain": [
       "  0%|          | 0/4 [00:00<?, ?it/s]"
      ]
     },
     "metadata": {},
     "output_type": "display_data"
    },
    {
     "data": {
      "image/png": "[encoded data removed]",
      "text/plain": [
       "<Figure size 432x288 with 1 Axes>"
      ]
     },
     "metadata": {},
     "output_type": "display_data"
    }
   ],
   "source": [
    "avg_cond_fdlty_arr, err_cond_fdlty_arr = bench_machine('native_conditional_single_qubit', qmachine, [0], k_m, n_m)\n",
    "\n",
    "plot_decay(ordered_layers_arr, avg_cond_fdlty_arr, err_cond_fdlty_arr, 'native_conditional_single_qubit')"
   ]
  },
  {
   "cell_type": "code",
   "execution_count": null,
   "metadata": {},
   "outputs": [],
   "source": []
  },
  {
   "cell_type": "code",
   "execution_count": 40,
   "metadata": {},
   "outputs": [
    {
     "data": {
      "text/plain": [
       "(array([0.9532, 0.9408, 0.9208, 0.8908]),\n",
       " array([0.03114097, 0.03772744, 0.03531798, 0.04616665]))"
      ]
     },
     "execution_count": 40,
     "metadata": {},
     "output_type": "execute_result"
    }
   ],
   "source": [
    "avg_cond_fdlty_arr, err_cond_fdlty_arr"
   ]
  },
  {
   "cell_type": "code",
   "execution_count": null,
   "metadata": {},
   "outputs": [],
   "source": []
  },
  {
   "cell_type": "markdown",
   "metadata": {},
   "source": [
    "# RB with conditional prob. on two qubits"
   ]
  },
  {
   "cell_type": "code",
   "execution_count": 64,
   "metadata": {},
   "outputs": [
    {
     "name": "stderr",
     "output_type": "stream",
     "text": [
      "C:\\Users\\mohsen\\AppData\\Local\\Temp\\ipykernel_13748\\3990807030.py:6: TqdmDeprecationWarning: This function will be removed in tqdm==5.0.0\n",
      "Please use `tqdm.notebook.tqdm` instead of `tqdm.tqdm_notebook`\n",
      "  for m in tqdm(ordered_layers):\n"
     ]
    },
    {
     "data": {
      "application/vnd.jupyter.widget-view+json": {
       "model_id": "a0171e3c26bd48b692ffd456419c37e8",
       "version_major": 2,
       "version_minor": 0
      },
      "text/plain": [
       "  0%|          | 0/4 [00:00<?, ?it/s]"
      ]
     },
     "metadata": {},
     "output_type": "display_data"
    },
    {
     "name": "stderr",
     "output_type": "stream",
     "text": [
      "C:\\Users\\mohsen\\Documents\\Python_pros\\git_controlled\\Randomized_Benchmarking_protocol\\functions.py:245: VisibleDeprecationWarning: Creating an ndarray from ragged nested sequences (which is a list-or-tuple of lists-or-tuples-or ndarrays with different lengths or shapes) is deprecated. If you meant to do this, you must specify 'dtype=object' when creating the ndarray.\n",
      "  qubits = np.array([np.array(gate.qubits) for gate in gates_sequence])\n",
      "C:\\Users\\mohsen\\Documents\\Python_pros\\git_controlled\\Randomized_Benchmarking_protocol\\functions.py:282: VisibleDeprecationWarning: Creating an ndarray from ragged nested sequences (which is a list-or-tuple of lists-or-tuples-or ndarrays with different lengths or shapes) is deprecated. If you meant to do this, you must specify 'dtype=object' when creating the ndarray.\n",
      "  return np.array([circuit_gen_func(qmachine, target_qubits, layers_num) for i in range(exp_num)])\n"
     ]
    },
    {
     "data": {
      "image/png": "[encoded data removed]",
      "text/plain": [
       "<Figure size 432x288 with 1 Axes>"
      ]
     },
     "metadata": {},
     "output_type": "display_data"
    }
   ],
   "source": [
    "avg_cond_fdlty_arr, err_cond_fdlty_arr = bench_machine('native_conditional_conditional_two_qubits', qmachine, target_qubits, k_m, n_m)\n",
    "plot_decay(ordered_layers_arr, avg_cond_fdlty_arr, err_cond_fdlty_arr, ' native_conditional_conditional_two_qubits')"
   ]
  },
  {
   "cell_type": "code",
   "execution_count": 65,
   "metadata": {},
   "outputs": [
    {
     "data": {
      "text/plain": [
       "array([0.638 , 0.5466, 0.4535, 0.3937])"
      ]
     },
     "execution_count": 65,
     "metadata": {},
     "output_type": "execute_result"
    }
   ],
   "source": [
    "avg_cond_fdlty_arr"
   ]
  },
  {
   "cell_type": "code",
   "execution_count": 66,
   "metadata": {},
   "outputs": [
    {
     "data": {
      "text/plain": [
       "array([0.06867314, 0.06905389, 0.07138452, 0.06995935])"
      ]
     },
     "execution_count": 66,
     "metadata": {},
     "output_type": "execute_result"
    }
   ],
   "source": [
    "err_cond_fdlty_arr"
   ]
  },
  {
   "cell_type": "markdown",
   "metadata": {},
   "source": [
    "## Diamond distance"
   ]
  },
  {
   "cell_type": "code",
   "execution_count": null,
   "metadata": {},
   "outputs": [],
   "source": [
    "fig = plt.figure(dpi = 800)\n",
    "ax = fig.add_subplot()\n",
    "\n",
    "plot_decay(ordered_layers_arr[1:], avg_cond_fdlty_arr[1:], err_cond_fdlty_arr[1:],\n",
    "           ' conditional_universal_circuit', axes = ax)\n",
    "\n",
    "plt.xlabel('Depth', fontsize=18)\n",
    "plt.ylabel('Average of Fidelity', fontsize=16)\n",
    "plt.title(r'RB versions comparison ($\\epsilon = {}$)'.format(epsilon))\n",
    "\n",
    "plt.legend()\n",
    "\n",
    "# fig.savefig('RB_comparison.png')"
   ]
  },
  {
   "cell_type": "code",
   "execution_count": null,
   "metadata": {},
   "outputs": [],
   "source": []
  },
  {
   "cell_type": "code",
   "execution_count": null,
   "metadata": {},
   "outputs": [],
   "source": []
  },
  {
   "cell_type": "code",
   "execution_count": null,
   "metadata": {},
   "outputs": [],
   "source": []
  },
  {
   "cell_type": "markdown",
   "metadata": {},
   "source": [
    "r parameter for Native gateset"
   ]
  },
  {
   "cell_type": "code",
   "execution_count": null,
   "metadata": {},
   "outputs": [],
   "source": [
    "decay_param(popt_native[0], n_qubit)"
   ]
  },
  {
   "cell_type": "markdown",
   "metadata": {},
   "source": [
    "r parameter for Clifford gateset"
   ]
  },
  {
   "cell_type": "code",
   "execution_count": null,
   "metadata": {},
   "outputs": [],
   "source": [
    "decay_param(popt_std[0], n_qubit)"
   ]
  },
  {
   "cell_type": "markdown",
   "metadata": {},
   "source": [
    "r parameter for Native benchmarking new method!"
   ]
  },
  {
   "cell_type": "code",
   "execution_count": null,
   "metadata": {},
   "outputs": [],
   "source": [
    "decay_param(popt_cond[0], n_qubit)"
   ]
  },
  {
   "cell_type": "code",
   "execution_count": null,
   "metadata": {},
   "outputs": [],
   "source": []
  },
  {
   "cell_type": "code",
   "execution_count": null,
   "metadata": {},
   "outputs": [],
   "source": []
  }
 ],
 "metadata": {
  "kernelspec": {
   "display_name": "Python 3 (ipykernel)",
   "language": "python",
   "name": "python3"
  },
  "language_info": {
   "codemirror_mode": {
    "name": "ipython",
    "version": 3
   },
   "file_extension": ".py",
   "mimetype": "text/x-python",
   "name": "python",
   "nbconvert_exporter": "python",
   "pygments_lexer": "ipython3",
   "version": "3.9.12"
  }
 },
 "nbformat": 4,
 "nbformat_minor": 4
}
