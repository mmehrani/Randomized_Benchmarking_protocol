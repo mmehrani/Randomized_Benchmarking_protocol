{
 "cells": [
  {
   "cell_type": "markdown",
   "metadata": {},
   "source": [
    "# Benchmarking Qmachines with different RB protocols"
   ]
  },
  {
   "cell_type": "code",
   "execution_count": 1,
   "metadata": {},
   "outputs": [],
   "source": [
    "from IPython.display import clear_output\n",
    "# !pip install forest-benchmarking\n",
    "clear_output()"
   ]
  },
  {
   "cell_type": "code",
   "execution_count": 2,
   "metadata": {},
   "outputs": [],
   "source": [
    "from functions import *\n",
    "from pyquil import get_qc\n",
    "from pyquil import noise"
   ]
  },
  {
   "cell_type": "code",
   "execution_count": 3,
   "metadata": {},
   "outputs": [],
   "source": [
    "%%capture\n",
    "from tqdm import tqdm_notebook as tqdm\n",
    "tqdm().pandas() #This line make sure that the progress bars looks natural"
   ]
  },
  {
   "cell_type": "code",
   "execution_count": 4,
   "metadata": {},
   "outputs": [],
   "source": [
    "import matplotlib.pyplot as plt\n",
    "import os\n",
    "import numpy as np\n",
    "import seaborn as sns"
   ]
  },
  {
   "cell_type": "code",
   "execution_count": 5,
   "metadata": {},
   "outputs": [],
   "source": [
    "from scipy.optimize import curve_fit"
   ]
  },
  {
   "cell_type": "code",
   "execution_count": 6,
   "metadata": {},
   "outputs": [],
   "source": [
    "from csv import writer\n",
    "import _pickle as cPickle\n",
    "from datetime import datetime"
   ]
  },
  {
   "cell_type": "code",
   "execution_count": 7,
   "metadata": {},
   "outputs": [],
   "source": [
    "k_m = 200 #number of sequences\n",
    "n_m = 200 #number of shots\n",
    "\n",
    "# target_qubits = [0]\n",
    "# target_qubits = [41,42]\n",
    "target_qubits = [0,1]\n",
    "n_qubit = len(target_qubits)\n",
    "\n",
    "# qmachine = get_qc('Aspen-M-3', execution_timeout=200, compiler_timeout=200)\n",
    "qmachine = get_qc( str(n_qubit) + 'q-qvm', execution_timeout=200, compiler_timeout=200)  # You can make any 'nq-qvm'"
   ]
  },
  {
   "cell_type": "markdown",
   "metadata": {},
   "source": [
    "### Depolarising noise in terms of pauli channels\n",
    "$$ \\Lambda_{dep}(\\rho) = (1-3\\lambda/4)\\rho + \\lambda/4 X^{\\dagger}\\rho X + \\lambda/4 Y^{\\dagger}\\rho Y + \\lambda/4 Z^{\\dagger}\\rho Z $$\n",
    "\n",
    "$$ \\Lambda_{dep}(\\rho) = (1-\\epsilon)\\rho + \\frac{\\epsilon}{d} I $$\n",
    "\n",
    "So if we want to have a depolarising noise channel with $\\epsilon = 0.0001$, we should define it with taking into account that $p_i = \\frac{\\epsilon}{4} $. So it gives\n",
    "\n",
    "$p_i \\approx 0.000025 $"
   ]
  },
  {
   "cell_type": "code",
   "execution_count": 8,
   "metadata": {},
   "outputs": [],
   "source": [
    "# epsilon = 0.01\n",
    "# p_xi = epsilon/4\n",
    "# qmachine.qam.gate_noise=(p_xi,p_xi,p_xi)\n",
    "# qmachine.qam.gate_noise=(0.005,0.010,0.015)\n",
    "# qmachine.qam.gate_noise=(0,0,p_xi)"
   ]
  },
  {
   "cell_type": "code",
   "execution_count": 9,
   "metadata": {},
   "outputs": [],
   "source": [
    "# noisy_machine = qmachine.name\n",
    "noisy_machine = qmachine.name + '_corrupted_cz_damp_0.1_depol_0.1'\n",
    "# noisy_machine = 'depolarising_noise' + '_epsilon{}'.format(epsilon)\n",
    "# noisy_machine = 'pauli_stochastic_noise'\n",
    "path = os.path.join( os.getcwd(), 'output_storage', noisy_machine)\n",
    "try:\n",
    "    os.makedirs( path )\n",
    "except:\n",
    "    pass"
   ]
  },
  {
   "cell_type": "code",
   "execution_count": 10,
   "metadata": {},
   "outputs": [],
   "source": [
    "ordered_layers = np.arange(1,25,3).astype('int')\n",
    "\n",
    "ordered_layers_arr = np.array( ordered_layers )\n",
    "between_layers = np.arange(ordered_layers_arr.min(),ordered_layers_arr.max()+1,1).astype('int')"
   ]
  },
  {
   "cell_type": "code",
   "execution_count": 11,
   "metadata": {},
   "outputs": [],
   "source": [
    "bench_protocol_func_dict = {'native_conditional_single_qubit':native_rigetti_single_qubit_packs_generator,\n",
    "                           'native_conditional_conditional_two_qubits':native_universal_two_qubits_packs_generator,\n",
    "                           'standard_rb_single_qubit':two_design_single_qubit_packs_generator,\n",
    "                           'standard_rb_two_qubits':two_design_two_qubits_packs_generator}"
   ]
  },
  {
   "cell_type": "code",
   "execution_count": 12,
   "metadata": {},
   "outputs": [],
   "source": [
    "sns.set_theme(context='paper', font= 'Serif', style = 'ticks')"
   ]
  },
  {
   "cell_type": "code",
   "execution_count": 13,
   "metadata": {},
   "outputs": [],
   "source": [
    "file_path = os.path.join(path, '{}.csv'.format(qmachine.name))\n",
    "if os.path.isfile(file_path):\n",
    "    pass\n",
    "else:\n",
    "    with open(file_path, 'w') as f_object:\n",
    "        writer_object = writer(f_object)\n",
    "        writer_object.writerow(['date', 'target qubits', 'number of sequences', 'number of shots',\n",
    "                                'protocol name', 'circuit depth', 'average of fidelity', 'error of fidelity'])\n",
    "        f_object.close()"
   ]
  },
  {
   "cell_type": "code",
   "execution_count": 14,
   "metadata": {},
   "outputs": [],
   "source": [
    "def record_this_layer(protocol_name:str, qmachine, depth:int, fidelity_average, fidelity_err):\n",
    "    List = [datetime.today().strftime('%Y-%m-%d'), target_qubits, k_m, n_m,\n",
    "            protocol_name, depth, fidelity_average, fidelity_err]\n",
    "    file_path = os.path.join(path, '{}.csv'.format(qmachine.name))\n",
    "    with open(file_path, 'a') as f_object:\n",
    "        writer_object = writer(f_object)\n",
    "        writer_object.writerow(List)\n",
    "        f_object.close()\n",
    "    return"
   ]
  },
  {
   "cell_type": "code",
   "execution_count": 15,
   "metadata": {},
   "outputs": [],
   "source": [
    "def bench_machine(protocol_name:str, qmachine, target_qubits:list, k_m:int, n_m:int):\n",
    "    bench_protocol_func = bench_protocol_func_dict[protocol_name]\n",
    "    avg_fdlty_list = []\n",
    "    err_fdlty_list = []\n",
    "    \n",
    "    for m in tqdm(ordered_layers):\n",
    "        exps = catch_experiments(qmachine, target_qubits = target_qubits,\n",
    "                                    protocol_name=protocol_name,\n",
    "                                    layers_num=m, exp_num=k_m)\n",
    "        \n",
    "        response = find_machine_response(qmachine, exps, n_m)\n",
    "        record_this_layer(protocol_name, qmachine, m, averageOfFidelity(response), stdOfFidelity(response))\n",
    "        \n",
    "        avg_fdlty_list.append( averageOfFidelity(response) )\n",
    "        err_fdlty_list.append( stdOfFidelity(response) )\n",
    "    return np.array(avg_fdlty_list), np.array(err_fdlty_list)"
   ]
  },
  {
   "cell_type": "code",
   "execution_count": 16,
   "metadata": {},
   "outputs": [],
   "source": [
    "# def bench_machine(protocol_name:str, qmachine, target_qubits:list, k_m:int, n_m:int):\n",
    "#     bench_protocol_func = bench_protocol_func_dict[protocol_name]\n",
    "#     avg_fdlty_list = []\n",
    "#     err_fdlty_list = []\n",
    "    \n",
    "#     for m in tqdm(ordered_layers):\n",
    "#         exps = catch_experiments(qmachine, target_qubits = target_qubits,\n",
    "#                                     protocol_name=protocol_name,\n",
    "#                                     layers_num=m, exp_num=k_m)\n",
    "        \n",
    "#         response = find_noisy_machine_response(qmachine, exps, n_m)\n",
    "#         record_this_layer(protocol_name, qmachine, m, averageOfFidelity(response), stdOfFidelity(response))\n",
    "        \n",
    "#         avg_fdlty_list.append( averageOfFidelity(response) )\n",
    "#         err_fdlty_list.append( stdOfFidelity(response) )\n",
    "#     return np.array(avg_fdlty_list), np.array(err_fdlty_list)"
   ]
  },
  {
   "cell_type": "code",
   "execution_count": 17,
   "metadata": {},
   "outputs": [],
   "source": [
    "def prepare_experiments(protocol_name:str, qmachine, target_qubits:list, k_m:int, n_m:int):\n",
    "    bench_protocol_func = bench_protocol_func_dict[protocol_name]\n",
    "    \n",
    "    for m in tqdm(ordered_layers):\n",
    "        exps = generate_experiments(qmachine, target_qubits = target_qubits,\n",
    "                                    circuit_gen_func=bench_protocol_func,\n",
    "                                    layers_num=m, exp_num=k_m)\n",
    "        save_experiment(exps, protocol_name, target_qubits, m, k_m)\n",
    "    return "
   ]
  },
  {
   "cell_type": "code",
   "execution_count": null,
   "metadata": {},
   "outputs": [],
   "source": []
  },
  {
   "cell_type": "markdown",
   "metadata": {},
   "source": [
    "# single-qubit RB with conditional prob. on native gates"
   ]
  },
  {
   "cell_type": "code",
   "execution_count": 24,
   "metadata": {
    "scrolled": true
   },
   "outputs": [
    {
     "name": "stderr",
     "output_type": "stream",
     "text": [
      "C:\\Users\\mohsen\\AppData\\Local\\Temp\\ipykernel_9212\\1121408283.py:4: TqdmDeprecationWarning: This function will be removed in tqdm==5.0.0\n",
      "Please use `tqdm.notebook.tqdm` instead of `tqdm.tqdm_notebook`\n",
      "  for m in tqdm(ordered_layers):\n"
     ]
    },
    {
     "data": {
      "application/vnd.jupyter.widget-view+json": {
       "model_id": "409626885e66451a91e5af6e769cd61d",
       "version_major": 2,
       "version_minor": 0
      },
      "text/plain": [
       "  0%|          | 0/13 [00:00<?, ?it/s]"
      ]
     },
     "metadata": {},
     "output_type": "display_data"
    },
    {
     "data": {
      "application/vnd.jupyter.widget-view+json": {
       "model_id": "acd68c022ab943f4a5c20275c3687bfc",
       "version_major": 2,
       "version_minor": 0
      },
      "text/plain": [
       "exp. generation:   0%|          | 0/200 [00:00<?, ?it/s]"
      ]
     },
     "metadata": {},
     "output_type": "display_data"
    },
    {
     "ename": "TypeError",
     "evalue": "qubit should be an int or Qubit or QubitPlaceholder instance",
     "output_type": "error",
     "traceback": [
      "\u001b[1;31m---------------------------------------------------------------------------\u001b[0m",
      "\u001b[1;31mTypeError\u001b[0m                                 Traceback (most recent call last)",
      "Input \u001b[1;32mIn [24]\u001b[0m, in \u001b[0;36m<cell line: 1>\u001b[1;34m()\u001b[0m\n\u001b[1;32m----> 1\u001b[0m \u001b[43mprepare_experiments\u001b[49m\u001b[43m(\u001b[49m\u001b[38;5;124;43m'\u001b[39;49m\u001b[38;5;124;43mnative_conditional_single_qubit\u001b[39;49m\u001b[38;5;124;43m'\u001b[39;49m\u001b[43m,\u001b[49m\u001b[43m \u001b[49m\u001b[43mqmachine\u001b[49m\u001b[43m,\u001b[49m\u001b[43m \u001b[49m\u001b[43mtarget_qubits\u001b[49m\u001b[43m,\u001b[49m\u001b[43m \u001b[49m\u001b[43mk_m\u001b[49m\u001b[43m,\u001b[49m\u001b[43m \u001b[49m\u001b[43mn_m\u001b[49m\u001b[43m)\u001b[49m\n",
      "Input \u001b[1;32mIn [23]\u001b[0m, in \u001b[0;36mprepare_experiments\u001b[1;34m(protocol_name, qmachine, target_qubits, k_m, n_m)\u001b[0m\n\u001b[0;32m      2\u001b[0m bench_protocol_func \u001b[38;5;241m=\u001b[39m bench_protocol_func_dict[protocol_name]\n\u001b[0;32m      4\u001b[0m \u001b[38;5;28;01mfor\u001b[39;00m m \u001b[38;5;129;01min\u001b[39;00m tqdm(ordered_layers):\n\u001b[1;32m----> 5\u001b[0m     exps \u001b[38;5;241m=\u001b[39m \u001b[43mgenerate_experiments\u001b[49m\u001b[43m(\u001b[49m\u001b[43mqmachine\u001b[49m\u001b[43m,\u001b[49m\u001b[43m \u001b[49m\u001b[43mtarget_qubits\u001b[49m\u001b[43m \u001b[49m\u001b[38;5;241;43m=\u001b[39;49m\u001b[43m \u001b[49m\u001b[43mtarget_qubits\u001b[49m\u001b[43m,\u001b[49m\n\u001b[0;32m      6\u001b[0m \u001b[43m                                \u001b[49m\u001b[43mcircuit_gen_func\u001b[49m\u001b[38;5;241;43m=\u001b[39;49m\u001b[43mbench_protocol_func\u001b[49m\u001b[43m,\u001b[49m\n\u001b[0;32m      7\u001b[0m \u001b[43m                                \u001b[49m\u001b[43mlayers_num\u001b[49m\u001b[38;5;241;43m=\u001b[39;49m\u001b[43mm\u001b[49m\u001b[43m,\u001b[49m\u001b[43m \u001b[49m\u001b[43mexp_num\u001b[49m\u001b[38;5;241;43m=\u001b[39;49m\u001b[43mk_m\u001b[49m\u001b[43m)\u001b[49m\n\u001b[0;32m      8\u001b[0m     save_experiment(exps, protocol_name, target_qubits, m, k_m)\n\u001b[0;32m      9\u001b[0m \u001b[38;5;28;01mreturn\u001b[39;00m\n",
      "File \u001b[1;32m~\\Documents\\Python_pros\\git_controlled\\Randomized_Benchmarking_protocol\\functions.py:927\u001b[0m, in \u001b[0;36mgenerate_experiments\u001b[1;34m(qmachine, target_qubits, circuit_gen_func, layers_num, exp_num)\u001b[0m\n\u001b[0;32m    925\u001b[0m exp_list \u001b[38;5;241m=\u001b[39m []\n\u001b[0;32m    926\u001b[0m \u001b[38;5;28;01mfor\u001b[39;00m i \u001b[38;5;129;01min\u001b[39;00m tqdm(\u001b[38;5;28mrange\u001b[39m(exp_num), desc\u001b[38;5;241m=\u001b[39m\u001b[38;5;124m'\u001b[39m\u001b[38;5;124mexp. generation\u001b[39m\u001b[38;5;124m'\u001b[39m):\n\u001b[1;32m--> 927\u001b[0m     exp_list\u001b[38;5;241m.\u001b[39mappend(\u001b[43mcircuit_gen_func\u001b[49m\u001b[43m(\u001b[49m\u001b[43mqmachine\u001b[49m\u001b[43m,\u001b[49m\u001b[43m \u001b[49m\u001b[43mtarget_qubits\u001b[49m\u001b[43m,\u001b[49m\u001b[43m \u001b[49m\u001b[43mlayers_num\u001b[49m\u001b[43m)\u001b[49m)\n\u001b[0;32m    929\u001b[0m \u001b[38;5;28;01mreturn\u001b[39;00m exp_list\n",
      "File \u001b[1;32m~\\Documents\\Python_pros\\git_controlled\\Randomized_Benchmarking_protocol\\functions.py:212\u001b[0m, in \u001b[0;36mnative_rigetti_single_qubit_packs_generator\u001b[1;34m(qmachine, target_qubit, num_layer)\u001b[0m\n\u001b[0;32m    209\u001b[0m     omega, phi \u001b[38;5;241m=\u001b[39m np\u001b[38;5;241m.\u001b[39mrandom\u001b[38;5;241m.\u001b[39muniform(\u001b[38;5;241m0\u001b[39m, \u001b[38;5;241m2\u001b[39m \u001b[38;5;241m*\u001b[39m np\u001b[38;5;241m.\u001b[39mpi, size\u001b[38;5;241m=\u001b[39m\u001b[38;5;241m2\u001b[39m)\n\u001b[0;32m    210\u001b[0m     theta \u001b[38;5;241m=\u001b[39m np\u001b[38;5;241m.\u001b[39mrandom\u001b[38;5;241m.\u001b[39mchoice(angles, p\u001b[38;5;241m=\u001b[39mnp\u001b[38;5;241m.\u001b[39msin(angles) \u001b[38;5;241m/\u001b[39m np\u001b[38;5;241m.\u001b[39msum(np\u001b[38;5;241m.\u001b[39msin(angles)))\n\u001b[1;32m--> 212\u001b[0m     list_gates\u001b[38;5;241m.\u001b[39mextend(\u001b[43marbitary_single_qubit_circuit\u001b[49m\u001b[43m(\u001b[49m\u001b[43momega\u001b[49m\u001b[43m,\u001b[49m\u001b[43m \u001b[49m\u001b[43mtheta\u001b[49m\u001b[43m,\u001b[49m\u001b[43m \u001b[49m\u001b[43mphi\u001b[49m\u001b[43m,\u001b[49m\u001b[43m \u001b[49m\u001b[43mtarget_qubit\u001b[49m\u001b[43m)\u001b[49m)\n\u001b[0;32m    214\u001b[0m list_gates\u001b[38;5;241m.\u001b[39mextend(get_inverse_circuit(qmachine, list_gates))\n\u001b[0;32m    215\u001b[0m \u001b[38;5;28;01mreturn\u001b[39;00m list_gates\n",
      "File \u001b[1;32m~\\Documents\\Python_pros\\git_controlled\\Randomized_Benchmarking_protocol\\functions.py:590\u001b[0m, in \u001b[0;36marbitary_single_qubit_circuit\u001b[1;34m(phi, theta, omega, qubit)\u001b[0m\n\u001b[0;32m    574\u001b[0m \u001b[38;5;28;01mdef\u001b[39;00m \u001b[38;5;21marbitary_single_qubit_circuit\u001b[39m(phi, theta, omega, qubit):\n\u001b[0;32m    575\u001b[0m     \u001b[38;5;124;03m\"\"\"\u001b[39;00m\n\u001b[0;32m    576\u001b[0m \u001b[38;5;124;03m    Creates an arbitrary single-qubit circuit program.\u001b[39;00m\n\u001b[0;32m    577\u001b[0m \n\u001b[1;32m   (...)\u001b[0m\n\u001b[0;32m    588\u001b[0m \n\u001b[0;32m    589\u001b[0m \u001b[38;5;124;03m    \"\"\"\u001b[39;00m\n\u001b[1;32m--> 590\u001b[0m     draft_circuit \u001b[38;5;241m=\u001b[39m Program([\u001b[43mRZ\u001b[49m\u001b[43m(\u001b[49m\u001b[43mphi\u001b[49m\u001b[43m,\u001b[49m\u001b[43m \u001b[49m\u001b[43mqubit\u001b[49m\u001b[38;5;241;43m=\u001b[39;49m\u001b[43mqubit\u001b[49m\u001b[43m)\u001b[49m,\n\u001b[0;32m    591\u001b[0m                             RX(np\u001b[38;5;241m.\u001b[39mpi\u001b[38;5;241m/\u001b[39m\u001b[38;5;241m2\u001b[39m, qubit\u001b[38;5;241m=\u001b[39mqubit),\n\u001b[0;32m    592\u001b[0m                             RZ(theta, qubit\u001b[38;5;241m=\u001b[39mqubit),\n\u001b[0;32m    593\u001b[0m                             RX(\u001b[38;5;241m-\u001b[39mnp\u001b[38;5;241m.\u001b[39mpi\u001b[38;5;241m/\u001b[39m\u001b[38;5;241m2\u001b[39m, qubit\u001b[38;5;241m=\u001b[39mqubit),\n\u001b[0;32m    594\u001b[0m                             RZ(omega, qubit\u001b[38;5;241m=\u001b[39mqubit)])\n\u001b[0;32m    595\u001b[0m     \u001b[38;5;28;01mreturn\u001b[39;00m draft_circuit\n",
      "File \u001b[1;32mC:\\ProgramData\\Anaconda3\\lib\\site-packages\\pyquil\\gates.py:268\u001b[0m, in \u001b[0;36mRZ\u001b[1;34m(angle, qubit)\u001b[0m\n\u001b[0;32m    256\u001b[0m \u001b[38;5;28;01mdef\u001b[39;00m \u001b[38;5;21mRZ\u001b[39m(angle: ParameterDesignator, qubit: QubitDesignator) \u001b[38;5;241m-\u001b[39m\u001b[38;5;241m>\u001b[39m Gate:\n\u001b[0;32m    257\u001b[0m     \u001b[38;5;124;03m\"\"\"Produces the RZ gate::\u001b[39;00m\n\u001b[0;32m    258\u001b[0m \n\u001b[0;32m    259\u001b[0m \u001b[38;5;124;03m        RZ(phi) = [[cos(phi / 2) - 1j * sin(phi / 2), 0]\u001b[39;00m\n\u001b[1;32m   (...)\u001b[0m\n\u001b[0;32m    266\u001b[0m \u001b[38;5;124;03m    :returns: A Gate object.\u001b[39;00m\n\u001b[0;32m    267\u001b[0m \u001b[38;5;124;03m    \"\"\"\u001b[39;00m\n\u001b[1;32m--> 268\u001b[0m     \u001b[38;5;28;01mreturn\u001b[39;00m Gate(name\u001b[38;5;241m=\u001b[39m\u001b[38;5;124m\"\u001b[39m\u001b[38;5;124mRZ\u001b[39m\u001b[38;5;124m\"\u001b[39m, params\u001b[38;5;241m=\u001b[39m[angle], qubits\u001b[38;5;241m=\u001b[39m[\u001b[43munpack_qubit\u001b[49m\u001b[43m(\u001b[49m\u001b[43mqubit\u001b[49m\u001b[43m)\u001b[49m])\n",
      "File \u001b[1;32mC:\\ProgramData\\Anaconda3\\lib\\site-packages\\pyquil\\quilatom.py:177\u001b[0m, in \u001b[0;36munpack_qubit\u001b[1;34m(qubit)\u001b[0m\n\u001b[0;32m    175\u001b[0m     \u001b[38;5;28;01mreturn\u001b[39;00m qubit\n\u001b[0;32m    176\u001b[0m \u001b[38;5;28;01melse\u001b[39;00m:\n\u001b[1;32m--> 177\u001b[0m     \u001b[38;5;28;01mraise\u001b[39;00m \u001b[38;5;167;01mTypeError\u001b[39;00m(\u001b[38;5;124m\"\u001b[39m\u001b[38;5;124mqubit should be an int or Qubit or QubitPlaceholder instance\u001b[39m\u001b[38;5;124m\"\u001b[39m)\n",
      "\u001b[1;31mTypeError\u001b[0m: qubit should be an int or Qubit or QubitPlaceholder instance"
     ]
    }
   ],
   "source": [
    "prepare_experiments('native_conditional_single_qubit', qmachine, target_qubits, k_m, n_m)"
   ]
  },
  {
   "cell_type": "code",
   "execution_count": null,
   "metadata": {},
   "outputs": [],
   "source": [
    "avg_cond_fdlty_arr, err_cond_fdlty_arr = bench_machine('native_conditional_single_qubit', qmachine, [0], k_m, n_m)\n",
    "\n",
    "plot_decay(ordered_layers_arr, avg_cond_fdlty_arr, err_cond_fdlty_arr, 'native_conditional_single_qubit')"
   ]
  },
  {
   "cell_type": "code",
   "execution_count": null,
   "metadata": {},
   "outputs": [],
   "source": [
    "avg_cond_fdlty_arr, err_cond_fdlty_arr"
   ]
  },
  {
   "cell_type": "code",
   "execution_count": null,
   "metadata": {},
   "outputs": [],
   "source": []
  },
  {
   "cell_type": "markdown",
   "metadata": {},
   "source": [
    "# RB with conditional prob. on two qubits"
   ]
  },
  {
   "cell_type": "code",
   "execution_count": 45,
   "metadata": {
    "scrolled": true
   },
   "outputs": [
    {
     "name": "stderr",
     "output_type": "stream",
     "text": [
      "C:\\Users\\mohsen\\AppData\\Local\\Temp\\ipykernel_12720\\1121408283.py:4: TqdmDeprecationWarning: This function will be removed in tqdm==5.0.0\n",
      "Please use `tqdm.notebook.tqdm` instead of `tqdm.tqdm_notebook`\n",
      "  for m in tqdm(ordered_layers):\n"
     ]
    },
    {
     "data": {
      "application/vnd.jupyter.widget-view+json": {
       "model_id": "f5c77cc15d2c44458250c7fcba344534",
       "version_major": 2,
       "version_minor": 0
      },
      "text/plain": [
       "  0%|          | 0/13 [00:00<?, ?it/s]"
      ]
     },
     "metadata": {},
     "output_type": "display_data"
    },
    {
     "data": {
      "application/vnd.jupyter.widget-view+json": {
       "model_id": "82ba08009d1042c5bd30b88726ce8fec",
       "version_major": 2,
       "version_minor": 0
      },
      "text/plain": [
       "exp. generation:   0%|          | 0/200 [00:00<?, ?it/s]"
      ]
     },
     "metadata": {},
     "output_type": "display_data"
    },
    {
     "name": "stderr",
     "output_type": "stream",
     "text": [
      "C:\\Users\\mohsen\\Documents\\Python_pros\\git_controlled\\Randomized_Benchmarking_protocol\\functions.py:691: VisibleDeprecationWarning: Creating an ndarray from ragged nested sequences (which is a list-or-tuple of lists-or-tuples-or ndarrays with different lengths or shapes) is deprecated. If you meant to do this, you must specify 'dtype=object' when creating the ndarray.\n",
      "  qubits = np.array([np.array(gate.qubits) for gate in gates_sequence])\n"
     ]
    },
    {
     "data": {
      "application/vnd.jupyter.widget-view+json": {
       "model_id": "8295caf8f586490ea8afed7e75cfaa0d",
       "version_major": 2,
       "version_minor": 0
      },
      "text/plain": [
       "exp. generation:   0%|          | 0/200 [00:00<?, ?it/s]"
      ]
     },
     "metadata": {},
     "output_type": "display_data"
    },
    {
     "data": {
      "application/vnd.jupyter.widget-view+json": {
       "model_id": "cee53940e79d43f7b95762b3309e3f59",
       "version_major": 2,
       "version_minor": 0
      },
      "text/plain": [
       "exp. generation:   0%|          | 0/200 [00:00<?, ?it/s]"
      ]
     },
     "metadata": {},
     "output_type": "display_data"
    },
    {
     "data": {
      "application/vnd.jupyter.widget-view+json": {
       "model_id": "254466a115224b54ad903af99fea75bb",
       "version_major": 2,
       "version_minor": 0
      },
      "text/plain": [
       "exp. generation:   0%|          | 0/200 [00:00<?, ?it/s]"
      ]
     },
     "metadata": {},
     "output_type": "display_data"
    },
    {
     "data": {
      "application/vnd.jupyter.widget-view+json": {
       "model_id": "4081e71bb1df43c7ae874e41a3b3b242",
       "version_major": 2,
       "version_minor": 0
      },
      "text/plain": [
       "exp. generation:   0%|          | 0/200 [00:00<?, ?it/s]"
      ]
     },
     "metadata": {},
     "output_type": "display_data"
    },
    {
     "data": {
      "application/vnd.jupyter.widget-view+json": {
       "model_id": "3ba181b2519547cdaaa2d06d7724d431",
       "version_major": 2,
       "version_minor": 0
      },
      "text/plain": [
       "exp. generation:   0%|          | 0/200 [00:00<?, ?it/s]"
      ]
     },
     "metadata": {},
     "output_type": "display_data"
    },
    {
     "data": {
      "application/vnd.jupyter.widget-view+json": {
       "model_id": "4c1f45624748488682ebd029b7ddbd25",
       "version_major": 2,
       "version_minor": 0
      },
      "text/plain": [
       "exp. generation:   0%|          | 0/200 [00:00<?, ?it/s]"
      ]
     },
     "metadata": {},
     "output_type": "display_data"
    },
    {
     "data": {
      "application/vnd.jupyter.widget-view+json": {
       "model_id": "25cc6e340b6c4a86850a33df3dfb4f04",
       "version_major": 2,
       "version_minor": 0
      },
      "text/plain": [
       "exp. generation:   0%|          | 0/200 [00:00<?, ?it/s]"
      ]
     },
     "metadata": {},
     "output_type": "display_data"
    },
    {
     "data": {
      "application/vnd.jupyter.widget-view+json": {
       "model_id": "342f755b54e54107aabe200028c7f9e6",
       "version_major": 2,
       "version_minor": 0
      },
      "text/plain": [
       "exp. generation:   0%|          | 0/200 [00:00<?, ?it/s]"
      ]
     },
     "metadata": {},
     "output_type": "display_data"
    },
    {
     "data": {
      "application/vnd.jupyter.widget-view+json": {
       "model_id": "7a17a02ad5e34812bf33b436ef223014",
       "version_major": 2,
       "version_minor": 0
      },
      "text/plain": [
       "exp. generation:   0%|          | 0/200 [00:00<?, ?it/s]"
      ]
     },
     "metadata": {},
     "output_type": "display_data"
    },
    {
     "data": {
      "application/vnd.jupyter.widget-view+json": {
       "model_id": "58cf79ab0a2847689d1d52ac6bd29675",
       "version_major": 2,
       "version_minor": 0
      },
      "text/plain": [
       "exp. generation:   0%|          | 0/200 [00:00<?, ?it/s]"
      ]
     },
     "metadata": {},
     "output_type": "display_data"
    },
    {
     "data": {
      "application/vnd.jupyter.widget-view+json": {
       "model_id": "195e1075f0bf4c7a98c18c3674eec1d6",
       "version_major": 2,
       "version_minor": 0
      },
      "text/plain": [
       "exp. generation:   0%|          | 0/200 [00:00<?, ?it/s]"
      ]
     },
     "metadata": {},
     "output_type": "display_data"
    },
    {
     "data": {
      "application/vnd.jupyter.widget-view+json": {
       "model_id": "4bab17bc0839455ab5aa7256adbb8e12",
       "version_major": 2,
       "version_minor": 0
      },
      "text/plain": [
       "exp. generation:   0%|          | 0/200 [00:00<?, ?it/s]"
      ]
     },
     "metadata": {},
     "output_type": "display_data"
    }
   ],
   "source": [
    "#Classical compilation process\n",
    "prepare_experiments('native_conditional_conditional_two_qubits', qmachine, target_qubits, k_m, n_m)"
   ]
  },
  {
   "cell_type": "code",
   "execution_count": 18,
   "metadata": {
    "scrolled": true
   },
   "outputs": [
    {
     "name": "stderr",
     "output_type": "stream",
     "text": [
      "C:\\Users\\mohsen\\AppData\\Local\\Temp\\ipykernel_13360\\563478415.py:6: TqdmDeprecationWarning: This function will be removed in tqdm==5.0.0\n",
      "Please use `tqdm.notebook.tqdm` instead of `tqdm.tqdm_notebook`\n",
      "  for m in tqdm(ordered_layers):\n"
     ]
    },
    {
     "data": {
      "application/vnd.jupyter.widget-view+json": {
       "model_id": "7c812b544d0a4627baf9bb8bc527e8a6",
       "version_major": 2,
       "version_minor": 0
      },
      "text/plain": [
       "  0%|          | 0/8 [00:00<?, ?it/s]"
      ]
     },
     "metadata": {},
     "output_type": "display_data"
    },
    {
     "name": "stderr",
     "output_type": "stream",
     "text": [
      "C:\\Users\\mohsen\\Documents\\Python_pros\\git_controlled\\Randomized_Benchmarking_protocol\\functions.py:691: VisibleDeprecationWarning: Creating an ndarray from ragged nested sequences (which is a list-or-tuple of lists-or-tuples-or ndarrays with different lengths or shapes) is deprecated. If you meant to do this, you must specify 'dtype=object' when creating the ndarray.\n",
      "  qubits = np.array([np.array(gate.qubits) for gate in gates_sequence])\n"
     ]
    },
    {
     "data": {
      "application/vnd.jupyter.widget-view+json": {
       "model_id": "dbab8a64215b4e48bec33d24b1f71a26",
       "version_major": 2,
       "version_minor": 0
      },
      "text/plain": [
       "Examing the seq.:   0%|          | 0/200 [00:00<?, ?it/s]"
      ]
     },
     "metadata": {},
     "output_type": "display_data"
    },
    {
     "data": {
      "application/vnd.jupyter.widget-view+json": {
       "model_id": "db2815b57bb941a68fc5c1e8f0680392",
       "version_major": 2,
       "version_minor": 0
      },
      "text/plain": [
       "Examing the seq.:   0%|          | 0/200 [00:00<?, ?it/s]"
      ]
     },
     "metadata": {},
     "output_type": "display_data"
    },
    {
     "data": {
      "application/vnd.jupyter.widget-view+json": {
       "model_id": "f807a86e524f4fd0975e189eef8a418a",
       "version_major": 2,
       "version_minor": 0
      },
      "text/plain": [
       "Examing the seq.:   0%|          | 0/200 [00:00<?, ?it/s]"
      ]
     },
     "metadata": {},
     "output_type": "display_data"
    },
    {
     "data": {
      "application/vnd.jupyter.widget-view+json": {
       "model_id": "26b539470ca2411591301752d759c797",
       "version_major": 2,
       "version_minor": 0
      },
      "text/plain": [
       "Examing the seq.:   0%|          | 0/200 [00:00<?, ?it/s]"
      ]
     },
     "metadata": {},
     "output_type": "display_data"
    },
    {
     "data": {
      "application/vnd.jupyter.widget-view+json": {
       "model_id": "30476249ab4c4ef0bad462003f40bf6e",
       "version_major": 2,
       "version_minor": 0
      },
      "text/plain": [
       "Examing the seq.:   0%|          | 0/200 [00:00<?, ?it/s]"
      ]
     },
     "metadata": {},
     "output_type": "display_data"
    },
    {
     "data": {
      "application/vnd.jupyter.widget-view+json": {
       "model_id": "0e397693c6cb4deb99d2d5c6c6773344",
       "version_major": 2,
       "version_minor": 0
      },
      "text/plain": [
       "Examing the seq.:   0%|          | 0/200 [00:00<?, ?it/s]"
      ]
     },
     "metadata": {},
     "output_type": "display_data"
    },
    {
     "data": {
      "application/vnd.jupyter.widget-view+json": {
       "model_id": "0d3f60ab68524456a4e8a60dace31711",
       "version_major": 2,
       "version_minor": 0
      },
      "text/plain": [
       "Examing the seq.:   0%|          | 0/200 [00:00<?, ?it/s]"
      ]
     },
     "metadata": {},
     "output_type": "display_data"
    },
    {
     "data": {
      "application/vnd.jupyter.widget-view+json": {
       "model_id": "679fab2ac67b46ffa84af21352eb2c49",
       "version_major": 2,
       "version_minor": 0
      },
      "text/plain": [
       "Examing the seq.:   0%|          | 0/200 [00:00<?, ?it/s]"
      ]
     },
     "metadata": {},
     "output_type": "display_data"
    },
    {
     "data": {
      "image/png": "[encoded data removed]",
      "text/plain": [
       "<Figure size 432x288 with 1 Axes>"
      ]
     },
     "metadata": {},
     "output_type": "display_data"
    }
   ],
   "source": [
    "avg_cond_fdlty_arr, err_cond_fdlty_arr = bench_machine('native_conditional_conditional_two_qubits', qmachine, target_qubits, k_m, n_m)\n",
    "plot_decay(ordered_layers_arr, avg_cond_fdlty_arr, err_cond_fdlty_arr, ' native_conditional_conditional_two_qubits')"
   ]
  },
  {
   "cell_type": "code",
   "execution_count": 33,
   "metadata": {},
   "outputs": [
    {
     "data": {
      "text/plain": [
       "array([0.9748, 0.948 , 0.8972, 0.8688, 0.826 , 0.8084])"
      ]
     },
     "execution_count": 33,
     "metadata": {},
     "output_type": "execute_result"
    }
   ],
   "source": [
    "avg_cond_fdlty_arr"
   ]
  },
  {
   "cell_type": "code",
   "execution_count": 34,
   "metadata": {},
   "outputs": [
    {
     "data": {
      "text/plain": [
       "array([0.0222027 , 0.03298485, 0.040002  , 0.04769235, 0.05385165,\n",
       "       0.0541243 ])"
      ]
     },
     "execution_count": 34,
     "metadata": {},
     "output_type": "execute_result"
    }
   ],
   "source": [
    "err_cond_fdlty_arr"
   ]
  },
  {
   "cell_type": "markdown",
   "metadata": {},
   "source": [
    "## RB standard version single qubit(with Clifford set)"
   ]
  },
  {
   "cell_type": "code",
   "execution_count": null,
   "metadata": {},
   "outputs": [],
   "source": [
    "prepare_experiments('standard_rb_single_qubit', qmachine, target_qubits, k_m, n_m)"
   ]
  },
  {
   "cell_type": "code",
   "execution_count": null,
   "metadata": {
    "scrolled": true
   },
   "outputs": [],
   "source": [
    "avg_tdesign_fdlty_arr, err_tdesign_fdlty_arr = bench_machine('standard_rb_single_qubit', qmachine, target_qubits, k_m, n_m)\n",
    "plot_decay(ordered_layers_arr, avg_tdesign_fdlty_arr, err_tdesign_fdlty_arr, 'standard_rb_single_qubit')"
   ]
  },
  {
   "cell_type": "code",
   "execution_count": null,
   "metadata": {},
   "outputs": [],
   "source": [
    "avg_tdesign_fdlty_arr, err_tdesign_fdlty_arr"
   ]
  },
  {
   "cell_type": "markdown",
   "metadata": {},
   "source": [
    "## RB standard version (with Clifford set& non-uniform length gates blocks)"
   ]
  },
  {
   "cell_type": "code",
   "execution_count": null,
   "metadata": {},
   "outputs": [],
   "source": [
    "# prepare_experiments('standard_rb_non_uniform_single_qubit', qmachine, target_qubits, k_m, n_m)"
   ]
  },
  {
   "cell_type": "code",
   "execution_count": null,
   "metadata": {},
   "outputs": [],
   "source": [
    "# avg_cond_fdlty_arr, err_cond_fdlty_arr = bench_machine('standard_rb_non_uniform_single_qubit', qmachine, target_qubits, k_m, n_m)\n",
    "# plot_decay(ordered_layers_arr, avg_cond_fdlty_arr, err_cond_fdlty_arr, 'standard_rb_non_uniform_single_qubit')"
   ]
  },
  {
   "cell_type": "code",
   "execution_count": null,
   "metadata": {},
   "outputs": [],
   "source": []
  },
  {
   "cell_type": "markdown",
   "metadata": {},
   "source": [
    "## RB standard version two-qubits (with Clifford set in fixed length circuit blocks)"
   ]
  },
  {
   "cell_type": "code",
   "execution_count": null,
   "metadata": {
    "scrolled": false
   },
   "outputs": [],
   "source": [
    "prepare_experiments('standard_rb_two_qubits', qmachine, target_qubits, k_m, n_m)"
   ]
  },
  {
   "cell_type": "code",
   "execution_count": null,
   "metadata": {},
   "outputs": [],
   "source": [
    "avg_cond_fdlty_arr, err_cond_fdlty_arr = bench_machine('standard_rb_two_qubits', qmachine, target_qubits, k_m, n_m)\n",
    "plot_decay(ordered_layers_arr, avg_cond_fdlty_arr, err_cond_fdlty_arr, 'standard_rb_two_qubits')"
   ]
  },
  {
   "cell_type": "code",
   "execution_count": null,
   "metadata": {},
   "outputs": [],
   "source": [
    "avg_cond_fdlty_arr"
   ]
  },
  {
   "cell_type": "code",
   "execution_count": null,
   "metadata": {},
   "outputs": [],
   "source": [
    "err_cond_fdlty_arr"
   ]
  },
  {
   "cell_type": "code",
   "execution_count": null,
   "metadata": {},
   "outputs": [],
   "source": []
  },
  {
   "cell_type": "markdown",
   "metadata": {},
   "source": [
    "## Diamond distance"
   ]
  },
  {
   "cell_type": "code",
   "execution_count": null,
   "metadata": {},
   "outputs": [],
   "source": [
    "fig = plt.figure(dpi = 800)\n",
    "ax = fig.add_subplot()\n",
    "\n",
    "plot_decay(ordered_layers_arr[1:], avg_cond_fdlty_arr[1:], err_cond_fdlty_arr[1:],\n",
    "           ' conditional_universal_circuit', axes = ax)\n",
    "\n",
    "plt.xlabel('Depth', fontsize=18)\n",
    "plt.ylabel('Average of Fidelity', fontsize=16)\n",
    "plt.title(r'RB versions comparison ($\\epsilon = {}$)'.format(epsilon))\n",
    "\n",
    "plt.legend()\n",
    "\n",
    "# fig.savefig('RB_comparison.png')"
   ]
  },
  {
   "cell_type": "code",
   "execution_count": null,
   "metadata": {},
   "outputs": [],
   "source": [
    "unitary_to_orthogonal()"
   ]
  },
  {
   "cell_type": "code",
   "execution_count": null,
   "metadata": {},
   "outputs": [],
   "source": []
  },
  {
   "cell_type": "code",
   "execution_count": null,
   "metadata": {},
   "outputs": [],
   "source": []
  },
  {
   "cell_type": "markdown",
   "metadata": {},
   "source": [
    "r parameter for Native gateset"
   ]
  },
  {
   "cell_type": "code",
   "execution_count": null,
   "metadata": {},
   "outputs": [],
   "source": [
    "decay_param(popt_native[0], n_qubit)"
   ]
  },
  {
   "cell_type": "markdown",
   "metadata": {},
   "source": [
    "r parameter for Clifford gateset"
   ]
  },
  {
   "cell_type": "code",
   "execution_count": null,
   "metadata": {},
   "outputs": [],
   "source": [
    "decay_param(popt_std[0], n_qubit)"
   ]
  },
  {
   "cell_type": "markdown",
   "metadata": {},
   "source": [
    "r parameter for Native benchmarking new method!"
   ]
  },
  {
   "cell_type": "code",
   "execution_count": null,
   "metadata": {},
   "outputs": [],
   "source": [
    "decay_param(popt_cond[0], n_qubit)"
   ]
  },
  {
   "cell_type": "code",
   "execution_count": null,
   "metadata": {},
   "outputs": [],
   "source": []
  },
  {
   "cell_type": "code",
   "execution_count": null,
   "metadata": {},
   "outputs": [],
   "source": []
  }
 ],
 "metadata": {
  "kernelspec": {
   "display_name": "Python 3 (ipykernel)",
   "language": "python",
   "name": "python3"
  },
  "language_info": {
   "codemirror_mode": {
    "name": "ipython",
    "version": 3
   },
   "file_extension": ".py",
   "mimetype": "text/x-python",
   "name": "python",
   "nbconvert_exporter": "python",
   "pygments_lexer": "ipython3",
   "version": "3.9.12"
  }
 },
 "nbformat": 4,
 "nbformat_minor": 4
}
