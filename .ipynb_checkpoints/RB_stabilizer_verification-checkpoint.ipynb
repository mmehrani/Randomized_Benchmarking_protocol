{
 "cells": [
  {
   "cell_type": "markdown",
   "metadata": {},
   "source": [
    "# Randomized Benchmarking with Stabilizer Verification"
   ]
  },
  {
   "cell_type": "code",
   "execution_count": 1,
   "metadata": {},
   "outputs": [],
   "source": [
    "from pyquil import get_qc, Program\n",
    "from pyquil.gates import *\n",
    "from pyquil.api import local_forest_runtime\n",
    "from pyquil.quilbase import Declare\n",
    "from pyquil.simulation.tools import lifted_gate, program_unitary\n",
    "from pyquil.quil import *"
   ]
  },
  {
   "cell_type": "code",
   "execution_count": 2,
   "metadata": {},
   "outputs": [],
   "source": [
    "import numpy as np\n",
    "import random\n",
    "from functions import averageOfFidelity, qvirtual_machine, qreal_machine"
   ]
  },
  {
   "cell_type": "code",
   "execution_count": 3,
   "metadata": {},
   "outputs": [],
   "source": [
    "if __name__ == \"__main__\":\n",
    "    num_qubits = 3\n",
    "    #First step choose m and the K_m sequences of Clifford group\n",
    "    m = 5\n",
    "    k_m = 10 #n. of diff sequences\n",
    "    n_m = 10  #n. of samples from a certain sequence\n"
   ]
  },
  {
   "cell_type": "code",
   "execution_count": 4,
   "metadata": {},
   "outputs": [],
   "source": [
    "def generate_clifford_group(num_qubits):\n",
    "    #The glossary of Clifford gates\n",
    "    clifford_glossary = []\n",
    "    clifford_glossary.extend([CNOT(i,j) for i in range(num_qubits) for j in range(num_qubits)])\n",
    "    for i in range(num_qubits): clifford_glossary.remove(CNOT(i,i))\n",
    "    clifford_glossary.extend([H(i) for i in range(num_qubits)])\n",
    "    clifford_glossary.extend([S(i) for i in range(num_qubits)])\n",
    "    return clifford_glossary"
   ]
  },
  {
   "cell_type": "code",
   "execution_count": 5,
   "metadata": {},
   "outputs": [],
   "source": [
    "def stab_transform(current_stab, gate_in_circuit):\n",
    "    if gate_in_circuit.name == 'H':\n",
    "        performing_qubit = gate_in_circuit.qubits[0].index #since it is a single-qubit\n",
    "        if current_stab[performing_qubit].name == 'Z':\n",
    "            current_stab[performing_qubit] = X(performing_qubit)\n",
    "        elif current_stab[performing_qubit].name == 'X':\n",
    "            current_stab[performing_qubit] = Z(performing_qubit)\n",
    "        elif current_stab[performing_qubit].name == 'Y':\n",
    "            current_stab[performing_qubit] = Y(performing_qubit)\n",
    "        elif current_stab[performing_qubit].name == 'I':\n",
    "            current_stab[performing_qubit] = I(performing_qubit)\n",
    "        else:\n",
    "            print(gate_in_circuit.name, current_stab)\n",
    "            raise Exception('This is the exception you expect to handle')\n",
    "    \n",
    "    elif gate_in_circuit.name == 'S':\n",
    "        performing_qubit = gate_in_circuit.qubits[0].index #since it is a single-qubit\n",
    "        if current_stab[performing_qubit].name == 'Z':\n",
    "            current_stab[performing_qubit] = Z(performing_qubit)\n",
    "        elif current_stab[performing_qubit].name == 'X':\n",
    "            current_stab[performing_qubit] = Y(performing_qubit)\n",
    "        elif current_stab[performing_qubit].name == 'Y':\n",
    "            current_stab[performing_qubit] = X(performing_qubit)\n",
    "        elif current_stab[performing_qubit].name == 'I':\n",
    "            current_stab[performing_qubit] = I(performing_qubit)\n",
    "        else:\n",
    "            print(gate_in_circuit.name, current_stab)\n",
    "            raise Exception('This is the exception you expect to handle')\n",
    "\n",
    "            \n",
    "    elif gate_in_circuit.name == 'CNOT':\n",
    "        performing_qubits = [qubit.index for qubit in gate_in_circuit.qubits] #since it is a single-qubit\n",
    "        stabs_names = [qubit.name for qubit in current_stab[performing_qubits]]\n",
    "        if stabs_names == ['Z','I']:\n",
    "            current_stab[performing_qubits] = [Z(performing_qubits[0]), I(performing_qubits[1])]\n",
    "        elif stabs_names == ['X','I']:\n",
    "            current_stab[performing_qubits] = [X(performing_qubits[0]), X(performing_qubits[1])]\n",
    "        elif stabs_names == ['Y','I']:\n",
    "            current_stab[performing_qubits] = [Y(performing_qubits[0]), X(performing_qubits[1])]\n",
    "        elif stabs_names == ['I','I']:\n",
    "            current_stab[performing_qubits] = [I(performing_qubits[0]), I(performing_qubits[1])]\n",
    "\n",
    "        elif stabs_names == ['Z','Z']:\n",
    "            current_stab[performing_qubits] = [I(performing_qubits[0]), Z(performing_qubits[1])]\n",
    "        elif stabs_names == ['X','Z']:\n",
    "            current_stab[performing_qubits] = [Y(performing_qubits[0]), Y(performing_qubits[1])]\n",
    "        elif stabs_names == ['Y','Z']:\n",
    "            current_stab[performing_qubits] = [X(performing_qubits[0]), Y(performing_qubits[1])]\n",
    "        elif stabs_names == ['I','Z']:\n",
    "            current_stab[performing_qubits] = [Z(performing_qubits[0]), Z(performing_qubits[1])]\n",
    "\n",
    "        elif stabs_names == ['Z','X']:\n",
    "            current_stab[performing_qubits] = [Z(performing_qubits[0]), X(performing_qubits[1])]\n",
    "        elif stabs_names == ['X','X']:\n",
    "            current_stab[performing_qubits] = [X(performing_qubits[0]), I(performing_qubits[1])]\n",
    "        elif stabs_names == ['Y','X']:\n",
    "            current_stab[performing_qubits] = [Y(performing_qubits[0]), I(performing_qubits[1])]\n",
    "        elif stabs_names == ['I','X']:\n",
    "            current_stab[performing_qubits] = [I(performing_qubits[0]), X(performing_qubits[1])]\n",
    "\n",
    "        elif stabs_names == ['Z','Y']:\n",
    "            current_stab[performing_qubits] = [I(performing_qubits[0]), Y(performing_qubits[1])]\n",
    "        elif stabs_names == ['X','Y']:\n",
    "            current_stab[performing_qubits] = [Y(performing_qubits[0]), Z(performing_qubits[1])]\n",
    "        elif stabs_names == ['Y','Y']:\n",
    "            current_stab[performing_qubits] = [X(performing_qubits[0]), Z(performing_qubits[1])]\n",
    "        elif stabs_names == ['I','Y']:\n",
    "            current_stab[performing_qubits] = [Z(performing_qubits[0]), Y(performing_qubits[1])]\n",
    "        else:\n",
    "            print(gate_in_circuit.name, current_stab)\n",
    "            raise Exception('This is the exception you expect to handle')\n",
    "    else:\n",
    "        print(gate_in_circuit.name, current_stab)\n",
    "        raise Exception('This is the exception you expect to handle')\n",
    "    return current_stab\n",
    "\n",
    "def update_stabilizer(init_stab, gates_sequence):\n",
    "    stab = init_stab\n",
    "    for layer in gates_sequence:\n",
    "        stab = stab_transform( stab, layer )\n",
    "    return stab"
   ]
  },
  {
   "cell_type": "code",
   "execution_count": 6,
   "metadata": {},
   "outputs": [],
   "source": [
    "def machine_response_stabilizer_bench(qmachine, num_qubits, m, k_m, n_m):\n",
    "    \"\"\"\n",
    "    It samples and record the accept or reject of the machine.\n",
    "    ::return response_matrix including accepts and rejects in columns\n",
    "    \"\"\"\n",
    "    response_matrix = np.zeros((k_m,n_m))\n",
    "    clifford_glossary = generate_clifford_group(num_qubits)\n",
    "    \n",
    "    for i_sequ in range(k_m):\n",
    "        c_jm =  random.choices(clifford_glossary, k = m)\n",
    "        #compute the unitary of circuit U\n",
    "        prog = Program() #All qubits begin with |0> state\n",
    "        for gate in c_jm:\n",
    "            prog += gate\n",
    "\n",
    "        c_jm_unitary = program_unitary(prog, n_qubits= num_qubits)\n",
    "\n",
    "        initial_stabilizer = []\n",
    "        for q_num in range(num_qubits):\n",
    "            initial_stabilizer.append( np.random.choice([Z(q_num), Z(q_num)]) )\n",
    "        stabilizer_layer = update_stabilizer( np.array(initial_stabilizer), c_jm )\n",
    "        \n",
    "        prog+= Program(*stabilizer_layer)\n",
    "        \n",
    "        #Measurments\n",
    "        ro = prog.declare('ro', 'BIT', num_qubits)\n",
    "        for q in range(num_qubits):\n",
    "            prog += MEASURE(q, ro[q])\n",
    "\n",
    "        prog = prog.wrap_in_numshots_loop(n_m)\n",
    "\n",
    "        #Run the program\n",
    "#         qc = get_qc( str(num_qubits) + 'q-qvm')  # You can make any 'nq-qvm'\n",
    "        executable = qmachine.compile(prog)\n",
    "        result = qmachine.run(executable)\n",
    "        measured_outcome = result.readout_data.get('ro')\n",
    "\n",
    "        response_matrix[i_sequ,:] = 1 - np.bool_(np.sum(measured_outcome, axis = 1)) # 1 if it is equal to n_zero state\n",
    "    \n",
    "    return response_matrix\n",
    "    "
   ]
  },
  {
   "cell_type": "code",
   "execution_count": 7,
   "metadata": {},
   "outputs": [],
   "source": [
    "# qc = get_qc( str(num_qubits) + 'q-qvm')  # You can make any 'nq-qvm'"
   ]
  },
  {
   "cell_type": "code",
   "execution_count": 8,
   "metadata": {},
   "outputs": [],
   "source": [
    "# machine_response_stabilizer_bench(qc,num_qubits, m, k_m, n_m)"
   ]
  },
  {
   "cell_type": "code",
   "execution_count": 9,
   "metadata": {},
   "outputs": [
    {
     "name": "stderr",
     "output_type": "stream",
     "text": [
      "[TerminalIPythonApp] WARNING | Subcommand `ipython nbconvert` is deprecated and will be removed in future versions.\n",
      "[TerminalIPythonApp] WARNING | You likely want to use `jupyter nbconvert` in the future\n",
      "[NbConvertApp] Converting notebook RB_stabilizer_verification.ipynb to python\n",
      "[NbConvertApp] Writing 7422 bytes to RB_stabilizer_verification.py\n"
     ]
    }
   ],
   "source": [
    "if __name__ == \"__main__\":\n",
    "    !ipython nbconvert --to python RB_stabilizer_verification.ipynb"
   ]
  },
  {
   "cell_type": "code",
   "execution_count": null,
   "metadata": {},
   "outputs": [],
   "source": []
  },
  {
   "cell_type": "code",
   "execution_count": null,
   "metadata": {},
   "outputs": [],
   "source": []
  },
  {
   "cell_type": "code",
   "execution_count": null,
   "metadata": {},
   "outputs": [],
   "source": []
  }
 ],
 "metadata": {
  "kernelspec": {
   "display_name": "Python 3 (ipykernel)",
   "language": "python",
   "name": "python3"
  },
  "language_info": {
   "codemirror_mode": {
    "name": "ipython",
    "version": 3
   },
   "file_extension": ".py",
   "mimetype": "text/x-python",
   "name": "python",
   "nbconvert_exporter": "python",
   "pygments_lexer": "ipython3",
   "version": "3.9.7"
  }
 },
 "nbformat": 4,
 "nbformat_minor": 4
}
