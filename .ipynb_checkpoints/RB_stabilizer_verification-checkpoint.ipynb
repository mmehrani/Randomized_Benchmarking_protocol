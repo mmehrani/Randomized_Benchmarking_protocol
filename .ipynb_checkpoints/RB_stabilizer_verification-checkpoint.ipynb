{
 "cells": [
  {
   "cell_type": "markdown",
   "metadata": {},
   "source": [
    "# Randomized Benchmarking with Stabilizer Verification"
   ]
  },
  {
   "cell_type": "code",
   "execution_count": 1,
   "metadata": {},
   "outputs": [],
   "source": [
    "from pyquil import get_qc, Program\n",
    "from pyquil.gates import CNOT, Z, H,S, MEASURE, I\n",
    "from pyquil.api import local_forest_runtime\n",
    "from pyquil.quilbase import Declare\n",
    "from pyquil.simulation.tools import lifted_gate, program_unitary\n",
    "from pyquil.quil import *"
   ]
  },
  {
   "cell_type": "code",
   "execution_count": 2,
   "metadata": {},
   "outputs": [],
   "source": [
    "import numpy as np\n",
    "import random\n",
    "from AverageFidelity import averageOfFidelity"
   ]
  },
  {
   "cell_type": "code",
   "execution_count": 3,
   "metadata": {},
   "outputs": [],
   "source": [
    "num_qubits = 2"
   ]
  },
  {
   "cell_type": "code",
   "execution_count": 4,
   "metadata": {},
   "outputs": [],
   "source": [
    "#The glossary of Clifford gates\n",
    "clifford_glossary = []\n",
    "clifford_glossary.extend([CNOT(i,j) for i in range(num_qubits) for j in range(num_qubits)])\n",
    "for i in range(num_qubits): clifford_glossary.remove(CNOT(i,i))\n",
    "clifford_glossary.extend([H(i) for i in range(num_qubits)])\n",
    "clifford_glossary.extend([S(i) for i in range(num_qubits)])"
   ]
  },
  {
   "cell_type": "code",
   "execution_count": 5,
   "metadata": {},
   "outputs": [
    {
     "data": {
      "text/plain": [
       "4"
      ]
     },
     "execution_count": 5,
     "metadata": {},
     "output_type": "execute_result"
    }
   ],
   "source": [
    "len(clifford_glossary)"
   ]
  },
  {
   "cell_type": "code",
   "execution_count": 6,
   "metadata": {},
   "outputs": [],
   "source": [
    "#First step choose m and the K_m sequences of Clifford group\n",
    "m = 10\n",
    "k_m = 10 #n. of diff sequences\n",
    "n_m = 10  #n. of samples from a certain sequence\n",
    "response_matrix = np.zeros((k_m,n_m))\n",
    "\n",
    "for i_sequ in range(k_m):\n",
    "    c_jm =  random.choices(clifford_glossary, k = m)\n",
    "    #compute the unitary of circuit U\n",
    "    prog = Program() #All qubits begin with |0> state\n",
    "    for gate in c_jm:\n",
    "        prog += gate\n",
    "\n",
    "    c_jm_unitary = program_unitary(prog, n_qubits= num_qubits)\n",
    "\n",
    "    #report one random adapted stabilizer\n",
    "    s_i = np.identity(2**num_qubits)\n",
    "    for q_num in range(num_qubits):\n",
    "        s_i = np.matmul( lifted_gate( np.random.choice([I(q_num), Z(q_num)]), n_qubits = num_qubits ), s_i )\n",
    "    s_i = np.matmul(np.matmul(c_jm_unitary, s_i), np.conj(c_jm_unitary) )\n",
    "    stab_i_definition = DefGate(\"STAB_i\", s_i)\n",
    "    STAB_i = stab_i_definition.get_constructor() # Get the gate constructor\n",
    "\n",
    "    n_tuple = tuple(range(num_qubits))\n",
    "    prog += Program( stab_i_definition, STAB_i(*n_tuple) )\n",
    "\n",
    "    #Measurments\n",
    "    ro = prog.declare('ro', 'BIT', num_qubits)\n",
    "    for q in range(num_qubits):\n",
    "        prog += MEASURE(q, ro[q])\n",
    "\n",
    "    prog = prog.wrap_in_numshots_loop(n_m)\n",
    "    \n",
    "    #Run the program\n",
    "    qc = get_qc( str(num_qubits) + 'q-qvm')  # You can make any 'nq-qvm'\n",
    "    executable = qc.compile(prog)\n",
    "    result = qc.run(executable)\n",
    "    measured_outcome = result.readout_data.get('ro')\n",
    "    \n",
    "    response_matrix[i_sequ,:] = 1 - np.bool_(np.sum(measured_outcome, axis = 1)) # 1 if it is equal to n_zero state\n",
    "    \n",
    "\n",
    "    \n",
    "    \n"
   ]
  },
  {
   "cell_type": "code",
   "execution_count": 7,
   "metadata": {},
   "outputs": [
    {
     "name": "stdout",
     "output_type": "stream",
     "text": [
      "DEFGATE STAB_i:\n",
      "    1.0, 0.0, 0.0, 0.0\n",
      "    0.0, 0.0, 1.0, 0.0\n",
      "    0.0, 0.0, 0.0, 1.0\n",
      "    0.0, 1.0, 0.0, 0.0\n",
      "\n",
      "CNOT 0 1\n",
      "S 0\n",
      "S 0\n",
      "S 1\n",
      "S 1\n",
      "CNOT 1 0\n",
      "S 1\n",
      "S 1\n",
      "CNOT 1 0\n",
      "CNOT 1 0\n",
      "STAB_i 0 1\n",
      "DECLARE ro BIT[2]\n",
      "MEASURE 0 ro[0]\n",
      "MEASURE 1 ro[1]\n",
      "\n"
     ]
    }
   ],
   "source": [
    "print(prog)"
   ]
  },
  {
   "cell_type": "code",
   "execution_count": 8,
   "metadata": {},
   "outputs": [
    {
     "data": {
      "text/plain": [
       "array([[ 1.+0.j,  0.+0.j,  0.+0.j,  0.+0.j],\n",
       "       [ 0.+0.j,  0.+0.j,  0.+0.j, -1.+0.j],\n",
       "       [ 0.+0.j, -1.+0.j,  0.+0.j,  0.+0.j],\n",
       "       [ 0.+0.j,  0.+0.j,  1.+0.j,  0.+0.j]])"
      ]
     },
     "execution_count": 8,
     "metadata": {},
     "output_type": "execute_result"
    }
   ],
   "source": [
    "c_jm_unitary"
   ]
  },
  {
   "cell_type": "code",
   "execution_count": 9,
   "metadata": {},
   "outputs": [
    {
     "data": {
      "text/plain": [
       "array([[1., 1., 1., 1., 1., 1., 1., 1., 1., 1.],\n",
       "       [1., 1., 1., 1., 1., 1., 1., 1., 1., 1.],\n",
       "       [1., 1., 1., 1., 1., 1., 1., 1., 1., 1.],\n",
       "       [1., 1., 1., 1., 1., 1., 1., 1., 1., 1.],\n",
       "       [1., 1., 1., 1., 1., 1., 1., 1., 1., 1.],\n",
       "       [1., 1., 1., 1., 1., 1., 1., 1., 1., 1.],\n",
       "       [1., 1., 1., 1., 1., 1., 1., 1., 1., 1.],\n",
       "       [1., 1., 1., 1., 1., 1., 1., 1., 1., 1.],\n",
       "       [1., 1., 1., 1., 1., 1., 1., 1., 1., 1.],\n",
       "       [1., 1., 1., 1., 1., 1., 1., 1., 1., 1.]])"
      ]
     },
     "execution_count": 9,
     "metadata": {},
     "output_type": "execute_result"
    }
   ],
   "source": [
    "response_matrix"
   ]
  },
  {
   "cell_type": "code",
   "execution_count": 10,
   "metadata": {},
   "outputs": [
    {
     "data": {
      "text/plain": [
       "1"
      ]
     },
     "execution_count": 10,
     "metadata": {},
     "output_type": "execute_result"
    }
   ],
   "source": [
    "averageOfFidelity(response_matrix, k_m, n_m)"
   ]
  },
  {
   "cell_type": "code",
   "execution_count": null,
   "metadata": {},
   "outputs": [],
   "source": []
  },
  {
   "cell_type": "code",
   "execution_count": null,
   "metadata": {},
   "outputs": [],
   "source": []
  },
  {
   "cell_type": "code",
   "execution_count": null,
   "metadata": {},
   "outputs": [],
   "source": []
  },
  {
   "cell_type": "code",
   "execution_count": null,
   "metadata": {},
   "outputs": [],
   "source": []
  },
  {
   "cell_type": "code",
   "execution_count": null,
   "metadata": {},
   "outputs": [],
   "source": []
  }
 ],
 "metadata": {
  "kernelspec": {
   "display_name": "Python 3",
   "language": "python",
   "name": "python3"
  },
  "language_info": {
   "codemirror_mode": {
    "name": "ipython",
    "version": 3
   },
   "file_extension": ".py",
   "mimetype": "text/x-python",
   "name": "python",
   "nbconvert_exporter": "python",
   "pygments_lexer": "ipython3",
   "version": "3.7.6"
  }
 },
 "nbformat": 4,
 "nbformat_minor": 4
}
