{
 "cells": [
  {
   "cell_type": "code",
   "execution_count": 1,
   "id": "36eb5a08",
   "metadata": {},
   "outputs": [],
   "source": [
    "from pyquil import get_qc, Program\n",
    "from pyquil.gates import *\n",
    "from pyquil.api import local_forest_runtime\n",
    "from pyquil.quilbase import Declare\n",
    "from pyquil.simulation.tools import lifted_gate, program_unitary\n",
    "from pyquil.quil import *"
   ]
  },
  {
   "cell_type": "code",
   "execution_count": 2,
   "id": "dec19c7c",
   "metadata": {},
   "outputs": [],
   "source": [
    "import numpy as np\n",
    "import math\n",
    "from math import pi\n",
    "import random"
   ]
  },
  {
   "cell_type": "code",
   "execution_count": 3,
   "id": "cd9c0755",
   "metadata": {},
   "outputs": [],
   "source": [
    "if __name__ == \"__main__\":\n",
    "    num_qubits = 2\n",
    "\n",
    "#     First step choose m and the K_m sequences of \n",
    "    m = 5\n",
    "    k_m = 10 #n. of diff sequences\n",
    "    n_m = 10  #n. of samples from a certain sequence"
   ]
  },
  {
   "cell_type": "code",
   "execution_count": 4,
   "id": "2c60aa86",
   "metadata": {},
   "outputs": [],
   "source": [
    "def native_reggeti_gate_generator(num_Qbit,num_gates):\n",
    "    list_gates = []\n",
    "    for i in range(0,num_gates):\n",
    "        k = random.randint(1,3)\n",
    "#         k = 1\n",
    "        if k==1:\n",
    "            s_1 = random.randint(0,num_Qbit-1)\n",
    "            angle_1 = random.choice([-1,-1/2,+1/2,1])\n",
    "            list_gates.append(RX(angle = angle_1*pi,qubit = s_1))\n",
    "        \n",
    "        if k==2:\n",
    "            s_2 = random.randint(0,num_Qbit-1)\n",
    "            angle_2 = (random.random())\n",
    "            list_gates.append(RZ(angle = 2*pi*angle_2,qubit = s_2))\n",
    "            \n",
    "        if k==3:\n",
    "            control_qubit,target_qubit = random.sample(range(0,num_Qbit),2)\n",
    "            list_gates.append(CZ(control_qubit,target_qubit))\n",
    "    return list_gates"
   ]
  },
  {
   "cell_type": "code",
   "execution_count": 5,
   "id": "4f1ca985",
   "metadata": {},
   "outputs": [],
   "source": [
    "def iden_generator(num_qubit,num_gates):\n",
    "    list_gates = []\n",
    "    for i in range(0,num_gates):\n",
    "        #s = random.randint(0,num_qubit-1)\n",
    "        #list_gates.append(RZ((1/2)*pi,s))\n",
    "        control_qubit,target_qubit = random.sample(range(0,num_qubit),2)\n",
    "        list_gates.append(CZ(control_qubit,target_qubit))\n",
    "    return list_gates"
   ]
  },
  {
   "cell_type": "code",
   "execution_count": 6,
   "id": "7f77c4a0",
   "metadata": {},
   "outputs": [],
   "source": [
    "def machine_response_srb_native_gate(qmachine, num_qubits, m, k_m, n_m):\n",
    "    \"\"\"\n",
    "    It samples and record the accept or reject of the machine with standard native gates for rigetti.\n",
    "    ::return response_matrix including accepts and rejects in columns\n",
    "    \"\"\"\n",
    "    response_matrix = np.zeros((k_m,n_m))\n",
    "    \n",
    "    for i_sequ in range(k_m):\n",
    "        gate_list = native_reggeti_gate_generator(num_qubits, m)\n",
    "        prog = Program() #All qubits begin with |0> state\n",
    "        \n",
    "        for gate in gate_list:\n",
    "            prog += gate\n",
    "        \n",
    "        #compute the unitary of circuit U\n",
    "        equivalent_unitary = program_unitary(prog, n_qubits= num_qubits)\n",
    "        \n",
    "        if np.all( np.matmul(equivalent_unitary,equivalent_unitary.conj().T) != np.eye(2**num_qubits) ): print('spotted')\n",
    "        #report the reversed unitary operator of the total transforamtions \n",
    "        equivalent_unitary_inv = equivalent_unitary.conj().T\n",
    "        equivalent_unitary_inv_def = DefGate(\"U_r\", equivalent_unitary_inv)\n",
    "        U_r = equivalent_unitary_inv_def.get_constructor() # Get the gate constructor\n",
    "        \n",
    "        n_tuple = tuple(range(num_qubits))\n",
    "        prog += Program( equivalent_unitary_inv_def, U_r(*n_tuple) )\n",
    "        \n",
    "        #Do not let the quilc to alter the gates by optimization\n",
    "        prog = Program('PRAGMA INITIAL_REWIRING \"NAIVE\"') + Program('PRAGMA PRESERVE_BLOCK') + prog\n",
    "        prog += Program('PRAGMA END_PRESERVE_BLOCK')\n",
    "        \n",
    "        #Measurments\n",
    "        ro = prog.declare('ro', 'BIT', num_qubits)\n",
    "        for q in range(num_qubits):\n",
    "            prog += MEASURE(q, ro[q])\n",
    "        prog = prog.wrap_in_numshots_loop(n_m)\n",
    "\n",
    "        #Run the program\n",
    "        executable = qmachine.compile(prog)\n",
    "        result = qmachine.run(executable)\n",
    "        measured_outcome = result.readout_data.get('ro')\n",
    "\n",
    "        response_matrix[i_sequ,:] = 1 - np.bool_(np.sum(measured_outcome, axis = 1)) # 1 if it is equal to n_zero state\n",
    "    return response_matrix"
   ]
  },
  {
   "cell_type": "code",
   "execution_count": null,
   "id": "e958f885-95fe-48f6-aced-d776e398d271",
   "metadata": {},
   "outputs": [],
   "source": [
    "if __name__ == \"__main__\":\n",
    "    !ipython nbconvert --to python RB_with_Rigetti_native_gates.ipynb"
   ]
  },
  {
   "cell_type": "code",
   "execution_count": null,
   "id": "08de3e64",
   "metadata": {},
   "outputs": [],
   "source": []
  },
  {
   "cell_type": "code",
   "execution_count": null,
   "id": "62850f1b",
   "metadata": {},
   "outputs": [],
   "source": [
    "# qc = get_qc( str(num_qubits) + 'q-qvm')  # You can make any 'nq-qvm'\n",
    "# machine_response_srb_native_gate(qc,num_qubits, m, k_m, n_m)"
   ]
  },
  {
   "cell_type": "code",
   "execution_count": null,
   "id": "4df505f5",
   "metadata": {},
   "outputs": [],
   "source": []
  },
  {
   "cell_type": "code",
   "execution_count": null,
   "id": "d06fcffd",
   "metadata": {},
   "outputs": [],
   "source": []
  },
  {
   "cell_type": "code",
   "execution_count": null,
   "id": "bfad13d0",
   "metadata": {},
   "outputs": [],
   "source": []
  },
  {
   "cell_type": "code",
   "execution_count": null,
   "id": "d25a95cf",
   "metadata": {},
   "outputs": [],
   "source": []
  }
 ],
 "metadata": {
  "kernelspec": {
   "display_name": "Python 3 (ipykernel)",
   "language": "python",
   "name": "python3"
  },
  "language_info": {
   "codemirror_mode": {
    "name": "ipython",
    "version": 3
   },
   "file_extension": ".py",
   "mimetype": "text/x-python",
   "name": "python",
   "nbconvert_exporter": "python",
   "pygments_lexer": "ipython3",
   "version": "3.9.7"
  }
 },
 "nbformat": 4,
 "nbformat_minor": 5
}
