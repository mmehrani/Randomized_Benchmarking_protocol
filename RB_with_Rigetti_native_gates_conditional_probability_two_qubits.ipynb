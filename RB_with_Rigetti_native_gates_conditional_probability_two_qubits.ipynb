{
 "cells": [
  {
   "cell_type": "markdown",
   "id": "edc2b0e3",
   "metadata": {},
   "source": [
    "# Benchmark with conditional formating\n",
    "All we need in the protocal is the Haar-random unitaries. A random unitary can be represeted by rotation matrices like this:\n",
    "\n",
    "In this project we benchmark with those conditional probabilities"
   ]
  },
  {
   "cell_type": "code",
   "execution_count": 1,
   "id": "36eb5a08",
   "metadata": {},
   "outputs": [],
   "source": [
    "from pyquil import get_qc, Program\n",
    "from pyquil.gates import *\n",
    "from pyquil.api import local_forest_runtime\n",
    "from pyquil.quilbase import Declare\n",
    "from pyquil.simulation.tools import lifted_gate, program_unitary\n",
    "from pyquil.quil import *"
   ]
  },
  {
   "cell_type": "code",
   "execution_count": 2,
   "id": "dec19c7c",
   "metadata": {},
   "outputs": [],
   "source": [
    "import numpy as np\n",
    "import math\n",
    "from math import pi\n",
    "import random\n",
    "import copy\n",
    "from tqdm import tqdm_notebook as tqdm"
   ]
  },
  {
   "cell_type": "code",
   "execution_count": 3,
   "id": "8d2c6ea3",
   "metadata": {},
   "outputs": [],
   "source": [
    "from functions import *"
   ]
  },
  {
   "cell_type": "code",
   "execution_count": 4,
   "id": "cd9c0755",
   "metadata": {},
   "outputs": [],
   "source": [
    "if __name__ == \"__main__\":\n",
    "    target_qubits = [0,1]\n",
    "\n",
    "#     First step choose m and the K_m sequences of \n",
    "    m = 1\n",
    "    k_m = 5 #n. of diff sequences\n",
    "    n_m = 5  #n. of samples from a certain sequence\n"
   ]
  },
  {
   "cell_type": "code",
   "execution_count": 5,
   "id": "2c60aa86",
   "metadata": {},
   "outputs": [],
   "source": [
    "def universal_two_qubits_packs_generator(qmachine, target_qubits:list, num_layer:int):\n",
    "    list_gates = []\n",
    "    for index in range(num_layer):\n",
    "        draft_circuit = give_random_two_qubit_circuit(target_qubits)\n",
    "        list_gates.extend( qmachine.compiler.quil_to_native_quil(draft_circuit) )\n",
    "    list_gates = [ ins for ins in list_gates if isinstance(ins, Gate)]\n",
    "    return list_gates"
   ]
  },
  {
   "cell_type": "code",
   "execution_count": 10,
   "id": "7f77c4a0",
   "metadata": {},
   "outputs": [],
   "source": [
    "def machine_response_rb_universal_two_qubits_conditional(qmachine, target_qubits:list, m:int, k_m, n_m):\n",
    "    \"\"\"\n",
    "    It samples and record the accept or reject of the machine with native gates chosen with conditions for rigetti.\n",
    "    ::return response_matrix including accepts and rejects in columns\n",
    "    \"\"\"\n",
    "    num_qubits = len(target_qubits)\n",
    "    response_matrix = np.zeros((k_m,n_m))\n",
    "    \n",
    "    for i_sequ in tqdm(range(k_m), desc = 'Sequences'):\n",
    "        gate_list = universal_two_qubits_packs_generator(qmachine, target_qubits, m)\n",
    "        prog = Program() #All qubits begin with |0> state\n",
    "        \n",
    "        for gate in gate_list:\n",
    "            prog += gate\n",
    "        \n",
    "        #Come back to our initial state\n",
    "#         for gate in reversed(gate_list):\n",
    "# #             prog += copy.deepcopy(gate).dagger() #dagger has replacing operations\n",
    "#             gate_daggered = copy.deepcopy(gate)\n",
    "#             gate_daggered.params[0] *= -1 #make daggered rotation \n",
    "#             prog += gate_daggered\n",
    "        u_inverse_definition = DefGate('U_inverse', np.linalg.inv(program_unitary(prog, n_qubits=2)))\n",
    "        U_inverse = u_inverse_definition.get_constructor()\n",
    "        \n",
    "        prog += u_inverse_definition\n",
    "        prog += qmachine.compiler.quil_to_native_quil(Program(U_inverse(*target_qubits)))\n",
    "        \n",
    "        #Do not let the quilc to alter the gates by optimization\n",
    "#         prog = Program('PRAGMA PRESERVE_BLOCK') + prog\n",
    "#         prog += Program('PRAGMA END_PRESERVE_BLOCK')\n",
    "        \n",
    "        #Measurments\n",
    "        ro = prog.declare('ro', 'BIT', num_qubits)\n",
    "        for q in range(num_qubits):\n",
    "            prog += MEASURE(q, ro[q])\n",
    "        prog = prog.wrap_in_numshots_loop(n_m)\n",
    "\n",
    "        #Run the program\n",
    "        executable = qmachine.compile(prog)\n",
    "        result = qmachine.run(executable)\n",
    "        measured_outcome = result.readout_data.get('ro')\n",
    "\n",
    "        response_matrix[i_sequ,:] = 1 - np.bool_(np.sum(measured_outcome, axis = 1)) # 1 if it is equal to n_zero state\n",
    "    return response_matrix"
   ]
  },
  {
   "cell_type": "code",
   "execution_count": 11,
   "id": "62850f1b",
   "metadata": {},
   "outputs": [
    {
     "name": "stderr",
     "output_type": "stream",
     "text": [
      "C:\\Users\\mohsen\\AppData\\Local\\Temp\\ipykernel_21344\\3813690421.py:9: TqdmDeprecationWarning: This function will be removed in tqdm==5.0.0\n",
      "Please use `tqdm.notebook.tqdm` instead of `tqdm.tqdm_notebook`\n",
      "  for i_sequ in tqdm(range(k_m), desc = 'Sequences'):\n"
     ]
    },
    {
     "data": {
      "application/vnd.jupyter.widget-view+json": {
       "model_id": "c80de8decf21498da5189dc15a613281",
       "version_major": 2,
       "version_minor": 0
      },
      "text/plain": [
       "Sequences:   0%|          | 0/5 [00:00<?, ?it/s]"
      ]
     },
     "metadata": {},
     "output_type": "display_data"
    },
    {
     "ename": "RPCError",
     "evalue": "Unhandled error in host program:\nRequested to rewire U_inverse 0 1, but we don't know how to do this.",
     "output_type": "error",
     "traceback": [
      "\u001b[1;31m---------------------------------------------------------------------------\u001b[0m",
      "\u001b[1;31mRPCError\u001b[0m                                  Traceback (most recent call last)",
      "Input \u001b[1;32mIn [11]\u001b[0m, in \u001b[0;36m<cell line: 1>\u001b[1;34m()\u001b[0m\n\u001b[0;32m      1\u001b[0m \u001b[38;5;28;01mif\u001b[39;00m \u001b[38;5;18m__name__\u001b[39m \u001b[38;5;241m==\u001b[39m \u001b[38;5;124m\"\u001b[39m\u001b[38;5;124m__main__\u001b[39m\u001b[38;5;124m\"\u001b[39m:\n\u001b[0;32m      2\u001b[0m \u001b[38;5;66;03m#     qc = get_qc( str(num_qubits) + 'q-qvm')  # You can make any 'nq-qvm'\u001b[39;00m\n\u001b[0;32m      3\u001b[0m     qc \u001b[38;5;241m=\u001b[39m get_qc(\u001b[38;5;124m\"\u001b[39m\u001b[38;5;124m9q-square-noisy-qvm\u001b[39m\u001b[38;5;124m\"\u001b[39m)\n\u001b[1;32m----> 4\u001b[0m     response \u001b[38;5;241m=\u001b[39m \u001b[43mmachine_response_rb_universal_two_qubits_conditional\u001b[49m\u001b[43m(\u001b[49m\u001b[43mqc\u001b[49m\u001b[43m,\u001b[49m\u001b[43m \u001b[49m\u001b[43m[\u001b[49m\u001b[38;5;241;43m0\u001b[39;49m\u001b[43m,\u001b[49m\u001b[38;5;241;43m1\u001b[39;49m\u001b[43m]\u001b[49m\u001b[43m,\u001b[49m\u001b[43m \u001b[49m\u001b[43mm\u001b[49m\u001b[43m,\u001b[49m\u001b[43m \u001b[49m\u001b[43mk_m\u001b[49m\u001b[43m,\u001b[49m\u001b[43m \u001b[49m\u001b[43mn_m\u001b[49m\u001b[43m)\u001b[49m\n",
      "Input \u001b[1;32mIn [10]\u001b[0m, in \u001b[0;36mmachine_response_rb_universal_two_qubits_conditional\u001b[1;34m(qmachine, target_qubits, m, k_m, n_m)\u001b[0m\n\u001b[0;32m     23\u001b[0m         U_inverse \u001b[38;5;241m=\u001b[39m u_inverse_definition\u001b[38;5;241m.\u001b[39mget_constructor()\n\u001b[0;32m     25\u001b[0m         prog \u001b[38;5;241m+\u001b[39m\u001b[38;5;241m=\u001b[39m u_inverse_definition\n\u001b[1;32m---> 26\u001b[0m         prog \u001b[38;5;241m+\u001b[39m\u001b[38;5;241m=\u001b[39m \u001b[43mqmachine\u001b[49m\u001b[38;5;241;43m.\u001b[39;49m\u001b[43mcompiler\u001b[49m\u001b[38;5;241;43m.\u001b[39;49m\u001b[43mquil_to_native_quil\u001b[49m\u001b[43m(\u001b[49m\u001b[43mProgram\u001b[49m\u001b[43m(\u001b[49m\u001b[43mU_inverse\u001b[49m\u001b[43m(\u001b[49m\u001b[38;5;241;43m*\u001b[39;49m\u001b[43mtarget_qubits\u001b[49m\u001b[43m)\u001b[49m\u001b[43m)\u001b[49m\u001b[43m)\u001b[49m\n\u001b[0;32m     28\u001b[0m         \u001b[38;5;66;03m#Do not let the quilc to alter the gates by optimization\u001b[39;00m\n\u001b[0;32m     29\u001b[0m \u001b[38;5;66;03m#         prog = Program('PRAGMA PRESERVE_BLOCK') + prog\u001b[39;00m\n\u001b[0;32m     30\u001b[0m \u001b[38;5;66;03m#         prog += Program('PRAGMA END_PRESERVE_BLOCK')\u001b[39;00m\n\u001b[0;32m     31\u001b[0m         \n\u001b[0;32m     32\u001b[0m         \u001b[38;5;66;03m#Measurments\u001b[39;00m\n\u001b[0;32m     33\u001b[0m         ro \u001b[38;5;241m=\u001b[39m prog\u001b[38;5;241m.\u001b[39mdeclare(\u001b[38;5;124m'\u001b[39m\u001b[38;5;124mro\u001b[39m\u001b[38;5;124m'\u001b[39m, \u001b[38;5;124m'\u001b[39m\u001b[38;5;124mBIT\u001b[39m\u001b[38;5;124m'\u001b[39m, num_qubits)\n",
      "File \u001b[1;32mC:\\ProgramData\\Anaconda3\\lib\\site-packages\\pyquil\\api\\_abstract_compiler.py:123\u001b[0m, in \u001b[0;36mAbstractCompiler.quil_to_native_quil\u001b[1;34m(self, program, protoquil)\u001b[0m\n\u001b[0;32m    117\u001b[0m compiler_isa \u001b[38;5;241m=\u001b[39m \u001b[38;5;28mself\u001b[39m\u001b[38;5;241m.\u001b[39mquantum_processor\u001b[38;5;241m.\u001b[39mto_compiler_isa()\n\u001b[0;32m    118\u001b[0m request \u001b[38;5;241m=\u001b[39m CompileToNativeQuilRequest(\n\u001b[0;32m    119\u001b[0m     program\u001b[38;5;241m=\u001b[39mprogram\u001b[38;5;241m.\u001b[39mout(calibrations\u001b[38;5;241m=\u001b[39m\u001b[38;5;28;01mFalse\u001b[39;00m),\n\u001b[0;32m    120\u001b[0m     target_quantum_processor\u001b[38;5;241m=\u001b[39mcompiler_isa_to_target_quantum_processor(compiler_isa),\n\u001b[0;32m    121\u001b[0m     protoquil\u001b[38;5;241m=\u001b[39mprotoquil,\n\u001b[0;32m    122\u001b[0m )\n\u001b[1;32m--> 123\u001b[0m response \u001b[38;5;241m=\u001b[39m \u001b[38;5;28;43mself\u001b[39;49m\u001b[38;5;241;43m.\u001b[39;49m\u001b[43m_compiler_client\u001b[49m\u001b[38;5;241;43m.\u001b[39;49m\u001b[43mcompile_to_native_quil\u001b[49m\u001b[43m(\u001b[49m\u001b[43mrequest\u001b[49m\u001b[43m)\u001b[49m\n\u001b[0;32m    125\u001b[0m nq_program \u001b[38;5;241m=\u001b[39m parse_program(response\u001b[38;5;241m.\u001b[39mnative_program)\n\u001b[0;32m    126\u001b[0m nq_program\u001b[38;5;241m.\u001b[39mnative_quil_metadata \u001b[38;5;241m=\u001b[39m (\n\u001b[0;32m    127\u001b[0m     \u001b[38;5;28;01mNone\u001b[39;00m\n\u001b[0;32m    128\u001b[0m     \u001b[38;5;28;01mif\u001b[39;00m response\u001b[38;5;241m.\u001b[39mmetadata \u001b[38;5;129;01mis\u001b[39;00m \u001b[38;5;28;01mNone\u001b[39;00m\n\u001b[1;32m   (...)\u001b[0m\n\u001b[0;32m    138\u001b[0m     )\n\u001b[0;32m    139\u001b[0m )\n",
      "File \u001b[1;32mC:\\ProgramData\\Anaconda3\\lib\\site-packages\\pyquil\\api\\_compiler_client.py:188\u001b[0m, in \u001b[0;36mCompilerClient.compile_to_native_quil\u001b[1;34m(self, request)\u001b[0m\n\u001b[0;32m    183\u001b[0m rpcq_request \u001b[38;5;241m=\u001b[39m rpcq\u001b[38;5;241m.\u001b[39mmessages\u001b[38;5;241m.\u001b[39mNativeQuilRequest(\n\u001b[0;32m    184\u001b[0m     quil\u001b[38;5;241m=\u001b[39mrequest\u001b[38;5;241m.\u001b[39mprogram,\n\u001b[0;32m    185\u001b[0m     target_device\u001b[38;5;241m=\u001b[39mrequest\u001b[38;5;241m.\u001b[39mtarget_quantum_processor,\n\u001b[0;32m    186\u001b[0m )\n\u001b[0;32m    187\u001b[0m \u001b[38;5;28;01mwith\u001b[39;00m \u001b[38;5;28mself\u001b[39m\u001b[38;5;241m.\u001b[39m_rpcq_client() \u001b[38;5;28;01mas\u001b[39;00m rpcq_client:  \u001b[38;5;66;03m# type: rpcq.Client\u001b[39;00m\n\u001b[1;32m--> 188\u001b[0m     response: rpcq\u001b[38;5;241m.\u001b[39mmessages\u001b[38;5;241m.\u001b[39mNativeQuilResponse \u001b[38;5;241m=\u001b[39m \u001b[43mrpcq_client\u001b[49m\u001b[38;5;241;43m.\u001b[39;49m\u001b[43mcall\u001b[49m\u001b[43m(\u001b[49m\n\u001b[0;32m    189\u001b[0m \u001b[43m        \u001b[49m\u001b[38;5;124;43m\"\u001b[39;49m\u001b[38;5;124;43mquil_to_native_quil\u001b[39;49m\u001b[38;5;124;43m\"\u001b[39;49m\u001b[43m,\u001b[49m\n\u001b[0;32m    190\u001b[0m \u001b[43m        \u001b[49m\u001b[43mrpcq_request\u001b[49m\u001b[43m,\u001b[49m\n\u001b[0;32m    191\u001b[0m \u001b[43m        \u001b[49m\u001b[43mprotoquil\u001b[49m\u001b[38;5;241;43m=\u001b[39;49m\u001b[43mrequest\u001b[49m\u001b[38;5;241;43m.\u001b[39;49m\u001b[43mprotoquil\u001b[49m\u001b[43m,\u001b[49m\n\u001b[0;32m    192\u001b[0m \u001b[43m    \u001b[49m\u001b[43m)\u001b[49m\n\u001b[0;32m    193\u001b[0m     metadata: Optional[NativeQuilMetadataResponse] \u001b[38;5;241m=\u001b[39m \u001b[38;5;28;01mNone\u001b[39;00m\n\u001b[0;32m    194\u001b[0m     \u001b[38;5;28;01mif\u001b[39;00m response\u001b[38;5;241m.\u001b[39mmetadata \u001b[38;5;129;01mis\u001b[39;00m \u001b[38;5;129;01mnot\u001b[39;00m \u001b[38;5;28;01mNone\u001b[39;00m:\n",
      "File \u001b[1;32mC:\\ProgramData\\Anaconda3\\lib\\site-packages\\rpcq\\_client.py:205\u001b[0m, in \u001b[0;36mClient.call\u001b[1;34m(self, method_name, rpc_timeout, *args, **kwargs)\u001b[0m\n\u001b[0;32m    202\u001b[0m     warn(\u001b[38;5;124mf\u001b[39m\u001b[38;5;124m\"\u001b[39m\u001b[38;5;132;01m{\u001b[39;00mwarning\u001b[38;5;241m.\u001b[39mkind\u001b[38;5;132;01m}\u001b[39;00m\u001b[38;5;124m: \u001b[39m\u001b[38;5;132;01m{\u001b[39;00mwarning\u001b[38;5;241m.\u001b[39mbody\u001b[38;5;132;01m}\u001b[39;00m\u001b[38;5;124m\"\u001b[39m)\n\u001b[0;32m    204\u001b[0m \u001b[38;5;28;01mif\u001b[39;00m \u001b[38;5;28misinstance\u001b[39m(reply, RPCError):\n\u001b[1;32m--> 205\u001b[0m     \u001b[38;5;28;01mraise\u001b[39;00m utils\u001b[38;5;241m.\u001b[39mRPCError(reply\u001b[38;5;241m.\u001b[39merror)\n\u001b[0;32m    206\u001b[0m \u001b[38;5;28;01melse\u001b[39;00m:\n\u001b[0;32m    207\u001b[0m     \u001b[38;5;28;01mreturn\u001b[39;00m reply\u001b[38;5;241m.\u001b[39mresult\n",
      "\u001b[1;31mRPCError\u001b[0m: Unhandled error in host program:\nRequested to rewire U_inverse 0 1, but we don't know how to do this."
     ]
    }
   ],
   "source": [
    "if __name__ == \"__main__\":\n",
    "#     qc = get_qc( str(num_qubits) + 'q-qvm')  # You can make any 'nq-qvm'\n",
    "    qc = get_qc(\"9q-square-noisy-qvm\")\n",
    "    response = machine_response_rb_universal_two_qubits_conditional(qc, [0,1], m, k_m, n_m)\n"
   ]
  },
  {
   "cell_type": "code",
   "execution_count": 19,
   "id": "e958f885-95fe-48f6-aced-d776e398d271",
   "metadata": {},
   "outputs": [],
   "source": [
    "# if __name__ == \"__main__\":\n",
    "#     !jupyter nbconvert RB_with_Rigetti_native_gates_conditional_probability_two_qubits.ipynb --to python"
   ]
  },
  {
   "cell_type": "code",
   "execution_count": 20,
   "id": "0a98aa52",
   "metadata": {},
   "outputs": [
    {
     "name": "stdout",
     "output_type": "stream",
     "text": [
      "41\n"
     ]
    }
   ],
   "source": [
    "print(len(executable))"
   ]
  },
  {
   "cell_type": "code",
   "execution_count": 21,
   "id": "9b789d2e",
   "metadata": {},
   "outputs": [
    {
     "name": "stdout",
     "output_type": "stream",
     "text": [
      "DEFGATE U_inverse:\n",
      "    -0.060758970263272115+0.3369153865169795i, 0.7369819335893378-0.18176139613229572i, 0.5245981539189907+0.09264896319550353i, 0.09667506378313864+0.11611921833068549i\n",
      "    0.30716818143452196-0.18350210473833664i, -0.06250040074351415-0.013034634525186843i, 0.4029871329528485+0.14628740748650398i, -0.8026446383043141-0.1996532838877445i\n",
      "    0.525379165048792+0.49199519458803836i, 0.08086120153326942+0.5265135168784146i, -0.11167345918824813-0.4203408903733145i, -0.07378819845597273+0.059668419013329796i\n",
      "    0.009627877927138229-0.4864111646878594i, 0.02539368379142779+0.3678917858597443i, 0.4782867397067181-0.3383765367497009i, 0.37869117761053017-0.37504450876128465i\n",
      "\n",
      "DECLARE ro BIT[2]\n",
      "RZ(-0.5746488128618452) 0\n",
      "RX(pi/2) 0\n",
      "RZ(2.3081088883517342) 0\n",
      "RX(-pi/2) 0\n",
      "RZ(-0.4736209864636214) 0\n",
      "RZ(-0.3817309888514139) 1\n",
      "RX(pi/2) 1\n",
      "RZ(1.0269783330927444) 1\n",
      "RX(-pi/2) 1\n",
      "RZ(-2.9248592209925763) 1\n",
      "XY(pi) 1 0\n",
      "RZ(pi/2) 0\n",
      "RX(pi/2) 0\n",
      "RZ(pi/2) 0\n",
      "RX(-pi/2) 0\n",
      "RZ(-2.7889649067582885) 0\n",
      "RZ(-pi) 1\n",
      "RX(pi/2) 1\n",
      "RZ(2.8213218743974178) 1\n",
      "RX(-pi/2) 1\n",
      "RZ(pi/2) 1\n",
      "XY(pi) 1 0\n",
      "RX(pi/2) 0\n",
      "RZ(0.9983029579314592) 0\n",
      "RX(-pi/2) 0\n",
      "RX(pi/2) 1\n",
      "RZ(pi/2) 1\n",
      "RX(-pi/2) 1\n",
      "XY(pi) 1 0\n",
      "RZ(-0.5999301516163003) 0\n",
      "RX(pi/2) 0\n",
      "RZ(2.8550000916360223) 0\n",
      "RX(-pi/2) 0\n",
      "RZ(0.10464677702896709) 0\n",
      "RZ(1.0233701180936856) 1\n",
      "RX(pi/2) 1\n",
      "RZ(1.3985710421995092) 1\n",
      "RX(-pi/2) 1\n",
      "RZ(-3.652754438054577) 1\n",
      "HALT\n",
      "\n"
     ]
    }
   ],
   "source": [
    "print(executable)"
   ]
  },
  {
   "cell_type": "code",
   "execution_count": null,
   "id": "078c3298",
   "metadata": {},
   "outputs": [],
   "source": []
  }
 ],
 "metadata": {
  "kernelspec": {
   "display_name": "Python 3 (ipykernel)",
   "language": "python",
   "name": "python3"
  },
  "language_info": {
   "codemirror_mode": {
    "name": "ipython",
    "version": 3
   },
   "file_extension": ".py",
   "mimetype": "text/x-python",
   "name": "python",
   "nbconvert_exporter": "python",
   "pygments_lexer": "ipython3",
   "version": "3.9.12"
  }
 },
 "nbformat": 4,
 "nbformat_minor": 5
}
