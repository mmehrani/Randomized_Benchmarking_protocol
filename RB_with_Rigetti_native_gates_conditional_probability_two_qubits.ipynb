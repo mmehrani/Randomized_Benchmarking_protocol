{
 "cells": [
  {
   "cell_type": "markdown",
   "id": "edc2b0e3",
   "metadata": {},
   "source": [
    "# Benchmark with conditional formating\n",
    "All we need in the protocal is the Haar-random unitaries. A random unitary can be represeted by rotation matrices like this:\n",
    "\n",
    "In this project we benchmark with those conditional probabilities"
   ]
  },
  {
   "cell_type": "code",
   "execution_count": 1,
   "id": "36eb5a08",
   "metadata": {},
   "outputs": [],
   "source": [
    "from pyquil import get_qc, Program\n",
    "from pyquil.gates import *\n",
    "from pyquil.api import local_forest_runtime\n",
    "from pyquil.quilbase import Declare\n",
    "from pyquil.simulation.tools import lifted_gate, program_unitary\n",
    "from pyquil.quil import *"
   ]
  },
  {
   "cell_type": "code",
   "execution_count": 2,
   "id": "dec19c7c",
   "metadata": {},
   "outputs": [],
   "source": [
    "import numpy as np\n",
    "import math\n",
    "from math import pi\n",
    "import random\n",
    "import copy\n",
    "from tqdm import tqdm_notebook as tqdm"
   ]
  },
  {
   "cell_type": "code",
   "execution_count": 3,
   "id": "8d2c6ea3",
   "metadata": {},
   "outputs": [],
   "source": [
    "from functions import *"
   ]
  },
  {
   "cell_type": "code",
   "execution_count": 4,
   "id": "cd9c0755",
   "metadata": {},
   "outputs": [],
   "source": [
    "if __name__ == \"__main__\":\n",
    "    target_qubits = [0,1]\n",
    "\n",
    "#     First step choose m and the K_m sequences of \n",
    "    m = 1\n",
    "    k_m = 2 #n. of diff sequences\n",
    "    n_m = 2  #n. of samples from a certain sequence\n"
   ]
  },
  {
   "cell_type": "code",
   "execution_count": 5,
   "id": "2c60aa86",
   "metadata": {},
   "outputs": [],
   "source": [
    "def universal_two_qubits_packs_generator(qmachine, target_qubits:list, num_layer:int):\n",
    "    list_gates = []\n",
    "    for index in range(num_layer):\n",
    "        draft_circuit = give_random_two_qubit_circuit(target_qubits)\n",
    "        list_gates.extend( qmachine.compiler.quil_to_native_quil(draft_circuit) )\n",
    "    list_gates = [ ins for ins in list_gates if isinstance(ins, Gate)]\n",
    "    return list_gates"
   ]
  },
  {
   "cell_type": "code",
   "execution_count": 6,
   "id": "7f77c4a0",
   "metadata": {},
   "outputs": [],
   "source": [
    "def machine_response_rb_universal_two_qubits_conditional(qmachine, target_qubits:list, m:int, k_m, n_m):\n",
    "    \"\"\"\n",
    "    It samples and record the accept or reject of the machine with native gates chosen with conditions for rigetti.\n",
    "    ::return response_matrix including accepts and rejects in columns\n",
    "    \"\"\"\n",
    "    num_qubits = len(target_qubits)\n",
    "    response_matrix = np.zeros((k_m,n_m))\n",
    "    \n",
    "    for i_sequ in tqdm(range(k_m), desc = 'Sequences'):\n",
    "        gate_list = universal_two_qubits_packs_generator(qmachine, target_qubits, m)\n",
    "        prog = Program() #All qubits begin with |0> state\n",
    "        \n",
    "        for gate in gate_list:\n",
    "            prog += gate\n",
    "        \n",
    "        #Come back to our initial state\n",
    "#         for gate in reversed(gate_list):\n",
    "# #             prog += copy.deepcopy(gate).dagger() #dagger has replacing operations\n",
    "#             gate_daggered = copy.deepcopy(gate)\n",
    "#             gate_daggered.params[0] *= -1 #make daggered rotation \n",
    "#             prog += gate_daggered\n",
    "        u_inverse_definition = DefGate('U_inverse', np.linalg.inv(program_unitary(prog, n_qubits=2)))\n",
    "        U_inverse = u_inverse_definition.get_constructor()\n",
    "        prog += qmachine.compiler.quil_to_native_quil(Program(u_inverse_definition, U_inverse(*target_qubits)))\n",
    "        \n",
    "        #Do not let the quilc to alter the gates by optimization\n",
    "#         prog = Program('PRAGMA PRESERVE_BLOCK') + prog\n",
    "#         prog += Program('PRAGMA END_PRESERVE_BLOCK')\n",
    "        \n",
    "        #Measurments\n",
    "        ro = prog.declare('ro', 'BIT', num_qubits)\n",
    "        for q in range(num_qubits):\n",
    "            prog += MEASURE(q, ro[q])\n",
    "        prog = prog.wrap_in_numshots_loop(n_m)\n",
    "\n",
    "        #Run the program\n",
    "        executable = qmachine.compile(prog)\n",
    "        result = qmachine.run(executable)\n",
    "        measured_outcome = result.readout_data.get('ro')\n",
    "\n",
    "        response_matrix[i_sequ,:] = 1 - np.bool_(np.sum(measured_outcome, axis = 1)) # 1 if it is equal to n_zero state\n",
    "    return response_matrix"
   ]
  },
  {
   "cell_type": "code",
   "execution_count": 7,
   "id": "62850f1b",
   "metadata": {},
   "outputs": [
    {
     "name": "stderr",
     "output_type": "stream",
     "text": [
      "C:\\Users\\mohsen\\AppData\\Local\\Temp\\ipykernel_15044\\2237609538.py:9: TqdmDeprecationWarning: This function will be removed in tqdm==5.0.0\n",
      "Please use `tqdm.notebook.tqdm` instead of `tqdm.tqdm_notebook`\n",
      "  for i_sequ in tqdm(range(k_m), desc = 'Sequences'):\n"
     ]
    },
    {
     "data": {
      "application/vnd.jupyter.widget-view+json": {
       "model_id": "b0e61c96970c4dc7a9ef022c0bf55e69",
       "version_major": 2,
       "version_minor": 0
      },
      "text/plain": [
       "Sequences:   0%|          | 0/2 [00:00<?, ?it/s]"
      ]
     },
     "metadata": {},
     "output_type": "display_data"
    }
   ],
   "source": [
    "if __name__ == \"__main__\":\n",
    "#     qc = get_qc( str(num_qubits) + 'q-qvm')  # You can make any 'nq-qvm'\n",
    "    qc = get_qc(\"9q-square-noisy-qvm\")\n",
    "    response = machine_response_rb_universal_two_qubits_conditional(qc, [0,1], m, k_m, n_m)\n"
   ]
  },
  {
   "cell_type": "code",
   "execution_count": 8,
   "id": "e958f885-95fe-48f6-aced-d776e398d271",
   "metadata": {},
   "outputs": [
    {
     "name": "stderr",
     "output_type": "stream",
     "text": [
      "[NbConvertApp] Converting notebook RB_with_Rigetti_native_gates_conditional_probability_two_qubits.ipynb to python\n",
      "[NbConvertApp] Writing 3738 bytes to RB_with_Rigetti_native_gates_conditional_probability_two_qubits.py\n"
     ]
    }
   ],
   "source": [
    "if __name__ == \"__main__\":\n",
    "    !jupyter nbconvert RB_with_Rigetti_native_gates_conditional_probability_two_qubits.ipynb --to python"
   ]
  },
  {
   "cell_type": "code",
   "execution_count": null,
   "id": "0a98aa52",
   "metadata": {},
   "outputs": [],
   "source": []
  },
  {
   "cell_type": "code",
   "execution_count": null,
   "id": "9b789d2e",
   "metadata": {},
   "outputs": [],
   "source": []
  },
  {
   "cell_type": "code",
   "execution_count": null,
   "id": "078c3298",
   "metadata": {},
   "outputs": [],
   "source": []
  }
 ],
 "metadata": {
  "kernelspec": {
   "display_name": "Python 3 (ipykernel)",
   "language": "python",
   "name": "python3"
  },
  "language_info": {
   "codemirror_mode": {
    "name": "ipython",
    "version": 3
   },
   "file_extension": ".py",
   "mimetype": "text/x-python",
   "name": "python",
   "nbconvert_exporter": "python",
   "pygments_lexer": "ipython3",
   "version": "3.9.12"
  }
 },
 "nbformat": 4,
 "nbformat_minor": 5
}
