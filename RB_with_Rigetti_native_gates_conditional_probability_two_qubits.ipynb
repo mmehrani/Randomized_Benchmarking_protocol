{
 "cells": [
  {
   "cell_type": "markdown",
   "id": "edc2b0e3",
   "metadata": {},
   "source": [
    "# Benchmark with conditional formating\n",
    "All we need in the protocal is the Haar-random unitaries. A random unitary can be represeted by rotation matrices like this:\n",
    "\n",
    "In this project we benchmark with those conditional probabilities"
   ]
  },
  {
   "cell_type": "code",
   "execution_count": 93,
   "id": "36eb5a08",
   "metadata": {},
   "outputs": [],
   "source": [
    "from pyquil import get_qc, Program\n",
    "from pyquil.gates import *\n",
    "from pyquil.api import local_forest_runtime\n",
    "from pyquil.quilbase import Declare\n",
    "from pyquil.simulation.tools import lifted_gate, program_unitary\n",
    "from pyquil.quil import *"
   ]
  },
  {
   "cell_type": "code",
   "execution_count": 94,
   "id": "dec19c7c",
   "metadata": {},
   "outputs": [],
   "source": [
    "import numpy as np\n",
    "import math\n",
    "from math import pi\n",
    "import random\n",
    "import copy\n",
    "from tqdm import tqdm_notebook as tqdm"
   ]
  },
  {
   "cell_type": "code",
   "execution_count": 95,
   "id": "8d2c6ea3",
   "metadata": {},
   "outputs": [],
   "source": [
    "from functions import *"
   ]
  },
  {
   "cell_type": "code",
   "execution_count": 96,
   "id": "cd9c0755",
   "metadata": {},
   "outputs": [],
   "source": [
    "if __name__ == \"__main__\":\n",
    "    num_qubits = 2\n",
    "\n",
    "#     First step choose m and the K_m sequences of \n",
    "    m = 2\n",
    "    k_m = 50 #n. of diff sequences\n",
    "    n_m = 100  #n. of samples from a certain sequence\n"
   ]
  },
  {
   "cell_type": "code",
   "execution_count": null,
   "id": "cc07b9bf",
   "metadata": {},
   "outputs": [],
   "source": []
  },
  {
   "cell_type": "code",
   "execution_count": 97,
   "id": "2c60aa86",
   "metadata": {},
   "outputs": [],
   "source": [
    "def universal_two_qubits_packs_generator(qmachine, num_layer):\n",
    "    list_gates = []\n",
    "    for index in range(num_layer):\n",
    "        draft_circuit = give_random_two_quibt_circuit([0,1])\n",
    "        list_gates.extend( qmachine.compiler.quil_to_native_quil(draft_circuit) )\n",
    "    list_gates = [ ins for ins in list_gates if isinstance(ins, Gate)]\n",
    "    return list_gates"
   ]
  },
  {
   "cell_type": "code",
   "execution_count": 98,
   "id": "7f77c4a0",
   "metadata": {},
   "outputs": [],
   "source": [
    "def machine_response_rb_universal_two_qubits_conditional(qmachine, num_qubits, m, k_m, n_m):\n",
    "    \"\"\"\n",
    "    It samples and record the accept or reject of the machine with native gates chosen with conditions for rigetti.\n",
    "    ::return response_matrix including accepts and rejects in columns\n",
    "    \"\"\"\n",
    "    response_matrix = np.zeros((k_m,n_m))\n",
    "    \n",
    "    for i_sequ in tqdm(range(k_m), desc = 'Sequences'):\n",
    "        gate_list = universal_two_qubits_packs_generator(qmachine, m)\n",
    "        prog = Program() #All qubits begin with |0> state\n",
    "        \n",
    "        for gate in gate_list:\n",
    "            prog += gate\n",
    "        \n",
    "        #Come back to our initial state\n",
    "        for gate in reversed(gate_list):\n",
    "#             prog += copy.deepcopy(gate).dagger() #dagger has replacing operations\n",
    "            gate_daggered = copy.deepcopy(gate)\n",
    "            gate_daggered.params[0] *= -1 #make daggered rotation \n",
    "            prog += gate_daggered\n",
    "            \n",
    "        #Do not let the quilc to alter the gates by optimization\n",
    "        prog = Program('PRAGMA PRESERVE_BLOCK') + prog\n",
    "        prog += Program('PRAGMA END_PRESERVE_BLOCK')\n",
    "        \n",
    "        #Measurments\n",
    "        ro = prog.declare('ro', 'BIT', num_qubits)\n",
    "        for q in range(num_qubits):\n",
    "            prog += MEASURE(q, ro[q])\n",
    "        prog = prog.wrap_in_numshots_loop(n_m)\n",
    "\n",
    "        #Run the program\n",
    "        executable = qmachine.compile(prog)\n",
    "        result = qmachine.run(executable)\n",
    "        measured_outcome = result.readout_data.get('ro')\n",
    "\n",
    "        response_matrix[i_sequ,:] = 1 - np.bool_(np.sum(measured_outcome, axis = 1)) # 1 if it is equal to n_zero state\n",
    "    return response_matrix"
   ]
  },
  {
   "cell_type": "code",
   "execution_count": 99,
   "id": "62850f1b",
   "metadata": {},
   "outputs": [
    {
     "name": "stderr",
     "output_type": "stream",
     "text": [
      "C:\\Users\\mohsen\\AppData\\Local\\Temp\\ipykernel_15132\\2764553048.py:8: TqdmDeprecationWarning: This function will be removed in tqdm==5.0.0\n",
      "Please use `tqdm.notebook.tqdm` instead of `tqdm.tqdm_notebook`\n",
      "  for i_sequ in tqdm(range(k_m), desc = 'Sequences'):\n"
     ]
    },
    {
     "data": {
      "application/vnd.jupyter.widget-view+json": {
       "model_id": "8cac914d61424d5fb2706049d3bdf686",
       "version_major": 2,
       "version_minor": 0
      },
      "text/plain": [
       "Sequences:   0%|          | 0/50 [00:00<?, ?it/s]"
      ]
     },
     "metadata": {},
     "output_type": "display_data"
    },
    {
     "ename": "KeyboardInterrupt",
     "evalue": "",
     "output_type": "error",
     "traceback": [
      "\u001b[1;31m---------------------------------------------------------------------------\u001b[0m",
      "\u001b[1;31mKeyboardInterrupt\u001b[0m                         Traceback (most recent call last)",
      "Input \u001b[1;32mIn [99]\u001b[0m, in \u001b[0;36m<cell line: 1>\u001b[1;34m()\u001b[0m\n\u001b[0;32m      1\u001b[0m \u001b[38;5;28;01mif\u001b[39;00m \u001b[38;5;18m__name__\u001b[39m \u001b[38;5;241m==\u001b[39m \u001b[38;5;124m\"\u001b[39m\u001b[38;5;124m__main__\u001b[39m\u001b[38;5;124m\"\u001b[39m:\n\u001b[0;32m      2\u001b[0m \u001b[38;5;66;03m#     qc = get_qc( str(num_qubits) + 'q-qvm')  # You can make any 'nq-qvm'\u001b[39;00m\n\u001b[0;32m      3\u001b[0m     qc \u001b[38;5;241m=\u001b[39m get_qc(\u001b[38;5;124m\"\u001b[39m\u001b[38;5;124m9q-square-noisy-qvm\u001b[39m\u001b[38;5;124m\"\u001b[39m)\n\u001b[1;32m----> 4\u001b[0m     response \u001b[38;5;241m=\u001b[39m \u001b[43mmachine_response_rb_universal_two_qubits_conditional\u001b[49m\u001b[43m(\u001b[49m\u001b[43mqc\u001b[49m\u001b[43m,\u001b[49m\u001b[43m \u001b[49m\u001b[43mnum_qubits\u001b[49m\u001b[43m,\u001b[49m\u001b[43m \u001b[49m\u001b[43mm\u001b[49m\u001b[43m,\u001b[49m\u001b[43m \u001b[49m\u001b[43mk_m\u001b[49m\u001b[43m,\u001b[49m\u001b[43m \u001b[49m\u001b[43mn_m\u001b[49m\u001b[43m)\u001b[49m\n",
      "Input \u001b[1;32mIn [98]\u001b[0m, in \u001b[0;36mmachine_response_rb_universal_two_qubits_conditional\u001b[1;34m(qmachine, num_qubits, m, k_m, n_m)\u001b[0m\n\u001b[0;32m     30\u001b[0m prog \u001b[38;5;241m=\u001b[39m prog\u001b[38;5;241m.\u001b[39mwrap_in_numshots_loop(n_m)\n\u001b[0;32m     32\u001b[0m \u001b[38;5;66;03m#Run the program\u001b[39;00m\n\u001b[1;32m---> 33\u001b[0m executable \u001b[38;5;241m=\u001b[39m \u001b[43mqmachine\u001b[49m\u001b[38;5;241;43m.\u001b[39;49m\u001b[43mcompile\u001b[49m\u001b[43m(\u001b[49m\u001b[43mprog\u001b[49m\u001b[43m)\u001b[49m\n\u001b[0;32m     34\u001b[0m result \u001b[38;5;241m=\u001b[39m qmachine\u001b[38;5;241m.\u001b[39mrun(executable)\n\u001b[0;32m     35\u001b[0m measured_outcome \u001b[38;5;241m=\u001b[39m result\u001b[38;5;241m.\u001b[39mreadout_data\u001b[38;5;241m.\u001b[39mget(\u001b[38;5;124m'\u001b[39m\u001b[38;5;124mro\u001b[39m\u001b[38;5;124m'\u001b[39m)\n",
      "File \u001b[1;32mC:\\ProgramData\\Anaconda3\\lib\\site-packages\\pyquil\\api\\_quantum_computer.py:399\u001b[0m, in \u001b[0;36mQuantumComputer.compile\u001b[1;34m(self, program, to_native_gates, optimize, protoquil)\u001b[0m\n\u001b[0;32m    396\u001b[0m quilc \u001b[38;5;241m=\u001b[39m \u001b[38;5;28mall\u001b[39m(flags)\n\u001b[0;32m    398\u001b[0m \u001b[38;5;28;01mif\u001b[39;00m quilc:\n\u001b[1;32m--> 399\u001b[0m     nq_program \u001b[38;5;241m=\u001b[39m \u001b[38;5;28;43mself\u001b[39;49m\u001b[38;5;241;43m.\u001b[39;49m\u001b[43mcompiler\u001b[49m\u001b[38;5;241;43m.\u001b[39;49m\u001b[43mquil_to_native_quil\u001b[49m\u001b[43m(\u001b[49m\u001b[43mprogram\u001b[49m\u001b[43m,\u001b[49m\u001b[43m \u001b[49m\u001b[43mprotoquil\u001b[49m\u001b[38;5;241;43m=\u001b[39;49m\u001b[43mprotoquil\u001b[49m\u001b[43m)\u001b[49m\n\u001b[0;32m    400\u001b[0m \u001b[38;5;28;01melse\u001b[39;00m:\n\u001b[0;32m    401\u001b[0m     nq_program \u001b[38;5;241m=\u001b[39m program\n",
      "File \u001b[1;32mC:\\ProgramData\\Anaconda3\\lib\\site-packages\\pyquil\\api\\_abstract_compiler.py:123\u001b[0m, in \u001b[0;36mAbstractCompiler.quil_to_native_quil\u001b[1;34m(self, program, protoquil)\u001b[0m\n\u001b[0;32m    117\u001b[0m compiler_isa \u001b[38;5;241m=\u001b[39m \u001b[38;5;28mself\u001b[39m\u001b[38;5;241m.\u001b[39mquantum_processor\u001b[38;5;241m.\u001b[39mto_compiler_isa()\n\u001b[0;32m    118\u001b[0m request \u001b[38;5;241m=\u001b[39m CompileToNativeQuilRequest(\n\u001b[0;32m    119\u001b[0m     program\u001b[38;5;241m=\u001b[39mprogram\u001b[38;5;241m.\u001b[39mout(calibrations\u001b[38;5;241m=\u001b[39m\u001b[38;5;28;01mFalse\u001b[39;00m),\n\u001b[0;32m    120\u001b[0m     target_quantum_processor\u001b[38;5;241m=\u001b[39mcompiler_isa_to_target_quantum_processor(compiler_isa),\n\u001b[0;32m    121\u001b[0m     protoquil\u001b[38;5;241m=\u001b[39mprotoquil,\n\u001b[0;32m    122\u001b[0m )\n\u001b[1;32m--> 123\u001b[0m response \u001b[38;5;241m=\u001b[39m \u001b[38;5;28;43mself\u001b[39;49m\u001b[38;5;241;43m.\u001b[39;49m\u001b[43m_compiler_client\u001b[49m\u001b[38;5;241;43m.\u001b[39;49m\u001b[43mcompile_to_native_quil\u001b[49m\u001b[43m(\u001b[49m\u001b[43mrequest\u001b[49m\u001b[43m)\u001b[49m\n\u001b[0;32m    125\u001b[0m nq_program \u001b[38;5;241m=\u001b[39m parse_program(response\u001b[38;5;241m.\u001b[39mnative_program)\n\u001b[0;32m    126\u001b[0m nq_program\u001b[38;5;241m.\u001b[39mnative_quil_metadata \u001b[38;5;241m=\u001b[39m (\n\u001b[0;32m    127\u001b[0m     \u001b[38;5;28;01mNone\u001b[39;00m\n\u001b[0;32m    128\u001b[0m     \u001b[38;5;28;01mif\u001b[39;00m response\u001b[38;5;241m.\u001b[39mmetadata \u001b[38;5;129;01mis\u001b[39;00m \u001b[38;5;28;01mNone\u001b[39;00m\n\u001b[1;32m   (...)\u001b[0m\n\u001b[0;32m    138\u001b[0m     )\n\u001b[0;32m    139\u001b[0m )\n",
      "File \u001b[1;32mC:\\ProgramData\\Anaconda3\\lib\\site-packages\\pyquil\\api\\_compiler_client.py:188\u001b[0m, in \u001b[0;36mCompilerClient.compile_to_native_quil\u001b[1;34m(self, request)\u001b[0m\n\u001b[0;32m    183\u001b[0m rpcq_request \u001b[38;5;241m=\u001b[39m rpcq\u001b[38;5;241m.\u001b[39mmessages\u001b[38;5;241m.\u001b[39mNativeQuilRequest(\n\u001b[0;32m    184\u001b[0m     quil\u001b[38;5;241m=\u001b[39mrequest\u001b[38;5;241m.\u001b[39mprogram,\n\u001b[0;32m    185\u001b[0m     target_device\u001b[38;5;241m=\u001b[39mrequest\u001b[38;5;241m.\u001b[39mtarget_quantum_processor,\n\u001b[0;32m    186\u001b[0m )\n\u001b[0;32m    187\u001b[0m \u001b[38;5;28;01mwith\u001b[39;00m \u001b[38;5;28mself\u001b[39m\u001b[38;5;241m.\u001b[39m_rpcq_client() \u001b[38;5;28;01mas\u001b[39;00m rpcq_client:  \u001b[38;5;66;03m# type: rpcq.Client\u001b[39;00m\n\u001b[1;32m--> 188\u001b[0m     response: rpcq\u001b[38;5;241m.\u001b[39mmessages\u001b[38;5;241m.\u001b[39mNativeQuilResponse \u001b[38;5;241m=\u001b[39m \u001b[43mrpcq_client\u001b[49m\u001b[38;5;241;43m.\u001b[39;49m\u001b[43mcall\u001b[49m\u001b[43m(\u001b[49m\n\u001b[0;32m    189\u001b[0m \u001b[43m        \u001b[49m\u001b[38;5;124;43m\"\u001b[39;49m\u001b[38;5;124;43mquil_to_native_quil\u001b[39;49m\u001b[38;5;124;43m\"\u001b[39;49m\u001b[43m,\u001b[49m\n\u001b[0;32m    190\u001b[0m \u001b[43m        \u001b[49m\u001b[43mrpcq_request\u001b[49m\u001b[43m,\u001b[49m\n\u001b[0;32m    191\u001b[0m \u001b[43m        \u001b[49m\u001b[43mprotoquil\u001b[49m\u001b[38;5;241;43m=\u001b[39;49m\u001b[43mrequest\u001b[49m\u001b[38;5;241;43m.\u001b[39;49m\u001b[43mprotoquil\u001b[49m\u001b[43m,\u001b[49m\n\u001b[0;32m    192\u001b[0m \u001b[43m    \u001b[49m\u001b[43m)\u001b[49m\n\u001b[0;32m    193\u001b[0m     metadata: Optional[NativeQuilMetadataResponse] \u001b[38;5;241m=\u001b[39m \u001b[38;5;28;01mNone\u001b[39;00m\n\u001b[0;32m    194\u001b[0m     \u001b[38;5;28;01mif\u001b[39;00m response\u001b[38;5;241m.\u001b[39mmetadata \u001b[38;5;129;01mis\u001b[39;00m \u001b[38;5;129;01mnot\u001b[39;00m \u001b[38;5;28;01mNone\u001b[39;00m:\n",
      "File \u001b[1;32mC:\\ProgramData\\Anaconda3\\lib\\site-packages\\rpcq\\_client.py:186\u001b[0m, in \u001b[0;36mClient.call\u001b[1;34m(self, method_name, rpc_timeout, *args, **kwargs)\u001b[0m\n\u001b[0;32m    181\u001b[0m \u001b[38;5;28;01mwhile\u001b[39;00m \u001b[38;5;28;01mTrue\u001b[39;00m:\n\u001b[0;32m    182\u001b[0m     \u001b[38;5;66;03m# Need to keep track of timeout manually in case this loop runs more than once. We subtract off already\u001b[39;00m\n\u001b[0;32m    183\u001b[0m     \u001b[38;5;66;03m# elapsed time from the timeout. The call to max is to make sure we don't send a negative value\u001b[39;00m\n\u001b[0;32m    184\u001b[0m     \u001b[38;5;66;03m# which would throw an error.\u001b[39;00m\n\u001b[0;32m    185\u001b[0m     timeout \u001b[38;5;241m=\u001b[39m \u001b[38;5;28mmax\u001b[39m((start_time \u001b[38;5;241m+\u001b[39m rpc_timeout \u001b[38;5;241m-\u001b[39m time\u001b[38;5;241m.\u001b[39mtime()) \u001b[38;5;241m*\u001b[39m \u001b[38;5;241m1000\u001b[39m, \u001b[38;5;241m0\u001b[39m) \u001b[38;5;28;01mif\u001b[39;00m rpc_timeout \u001b[38;5;129;01mis\u001b[39;00m \u001b[38;5;129;01mnot\u001b[39;00m \u001b[38;5;28;01mNone\u001b[39;00m \u001b[38;5;28;01melse\u001b[39;00m \u001b[38;5;28;01mNone\u001b[39;00m\n\u001b[1;32m--> 186\u001b[0m     \u001b[38;5;28;01mif\u001b[39;00m \u001b[38;5;28;43mself\u001b[39;49m\u001b[38;5;241;43m.\u001b[39;49m\u001b[43m_socket\u001b[49m\u001b[38;5;241;43m.\u001b[39;49m\u001b[43mpoll\u001b[49m\u001b[43m(\u001b[49m\u001b[43mtimeout\u001b[49m\u001b[43m)\u001b[49m \u001b[38;5;241m==\u001b[39m \u001b[38;5;241m0\u001b[39m:\n\u001b[0;32m    187\u001b[0m         \u001b[38;5;28;01mraise\u001b[39;00m \u001b[38;5;167;01mTimeoutError\u001b[39;00m(\u001b[38;5;124mf\u001b[39m\u001b[38;5;124m\"\u001b[39m\u001b[38;5;124mTimeout on client \u001b[39m\u001b[38;5;132;01m{\u001b[39;00m\u001b[38;5;28mself\u001b[39m\u001b[38;5;241m.\u001b[39mendpoint\u001b[38;5;132;01m}\u001b[39;00m\u001b[38;5;124m, method name \u001b[39m\u001b[38;5;132;01m{\u001b[39;00mmethod_name\u001b[38;5;132;01m}\u001b[39;00m\u001b[38;5;124m, class info: \u001b[39m\u001b[38;5;132;01m{\u001b[39;00m\u001b[38;5;28mself\u001b[39m\u001b[38;5;132;01m}\u001b[39;00m\u001b[38;5;124m\"\u001b[39m)\n\u001b[0;32m    189\u001b[0m     raw_reply, \u001b[38;5;241m=\u001b[39m \u001b[38;5;28mself\u001b[39m\u001b[38;5;241m.\u001b[39m_socket\u001b[38;5;241m.\u001b[39mrecv_multipart()\n",
      "File \u001b[1;32mC:\\ProgramData\\Anaconda3\\lib\\site-packages\\zmq\\sugar\\socket.py:852\u001b[0m, in \u001b[0;36mSocket.poll\u001b[1;34m(self, timeout, flags)\u001b[0m\n\u001b[0;32m    850\u001b[0m p \u001b[38;5;241m=\u001b[39m \u001b[38;5;28mself\u001b[39m\u001b[38;5;241m.\u001b[39m_poller_class()\n\u001b[0;32m    851\u001b[0m p\u001b[38;5;241m.\u001b[39mregister(\u001b[38;5;28mself\u001b[39m, flags)\n\u001b[1;32m--> 852\u001b[0m evts \u001b[38;5;241m=\u001b[39m \u001b[38;5;28mdict\u001b[39m(\u001b[43mp\u001b[49m\u001b[38;5;241;43m.\u001b[39;49m\u001b[43mpoll\u001b[49m\u001b[43m(\u001b[49m\u001b[43mtimeout\u001b[49m\u001b[43m)\u001b[49m)\n\u001b[0;32m    853\u001b[0m \u001b[38;5;66;03m# return 0 if no events, otherwise return event bitfield\u001b[39;00m\n\u001b[0;32m    854\u001b[0m \u001b[38;5;28;01mreturn\u001b[39;00m evts\u001b[38;5;241m.\u001b[39mget(\u001b[38;5;28mself\u001b[39m, \u001b[38;5;241m0\u001b[39m)\n",
      "File \u001b[1;32mC:\\ProgramData\\Anaconda3\\lib\\site-packages\\zmq\\sugar\\poll.py:105\u001b[0m, in \u001b[0;36mPoller.poll\u001b[1;34m(self, timeout)\u001b[0m\n\u001b[0;32m    103\u001b[0m \u001b[38;5;28;01melif\u001b[39;00m \u001b[38;5;28misinstance\u001b[39m(timeout, \u001b[38;5;28mfloat\u001b[39m):\n\u001b[0;32m    104\u001b[0m     timeout \u001b[38;5;241m=\u001b[39m \u001b[38;5;28mint\u001b[39m(timeout)\n\u001b[1;32m--> 105\u001b[0m \u001b[38;5;28;01mreturn\u001b[39;00m \u001b[43mzmq_poll\u001b[49m\u001b[43m(\u001b[49m\u001b[38;5;28;43mself\u001b[39;49m\u001b[38;5;241;43m.\u001b[39;49m\u001b[43msockets\u001b[49m\u001b[43m,\u001b[49m\u001b[43m \u001b[49m\u001b[43mtimeout\u001b[49m\u001b[38;5;241;43m=\u001b[39;49m\u001b[43mtimeout\u001b[49m\u001b[43m)\u001b[49m\n",
      "File \u001b[1;32mzmq\\backend\\cython\\_poll.pyx:117\u001b[0m, in \u001b[0;36mzmq.backend.cython._poll.zmq_poll\u001b[1;34m()\u001b[0m\n",
      "File \u001b[1;32mC:\\ProgramData\\Anaconda3\\lib\\site-packages\\zmq\\backend\\cython\\checkrc.pxd:13\u001b[0m, in \u001b[0;36mzmq.backend.cython.checkrc._check_rc\u001b[1;34m()\u001b[0m\n",
      "\u001b[1;31mKeyboardInterrupt\u001b[0m: "
     ]
    }
   ],
   "source": [
    "if __name__ == \"__main__\":\n",
    "#     qc = get_qc( str(num_qubits) + 'q-qvm')  # You can make any 'nq-qvm'\n",
    "    qc = get_qc(\"9q-square-noisy-qvm\")\n",
    "    response = machine_response_rb_universal_two_qubits_conditional(qc, num_qubits, m, k_m, n_m)\n"
   ]
  },
  {
   "cell_type": "code",
   "execution_count": 100,
   "id": "e958f885-95fe-48f6-aced-d776e398d271",
   "metadata": {},
   "outputs": [
    {
     "name": "stderr",
     "output_type": "stream",
     "text": [
      "[NbConvertApp] Converting notebook RB_with_Rigetti_native_gates_conditional_probability_two_qubits.ipynb to python\n",
      "[NbConvertApp] Writing 3367 bytes to RB_with_Rigetti_native_gates_conditional_probability_two_qubits.py\n"
     ]
    }
   ],
   "source": [
    "if __name__ == \"__main__\":\n",
    "    !jupyter nbconvert RB_with_Rigetti_native_gates_conditional_probability_two_qubits.ipynb --to python"
   ]
  },
  {
   "cell_type": "code",
   "execution_count": null,
   "id": "b7d469eb",
   "metadata": {},
   "outputs": [],
   "source": []
  },
  {
   "cell_type": "code",
   "execution_count": null,
   "id": "751ac796",
   "metadata": {},
   "outputs": [],
   "source": []
  }
 ],
 "metadata": {
  "kernelspec": {
   "display_name": "Python 3 (ipykernel)",
   "language": "python",
   "name": "python3"
  },
  "language_info": {
   "codemirror_mode": {
    "name": "ipython",
    "version": 3
   },
   "file_extension": ".py",
   "mimetype": "text/x-python",
   "name": "python",
   "nbconvert_exporter": "python",
   "pygments_lexer": "ipython3",
   "version": "3.9.12"
  }
 },
 "nbformat": 4,
 "nbformat_minor": 5
}
