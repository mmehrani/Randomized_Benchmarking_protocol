{
 "cells": [
  {
   "cell_type": "markdown",
   "id": "edc2b0e3",
   "metadata": {},
   "source": [
    "# Benchmark with conditional formating\n",
    "All we need in the protocal is the Haar-random unitaries. A random unitary can be represeted by rotation matrices like this:\n",
    "\n",
    "In this project we benchmark with those conditional probabilities"
   ]
  },
  {
   "cell_type": "code",
   "execution_count": 1,
   "id": "36eb5a08",
   "metadata": {},
   "outputs": [],
   "source": [
    "from pyquil import get_qc, Program\n",
    "from pyquil.gates import *\n",
    "from pyquil.api import local_forest_runtime\n",
    "from pyquil.quilbase import Declare\n",
    "from pyquil.simulation.tools import lifted_gate, program_unitary\n",
    "from pyquil.quil import *"
   ]
  },
  {
   "cell_type": "code",
   "execution_count": 2,
   "id": "dec19c7c",
   "metadata": {},
   "outputs": [],
   "source": [
    "import numpy as np\n",
    "import math\n",
    "from math import pi\n",
    "import random\n",
    "import copy\n",
    "from tqdm import tqdm_notebook as tqdm"
   ]
  },
  {
   "cell_type": "code",
   "execution_count": 3,
   "id": "8d2c6ea3",
   "metadata": {},
   "outputs": [],
   "source": [
    "from functions import *"
   ]
  },
  {
   "cell_type": "code",
   "execution_count": 15,
   "id": "cd9c0755",
   "metadata": {},
   "outputs": [],
   "source": [
    "if __name__ == \"__main__\":\n",
    "    num_qubits = 2\n",
    "\n",
    "#     First step choose m and the K_m sequences of \n",
    "    m = 1\n",
    "    k_m = 5 #n. of diff sequences\n",
    "    n_m = 5  #n. of samples from a certain sequence\n"
   ]
  },
  {
   "cell_type": "code",
   "execution_count": 16,
   "id": "2c60aa86",
   "metadata": {},
   "outputs": [],
   "source": [
    "def universal_two_qubits_packs_generator(qmachine, num_layer):\n",
    "    list_gates = []\n",
    "    for index in range(num_layer):\n",
    "        draft_circuit = give_random_two_qubit_circuit([0,1])\n",
    "        list_gates.extend( qmachine.compiler.quil_to_native_quil(draft_circuit) )\n",
    "    list_gates = [ ins for ins in list_gates if isinstance(ins, Gate)]\n",
    "    return list_gates"
   ]
  },
  {
   "cell_type": "code",
   "execution_count": 17,
   "id": "7f77c4a0",
   "metadata": {},
   "outputs": [],
   "source": [
    "def machine_response_rb_universal_two_qubits_conditional(qmachine, num_qubits, m, k_m, n_m):\n",
    "    \"\"\"\n",
    "    It samples and record the accept or reject of the machine with native gates chosen with conditions for rigetti.\n",
    "    ::return response_matrix including accepts and rejects in columns\n",
    "    \"\"\"\n",
    "    response_matrix = np.zeros((k_m,n_m))\n",
    "    \n",
    "    for i_sequ in tqdm(range(k_m), desc = 'Sequences'):\n",
    "        gate_list = universal_two_qubits_packs_generator(qmachine, m)\n",
    "        prog = Program() #All qubits begin with |0> state\n",
    "        \n",
    "        for gate in gate_list:\n",
    "            prog += gate\n",
    "        \n",
    "        #Come back to our initial state\n",
    "#         for gate in reversed(gate_list):\n",
    "# #             prog += copy.deepcopy(gate).dagger() #dagger has replacing operations\n",
    "#             gate_daggered = copy.deepcopy(gate)\n",
    "#             gate_daggered.params[0] *= -1 #make daggered rotation \n",
    "#             prog += gate_daggered\n",
    "        u_inverse_definition = DefGate('U_inverse', np.linalg.inv(program_unitary(prog, n_qubits=2)))\n",
    "        U_inverse = u_inverse_definition.get_constructor()\n",
    "        \n",
    "        prog += u_inverse_definition\n",
    "        prog += qmachine.compiler.quil_to_native_quil(Program(U_inverse(target_qubits)))\n",
    "        \n",
    "        #Do not let the quilc to alter the gates by optimization\n",
    "        prog = Program('PRAGMA PRESERVE_BLOCK') + prog\n",
    "        prog += Program('PRAGMA END_PRESERVE_BLOCK')\n",
    "        \n",
    "        #Measurments\n",
    "        ro = prog.declare('ro', 'BIT', num_qubits)\n",
    "        for q in range(num_qubits):\n",
    "            prog += MEASURE(q, ro[q])\n",
    "        prog = prog.wrap_in_numshots_loop(n_m)\n",
    "\n",
    "        #Run the program\n",
    "        executable = qmachine.compile(prog)\n",
    "        result = qmachine.run(executable)\n",
    "        measured_outcome = result.readout_data.get('ro')\n",
    "\n",
    "        response_matrix[i_sequ,:] = 1 - np.bool_(np.sum(measured_outcome, axis = 1)) # 1 if it is equal to n_zero state\n",
    "    return response_matrix, executable"
   ]
  },
  {
   "cell_type": "code",
   "execution_count": 18,
   "id": "62850f1b",
   "metadata": {},
   "outputs": [
    {
     "name": "stderr",
     "output_type": "stream",
     "text": [
      "C:\\Users\\mohsen\\AppData\\Local\\Temp\\ipykernel_14440\\1860830255.py:8: TqdmDeprecationWarning: This function will be removed in tqdm==5.0.0\n",
      "Please use `tqdm.notebook.tqdm` instead of `tqdm.tqdm_notebook`\n",
      "  for i_sequ in tqdm(range(k_m), desc = 'Sequences'):\n"
     ]
    },
    {
     "data": {
      "application/vnd.jupyter.widget-view+json": {
       "model_id": "98628bc4e9f742b398070125a57440e3",
       "version_major": 2,
       "version_minor": 0
      },
      "text/plain": [
       "Sequences:   0%|          | 0/5 [00:00<?, ?it/s]"
      ]
     },
     "metadata": {},
     "output_type": "display_data"
    }
   ],
   "source": [
    "if __name__ == \"__main__\":\n",
    "#     qc = get_qc( str(num_qubits) + 'q-qvm')  # You can make any 'nq-qvm'\n",
    "    qc = get_qc(\"9q-square-noisy-qvm\")\n",
    "    response, executable = machine_response_rb_universal_two_qubits_conditional(qc, num_qubits, m, k_m, n_m)\n"
   ]
  },
  {
   "cell_type": "code",
   "execution_count": 19,
   "id": "e958f885-95fe-48f6-aced-d776e398d271",
   "metadata": {},
   "outputs": [],
   "source": [
    "# if __name__ == \"__main__\":\n",
    "#     !jupyter nbconvert RB_with_Rigetti_native_gates_conditional_probability_two_qubits.ipynb --to python"
   ]
  },
  {
   "cell_type": "code",
   "execution_count": 20,
   "id": "0a98aa52",
   "metadata": {},
   "outputs": [
    {
     "name": "stdout",
     "output_type": "stream",
     "text": [
      "41\n"
     ]
    }
   ],
   "source": [
    "print(len(executable))"
   ]
  },
  {
   "cell_type": "code",
   "execution_count": 21,
   "id": "9b789d2e",
   "metadata": {},
   "outputs": [
    {
     "name": "stdout",
     "output_type": "stream",
     "text": [
      "DEFGATE U_inverse:\n",
      "    -0.060758970263272115+0.3369153865169795i, 0.7369819335893378-0.18176139613229572i, 0.5245981539189907+0.09264896319550353i, 0.09667506378313864+0.11611921833068549i\n",
      "    0.30716818143452196-0.18350210473833664i, -0.06250040074351415-0.013034634525186843i, 0.4029871329528485+0.14628740748650398i, -0.8026446383043141-0.1996532838877445i\n",
      "    0.525379165048792+0.49199519458803836i, 0.08086120153326942+0.5265135168784146i, -0.11167345918824813-0.4203408903733145i, -0.07378819845597273+0.059668419013329796i\n",
      "    0.009627877927138229-0.4864111646878594i, 0.02539368379142779+0.3678917858597443i, 0.4782867397067181-0.3383765367497009i, 0.37869117761053017-0.37504450876128465i\n",
      "\n",
      "DECLARE ro BIT[2]\n",
      "RZ(-0.5746488128618452) 0\n",
      "RX(pi/2) 0\n",
      "RZ(2.3081088883517342) 0\n",
      "RX(-pi/2) 0\n",
      "RZ(-0.4736209864636214) 0\n",
      "RZ(-0.3817309888514139) 1\n",
      "RX(pi/2) 1\n",
      "RZ(1.0269783330927444) 1\n",
      "RX(-pi/2) 1\n",
      "RZ(-2.9248592209925763) 1\n",
      "XY(pi) 1 0\n",
      "RZ(pi/2) 0\n",
      "RX(pi/2) 0\n",
      "RZ(pi/2) 0\n",
      "RX(-pi/2) 0\n",
      "RZ(-2.7889649067582885) 0\n",
      "RZ(-pi) 1\n",
      "RX(pi/2) 1\n",
      "RZ(2.8213218743974178) 1\n",
      "RX(-pi/2) 1\n",
      "RZ(pi/2) 1\n",
      "XY(pi) 1 0\n",
      "RX(pi/2) 0\n",
      "RZ(0.9983029579314592) 0\n",
      "RX(-pi/2) 0\n",
      "RX(pi/2) 1\n",
      "RZ(pi/2) 1\n",
      "RX(-pi/2) 1\n",
      "XY(pi) 1 0\n",
      "RZ(-0.5999301516163003) 0\n",
      "RX(pi/2) 0\n",
      "RZ(2.8550000916360223) 0\n",
      "RX(-pi/2) 0\n",
      "RZ(0.10464677702896709) 0\n",
      "RZ(1.0233701180936856) 1\n",
      "RX(pi/2) 1\n",
      "RZ(1.3985710421995092) 1\n",
      "RX(-pi/2) 1\n",
      "RZ(-3.652754438054577) 1\n",
      "HALT\n",
      "\n"
     ]
    }
   ],
   "source": [
    "print(executable)"
   ]
  },
  {
   "cell_type": "code",
   "execution_count": null,
   "id": "078c3298",
   "metadata": {},
   "outputs": [],
   "source": []
  }
 ],
 "metadata": {
  "kernelspec": {
   "display_name": "Python 3 (ipykernel)",
   "language": "python",
   "name": "python3"
  },
  "language_info": {
   "codemirror_mode": {
    "name": "ipython",
    "version": 3
   },
   "file_extension": ".py",
   "mimetype": "text/x-python",
   "name": "python",
   "nbconvert_exporter": "python",
   "pygments_lexer": "ipython3",
   "version": "3.9.12"
  }
 },
 "nbformat": 4,
 "nbformat_minor": 5
}
