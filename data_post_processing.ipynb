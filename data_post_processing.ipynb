{
 "cells": [
  {
   "cell_type": "markdown",
   "id": "3fbaee54",
   "metadata": {},
   "source": [
    "# Process of Benchmarking data"
   ]
  },
  {
   "cell_type": "code",
   "execution_count": 1,
   "id": "117d8a14",
   "metadata": {},
   "outputs": [],
   "source": [
    "from functions import *\n",
    "from tqdm import tqdm\n",
    "import matplotlib.pyplot as plt\n",
    "import os\n",
    "import numpy as np\n",
    "import seaborn as sns\n",
    "import pandas as pd\n",
    "from scipy.optimize import curve_fit"
   ]
  },
  {
   "cell_type": "code",
   "execution_count": 2,
   "id": "835c642e",
   "metadata": {},
   "outputs": [],
   "source": [
    "sns.set_theme(context='paper', font= 'Serif', style = 'ticks')"
   ]
  },
  {
   "cell_type": "code",
   "execution_count": 17,
   "id": "80a43c58",
   "metadata": {},
   "outputs": [],
   "source": [
    "# target_qubits = [41,42]\n",
    "target_qubits = [0]\n",
    "n_qubits = len(target_qubits)\n",
    "\n",
    "# epsilon = 0.01\n",
    "# machine_title = '2q-qvm'\n",
    "machine_title = 'Aspen-M-3'\n",
    "# noise_model = 'depolarising_noise'\n",
    "noisy_machine = machine_title\n",
    "\n",
    "# noisy_machine = 'depolarising_noise' + '_epsilon{}'.format(epsilon)\n",
    "# noise_model = 'z_noise'\n",
    "path = os.path.join( os.getcwd(), 'output_storage', noisy_machine)"
   ]
  },
  {
   "cell_type": "code",
   "execution_count": null,
   "id": "f6b209b0",
   "metadata": {},
   "outputs": [],
   "source": []
  },
  {
   "cell_type": "code",
   "execution_count": 18,
   "id": "4c524226",
   "metadata": {},
   "outputs": [],
   "source": [
    "avg_fdlty_dict = {}\n",
    "err_fdlty_dict = {}\n",
    "ordered_layers_dict = {}"
   ]
  },
  {
   "cell_type": "code",
   "execution_count": 19,
   "id": "7651e63e",
   "metadata": {},
   "outputs": [],
   "source": [
    "def capture_bench_dataframe(path):\n",
    "    dataframe = pd.read_csv(os.path.join(path, '{}.csv'.format(machine_title) ) )\n",
    "    dataframe = dataframe[dataframe['target qubits'] == str(target_qubits)]\n",
    "    return dataframe\n",
    "\n",
    "def filter_large_errors(dataframe):\n",
    "    return dataframe[dataframe['error of fidelity'] <= 0.05]\n",
    "\n",
    "def capture_bench_arrays(dataframe, version_name):\n",
    "    dataframe = dataframe[ dataframe['protocol name'] == version_name ]\n",
    "    ordered_layers = dataframe['circuit depth']\n",
    "    avg_fdlty_arr = dataframe['average of fidelity']\n",
    "    err_fdlty_arr = dataframe['error of fidelity']\n",
    "    return ordered_layers, avg_fdlty_arr, err_fdlty_arr"
   ]
  },
  {
   "cell_type": "code",
   "execution_count": 20,
   "id": "35741005",
   "metadata": {},
   "outputs": [],
   "source": [
    "df = capture_bench_dataframe(path)"
   ]
  },
  {
   "cell_type": "code",
   "execution_count": 21,
   "id": "e5966a92",
   "metadata": {},
   "outputs": [],
   "source": [
    "df = filter_large_errors(df)"
   ]
  },
  {
   "cell_type": "code",
   "execution_count": 22,
   "id": "64017ee5",
   "metadata": {},
   "outputs": [],
   "source": [
    "bench_versions = df['protocol name'].unique()\n",
    "for version in bench_versions:\n",
    "    avg_fdlty_dict[version] = []\n",
    "    err_fdlty_dict[version] = []\n",
    "    ordered_layers_dict[version] = []\n",
    "\n",
    "    try:\n",
    "        ordered_layers, avg_fdlty_arr, err_fdlty_arr = capture_bench_arrays(df, version)\n",
    "        avg_fdlty_dict[version] = avg_fdlty_arr\n",
    "        err_fdlty_dict[version] = err_fdlty_arr\n",
    "        ordered_layers_dict[version] = ordered_layers\n",
    "    except:\n",
    "        pass"
   ]
  },
  {
   "cell_type": "code",
   "execution_count": null,
   "id": "2d7dfafa",
   "metadata": {},
   "outputs": [],
   "source": []
  },
  {
   "cell_type": "code",
   "execution_count": 23,
   "id": "1260271a",
   "metadata": {},
   "outputs": [
    {
     "data": {
      "text/html": [
       "<div>\n",
       "<style scoped>\n",
       "    .dataframe tbody tr th:only-of-type {\n",
       "        vertical-align: middle;\n",
       "    }\n",
       "\n",
       "    .dataframe tbody tr th {\n",
       "        vertical-align: top;\n",
       "    }\n",
       "\n",
       "    .dataframe thead th {\n",
       "        text-align: right;\n",
       "    }\n",
       "</style>\n",
       "<table border=\"1\" class=\"dataframe\">\n",
       "  <thead>\n",
       "    <tr style=\"text-align: right;\">\n",
       "      <th></th>\n",
       "      <th>date</th>\n",
       "      <th>target qubits</th>\n",
       "      <th>number of sequences</th>\n",
       "      <th>number of shots</th>\n",
       "      <th>protocol name</th>\n",
       "      <th>circuit depth</th>\n",
       "      <th>average of fidelity</th>\n",
       "      <th>error of fidelity</th>\n",
       "    </tr>\n",
       "  </thead>\n",
       "  <tbody>\n",
       "    <tr>\n",
       "      <th>8</th>\n",
       "      <td>2023-01-26</td>\n",
       "      <td>[0]</td>\n",
       "      <td>50</td>\n",
       "      <td>200</td>\n",
       "      <td>native_conditional_single_qubit</td>\n",
       "      <td>10</td>\n",
       "      <td>0.8788</td>\n",
       "      <td>0.027469</td>\n",
       "    </tr>\n",
       "    <tr>\n",
       "      <th>9</th>\n",
       "      <td>2023-01-26</td>\n",
       "      <td>[0]</td>\n",
       "      <td>50</td>\n",
       "      <td>200</td>\n",
       "      <td>native_conditional_single_qubit</td>\n",
       "      <td>15</td>\n",
       "      <td>0.8936</td>\n",
       "      <td>0.028531</td>\n",
       "    </tr>\n",
       "    <tr>\n",
       "      <th>10</th>\n",
       "      <td>2023-01-26</td>\n",
       "      <td>[0]</td>\n",
       "      <td>50</td>\n",
       "      <td>200</td>\n",
       "      <td>native_conditional_single_qubit</td>\n",
       "      <td>20</td>\n",
       "      <td>0.8366</td>\n",
       "      <td>0.033859</td>\n",
       "    </tr>\n",
       "    <tr>\n",
       "      <th>11</th>\n",
       "      <td>2023-01-17</td>\n",
       "      <td>[0]</td>\n",
       "      <td>50</td>\n",
       "      <td>50</td>\n",
       "      <td>native_conditional_single_qubit</td>\n",
       "      <td>10</td>\n",
       "      <td>0.9044</td>\n",
       "      <td>0.035842</td>\n",
       "    </tr>\n",
       "    <tr>\n",
       "      <th>17</th>\n",
       "      <td>2023-01-15</td>\n",
       "      <td>[0]</td>\n",
       "      <td>50</td>\n",
       "      <td>50</td>\n",
       "      <td>native_conditional_single_qubit</td>\n",
       "      <td>0</td>\n",
       "      <td>0.9432</td>\n",
       "      <td>0.033072</td>\n",
       "    </tr>\n",
       "    <tr>\n",
       "      <th>18</th>\n",
       "      <td>2023-01-15</td>\n",
       "      <td>[0]</td>\n",
       "      <td>50</td>\n",
       "      <td>50</td>\n",
       "      <td>native_conditional_single_qubit</td>\n",
       "      <td>1</td>\n",
       "      <td>0.9352</td>\n",
       "      <td>0.036783</td>\n",
       "    </tr>\n",
       "    <tr>\n",
       "      <th>19</th>\n",
       "      <td>2023-01-15</td>\n",
       "      <td>[0]</td>\n",
       "      <td>50</td>\n",
       "      <td>50</td>\n",
       "      <td>native_conditional_single_qubit</td>\n",
       "      <td>2</td>\n",
       "      <td>0.9344</td>\n",
       "      <td>0.035336</td>\n",
       "    </tr>\n",
       "    <tr>\n",
       "      <th>20</th>\n",
       "      <td>2023-01-15</td>\n",
       "      <td>[0]</td>\n",
       "      <td>50</td>\n",
       "      <td>50</td>\n",
       "      <td>native_conditional_single_qubit</td>\n",
       "      <td>3</td>\n",
       "      <td>0.9248</td>\n",
       "      <td>0.035679</td>\n",
       "    </tr>\n",
       "    <tr>\n",
       "      <th>21</th>\n",
       "      <td>2023-01-15</td>\n",
       "      <td>[0]</td>\n",
       "      <td>50</td>\n",
       "      <td>50</td>\n",
       "      <td>native_conditional_single_qubit</td>\n",
       "      <td>4</td>\n",
       "      <td>0.9240</td>\n",
       "      <td>0.042521</td>\n",
       "    </tr>\n",
       "  </tbody>\n",
       "</table>\n",
       "</div>"
      ],
      "text/plain": [
       "          date target qubits  number of sequences  number of shots  \\\n",
       "8   2023-01-26           [0]                   50              200   \n",
       "9   2023-01-26           [0]                   50              200   \n",
       "10  2023-01-26           [0]                   50              200   \n",
       "11  2023-01-17           [0]                   50               50   \n",
       "17  2023-01-15           [0]                   50               50   \n",
       "18  2023-01-15           [0]                   50               50   \n",
       "19  2023-01-15           [0]                   50               50   \n",
       "20  2023-01-15           [0]                   50               50   \n",
       "21  2023-01-15           [0]                   50               50   \n",
       "\n",
       "                      protocol name  circuit depth  average of fidelity  \\\n",
       "8   native_conditional_single_qubit             10               0.8788   \n",
       "9   native_conditional_single_qubit             15               0.8936   \n",
       "10  native_conditional_single_qubit             20               0.8366   \n",
       "11  native_conditional_single_qubit             10               0.9044   \n",
       "17  native_conditional_single_qubit              0               0.9432   \n",
       "18  native_conditional_single_qubit              1               0.9352   \n",
       "19  native_conditional_single_qubit              2               0.9344   \n",
       "20  native_conditional_single_qubit              3               0.9248   \n",
       "21  native_conditional_single_qubit              4               0.9240   \n",
       "\n",
       "    error of fidelity  \n",
       "8            0.027469  \n",
       "9            0.028531  \n",
       "10           0.033859  \n",
       "11           0.035842  \n",
       "17           0.033072  \n",
       "18           0.036783  \n",
       "19           0.035336  \n",
       "20           0.035679  \n",
       "21           0.042521  "
      ]
     },
     "execution_count": 23,
     "metadata": {},
     "output_type": "execute_result"
    }
   ],
   "source": [
    "df"
   ]
  },
  {
   "cell_type": "code",
   "execution_count": 24,
   "id": "4713a430",
   "metadata": {},
   "outputs": [
    {
     "data": {
      "text/plain": [
       "{'native_conditional_single_qubit': 8     0.027469\n",
       " 9     0.028531\n",
       " 10    0.033859\n",
       " 11    0.035842\n",
       " 17    0.033072\n",
       " 18    0.036783\n",
       " 19    0.035336\n",
       " 20    0.035679\n",
       " 21    0.042521\n",
       " Name: error of fidelity, dtype: float64}"
      ]
     },
     "execution_count": 24,
     "metadata": {},
     "output_type": "execute_result"
    }
   ],
   "source": [
    "err_fdlty_dict"
   ]
  },
  {
   "cell_type": "code",
   "execution_count": 25,
   "id": "5db3a48c",
   "metadata": {},
   "outputs": [],
   "source": []
  },
  {
   "cell_type": "code",
   "execution_count": 26,
   "id": "69e480b5",
   "metadata": {},
   "outputs": [
    {
     "data": {
      "text/plain": [
       "array(['native_conditional_single_qubit'], dtype=object)"
      ]
     },
     "execution_count": 26,
     "metadata": {},
     "output_type": "execute_result"
    }
   ],
   "source": [
    "bench_versions"
   ]
  },
  {
   "cell_type": "code",
   "execution_count": 28,
   "id": "9414841a",
   "metadata": {},
   "outputs": [
    {
     "data": {
      "image/png": "[encoded data removed]",
      "text/plain": [
       "<Figure size 432x288 with 1 Axes>"
      ]
     },
     "metadata": {},
     "output_type": "display_data"
    }
   ],
   "source": [
    "fig = plt.figure()\n",
    "ax = fig.add_subplot()\n",
    "\n",
    "\n",
    "# for version in ['native_conditional_conditional_two_qubits']:\n",
    "for version in ['native_conditional_single_qubit']:\n",
    "#     plot_bench_arrays(ax, version, epsilon)\n",
    "    plot_decay(ordered_layers_dict[version][:], avg_fdlty_dict[version][:],\n",
    "               err_fdlty_dict[version][:], label = version, axes = ax)\n",
    "\n",
    "# plt.loglog()\n",
    "ax.set_xlabel('Sequence length (m)', fontsize=18)\n",
    "ax.set_ylabel('Average of Fidelity', fontsize=16)\n",
    "ax.set_title(r'RB {}'.format(noisy_machine))\n",
    "\n",
    "plt.legend()\n",
    "\n",
    "fig.savefig(os.path.join(path, 'RB_{}.png'.format(target_qubits)))\n"
   ]
  },
  {
   "cell_type": "code",
   "execution_count": null,
   "id": "e2698427",
   "metadata": {},
   "outputs": [],
   "source": []
  },
  {
   "cell_type": "code",
   "execution_count": 16,
   "id": "16d9b4fb",
   "metadata": {},
   "outputs": [],
   "source": []
  },
  {
   "cell_type": "code",
   "execution_count": 18,
   "id": "b7dac353",
   "metadata": {},
   "outputs": [],
   "source": []
  },
  {
   "cell_type": "code",
   "execution_count": null,
   "id": "f333022c",
   "metadata": {},
   "outputs": [],
   "source": []
  }
 ],
 "metadata": {
  "kernelspec": {
   "display_name": "Python 3 (ipykernel)",
   "language": "python",
   "name": "python3"
  },
  "language_info": {
   "codemirror_mode": {
    "name": "ipython",
    "version": 3
   },
   "file_extension": ".py",
   "mimetype": "text/x-python",
   "name": "python",
   "nbconvert_exporter": "python",
   "pygments_lexer": "ipython3",
   "version": "3.9.12"
  }
 },
 "nbformat": 4,
 "nbformat_minor": 5
}
