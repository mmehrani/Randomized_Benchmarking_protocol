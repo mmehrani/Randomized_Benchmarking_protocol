{
 "cells": [
  {
   "cell_type": "code",
   "execution_count": 1,
   "metadata": {},
   "outputs": [],
   "source": [
    "from pyquil import get_qc, Program\n",
    "from pyquil.gates import CNOT, Z, H,S, MEASURE, I\n",
    "from pyquil.api import local_forest_runtime\n",
    "from pyquil.quilbase import Declare\n",
    "from pyquil.simulation.tools import lifted_gate, program_unitary\n",
    "from pyquil.quil import *"
   ]
  },
  {
   "cell_type": "code",
   "execution_count": 2,
   "metadata": {},
   "outputs": [],
   "source": [
    "import numpy as np\n",
    "import random"
   ]
  },
  {
   "cell_type": "code",
   "execution_count": 5,
   "metadata": {},
   "outputs": [],
   "source": [
    "num_qubits = 4"
   ]
  },
  {
   "cell_type": "code",
   "execution_count": 6,
   "metadata": {},
   "outputs": [
    {
     "name": "stdout",
     "output_type": "stream",
     "text": [
      "[[0 0 0 0]]\n"
     ]
    }
   ],
   "source": [
    "#First step choose m and the K_m sequences of Clifford group\n",
    "m = 10\n",
    "k_m = 1\n",
    "\n",
    "for _ in range(k_m):\n",
    "    j,k = random.sample( range(num_qubits), k = 2)\n",
    "    i,l = random.choices( range(num_qubits), k = 2)\n",
    "    \n",
    "    c_jm =  random.choices([ H(i), CNOT(j,k), S(l) ], k = m)\n",
    "    \n",
    "    #compute the unitary of circuit U\n",
    "    prog = Program() #All qubits begin with |0> state\n",
    "    for gate in c_jm:\n",
    "        prog += gate\n",
    "    \n",
    "    c_jm_unitary = program_unitary(prog, n_qubits= num_qubits)\n",
    "    \n",
    "    #report one random adapted stabilizer\n",
    "    s_i = np.identity(2**num_qubits)\n",
    "    for q_num in range(num_qubits):\n",
    "        s_i = np.matmul( lifted_gate( np.random.choice([I(q_num), Z(q_num)]), n_qubits = num_qubits ), s_i )\n",
    "    s_i = np.matmul(np.matmul(c_jm_unitary, s_i), np.conj(c_jm_unitary) )\n",
    "    stab_i_definition = DefGate(\"STAB_i\", s_i)\n",
    "    STAB_i = stab_i_definition.get_constructor() # Get the gate constructor\n",
    "    \n",
    "    n_tuple = tuple(range(num_qubits))\n",
    "    prog += Program( stab_i_definition, STAB_i(*n_tuple) )\n",
    "    \n",
    "    #Measurments\n",
    "    ro = prog.declare('ro', 'BIT', num_qubits)\n",
    "    for q in range(num_qubits):\n",
    "        prog += MEASURE(q, ro[q])\n",
    "    \n",
    "    #Run the program\n",
    "    qc = get_qc( str(num_qubits) + 'q-qvm')  # You can make any 'nq-qvm'\n",
    "    executable = qc.compile(prog)\n",
    "    result = qc.run(executable)\n",
    "    bitstrings = result.readout_data.get('ro')\n",
    "    print(bitstrings)\n",
    "    \n",
    "    \n",
    "    \n"
   ]
  },
  {
   "cell_type": "code",
   "execution_count": null,
   "metadata": {},
   "outputs": [],
   "source": []
  },
  {
   "cell_type": "code",
   "execution_count": null,
   "metadata": {},
   "outputs": [],
   "source": []
  },
  {
   "cell_type": "code",
   "execution_count": null,
   "metadata": {},
   "outputs": [],
   "source": []
  },
  {
   "cell_type": "code",
   "execution_count": null,
   "metadata": {},
   "outputs": [],
   "source": []
  },
  {
   "cell_type": "code",
   "execution_count": null,
   "metadata": {},
   "outputs": [],
   "source": []
  },
  {
   "cell_type": "code",
   "execution_count": null,
   "metadata": {},
   "outputs": [],
   "source": []
  },
  {
   "cell_type": "code",
   "execution_count": null,
   "metadata": {},
   "outputs": [],
   "source": []
  }
 ],
 "metadata": {
  "kernelspec": {
   "display_name": "Python 3",
   "language": "python",
   "name": "python3"
  },
  "language_info": {
   "codemirror_mode": {
    "name": "ipython",
    "version": 3
   },
   "file_extension": ".py",
   "mimetype": "text/x-python",
   "name": "python",
   "nbconvert_exporter": "python",
   "pygments_lexer": "ipython3",
   "version": "3.7.6"
  }
 },
 "nbformat": 4,
 "nbformat_minor": 4
}
