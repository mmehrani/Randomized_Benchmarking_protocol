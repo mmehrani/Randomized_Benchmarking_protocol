{
 "cells": [
  {
   "cell_type": "markdown",
   "metadata": {},
   "source": [
    "# Randomized Benchmarking with Stabilizer Verification"
   ]
  },
  {
   "cell_type": "code",
   "execution_count": 1,
   "metadata": {},
   "outputs": [],
   "source": [
    "from pyquil import get_qc, Program\n",
    "from pyquil.gates import *\n",
    "from pyquil.api import local_forest_runtime\n",
    "from pyquil.quilbase import Declare\n",
    "from pyquil.simulation.tools import lifted_gate, program_unitary\n",
    "from pyquil.quil import *"
   ]
  },
  {
   "cell_type": "code",
   "execution_count": 2,
   "metadata": {},
   "outputs": [],
   "source": [
    "import numpy as np\n",
    "import random\n",
    "from functions import averageOfFidelity, qvirtual_machine, qreal_machine"
   ]
  },
  {
   "cell_type": "code",
   "execution_count": 3,
   "metadata": {},
   "outputs": [],
   "source": [
    "if __name__ == \"__main__\":\n",
    "    num_qubits = 2\n",
    "    #First step choose m and the K_m sequences of Clifford group\n",
    "    m = 3\n",
    "    k_m = 10 #n. of diff sequences\n",
    "    n_m = 10  #n. of samples from a certain sequence\n"
   ]
  },
  {
   "cell_type": "code",
   "execution_count": 4,
   "metadata": {},
   "outputs": [],
   "source": [
    "def generate_clifford_group(num_qubits):\n",
    "    #The glossary of Clifford gates\n",
    "    clifford_glossary = []\n",
    "    clifford_glossary.extend([CNOT(i,j) for i in range(num_qubits) for j in range(num_qubits)])\n",
    "    for i in range(num_qubits): clifford_glossary.remove(CNOT(i,i))\n",
    "    clifford_glossary.extend([H(i) for i in range(num_qubits)])\n",
    "    clifford_glossary.extend([S(i) for i in range(num_qubits)])\n",
    "    return clifford_glossary"
   ]
  },
  {
   "cell_type": "code",
   "execution_count": 5,
   "metadata": {},
   "outputs": [],
   "source": [
    "def stab_transform(current_stab, gate_in_circuit):\n",
    "    \"\"\"\n",
    "    ::params\n",
    "    current_stab should be numpy array\n",
    "    \"\"\"\n",
    "    if gate_in_circuit.name == 'H':\n",
    "        performing_qubit = gate_in_circuit.qubits[0].index #since it is a single-qubit\n",
    "        if current_stab[performing_qubit].name == 'Z':\n",
    "            current_stab[performing_qubit] = X(performing_qubit)\n",
    "        elif current_stab[performing_qubit].name == 'X':\n",
    "            current_stab[performing_qubit] = Z(performing_qubit)\n",
    "        elif current_stab[performing_qubit].name == 'Y':\n",
    "            current_stab[performing_qubit] = Y(performing_qubit)\n",
    "        elif current_stab[performing_qubit].name == 'I':\n",
    "            current_stab[performing_qubit] = I(performing_qubit)\n",
    "        else:\n",
    "            print(gate_in_circuit.name, current_stab)\n",
    "            raise Exception('This is the exception you expect to handle')\n",
    "    \n",
    "    elif gate_in_circuit.name == 'S':\n",
    "        performing_qubit = gate_in_circuit.qubits[0].index #since it is a single-qubit\n",
    "        if current_stab[performing_qubit].name == 'Z':\n",
    "            current_stab[performing_qubit] = Z(performing_qubit)\n",
    "        elif current_stab[performing_qubit].name == 'X':\n",
    "            current_stab[performing_qubit] = Y(performing_qubit)\n",
    "        elif current_stab[performing_qubit].name == 'Y':\n",
    "            current_stab[performing_qubit] = X(performing_qubit)\n",
    "        elif current_stab[performing_qubit].name == 'I':\n",
    "            current_stab[performing_qubit] = I(performing_qubit)\n",
    "        else:\n",
    "            print(gate_in_circuit.name, current_stab)\n",
    "            raise Exception('This is the exception you expect to handle')\n",
    "\n",
    "            \n",
    "    elif gate_in_circuit.name == 'CNOT':\n",
    "        performing_qubits = [qubit.index for qubit in gate_in_circuit.qubits] # 0: control_qubit, 1: target_qubit\n",
    "#         performing_qubits = performing_qubits[::-1] # 0: target_qubit, 1: control_qubit\n",
    "        \n",
    "        stabs_names = [qubit.name for qubit in current_stab[performing_qubits]]\n",
    "        if stabs_names == ['Z','I']:\n",
    "            current_stab[performing_qubits] = [Z(performing_qubits[0]), I(performing_qubits[1])]\n",
    "        elif stabs_names == ['X','I']:\n",
    "            current_stab[performing_qubits] = [X(performing_qubits[0]), X(performing_qubits[1])]\n",
    "        elif stabs_names == ['Y','I']:\n",
    "            current_stab[performing_qubits] = [Y(performing_qubits[0]), X(performing_qubits[1])]\n",
    "        elif stabs_names == ['I','I']:\n",
    "            current_stab[performing_qubits] = [I(performing_qubits[0]), I(performing_qubits[1])]\n",
    "\n",
    "        elif stabs_names == ['Z','Z']:\n",
    "            current_stab[performing_qubits] = [I(performing_qubits[0]), Z(performing_qubits[1])]\n",
    "        elif stabs_names == ['X','Z']:\n",
    "            current_stab[performing_qubits] = [Y(performing_qubits[0]), Y(performing_qubits[1])]\n",
    "        elif stabs_names == ['Y','Z']:\n",
    "            current_stab[performing_qubits] = [X(performing_qubits[0]), Y(performing_qubits[1])]\n",
    "        elif stabs_names == ['I','Z']:\n",
    "            current_stab[performing_qubits] = [Z(performing_qubits[0]), Z(performing_qubits[1])]\n",
    "\n",
    "        elif stabs_names == ['Z','X']:\n",
    "            current_stab[performing_qubits] = [X(performing_qubits[0]), Z(performing_qubits[1])]\n",
    "        elif stabs_names == ['X','X']:\n",
    "            current_stab[performing_qubits] = [X(performing_qubits[0]), I(performing_qubits[1])]\n",
    "        elif stabs_names == ['Y','X']:\n",
    "            current_stab[performing_qubits] = [Y(performing_qubits[0]), I(performing_qubits[1])]\n",
    "        elif stabs_names == ['I','X']:\n",
    "            current_stab[performing_qubits] = [I(performing_qubits[0]), X(performing_qubits[1])]\n",
    "\n",
    "        elif stabs_names == ['Z','Y']:\n",
    "            current_stab[performing_qubits] = [I(performing_qubits[0]), Y(performing_qubits[1])]\n",
    "        elif stabs_names == ['X','Y']:\n",
    "            current_stab[performing_qubits] = [Y(performing_qubits[0]), Z(performing_qubits[1])]\n",
    "        elif stabs_names == ['Y','Y']:\n",
    "            current_stab[performing_qubits] = [X(performing_qubits[0]), Z(performing_qubits[1])]\n",
    "        elif stabs_names == ['I','Y']:\n",
    "            current_stab[performing_qubits] = [Z(performing_qubits[0]), Y(performing_qubits[1])]\n",
    "        else:\n",
    "            print(gate_in_circuit.name, current_stab)\n",
    "            raise Exception('This is the exception you expect to handle')\n",
    "    else:\n",
    "        print(gate_in_circuit.name, current_stab)\n",
    "        raise Exception('This is the exception you expect to handle')\n",
    "    return current_stab\n",
    "\n",
    "def update_stabilizer(init_stab, gates_sequence):\n",
    "    stab = init_stab\n",
    "    for layer in gates_sequence:\n",
    "        stab = stab_transform( stab, layer )\n",
    "    return stab"
   ]
  },
  {
   "cell_type": "code",
   "execution_count": 6,
   "metadata": {},
   "outputs": [],
   "source": [
    "def measure_in_pauli_basis(stablizer):\n",
    "    transform = []\n",
    "    for gate in stablizer:\n",
    "        performing_qubit = gate.qubits[0].index #since it is a single-qubit\n",
    "        if gate.name == 'X':\n",
    "            transform.append( H(performing_qubit) )\n",
    "        if gate.name == 'Y':\n",
    "            transform.extend( [S(performing_qubit).dagger(), H(performing_qubit)] )\n",
    "        if gate.name == 'Z' or gate.name == 'I':\n",
    "            transform.append( Z(performing_qubit) )\n",
    "    return transform"
   ]
  },
  {
   "cell_type": "code",
   "execution_count": 7,
   "metadata": {},
   "outputs": [],
   "source": [
    "def machine_response_stabilizer_bench(qmachine, num_qubits, m, k_m, n_m):\n",
    "    \"\"\"\n",
    "    It samples and record the accept or reject of the machine.\n",
    "    ::return response_matrix including accepts and rejects in columns\n",
    "    \"\"\"\n",
    "    response_matrix = np.zeros((k_m,n_m))\n",
    "    clifford_glossary = generate_clifford_group(num_qubits)\n",
    "    \n",
    "    for i_sequ in range(k_m):\n",
    "        c_jm =  random.choices(clifford_glossary, k = m)\n",
    "        #compute the unitary of circuit U\n",
    "        prog = Program() #All qubits begin with |0> state\n",
    "        for gate in c_jm:\n",
    "            prog += gate\n",
    "\n",
    "        c_jm_unitary = program_unitary(prog, n_qubits= num_qubits)\n",
    "\n",
    "        initial_stabilizer = []\n",
    "        for q_num in range(num_qubits):\n",
    "            initial_stabilizer.append( Z(q_num) )\n",
    "            \n",
    "        stabilizer_layer = update_stabilizer( np.array(initial_stabilizer), c_jm )\n",
    "        \n",
    "        transformation_new_basis = measure_in_pauli_basis(stabilizer_layer)\n",
    "        prog+= Program(*transformation_new_basis)\n",
    "#         print(prog)\n",
    "        #Do not let the quilc to alter the gates by optimization\n",
    "        prog = Program('PRAGMA INITIAL_REWIRING \"NAIVE\"') + Program('PRAGMA PRESERVE_BLOCK') + prog\n",
    "        prog += Program('PRAGMA END_PRESERVE_BLOCK')\n",
    "        \n",
    "        #Measurments\n",
    "        ro = prog.declare('ro', 'BIT', num_qubits)\n",
    "        for q in range(num_qubits):\n",
    "            prog += MEASURE(q, ro[q])\n",
    "\n",
    "        prog = prog.wrap_in_numshots_loop(n_m)\n",
    "\n",
    "        #Run the program\n",
    "#         qc = get_qc( str(num_qubits) + 'q-qvm')  # You can make any 'nq-qvm'\n",
    "        executable = qmachine.compile(prog)\n",
    "        result = qmachine.run(executable)\n",
    "        measured_outcome = result.readout_data.get('ro')\n",
    "\n",
    "        response_matrix[i_sequ,:] = 1 - np.bool_(np.sum(measured_outcome, axis = 1)) # 1 if it is equal to n_zero state\n",
    "    \n",
    "    return response_matrix\n",
    "    "
   ]
  },
  {
   "cell_type": "code",
   "execution_count": null,
   "metadata": {},
   "outputs": [],
   "source": []
  },
  {
   "cell_type": "code",
   "execution_count": 8,
   "metadata": {},
   "outputs": [
    {
     "name": "stderr",
     "output_type": "stream",
     "text": [
      "[TerminalIPythonApp] WARNING | Subcommand `ipython nbconvert` is deprecated and will be removed in future versions.\n",
      "[TerminalIPythonApp] WARNING | You likely want to use `jupyter nbconvert` in the future\n",
      "[NbConvertApp] Converting notebook RB_stabilizer_verification.ipynb to python\n",
      "[NbConvertApp] Writing 8851 bytes to RB_stabilizer_verification.py\n"
     ]
    }
   ],
   "source": [
    "if __name__ == \"__main__\":\n",
    "    !ipython nbconvert --to python RB_stabilizer_verification.ipynb"
   ]
  },
  {
   "cell_type": "code",
   "execution_count": 9,
   "metadata": {},
   "outputs": [],
   "source": [
    "# # if __name__ == \"__main__\":\n",
    "# qc = get_qc( str(num_qubits) + 'q-qvm')  # You can make any 'nq-qvm'\n",
    "# machine_response_stabilizer_bench(qc,num_qubits, m, k_m, n_m)"
   ]
  },
  {
   "cell_type": "code",
   "execution_count": 10,
   "metadata": {},
   "outputs": [],
   "source": [
    "# given_circuit = [CNOT(1,0)]\n",
    "# stab = np.array( [Z(0), I(1)] )\n",
    "# for gate in given_circuit:\n",
    "#     stab = stab_transform(stab, gate)\n",
    "#     print(stab)\n"
   ]
  },
  {
   "cell_type": "code",
   "execution_count": 11,
   "metadata": {},
   "outputs": [],
   "source": [
    "# stab = np.array( [Z(0), Z(1)] )\n",
    "# update_stabilizer(stab,given_circuit)"
   ]
  },
  {
   "cell_type": "code",
   "execution_count": 12,
   "metadata": {},
   "outputs": [],
   "source": [
    "# prog = Program( CNOT(0,1).dagger(), Z(0), I(1), CNOT(0,1))\n",
    "# program_unitary(prog, n_qubits=2)"
   ]
  },
  {
   "cell_type": "code",
   "execution_count": 13,
   "metadata": {},
   "outputs": [],
   "source": [
    "# [qubit.index for qubit in CNOT(0,1).qubits]"
   ]
  },
  {
   "cell_type": "code",
   "execution_count": null,
   "metadata": {},
   "outputs": [],
   "source": []
  }
 ],
 "metadata": {
  "kernelspec": {
   "display_name": "Python 3 (ipykernel)",
   "language": "python",
   "name": "python3"
  },
  "language_info": {
   "codemirror_mode": {
    "name": "ipython",
    "version": 3
   },
   "file_extension": ".py",
   "mimetype": "text/x-python",
   "name": "python",
   "nbconvert_exporter": "python",
   "pygments_lexer": "ipython3",
   "version": "3.9.7"
  }
 },
 "nbformat": 4,
 "nbformat_minor": 4
}
